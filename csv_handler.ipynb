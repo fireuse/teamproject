{
 "cells": [
  {
   "cell_type": "code",
   "execution_count": 1,
   "id": "97c30fce",
   "metadata": {},
   "outputs": [],
   "source": [
    "import pandas as pd\n",
    "import glob\n",
    "from sklearn.model_selection import train_test_split"
   ]
  },
  {
   "cell_type": "code",
   "execution_count": 5,
   "id": "9b58f2c7",
   "metadata": {},
   "outputs": [],
   "source": [
    "yep = (glob.glob(\"*.csv\"))"
   ]
  },
  {
   "cell_type": "code",
   "execution_count": 6,
   "id": "030f0908",
   "metadata": {},
   "outputs": [
    {
     "data": {
      "text/plain": [
       "['Active_Wiretap_labels.csv',\n",
       " 'Active_Wiretap_pcap.csv',\n",
       " 'ARP_MitM_labels.csv',\n",
       " 'ARP_MitM_pcap.csv',\n",
       " 'Fuzzing_labels.csv',\n",
       " 'Fuzzing_pcap.csv',\n",
       " 'mirai_labels.csv',\n",
       " 'Mirai_pcap.csv',\n",
       " 'OS_Scan_labels.csv',\n",
       " 'OS_Scan_pcap.csv',\n",
       " 'SSDP_Flood_labels.csv',\n",
       " 'SSDP_Flood_pcap.csv',\n",
       " 'SSL_Renegotiation_labels.csv',\n",
       " 'SSL_Renegotiation_pcap.csv',\n",
       " 'SYN_DoS_labels.csv',\n",
       " 'SYN_DoS_pcap.csv',\n",
       " 'Video_Injection_labels.csv',\n",
       " 'Video_Injection_pcap.csv']"
      ]
     },
     "execution_count": 6,
     "metadata": {},
     "output_type": "execute_result"
    }
   ],
   "source": [
    "yep"
   ]
  },
  {
   "cell_type": "code",
   "execution_count": 7,
   "id": "237331c4",
   "metadata": {},
   "outputs": [
    {
     "data": {
      "text/plain": [
       "9.0"
      ]
     },
     "execution_count": 7,
     "metadata": {},
     "output_type": "execute_result"
    }
   ],
   "source": [
    "len(yep)/2"
   ]
  },
  {
   "cell_type": "code",
   "execution_count": null,
   "id": "10e8b7da",
   "metadata": {},
   "outputs": [
    {
     "name": "stdout",
     "output_type": "stream",
     "text": [
      "Active_Wiretap\n"
     ]
    },
    {
     "name": "stderr",
     "output_type": "stream",
     "text": [
      "C:\\Users\\cypri\\AppData\\Local\\Temp\\ipykernel_2532\\2465112739.py:6: DtypeWarning: Columns (37,38,39,40,47,49,52,54,55,56,70,71) have mixed types. Specify dtype option on import or set low_memory=False.\n",
      "  df = pd.read_csv(df_name)\n"
     ]
    },
    {
     "name": "stdout",
     "output_type": "stream",
     "text": [
      "ARP_MitM\n"
     ]
    },
    {
     "name": "stderr",
     "output_type": "stream",
     "text": [
      "C:\\Users\\cypri\\AppData\\Local\\Temp\\ipykernel_2532\\2465112739.py:6: DtypeWarning: Columns (38,39,40,41,43,47,49,52,54,55,56,70,71) have mixed types. Specify dtype option on import or set low_memory=False.\n",
      "  df = pd.read_csv(df_name)\n"
     ]
    },
    {
     "name": "stdout",
     "output_type": "stream",
     "text": [
      "Fuzzing\n"
     ]
    },
    {
     "name": "stderr",
     "output_type": "stream",
     "text": [
      "C:\\Users\\cypri\\AppData\\Local\\Temp\\ipykernel_2532\\2465112739.py:6: DtypeWarning: Columns (38,39,40,47,49) have mixed types. Specify dtype option on import or set low_memory=False.\n",
      "  df = pd.read_csv(df_name)\n"
     ]
    },
    {
     "name": "stdout",
     "output_type": "stream",
     "text": [
      "mirai\n"
     ]
    },
    {
     "name": "stderr",
     "output_type": "stream",
     "text": [
      "C:\\Users\\cypri\\AppData\\Local\\Temp\\ipykernel_2532\\2465112739.py:6: DtypeWarning: Columns (41) have mixed types. Specify dtype option on import or set low_memory=False.\n",
      "  df = pd.read_csv(df_name)\n"
     ]
    },
    {
     "name": "stdout",
     "output_type": "stream",
     "text": [
      "OS_Scan\n"
     ]
    },
    {
     "name": "stderr",
     "output_type": "stream",
     "text": [
      "C:\\Users\\cypri\\AppData\\Local\\Temp\\ipykernel_2532\\2465112739.py:6: DtypeWarning: Columns (37,38,39,40,41,43,47,49,52,54,55,56) have mixed types. Specify dtype option on import or set low_memory=False.\n",
      "  df = pd.read_csv(df_name)\n"
     ]
    },
    {
     "name": "stdout",
     "output_type": "stream",
     "text": [
      "SSDP_Flood\n"
     ]
    },
    {
     "name": "stderr",
     "output_type": "stream",
     "text": [
      "C:\\Users\\cypri\\AppData\\Local\\Temp\\ipykernel_2532\\2465112739.py:6: DtypeWarning: Columns (23,24,25,26,27,29,37,38,39,40,41,43,47,49,52,54,55,56,70,71) have mixed types. Specify dtype option on import or set low_memory=False.\n",
      "  df = pd.read_csv(df_name)\n"
     ]
    },
    {
     "name": "stdout",
     "output_type": "stream",
     "text": [
      "SSL_Renegotiation\n"
     ]
    },
    {
     "name": "stderr",
     "output_type": "stream",
     "text": [
      "C:\\Users\\cypri\\AppData\\Local\\Temp\\ipykernel_2532\\2465112739.py:6: DtypeWarning: Columns (37,38,39,40,41,43,45,47,49,50,51,52,54,55,56,70,71) have mixed types. Specify dtype option on import or set low_memory=False.\n",
      "  df = pd.read_csv(df_name)\n"
     ]
    },
    {
     "name": "stdout",
     "output_type": "stream",
     "text": [
      "SYN_DoS\n"
     ]
    },
    {
     "name": "stderr",
     "output_type": "stream",
     "text": [
      "C:\\Users\\cypri\\AppData\\Local\\Temp\\ipykernel_2532\\2465112739.py:6: DtypeWarning: Columns (37,38,39,40,41,43,47,49,52,54,55,56,70,71) have mixed types. Specify dtype option on import or set low_memory=False.\n",
      "  df = pd.read_csv(df_name)\n"
     ]
    },
    {
     "name": "stdout",
     "output_type": "stream",
     "text": [
      "Video_Injection\n"
     ]
    },
    {
     "name": "stderr",
     "output_type": "stream",
     "text": [
      "C:\\Users\\cypri\\AppData\\Local\\Temp\\ipykernel_2532\\2465112739.py:6: DtypeWarning: Columns (23,24,25,26,27,29,38,39,40,47,49,52,54,55,56) have mixed types. Specify dtype option on import or set low_memory=False.\n",
      "  df = pd.read_csv(df_name)\n"
     ]
    }
   ],
   "source": [
    "for i in range(int(len(yep)/2)):\n",
    "    label_name, df_name = yep[0+i*2:2+i*2:]\n",
    "    file_name = label_name.rstrip(\"_labels.csv\")\n",
    "    print(file_name)\n",
    "    df_label_aux = pd.read_csv(label_name)\n",
    "    df_aux = pd.read_csv(df_name)\n",
    "    # print(df_label.shape, df.shape[0])\n",
    "    if df_label_aux.shape[1] > 1:\n",
    "        df_label_aux =  df_label_aux.set_index(df_label_aux.columns[0])\n",
    "    df_label_aux.rename(columns = {df_label_aux.columns[0] : \"alert\"}, inplace=True)\n",
    "    df_aux = pd.concat((df_aux,df_label_aux), axis=1)\n",
    "    df_aux.dropna(subset = [\"alert\"],axis = 0, inplace=True)\n",
    "    # print(df.tail(5))\n",
    "    # print(df.shape)\n",
    "    df_aux.drop(columns=\"alert\", inplace=True)\n",
    "    X_train, X_val, y_train, y_val = train_test_split(df_aux, df_label_aux, test_size=0.20, random_state=69)\n",
    "    # print(X_train, X_val)\n",
    "    X_train[\"alert\"] = y_train \n",
    "    X_val[\"alert\"] = y_val\n",
    "    X_train.to_csv(f'other/{file_name}_X_train.csv', index=False)\n",
    "    X_val.to_csv(f'other/{file_name}_X_val.csv', index=False)\n",
    "    y_train.to_csv(f'other/{file_name}_y_train.csv', index=False)\n",
    "    y_val.to_csv(f'other/{file_name}_y_val.csv', index=False)  \n",
    "\n",
    "\n",
    "    "
   ]
  },
  {
   "cell_type": "markdown",
   "id": "73c86572",
   "metadata": {},
   "source": [
    "KOD PONIŻEJ NIE POTRZEBNY "
   ]
  },
  {
   "cell_type": "code",
   "execution_count": 8,
   "id": "369450dd",
   "metadata": {},
   "outputs": [
    {
     "name": "stdout",
     "output_type": "stream",
     "text": [
      "Active_Wiretap\n"
     ]
    },
    {
     "name": "stderr",
     "output_type": "stream",
     "text": [
      "C:\\Users\\cypri\\AppData\\Local\\Temp\\ipykernel_10708\\283570439.py:8: DtypeWarning: Columns (37,38,39,40,47,49,52,54,55,56,70,71) have mixed types. Specify dtype option on import or set low_memory=False.\n",
      "  df_aux = pd.read_csv(df_name)\n"
     ]
    },
    {
     "name": "stdout",
     "output_type": "stream",
     "text": [
      "1822951 2278689 1822951 2278689\n",
      "ARP_MitM\n"
     ]
    },
    {
     "name": "stderr",
     "output_type": "stream",
     "text": [
      "C:\\Users\\cypri\\AppData\\Local\\Temp\\ipykernel_10708\\283570439.py:8: DtypeWarning: Columns (38,39,40,41,43,47,49,52,54,55,56,70,71) have mixed types. Specify dtype option on import or set low_memory=False.\n",
      "  df_aux = pd.read_csv(df_name)\n"
     ]
    },
    {
     "name": "stdout",
     "output_type": "stream",
     "text": [
      "3826364 2504267 3826364 2504267\n",
      "Fuzzing\n"
     ]
    },
    {
     "name": "stderr",
     "output_type": "stream",
     "text": [
      "C:\\Users\\cypri\\AppData\\Local\\Temp\\ipykernel_10708\\283570439.py:8: DtypeWarning: Columns (38,39,40,47,49) have mixed types. Specify dtype option on import or set low_memory=False.\n",
      "  df_aux = pd.read_csv(df_name)\n"
     ]
    },
    {
     "name": "stdout",
     "output_type": "stream",
     "text": [
      "5621675 2244139 5621675 2244139\n",
      "mirai\n"
     ]
    },
    {
     "name": "stderr",
     "output_type": "stream",
     "text": [
      "C:\\Users\\cypri\\AppData\\Local\\Temp\\ipykernel_10708\\283570439.py:8: DtypeWarning: Columns (41) have mixed types. Specify dtype option on import or set low_memory=False.\n",
      "  df_aux = pd.read_csv(df_name)\n"
     ]
    },
    {
     "name": "stdout",
     "output_type": "stream",
     "text": [
      "6232983 764136 6232983 764136\n",
      "OS_Scan\n"
     ]
    },
    {
     "name": "stderr",
     "output_type": "stream",
     "text": [
      "C:\\Users\\cypri\\AppData\\Local\\Temp\\ipykernel_10708\\283570439.py:8: DtypeWarning: Columns (37,38,39,40,41,43,47,49,52,54,55,56) have mixed types. Specify dtype option on import or set low_memory=False.\n",
      "  df_aux = pd.read_csv(df_name)\n"
     ]
    },
    {
     "name": "stdout",
     "output_type": "stream",
     "text": [
      "7591263 1697851 7591263 1697851\n",
      "SSDP_Flood\n"
     ]
    },
    {
     "name": "stderr",
     "output_type": "stream",
     "text": [
      "C:\\Users\\cypri\\AppData\\Local\\Temp\\ipykernel_10708\\283570439.py:8: DtypeWarning: Columns (23,24,25,26,27,29,37,38,39,40,41,43,47,49,52,54,55,56,70,71) have mixed types. Specify dtype option on import or set low_memory=False.\n",
      "  df_aux = pd.read_csv(df_name)\n"
     ]
    },
    {
     "name": "stdout",
     "output_type": "stream",
     "text": [
      "10853075 4077266 10853075 4077266\n",
      "SSL_Renegotiation\n"
     ]
    },
    {
     "name": "stderr",
     "output_type": "stream",
     "text": [
      "C:\\Users\\cypri\\AppData\\Local\\Temp\\ipykernel_10708\\283570439.py:8: DtypeWarning: Columns (37,38,39,40,41,43,45,47,49,50,51,52,54,55,56,70,71) have mixed types. Specify dtype option on import or set low_memory=False.\n",
      "  df_aux = pd.read_csv(df_name)\n"
     ]
    },
    {
     "name": "stdout",
     "output_type": "stream",
     "text": [
      "12619131 2207571 12619131 2207571\n",
      "SYN_DoS\n"
     ]
    },
    {
     "name": "stderr",
     "output_type": "stream",
     "text": [
      "C:\\Users\\cypri\\AppData\\Local\\Temp\\ipykernel_10708\\283570439.py:8: DtypeWarning: Columns (37,38,39,40,41,43,47,49,52,54,55,56,70,71) have mixed types. Specify dtype option on import or set low_memory=False.\n",
      "  df_aux = pd.read_csv(df_name)\n"
     ]
    },
    {
     "ename": "MemoryError",
     "evalue": "Unable to allocate 1.44 GiB for an array with shape (13, 14836151) and data type float64",
     "output_type": "error",
     "traceback": [
      "\u001b[1;31m---------------------------------------------------------------------------\u001b[0m",
      "\u001b[1;31mMemoryError\u001b[0m                               Traceback (most recent call last)",
      "Cell \u001b[1;32mIn[8], line 22\u001b[0m\n\u001b[0;32m     20\u001b[0m X_train[\u001b[38;5;124m\"\u001b[39m\u001b[38;5;124malert\u001b[39m\u001b[38;5;124m\"\u001b[39m] \u001b[38;5;241m=\u001b[39m y_train \n\u001b[0;32m     21\u001b[0m X_val[\u001b[38;5;124m\"\u001b[39m\u001b[38;5;124malert\u001b[39m\u001b[38;5;124m\"\u001b[39m] \u001b[38;5;241m=\u001b[39m y_val\n\u001b[1;32m---> 22\u001b[0m df_train \u001b[38;5;241m=\u001b[39m \u001b[43mpd\u001b[49m\u001b[38;5;241;43m.\u001b[39;49m\u001b[43mconcat\u001b[49m\u001b[43m(\u001b[49m\u001b[43m(\u001b[49m\u001b[43mdf_train\u001b[49m\u001b[43m,\u001b[49m\u001b[43m \u001b[49m\u001b[43mX_train\u001b[49m\u001b[43m)\u001b[49m\u001b[43m,\u001b[49m\u001b[43m \u001b[49m\u001b[43maxis\u001b[49m\u001b[43m \u001b[49m\u001b[38;5;241;43m=\u001b[39;49m\u001b[43m \u001b[49m\u001b[38;5;241;43m0\u001b[39;49m\u001b[43m)\u001b[49m\n\u001b[0;32m     23\u001b[0m df_val \u001b[38;5;241m=\u001b[39m  pd\u001b[38;5;241m.\u001b[39mconcat((df_val, X_train), axis \u001b[38;5;241m=\u001b[39m \u001b[38;5;241m0\u001b[39m)\n\u001b[0;32m     24\u001b[0m \u001b[38;5;28mprint\u001b[39m(df_train\u001b[38;5;241m.\u001b[39mshape[\u001b[38;5;241m0\u001b[39m], df_aux\u001b[38;5;241m.\u001b[39mshape[\u001b[38;5;241m0\u001b[39m], df_val\u001b[38;5;241m.\u001b[39mshape[\u001b[38;5;241m0\u001b[39m], df_label_aux\u001b[38;5;241m.\u001b[39mshape[\u001b[38;5;241m0\u001b[39m])\n",
      "File \u001b[1;32mc:\\Users\\cypri\\AppData\\Local\\Programs\\Python\\Python313\\Lib\\site-packages\\pandas\\core\\reshape\\concat.py:395\u001b[0m, in \u001b[0;36mconcat\u001b[1;34m(objs, axis, join, ignore_index, keys, levels, names, verify_integrity, sort, copy)\u001b[0m\n\u001b[0;32m    380\u001b[0m     copy \u001b[38;5;241m=\u001b[39m \u001b[38;5;28;01mFalse\u001b[39;00m\n\u001b[0;32m    382\u001b[0m op \u001b[38;5;241m=\u001b[39m _Concatenator(\n\u001b[0;32m    383\u001b[0m     objs,\n\u001b[0;32m    384\u001b[0m     axis\u001b[38;5;241m=\u001b[39maxis,\n\u001b[1;32m   (...)\u001b[0m\n\u001b[0;32m    392\u001b[0m     sort\u001b[38;5;241m=\u001b[39msort,\n\u001b[0;32m    393\u001b[0m )\n\u001b[1;32m--> 395\u001b[0m \u001b[38;5;28;01mreturn\u001b[39;00m \u001b[43mop\u001b[49m\u001b[38;5;241;43m.\u001b[39;49m\u001b[43mget_result\u001b[49m\u001b[43m(\u001b[49m\u001b[43m)\u001b[49m\n",
      "File \u001b[1;32mc:\\Users\\cypri\\AppData\\Local\\Programs\\Python\\Python313\\Lib\\site-packages\\pandas\\core\\reshape\\concat.py:684\u001b[0m, in \u001b[0;36m_Concatenator.get_result\u001b[1;34m(self)\u001b[0m\n\u001b[0;32m    680\u001b[0m             indexers[ax] \u001b[38;5;241m=\u001b[39m obj_labels\u001b[38;5;241m.\u001b[39mget_indexer(new_labels)\n\u001b[0;32m    682\u001b[0m     mgrs_indexers\u001b[38;5;241m.\u001b[39mappend((obj\u001b[38;5;241m.\u001b[39m_mgr, indexers))\n\u001b[1;32m--> 684\u001b[0m new_data \u001b[38;5;241m=\u001b[39m \u001b[43mconcatenate_managers\u001b[49m\u001b[43m(\u001b[49m\n\u001b[0;32m    685\u001b[0m \u001b[43m    \u001b[49m\u001b[43mmgrs_indexers\u001b[49m\u001b[43m,\u001b[49m\u001b[43m \u001b[49m\u001b[38;5;28;43mself\u001b[39;49m\u001b[38;5;241;43m.\u001b[39;49m\u001b[43mnew_axes\u001b[49m\u001b[43m,\u001b[49m\u001b[43m \u001b[49m\u001b[43mconcat_axis\u001b[49m\u001b[38;5;241;43m=\u001b[39;49m\u001b[38;5;28;43mself\u001b[39;49m\u001b[38;5;241;43m.\u001b[39;49m\u001b[43mbm_axis\u001b[49m\u001b[43m,\u001b[49m\u001b[43m \u001b[49m\u001b[43mcopy\u001b[49m\u001b[38;5;241;43m=\u001b[39;49m\u001b[38;5;28;43mself\u001b[39;49m\u001b[38;5;241;43m.\u001b[39;49m\u001b[43mcopy\u001b[49m\n\u001b[0;32m    686\u001b[0m \u001b[43m\u001b[49m\u001b[43m)\u001b[49m\n\u001b[0;32m    687\u001b[0m \u001b[38;5;28;01mif\u001b[39;00m \u001b[38;5;129;01mnot\u001b[39;00m \u001b[38;5;28mself\u001b[39m\u001b[38;5;241m.\u001b[39mcopy \u001b[38;5;129;01mand\u001b[39;00m \u001b[38;5;129;01mnot\u001b[39;00m using_copy_on_write():\n\u001b[0;32m    688\u001b[0m     new_data\u001b[38;5;241m.\u001b[39m_consolidate_inplace()\n",
      "File \u001b[1;32mc:\\Users\\cypri\\AppData\\Local\\Programs\\Python\\Python313\\Lib\\site-packages\\pandas\\core\\internals\\concat.py:189\u001b[0m, in \u001b[0;36mconcatenate_managers\u001b[1;34m(mgrs_indexers, axes, concat_axis, copy)\u001b[0m\n\u001b[0;32m    187\u001b[0m     fastpath \u001b[38;5;241m=\u001b[39m blk\u001b[38;5;241m.\u001b[39mvalues\u001b[38;5;241m.\u001b[39mdtype \u001b[38;5;241m==\u001b[39m values\u001b[38;5;241m.\u001b[39mdtype\n\u001b[0;32m    188\u001b[0m \u001b[38;5;28;01melse\u001b[39;00m:\n\u001b[1;32m--> 189\u001b[0m     values \u001b[38;5;241m=\u001b[39m \u001b[43m_concatenate_join_units\u001b[49m\u001b[43m(\u001b[49m\u001b[43mjoin_units\u001b[49m\u001b[43m,\u001b[49m\u001b[43m \u001b[49m\u001b[43mcopy\u001b[49m\u001b[38;5;241;43m=\u001b[39;49m\u001b[43mcopy\u001b[49m\u001b[43m)\u001b[49m\n\u001b[0;32m    190\u001b[0m     fastpath \u001b[38;5;241m=\u001b[39m \u001b[38;5;28;01mFalse\u001b[39;00m\n\u001b[0;32m    192\u001b[0m \u001b[38;5;28;01mif\u001b[39;00m fastpath:\n",
      "File \u001b[1;32mc:\\Users\\cypri\\AppData\\Local\\Programs\\Python\\Python313\\Lib\\site-packages\\pandas\\core\\internals\\concat.py:486\u001b[0m, in \u001b[0;36m_concatenate_join_units\u001b[1;34m(join_units, copy)\u001b[0m\n\u001b[0;32m    483\u001b[0m     concat_values \u001b[38;5;241m=\u001b[39m ensure_block_shape(concat_values, \u001b[38;5;241m2\u001b[39m)\n\u001b[0;32m    485\u001b[0m \u001b[38;5;28;01melse\u001b[39;00m:\n\u001b[1;32m--> 486\u001b[0m     concat_values \u001b[38;5;241m=\u001b[39m \u001b[43mconcat_compat\u001b[49m\u001b[43m(\u001b[49m\u001b[43mto_concat\u001b[49m\u001b[43m,\u001b[49m\u001b[43m \u001b[49m\u001b[43maxis\u001b[49m\u001b[38;5;241;43m=\u001b[39;49m\u001b[38;5;241;43m1\u001b[39;49m\u001b[43m)\u001b[49m\n\u001b[0;32m    488\u001b[0m \u001b[38;5;28;01mif\u001b[39;00m empty_dtype \u001b[38;5;241m!=\u001b[39m empty_dtype_future:\n\u001b[0;32m    489\u001b[0m     \u001b[38;5;28;01mif\u001b[39;00m empty_dtype \u001b[38;5;241m==\u001b[39m concat_values\u001b[38;5;241m.\u001b[39mdtype:\n\u001b[0;32m    490\u001b[0m         \u001b[38;5;66;03m# GH#39122, GH#40893\u001b[39;00m\n",
      "File \u001b[1;32mc:\\Users\\cypri\\AppData\\Local\\Programs\\Python\\Python313\\Lib\\site-packages\\pandas\\core\\dtypes\\concat.py:78\u001b[0m, in \u001b[0;36mconcat_compat\u001b[1;34m(to_concat, axis, ea_compat_axis)\u001b[0m\n\u001b[0;32m     76\u001b[0m \u001b[38;5;28;01mif\u001b[39;00m \u001b[38;5;28misinstance\u001b[39m(obj, np\u001b[38;5;241m.\u001b[39mndarray):\n\u001b[0;32m     77\u001b[0m     to_concat_arrs \u001b[38;5;241m=\u001b[39m cast(\u001b[38;5;124m\"\u001b[39m\u001b[38;5;124mSequence[np.ndarray]\u001b[39m\u001b[38;5;124m\"\u001b[39m, to_concat)\n\u001b[1;32m---> 78\u001b[0m     \u001b[38;5;28;01mreturn\u001b[39;00m \u001b[43mnp\u001b[49m\u001b[38;5;241;43m.\u001b[39;49m\u001b[43mconcatenate\u001b[49m\u001b[43m(\u001b[49m\u001b[43mto_concat_arrs\u001b[49m\u001b[43m,\u001b[49m\u001b[43m \u001b[49m\u001b[43maxis\u001b[49m\u001b[38;5;241;43m=\u001b[39;49m\u001b[43maxis\u001b[49m\u001b[43m)\u001b[49m\n\u001b[0;32m     80\u001b[0m to_concat_eas \u001b[38;5;241m=\u001b[39m cast(\u001b[38;5;124m\"\u001b[39m\u001b[38;5;124mSequence[ExtensionArray]\u001b[39m\u001b[38;5;124m\"\u001b[39m, to_concat)\n\u001b[0;32m     81\u001b[0m \u001b[38;5;28;01mif\u001b[39;00m ea_compat_axis:\n\u001b[0;32m     82\u001b[0m     \u001b[38;5;66;03m# We have 1D objects, that don't support axis keyword\u001b[39;00m\n",
      "\u001b[1;31mMemoryError\u001b[0m: Unable to allocate 1.44 GiB for an array with shape (13, 14836151) and data type float64"
     ]
    }
   ],
   "source": [
    "df_train = pd.DataFrame()\n",
    "df_val = pd.DataFrame()\n",
    "for i in range(int(len(yep)/2)):\n",
    "    label_name, df_name = yep[0+i*2:2+i*2:]\n",
    "    file_name = label_name.rstrip(\"_labels.csv\")\n",
    "    print(file_name)\n",
    "    df_label_aux = pd.read_csv(label_name)\n",
    "    df_aux = pd.read_csv(df_name)\n",
    "    # print(df_label.shape, df.shape[0])\n",
    "    if df_label_aux.shape[1] > 1:\n",
    "        df_label_aux =  df_label_aux.set_index(df_label_aux.columns[0])\n",
    "    df_label_aux.rename(columns = {df_label_aux.columns[0] : \"alert\"}, inplace=True)\n",
    "    df_aux = pd.concat((df_aux,df_label_aux), axis=1)\n",
    "    df_aux.dropna(subset = [\"alert\"],axis = 0, inplace=True)\n",
    "    # print(df.tail(5))\n",
    "    # print(df.shape)\n",
    "    df_aux.drop(columns=\"alert\", inplace=True)\n",
    "    X_train, X_val, y_train, y_val = train_test_split(df_aux, df_label_aux, test_size=0.20, random_state=69)\n",
    "    # print(X_train, X_val)\n",
    "    X_train[\"alert\"] = y_train \n",
    "    X_val[\"alert\"] = y_val\n",
    "    df_train = pd.concat((df_train, X_train), axis = 0)\n",
    "    df_val =  pd.concat((df_val, X_train), axis = 0)\n",
    "    print(df_train.shape[0], df_aux.shape[0], df_val.shape[0], df_label_aux.shape[0])\n",
    "# df_val.reset_index(inplace = True)\n",
    "# df_train.reset_index(inplace = True)\n",
    "df_val.to_csv(f'other/df_val.csv', index=False) \n",
    "df_train.to_csv(f'other/df_train.csv', index=False)\n",
    "\n",
    "\n",
    "    "
   ]
  }
 ],
 "metadata": {
  "kernelspec": {
   "display_name": "Python 3",
   "language": "python",
   "name": "python3"
  },
  "language_info": {
   "codemirror_mode": {
    "name": "ipython",
    "version": 3
   },
   "file_extension": ".py",
   "mimetype": "text/x-python",
   "name": "python",
   "nbconvert_exporter": "python",
   "pygments_lexer": "ipython3",
   "version": "3.13.1"
  }
 },
 "nbformat": 4,
 "nbformat_minor": 5
}
