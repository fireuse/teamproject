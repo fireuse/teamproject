{
 "cells": [
  {
   "cell_type": "code",
   "id": "initial_id",
   "metadata": {
    "execution": {
     "iopub.execute_input": "2025-05-18T11:05:15.858713Z",
     "iopub.status.busy": "2025-05-18T11:05:15.857998Z",
     "iopub.status.idle": "2025-05-18T11:05:18.779258Z",
     "shell.execute_reply": "2025-05-18T11:05:18.778504Z",
     "shell.execute_reply.started": "2025-05-18T11:05:15.858685Z"
    },
    "trusted": true,
    "ExecuteTime": {
     "end_time": "2025-05-28T07:27:30.194829Z",
     "start_time": "2025-05-28T07:27:28.855577Z"
    }
   },
   "source": [
    "import matplotlib.pyplot as plt\n",
    "import pandas as pd\n",
    "#import modin.pandas as pd\n",
    "import numpy as np\n",
    "import torch\n",
    "from torch import nn\n",
    "from torch.nn import functional as F\n",
    "import gc\n",
    "from sklearn.metrics import confusion_matrix, roc_curve \n",
    "import matplotlib.pyplot as plt\n",
    "import seaborn as sns\n",
    "import torch.multiprocessing as mp\n",
    "\n",
    "#mp.set_start_method('spawn')\n",
    "\n",
    "pd.set_option('display.max_colwidth', None)\n",
    "pd.set_option('future.no_silent_downcasting', True)\n",
    "\n",
    "\n",
    "import os\n",
    "for dirname, _, filenames in os.walk('/kaggle/input'):\n",
    "    for filename in filenames:\n",
    "        print(os.path.join(dirname, filename))\n",
    "# df = pd.read_csv(\"output_adam.csv\")\n",
    "# df_label = pd.read_csv(\"mirai_labels.csv\")\n",
    "# df[\"alert\"] = df_label\n",
    "# df.head()"
   ],
   "outputs": [],
   "execution_count": 1
  },
  {
   "cell_type": "code",
   "id": "5c87eab2",
   "metadata": {
    "ExecuteTime": {
     "end_time": "2025-05-26T15:53:30.658837Z",
     "start_time": "2025-05-26T15:52:29.150935Z"
    }
   },
   "source": "df = pd.read_csv(\"df_train.csv\")",
   "outputs": [
    {
     "name": "stderr",
     "output_type": "stream",
     "text": [
      "/tmp/ipykernel_26456/2622340693.py:1: DtypeWarning: Columns (24,25,26,27,28,30,38,39,40,41,42,44,46,48,50,51,52,53,55,56,57,71,72) have mixed types. Specify dtype option on import or set low_memory=False.\n",
      "  df = pd.read_csv(\"df_train.csv\")\n"
     ]
    }
   ],
   "execution_count": 2
  },
  {
   "cell_type": "code",
   "id": "0cb0bacb-b9f6-490a-8fd8-aa6000ea9125",
   "metadata": {
    "execution": {
     "iopub.execute_input": "2025-05-18T11:11:51.139552Z",
     "iopub.status.busy": "2025-05-18T11:11:51.139001Z",
     "iopub.status.idle": "2025-05-18T11:11:51.145451Z",
     "shell.execute_reply": "2025-05-18T11:11:51.144847Z",
     "shell.execute_reply.started": "2025-05-18T11:11:51.139526Z"
    },
    "trusted": true,
    "ExecuteTime": {
     "end_time": "2025-05-25T13:31:52.824747Z",
     "start_time": "2025-05-25T13:31:52.820682Z"
    }
   },
   "source": [
    "df.columns"
   ],
   "outputs": [
    {
     "data": {
      "text/plain": [
       "Index(['Unnamed: 0', 'frame.number', 'frame.len', 'frame.time',\n",
       "       'frame.time_epoch', 'frame.protocols', 'eth.src', 'eth.dst', 'eth.type',\n",
       "       'ip.src', 'ip.dst', 'ip.len', 'ip.ttl', 'ip.flags', 'ip.frag_offset',\n",
       "       'ip.proto', 'ip.version', 'ip.dsfield', 'ip.checksum', 'tcp.srcport',\n",
       "       'tcp.dstport', 'tcp.len', 'tcp.seq', 'tcp.ack', 'tcp.flags',\n",
       "       'tcp.flags.syn', 'tcp.flags.ack', 'tcp.flags.fin', 'tcp.flags.reset',\n",
       "       'tcp.window_size', 'tcp.checksum', 'tcp.stream', 'udp.srcport',\n",
       "       'udp.dstport', 'udp.length', 'udp.checksum', 'icmp.type', 'icmp.code',\n",
       "       'icmp.checksum', 'http.request.method', 'http.request.uri',\n",
       "       'http.request.version', 'http.request.full_uri', 'http.response.code',\n",
       "       'http.user_agent', 'http.content_length_header', 'http.content_type',\n",
       "       'http.cookie', 'http.host', 'http.referer', 'http.location',\n",
       "       'http.authorization', 'http.connection', 'dns.qry.name', 'dns.qry.type',\n",
       "       'dns.qry.class', 'dns.flags.response', 'dns.flags.recdesired',\n",
       "       'dns.flags.rcode', 'dns.resp.ttl', 'dns.resp.len', 'smtp.req.command',\n",
       "       'smtp.data.fragment', 'pop.request.command', 'pop.response',\n",
       "       'imap.request.command', 'imap.response', 'ftp.request.command',\n",
       "       'ftp.request.arg', 'ftp.response.code', 'ftp.response.arg', 'ipv6.src',\n",
       "       'ipv6.dst', 'ipv6.plen', 'alert'],\n",
       "      dtype='object')"
      ]
     },
     "execution_count": 3,
     "metadata": {},
     "output_type": "execute_result"
    }
   ],
   "execution_count": 3
  },
  {
   "cell_type": "code",
   "id": "aa40edf8aa893d58",
   "metadata": {
    "execution": {
     "iopub.execute_input": "2025-05-18T08:16:07.678873Z",
     "iopub.status.busy": "2025-05-18T08:16:07.678245Z",
     "iopub.status.idle": "2025-05-18T08:16:07.695729Z",
     "shell.execute_reply": "2025-05-18T08:16:07.695209Z",
     "shell.execute_reply.started": "2025-05-18T08:16:07.678854Z"
    },
    "trusted": true,
    "ExecuteTime": {
     "end_time": "2025-05-25T11:14:55.020043Z",
     "start_time": "2025-05-25T11:14:55.016009Z"
    }
   },
   "source": [
    "df[\"frame.time\"].iloc[1]"
   ],
   "outputs": [
    {
     "data": {
      "text/plain": [
       "'Aug  9, 2017 10:56:53.367937000 Środkowoeuropejski czas letni'"
      ]
     },
     "execution_count": 3,
     "metadata": {},
     "output_type": "execute_result"
    }
   ],
   "execution_count": 3
  },
  {
   "metadata": {
    "ExecuteTime": {
     "end_time": "2025-05-26T19:16:42.834995Z",
     "start_time": "2025-05-26T19:16:42.775826Z"
    }
   },
   "cell_type": "code",
   "source": "df[\"alert\"].value_counts()/len(df)",
   "id": "b73c53256b92f7db",
   "outputs": [
    {
     "data": {
      "text/plain": [
       "alert\n",
       "0.0    0.773205\n",
       "1.0    0.226795\n",
       "Name: count, dtype: float64"
      ]
     },
     "execution_count": 57,
     "metadata": {},
     "output_type": "execute_result"
    }
   ],
   "execution_count": 57
  },
  {
   "cell_type": "code",
   "id": "b133fe80ff57d37f",
   "metadata": {
    "execution": {
     "iopub.execute_input": "2025-05-18T09:23:38.939376Z",
     "iopub.status.busy": "2025-05-18T09:23:38.939166Z",
     "iopub.status.idle": "2025-05-18T09:25:39.536727Z",
     "shell.execute_reply": "2025-05-18T09:25:39.536114Z",
     "shell.execute_reply.started": "2025-05-18T09:23:38.939359Z"
    },
    "trusted": true,
    "ExecuteTime": {
     "end_time": "2025-05-26T15:54:14.268580Z",
     "start_time": "2025-05-26T15:53:30.659563Z"
    }
   },
   "source": [
    "features = [\"frame.number\", \"frame.len\", 'frame.time', 'eth.src', 'eth.dst', 'ip.src', 'ip.dst', 'ip.len', 'ip.ttl',\n",
    "            'tcp.srcport', 'tcp.dstport',\n",
    "            'tcp.flags.ack', 'tcp.flags.fin', 'tcp.flags.reset', \"alert\", \"udp.srcport\", \"udp.dstport\"]\n",
    "df = df[features]\n",
    "df[\"frame.len\"] /= 65535\n",
    "df[\"ip.len\"] /= 65535\n",
    "df[\"ip.ttl\"] /= 255\n",
    "df[\"tcp.srcport\"] /= 65535\n",
    "df[\"tcp.dstport\"] /= 65535\n",
    "df[\"udp.srcport\"] /= 65535\n",
    "df[\"udp.dstport\"] /= 65535\n",
    "df[\"frame.time\"] = df[\"frame.time\"].str.replace(\" Środkowoeuropejski czas letni\", \"\")\n",
    "df[\"frame.time\"] = df[\"frame.time\"].str.replace(\" Środkowoeuropejski czas stand.\", \"\")\n",
    "df[\"frame.time\"] = df[\"frame.time\"].str.replace(\" CEST\", \"\")\n",
    "df[\"frame.time\"] = pd.to_datetime(df[\"frame.time\"])\n",
    "df[\"second_sin\"] = np.sin(2 * np.pi * df[\"frame.time\"].dt.second / 60)\n",
    "df[\"second_cos\"] = np.cos(2 * np.pi * df[\"frame.time\"].dt.second / 60)\n",
    "df[\"ms_sin\"] = np.sin(2 * np.pi * df[\"frame.time\"].dt.microsecond / 1000000)\n",
    "df[\"ms_cos\"] = np.cos(2 * np.pi * df[\"frame.time\"].dt.microsecond / 1000000)\n",
    "df = df.fillna(0)  # only tcp is left\n",
    "df[['tcp.flags.ack', 'tcp.flags.fin', 'tcp.flags.reset']] = df[['tcp.flags.ack', 'tcp.flags.fin', 'tcp.flags.reset']].astype(int)\n",
    "df = df.drop(columns=[\"frame.time\"])"
   ],
   "outputs": [],
   "execution_count": 3
  },
  {
   "metadata": {
    "ExecuteTime": {
     "end_time": "2025-05-26T17:35:23.560331Z",
     "start_time": "2025-05-26T15:54:14.269458Z"
    }
   },
   "cell_type": "code",
   "source": [
    "from multiprocessing import Pool\n",
    "from tqdm import trange\n",
    "\n",
    "class Ordinalizer:\n",
    "    def __init__(self, df):\n",
    "        self.df = df\n",
    "    def ordinalize_packets(self, packet_data, column=\"ip\"):\n",
    "        src_col = f\"{column}.src\"\n",
    "        dst_col = f\"{column}.dst\"\n",
    "        if 'frame.number' not in packet_data.columns or src_col not in packet_data.columns or dst_col not in packet_data.columns:\n",
    "            raise ValueError(\"DataFrame must contain 'frame.number' and  columns\")\n",
    "    \n",
    "        out_src = packet_data.reset_index().groupby([src_col])['index'].min()\n",
    "        out_dst = packet_data.reset_index().groupby([dst_col])['index'].min() + 0.5\n",
    "        out = pd.concat([out_src, out_dst], axis=0).sort_values()\n",
    "        out = out[~out.index.duplicated(keep='first')]\n",
    "        out.iloc[:] = out.reset_index(name=\"ip\").index\n",
    "        out = out.astype(int)\n",
    "        mappings = out.to_dict()\n",
    "        return mappings    \n",
    "    def ordinal_ip(self, i):\n",
    "        return self.ordinalize_packets(self.df[i:i+128], \"ip\")\n",
    "    def ordinal_eth(self, i):\n",
    "        return self.ordinalize_packets(self.df[i:i+128], \"eth\")\n",
    "\n",
    "    def ordinalize(self):\n",
    "        p = Pool(processes=6)\n",
    "        mappings_ip = p.map(self.ordinal_ip, trange(len(self.df) - 128))\n",
    "        mappings_eth = p.map(self.ordinal_eth, trange(len(self.df) - 128))\n",
    "        p.close()\n",
    "        p.join()\n",
    "        del p\n",
    "        return  mappings_eth, mappings_ip\n",
    "    \n",
    "ord = Ordinalizer(df)\n",
    "mappings_eth, mappings_ip = ord.ordinalize()\n",
    "\n"
   ],
   "id": "9b70e15d9f7e1866",
   "outputs": [
    {
     "name": "stderr",
     "output_type": "stream",
     "text": [
      "100%|██████████| 20747468/20747468 [37:46<00:00, 9152.35it/s] \n",
      "100%|██████████| 20747468/20747468 [38:05<00:00, 9077.39it/s] \n"
     ]
    }
   ],
   "execution_count": 4
  },
  {
   "metadata": {
    "ExecuteTime": {
     "end_time": "2025-05-26T17:37:23.478380Z",
     "start_time": "2025-05-26T17:37:12.044466Z"
    }
   },
   "cell_type": "code",
   "source": [
    "import pickle\n",
    "pickle.dump(mappings_ip, open('ip_mappings_train', 'wb'))\n",
    "pickle.dump(mappings_eth, open('eth_mappings_train', 'wb'))"
   ],
   "id": "c15277e9ba8e4b7e",
   "outputs": [],
   "execution_count": 5
  },
  {
   "cell_type": "code",
   "id": "b00bed62249b360f",
   "metadata": {
    "execution": {
     "iopub.execute_input": "2025-05-18T08:18:09.878167Z",
     "iopub.status.busy": "2025-05-18T08:18:09.877901Z",
     "iopub.status.idle": "2025-05-18T08:18:09.907162Z",
     "shell.execute_reply": "2025-05-18T08:18:09.906631Z",
     "shell.execute_reply.started": "2025-05-18T08:18:09.878139Z"
    },
    "trusted": true,
    "ExecuteTime": {
     "end_time": "2025-05-25T14:57:02.065380Z",
     "start_time": "2025-05-25T14:56:58.652367Z"
    }
   },
   "source": [
    "df.info()\n",
    "df.to_parquet(\"df_processed.parquet\")"
   ],
   "outputs": [
    {
     "name": "stdout",
     "output_type": "stream",
     "text": [
      "<class 'pandas.core.frame.DataFrame'>\n",
      "RangeIndex: 20747596 entries, 0 to 20747595\n",
      "Data columns (total 20 columns):\n",
      " #   Column           Dtype  \n",
      "---  ------           -----  \n",
      " 0   frame.number     float64\n",
      " 1   frame.len        float64\n",
      " 2   eth.src          int64  \n",
      " 3   eth.dst          int64  \n",
      " 4   ip.src           int64  \n",
      " 5   ip.dst           int64  \n",
      " 6   ip.len           float64\n",
      " 7   ip.ttl           float64\n",
      " 8   tcp.srcport      float64\n",
      " 9   tcp.dstport      float64\n",
      " 10  tcp.flags.ack    int64  \n",
      " 11  tcp.flags.fin    int64  \n",
      " 12  tcp.flags.reset  int64  \n",
      " 13  alert            float64\n",
      " 14  udp.srcport      float64\n",
      " 15  udp.dstport      float64\n",
      " 16  second_sin       float64\n",
      " 17  second_cos       float64\n",
      " 18  ms_sin           float64\n",
      " 19  ms_cos           float64\n",
      "dtypes: float64(13), int64(7)\n",
      "memory usage: 3.1 GB\n"
     ]
    }
   ],
   "execution_count": 5
  },
  {
   "cell_type": "code",
   "id": "ee267cb5e4b383b7",
   "metadata": {
    "execution": {
     "iopub.execute_input": "2025-05-18T09:25:39.538511Z",
     "iopub.status.busy": "2025-05-18T09:25:39.538276Z",
     "iopub.status.idle": "2025-05-18T09:25:39.547067Z",
     "shell.execute_reply": "2025-05-18T09:25:39.546540Z",
     "shell.execute_reply.started": "2025-05-18T09:25:39.538491Z"
    },
    "trusted": true,
    "ExecuteTime": {
     "end_time": "2025-05-28T07:27:31.649332Z",
     "start_time": "2025-05-28T07:27:31.633498Z"
    }
   },
   "source": [
    "from torch.utils.data import Dataset\n",
    "\n",
    "\n",
    "import pyarrow.parquet as pq\n",
    "import pyarrow as pa\n",
    "import pickle\n",
    "from multiprocessing import Manager\n",
    "\n",
    "\n",
    "class NetworkDataset(Dataset):\n",
    "    def __init__(self, data, window=128, mapping_ip=None, mapping_eth=None):\n",
    "        \n",
    "        self.data = pq.ParquetFile(data)\n",
    "        self.window = window\n",
    "        manager = Manager()\n",
    "        self.row_group_sizes = [self.data.metadata.row_group(i).num_rows \n",
    "                                for i in range(self.data.num_row_groups)]\n",
    "        self.cum_sizes = np.cumsum(self.row_group_sizes)\n",
    "        self.total_rows = self.cum_sizes[-1]\n",
    "        self.mappings_ip = manager.list(pickle.load(open(mapping_ip, \"rb\")))\n",
    "        self.mappings_eth = manager.list(pickle.load(open(mapping_eth, \"rb\")))\n",
    "        self.table = self.data.read()\n",
    "        \n",
    "    \n",
    "    def __getitem__(self, index):\n",
    "        packets = self.table.slice(index, length=self.window)\n",
    "        \n",
    "        cols = packets.column_names\n",
    "        exclude = {'alert', 'frame.number', 'ip.src', 'ip.dst', 'eth.src', 'eth.dst'}\n",
    "        feature_cols = [c for c in cols if c not in exclude]\n",
    "        \n",
    "        def to_numpy(col):\n",
    "            return packets.column(col).combine_chunks().to_numpy(zero_copy_only=True)\n",
    "\n",
    "        feature_values = np.column_stack([\n",
    "            np.nan_to_num(to_numpy(c).astype(np.float32)) for c in feature_cols\n",
    "        ])\n",
    "        \n",
    "        labels = to_numpy('alert').astype(np.float32)\n",
    "        def fast_map(values, mapping):\n",
    "            py_values = values.to_pylist()\n",
    "            return np.fromiter((mapping.get(v, 0) for v in py_values), dtype=np.int32)\n",
    "    \n",
    "        mappings_eth = self.mappings_eth[index]\n",
    "        mappings_ip = self.mappings_ip[index]\n",
    "        eth_src = fast_map(packets.column('eth.src'), mappings_eth)[:, np.newaxis]\n",
    "        eth_dst = fast_map(packets.column('eth.dst'), mappings_eth)[:, np.newaxis]\n",
    "        ip_src = fast_map(packets.column('ip.src'), mappings_ip)[:, np.newaxis]\n",
    "        ip_dst = fast_map(packets.column('ip.dst'), mappings_ip)[:, np.newaxis]\n",
    "\n",
    "    \n",
    "        return np.nan_to_num(np.concatenate([eth_src, eth_dst], axis=1), nan=0).astype(int), np.nan_to_num(np.concatenate([ip_src, ip_dst], axis=1), nan=0).astype(int), feature_values, labels\n",
    "                         \n",
    "\n",
    "    def __len__(self):\n",
    "        return self.total_rows - self.window"
   ],
   "outputs": [],
   "execution_count": 2
  },
  {
   "cell_type": "code",
   "id": "9e5629d4956fca3b",
   "metadata": {
    "execution": {
     "iopub.execute_input": "2025-05-18T09:25:39.548089Z",
     "iopub.status.busy": "2025-05-18T09:25:39.547857Z",
     "iopub.status.idle": "2025-05-18T09:25:39.566035Z",
     "shell.execute_reply": "2025-05-18T09:25:39.565293Z",
     "shell.execute_reply.started": "2025-05-18T09:25:39.548072Z"
    },
    "trusted": true,
    "ExecuteTime": {
     "end_time": "2025-05-28T07:27:32.510065Z",
     "start_time": "2025-05-28T07:27:32.506941Z"
    }
   },
   "source": [
    "from torch.nn.utils.parametrizations import weight_norm\n",
    "\n",
    "\n",
    "class ResBlock(nn.Module):\n",
    "    def __init__(self, channels, kernel_size, dilation):\n",
    "        super(ResBlock, self).__init__()\n",
    "        self.conv1 = weight_norm(\n",
    "            nn.Conv1d(in_channels=channels, out_channels=channels, kernel_size=kernel_size, dilation=dilation))\n",
    "        self.conv2 = weight_norm(\n",
    "            nn.Conv1d(in_channels=channels, out_channels=channels, kernel_size=kernel_size, dilation=dilation))\n",
    "        self.pad = nn.ZeroPad1d((kernel_size - 1) // 2 * dilation)\n",
    "        self.dropout = nn.Dropout(0.2)\n",
    "\n",
    "    def forward(self, x):\n",
    "        t = self.pad(x)\n",
    "        t = F.relu(self.conv1(t))\n",
    "        t = self.pad(t)\n",
    "        t = F.relu(self.conv2(t))\n",
    "        return self.dropout(t) + x"
   ],
   "outputs": [],
   "execution_count": 3
  },
  {
   "cell_type": "code",
   "id": "c5c3706be37fcfb9",
   "metadata": {
    "execution": {
     "iopub.execute_input": "2025-05-18T09:25:39.567146Z",
     "iopub.status.busy": "2025-05-18T09:25:39.566884Z",
     "iopub.status.idle": "2025-05-18T09:25:39.585739Z",
     "shell.execute_reply": "2025-05-18T09:25:39.585185Z",
     "shell.execute_reply.started": "2025-05-18T09:25:39.567126Z"
    },
    "trusted": true,
    "ExecuteTime": {
     "end_time": "2025-05-28T07:27:33.415898Z",
     "start_time": "2025-05-28T07:27:33.413079Z"
    }
   },
   "source": [
    "class TCN(nn.Module):\n",
    "    def __init__(self, channels, kernel_size, blocks):\n",
    "        super(TCN, self).__init__()\n",
    "        self.blocks = nn.Sequential(*[ResBlock(channels, kernel_size, 2**i) for i in range(blocks)])\n",
    "        \n",
    "    def forward(self, x):\n",
    "        return self.blocks(x)"
   ],
   "outputs": [],
   "execution_count": 4
  },
  {
   "cell_type": "code",
   "id": "96ca2ca3d3cf867c",
   "metadata": {
    "execution": {
     "iopub.execute_input": "2025-05-18T09:25:39.586715Z",
     "iopub.status.busy": "2025-05-18T09:25:39.586442Z",
     "iopub.status.idle": "2025-05-18T09:25:39.601522Z",
     "shell.execute_reply": "2025-05-18T09:25:39.600826Z",
     "shell.execute_reply.started": "2025-05-18T09:25:39.586691Z"
    },
    "trusted": true,
    "ExecuteTime": {
     "end_time": "2025-05-28T07:27:36.098683Z",
     "start_time": "2025-05-28T07:27:36.095086Z"
    }
   },
   "source": [
    "class Model(nn.Module):\n",
    "    def __init__(self):\n",
    "        super(Model, self).__init__()\n",
    "        self.eth_embed = nn.Embedding(128, 32)\n",
    "        self.ip_embed = nn.Embedding(128, 32)\n",
    "        self.total_embed = nn.Linear(142, 64)\n",
    "        self.conv = TCN(128, 5, 5)\n",
    "        self.projection = nn.Linear(64, 1)\n",
    "\n",
    "    def forward(self, eth, ip, packet):\n",
    "        B = packet.size(0)\n",
    "        L = packet.size(1)\n",
    "        eth = self.eth_embed(eth).view(B, L, -1)\n",
    "        ip = self.ip_embed(ip).view(B, L, -1)\n",
    "        pk_embed = self.total_embed(torch.cat((eth, ip, packet), dim=-1))\n",
    "        processed = nn.functional.relu(self.conv(pk_embed))\n",
    "        preds = self.projection(processed).squeeze(-1)\n",
    "        return preds"
   ],
   "outputs": [],
   "execution_count": 5
  },
  {
   "cell_type": "code",
   "id": "437967a4-2d6c-4c56-9eee-653c798effbe",
   "metadata": {
    "execution": {
     "iopub.execute_input": "2025-05-18T10:03:06.088412Z",
     "iopub.status.busy": "2025-05-18T10:03:06.088024Z",
     "iopub.status.idle": "2025-05-18T10:03:06.471328Z",
     "shell.execute_reply": "2025-05-18T10:03:06.470438Z",
     "shell.execute_reply.started": "2025-05-18T10:03:06.088385Z"
    },
    "trusted": true
   },
   "source": [
    "gc.collect()"
   ],
   "outputs": [],
   "execution_count": null
  },
  {
   "cell_type": "code",
   "id": "9ac5d61754852a5e",
   "metadata": {
    "execution": {
     "execution_failed": "2025-05-18T10:03:29.020Z",
     "iopub.execute_input": "2025-05-18T10:03:06.587708Z",
     "iopub.status.busy": "2025-05-18T10:03:06.587409Z"
    },
    "trusted": true,
    "ExecuteTime": {
     "end_time": "2025-05-28T07:28:11.602998Z",
     "start_time": "2025-05-28T07:27:37.910273Z"
    }
   },
   "source": "dataset = NetworkDataset(\"df_processed.parquet\", 128, 'ip_mappings_train', 'eth_mappings_train') # preparation of dataset",
   "outputs": [],
   "execution_count": 6
  },
  {
   "metadata": {
    "ExecuteTime": {
     "end_time": "2025-05-27T17:11:18.670894Z",
     "start_time": "2025-05-27T17:11:18.665925Z"
    }
   },
   "cell_type": "code",
   "source": "dataset[0][0].shape",
   "id": "4efd8121541067f5",
   "outputs": [
    {
     "data": {
      "text/plain": [
       "array([[ 0.02310216,  0.02288853,  0.2509804 , ...,  0.7431448 ,\n",
       "         0.73834   , -0.6744287 ],\n",
       "       [ 0.02310216,  0.02288853,  0.2509804 , ...,  0.7431448 ,\n",
       "         0.7377804 , -0.67504084],\n",
       "       [ 0.02310216,  0.02288853,  0.2509804 , ...,  0.7431448 ,\n",
       "         0.7368593 , -0.67604613],\n",
       "       ...,\n",
       "       [ 0.02310216,  0.02288853,  0.2509804 , ...,  0.7431448 ,\n",
       "         0.3529223 , -0.9356526 ],\n",
       "       [ 0.02310216,  0.02288853,  0.2509804 , ...,  0.7431448 ,\n",
       "         0.35180506, -0.9360733 ],\n",
       "       [ 0.00318914,  0.00297551,  0.2509804 , ...,  0.7431448 ,\n",
       "         0.35128742, -0.9362677 ]], dtype=float32)"
      ]
     },
     "execution_count": 39,
     "metadata": {},
     "output_type": "execute_result"
    }
   ],
   "execution_count": 39
  },
  {
   "metadata": {
    "ExecuteTime": {
     "end_time": "2025-05-26T17:47:09.414842Z",
     "start_time": "2025-05-26T17:47:09.412212Z"
    }
   },
   "cell_type": "code",
   "source": "dataset[0][0].shape",
   "id": "e48c4c60a789c607",
   "outputs": [
    {
     "data": {
      "text/plain": [
       "(128, 2)"
      ]
     },
     "execution_count": 38,
     "metadata": {},
     "output_type": "execute_result"
    }
   ],
   "execution_count": 38
  },
  {
   "cell_type": "code",
   "id": "b754855b-87a2-4b70-9f35-8e4332fcf901",
   "metadata": {
    "trusted": true,
    "ExecuteTime": {
     "end_time": "2025-05-28T07:28:12.175387Z",
     "start_time": "2025-05-28T07:28:11.604438Z"
    }
   },
   "source": "dataset_val = NetworkDataset(\"df_eval_proc.parquet\", 128, 'ip_mappings_val1', 'eth_mappings_val1') #",
   "outputs": [],
   "execution_count": 7
  },
  {
   "metadata": {
    "ExecuteTime": {
     "end_time": "2025-05-28T09:29:46.616504Z",
     "start_time": "2025-05-28T09:21:58.489110Z"
    }
   },
   "cell_type": "code",
   "source": [
    "from torch.optim.lr_scheduler import LinearLR\n",
    "from torch.utils.data import DataLoader\n",
    "from torch.optim import Adam\n",
    "from tqdm import tqdm\n",
    "from accelerate import Accelerator\n",
    "\n",
    "accelerator = Accelerator(mixed_precision=\"bf16\")\n",
    "model = Model()\n",
    "dataloader = DataLoader(dataset, batch_size=256, shuffle=True, drop_last=True, num_workers=32,\n",
    "                        persistent_workers=True)\n",
    "test_loader = DataLoader(dataset_val, batch_size=512, shuffle=True, drop_last=True, num_workers=24, pin_memory=True)\n",
    "optimizer = Adam(model.parameters(), lr=1e-4)\n",
    "scheduler = LinearLR(optimizer, total_iters=8, start_factor=1, end_factor=0.2)\n",
    "loss_fn = nn.BCEWithLogitsLoss()\n",
    "\n",
    "model, dataloader, optimizer, scheduler = accelerator.prepare(model, dataloader, optimizer, scheduler)\n",
    "\n",
    "for epoch in range(8):\n",
    "    count = 0\n",
    "    total = 0\n",
    "    model.train()\n",
    "    for eth, ip, pkt, labels in tqdm(dataloader):\n",
    "        optimizer.zero_grad()\n",
    "        pkt = model(eth, ip, pkt)\n",
    "        loss = loss_fn(pkt, labels)\n",
    "        count += 1\n",
    "        total += loss.item()\n",
    "        accelerator.clip_grad_norm_(model.parameters(), 1.0)\n",
    "        loss.backward()\n",
    "        optimizer.step()\n",
    "    scheduler.step()\n",
    "    model.eval()\n",
    "    acc = 0\n",
    "    count_t = 0\n",
    "    cm = np.zeros((2, 2))\n",
    "    for eth, ip, pkt, labels in tqdm(test_loader):\n",
    "        count_t += 512*128\n",
    "        pred = F.sigmoid(model(ip.cuda(), eth.cuda(), pkt.cuda()))\n",
    "        acc +=  (labels.cuda() == (pred > 0.5)).sum()\n",
    "        cm += confusion_matrix(labels.flatten().cpu(), pred.flatten().cpu().detach() > 0.5)\n",
    "    print(f\"test {acc/count_t}\")\n",
    "    print(\"Epoch {} Loss {}\".format(epoch, total / count))\n",
    "    print(scheduler.get_last_lr())"
   ],
   "id": "7c32475b89181457",
   "outputs": [
    {
     "name": "stderr",
     "output_type": "stream",
     "text": [
      " 50%|████▉     | 40195/81044 [07:48<07:55, 85.88it/s] \n"
     ]
    },
    {
     "ename": "KeyboardInterrupt",
     "evalue": "",
     "output_type": "error",
     "traceback": [
      "\u001B[0;31m---------------------------------------------------------------------------\u001B[0m",
      "\u001B[0;31mKeyboardInterrupt\u001B[0m                         Traceback (most recent call last)",
      "Cell \u001B[0;32mIn [23], line 22\u001B[0m\n\u001B[1;32m     20\u001B[0m total \u001B[38;5;241m=\u001B[39m \u001B[38;5;241m0\u001B[39m\n\u001B[1;32m     21\u001B[0m model\u001B[38;5;241m.\u001B[39mtrain()\n\u001B[0;32m---> 22\u001B[0m \u001B[38;5;28;01mfor\u001B[39;00m eth, ip, pkt, labels \u001B[38;5;129;01min\u001B[39;00m tqdm(dataloader):\n\u001B[1;32m     23\u001B[0m     optimizer\u001B[38;5;241m.\u001B[39mzero_grad()\n\u001B[1;32m     24\u001B[0m     pkt \u001B[38;5;241m=\u001B[39m model(eth, ip, pkt)\n",
      "File \u001B[0;32m/usr/local/lib/python3.11/dist-packages/tqdm/std.py:1181\u001B[0m, in \u001B[0;36mtqdm.__iter__\u001B[0;34m(self)\u001B[0m\n\u001B[1;32m   1178\u001B[0m time \u001B[38;5;241m=\u001B[39m \u001B[38;5;28mself\u001B[39m\u001B[38;5;241m.\u001B[39m_time\n\u001B[1;32m   1180\u001B[0m \u001B[38;5;28;01mtry\u001B[39;00m:\n\u001B[0;32m-> 1181\u001B[0m     \u001B[38;5;28;01mfor\u001B[39;00m obj \u001B[38;5;129;01min\u001B[39;00m iterable:\n\u001B[1;32m   1182\u001B[0m         \u001B[38;5;28;01myield\u001B[39;00m obj\n\u001B[1;32m   1183\u001B[0m         \u001B[38;5;66;03m# Update and possibly print the progressbar.\u001B[39;00m\n\u001B[1;32m   1184\u001B[0m         \u001B[38;5;66;03m# Note: does not call self.update(1) for speed optimisation.\u001B[39;00m\n",
      "File \u001B[0;32m/usr/local/lib/python3.11/dist-packages/accelerate/data_loader.py:563\u001B[0m, in \u001B[0;36mDataLoaderShard.__iter__\u001B[0;34m(self)\u001B[0m\n\u001B[1;32m    561\u001B[0m     current_batch \u001B[38;5;241m=\u001B[39m send_to_device(current_batch, \u001B[38;5;28mself\u001B[39m\u001B[38;5;241m.\u001B[39mdevice, non_blocking\u001B[38;5;241m=\u001B[39m\u001B[38;5;28mself\u001B[39m\u001B[38;5;241m.\u001B[39m_non_blocking)\n\u001B[1;32m    562\u001B[0m \u001B[38;5;28mself\u001B[39m\u001B[38;5;241m.\u001B[39m_update_state_dict()\n\u001B[0;32m--> 563\u001B[0m next_batch \u001B[38;5;241m=\u001B[39m \u001B[38;5;28mnext\u001B[39m(dataloader_iter)\n\u001B[1;32m    564\u001B[0m \u001B[38;5;28;01mif\u001B[39;00m batch_index \u001B[38;5;241m>\u001B[39m\u001B[38;5;241m=\u001B[39m \u001B[38;5;28mself\u001B[39m\u001B[38;5;241m.\u001B[39mskip_batches:\n\u001B[1;32m    565\u001B[0m     \u001B[38;5;28;01myield\u001B[39;00m current_batch\n",
      "File \u001B[0;32m/usr/local/lib/python3.11/dist-packages/torch/utils/data/dataloader.py:733\u001B[0m, in \u001B[0;36m_BaseDataLoaderIter.__next__\u001B[0;34m(self)\u001B[0m\n\u001B[1;32m    730\u001B[0m \u001B[38;5;28;01mif\u001B[39;00m \u001B[38;5;28mself\u001B[39m\u001B[38;5;241m.\u001B[39m_sampler_iter \u001B[38;5;129;01mis\u001B[39;00m \u001B[38;5;28;01mNone\u001B[39;00m:\n\u001B[1;32m    731\u001B[0m     \u001B[38;5;66;03m# TODO(https://github.com/pytorch/pytorch/issues/76750)\u001B[39;00m\n\u001B[1;32m    732\u001B[0m     \u001B[38;5;28mself\u001B[39m\u001B[38;5;241m.\u001B[39m_reset()  \u001B[38;5;66;03m# type: ignore[call-arg]\u001B[39;00m\n\u001B[0;32m--> 733\u001B[0m data \u001B[38;5;241m=\u001B[39m \u001B[38;5;28;43mself\u001B[39;49m\u001B[38;5;241;43m.\u001B[39;49m\u001B[43m_next_data\u001B[49m\u001B[43m(\u001B[49m\u001B[43m)\u001B[49m\n\u001B[1;32m    734\u001B[0m \u001B[38;5;28mself\u001B[39m\u001B[38;5;241m.\u001B[39m_num_yielded \u001B[38;5;241m+\u001B[39m\u001B[38;5;241m=\u001B[39m \u001B[38;5;241m1\u001B[39m\n\u001B[1;32m    735\u001B[0m \u001B[38;5;28;01mif\u001B[39;00m (\n\u001B[1;32m    736\u001B[0m     \u001B[38;5;28mself\u001B[39m\u001B[38;5;241m.\u001B[39m_dataset_kind \u001B[38;5;241m==\u001B[39m _DatasetKind\u001B[38;5;241m.\u001B[39mIterable\n\u001B[1;32m    737\u001B[0m     \u001B[38;5;129;01mand\u001B[39;00m \u001B[38;5;28mself\u001B[39m\u001B[38;5;241m.\u001B[39m_IterableDataset_len_called \u001B[38;5;129;01mis\u001B[39;00m \u001B[38;5;129;01mnot\u001B[39;00m \u001B[38;5;28;01mNone\u001B[39;00m\n\u001B[1;32m    738\u001B[0m     \u001B[38;5;129;01mand\u001B[39;00m \u001B[38;5;28mself\u001B[39m\u001B[38;5;241m.\u001B[39m_num_yielded \u001B[38;5;241m>\u001B[39m \u001B[38;5;28mself\u001B[39m\u001B[38;5;241m.\u001B[39m_IterableDataset_len_called\n\u001B[1;32m    739\u001B[0m ):\n",
      "File \u001B[0;32m/usr/local/lib/python3.11/dist-packages/torch/utils/data/dataloader.py:1491\u001B[0m, in \u001B[0;36m_MultiProcessingDataLoaderIter._next_data\u001B[0;34m(self)\u001B[0m\n\u001B[1;32m   1488\u001B[0m     \u001B[38;5;28;01mreturn\u001B[39;00m \u001B[38;5;28mself\u001B[39m\u001B[38;5;241m.\u001B[39m_process_data(data, worker_id)\n\u001B[1;32m   1490\u001B[0m \u001B[38;5;28;01massert\u001B[39;00m \u001B[38;5;129;01mnot\u001B[39;00m \u001B[38;5;28mself\u001B[39m\u001B[38;5;241m.\u001B[39m_shutdown \u001B[38;5;129;01mand\u001B[39;00m \u001B[38;5;28mself\u001B[39m\u001B[38;5;241m.\u001B[39m_tasks_outstanding \u001B[38;5;241m>\u001B[39m \u001B[38;5;241m0\u001B[39m\n\u001B[0;32m-> 1491\u001B[0m idx, data \u001B[38;5;241m=\u001B[39m \u001B[38;5;28;43mself\u001B[39;49m\u001B[38;5;241;43m.\u001B[39;49m\u001B[43m_get_data\u001B[49m\u001B[43m(\u001B[49m\u001B[43m)\u001B[49m\n\u001B[1;32m   1492\u001B[0m \u001B[38;5;28mself\u001B[39m\u001B[38;5;241m.\u001B[39m_tasks_outstanding \u001B[38;5;241m-\u001B[39m\u001B[38;5;241m=\u001B[39m \u001B[38;5;241m1\u001B[39m\n\u001B[1;32m   1493\u001B[0m \u001B[38;5;28;01mif\u001B[39;00m \u001B[38;5;28mself\u001B[39m\u001B[38;5;241m.\u001B[39m_dataset_kind \u001B[38;5;241m==\u001B[39m _DatasetKind\u001B[38;5;241m.\u001B[39mIterable:\n\u001B[1;32m   1494\u001B[0m     \u001B[38;5;66;03m# Check for _IterableDatasetStopIteration\u001B[39;00m\n",
      "File \u001B[0;32m/usr/local/lib/python3.11/dist-packages/torch/utils/data/dataloader.py:1453\u001B[0m, in \u001B[0;36m_MultiProcessingDataLoaderIter._get_data\u001B[0;34m(self)\u001B[0m\n\u001B[1;32m   1449\u001B[0m     \u001B[38;5;66;03m# In this case, `self._data_queue` is a `queue.Queue`,. But we don't\u001B[39;00m\n\u001B[1;32m   1450\u001B[0m     \u001B[38;5;66;03m# need to call `.task_done()` because we don't use `.join()`.\u001B[39;00m\n\u001B[1;32m   1451\u001B[0m \u001B[38;5;28;01melse\u001B[39;00m:\n\u001B[1;32m   1452\u001B[0m     \u001B[38;5;28;01mwhile\u001B[39;00m \u001B[38;5;28;01mTrue\u001B[39;00m:\n\u001B[0;32m-> 1453\u001B[0m         success, data \u001B[38;5;241m=\u001B[39m \u001B[38;5;28;43mself\u001B[39;49m\u001B[38;5;241;43m.\u001B[39;49m\u001B[43m_try_get_data\u001B[49m\u001B[43m(\u001B[49m\u001B[43m)\u001B[49m\n\u001B[1;32m   1454\u001B[0m         \u001B[38;5;28;01mif\u001B[39;00m success:\n\u001B[1;32m   1455\u001B[0m             \u001B[38;5;28;01mreturn\u001B[39;00m data\n",
      "File \u001B[0;32m/usr/local/lib/python3.11/dist-packages/torch/utils/data/dataloader.py:1284\u001B[0m, in \u001B[0;36m_MultiProcessingDataLoaderIter._try_get_data\u001B[0;34m(self, timeout)\u001B[0m\n\u001B[1;32m   1271\u001B[0m \u001B[38;5;28;01mdef\u001B[39;00m \u001B[38;5;21m_try_get_data\u001B[39m(\u001B[38;5;28mself\u001B[39m, timeout\u001B[38;5;241m=\u001B[39m_utils\u001B[38;5;241m.\u001B[39mMP_STATUS_CHECK_INTERVAL):\n\u001B[1;32m   1272\u001B[0m     \u001B[38;5;66;03m# Tries to fetch data from `self._data_queue` once for a given timeout.\u001B[39;00m\n\u001B[1;32m   1273\u001B[0m     \u001B[38;5;66;03m# This can also be used as inner loop of fetching without timeout, with\u001B[39;00m\n\u001B[0;32m   (...)\u001B[0m\n\u001B[1;32m   1281\u001B[0m     \u001B[38;5;66;03m# Returns a 2-tuple:\u001B[39;00m\n\u001B[1;32m   1282\u001B[0m     \u001B[38;5;66;03m#   (bool: whether successfully get data, any: data if successful else None)\u001B[39;00m\n\u001B[1;32m   1283\u001B[0m     \u001B[38;5;28;01mtry\u001B[39;00m:\n\u001B[0;32m-> 1284\u001B[0m         data \u001B[38;5;241m=\u001B[39m \u001B[38;5;28;43mself\u001B[39;49m\u001B[38;5;241;43m.\u001B[39;49m\u001B[43m_data_queue\u001B[49m\u001B[38;5;241;43m.\u001B[39;49m\u001B[43mget\u001B[49m\u001B[43m(\u001B[49m\u001B[43mtimeout\u001B[49m\u001B[38;5;241;43m=\u001B[39;49m\u001B[43mtimeout\u001B[49m\u001B[43m)\u001B[49m\n\u001B[1;32m   1285\u001B[0m         \u001B[38;5;28;01mreturn\u001B[39;00m (\u001B[38;5;28;01mTrue\u001B[39;00m, data)\n\u001B[1;32m   1286\u001B[0m     \u001B[38;5;28;01mexcept\u001B[39;00m \u001B[38;5;167;01mException\u001B[39;00m \u001B[38;5;28;01mas\u001B[39;00m e:\n\u001B[1;32m   1287\u001B[0m         \u001B[38;5;66;03m# At timeout and error, we manually check whether any worker has\u001B[39;00m\n\u001B[1;32m   1288\u001B[0m         \u001B[38;5;66;03m# failed. Note that this is the only mechanism for Windows to detect\u001B[39;00m\n\u001B[1;32m   1289\u001B[0m         \u001B[38;5;66;03m# worker failures.\u001B[39;00m\n",
      "File \u001B[0;32m/usr/lib/python3.11/multiprocessing/queues.py:113\u001B[0m, in \u001B[0;36mQueue.get\u001B[0;34m(self, block, timeout)\u001B[0m\n\u001B[1;32m    111\u001B[0m \u001B[38;5;28;01mif\u001B[39;00m block:\n\u001B[1;32m    112\u001B[0m     timeout \u001B[38;5;241m=\u001B[39m deadline \u001B[38;5;241m-\u001B[39m time\u001B[38;5;241m.\u001B[39mmonotonic()\n\u001B[0;32m--> 113\u001B[0m     \u001B[38;5;28;01mif\u001B[39;00m \u001B[38;5;129;01mnot\u001B[39;00m \u001B[38;5;28;43mself\u001B[39;49m\u001B[38;5;241;43m.\u001B[39;49m\u001B[43m_poll\u001B[49m\u001B[43m(\u001B[49m\u001B[43mtimeout\u001B[49m\u001B[43m)\u001B[49m:\n\u001B[1;32m    114\u001B[0m         \u001B[38;5;28;01mraise\u001B[39;00m Empty\n\u001B[1;32m    115\u001B[0m \u001B[38;5;28;01melif\u001B[39;00m \u001B[38;5;129;01mnot\u001B[39;00m \u001B[38;5;28mself\u001B[39m\u001B[38;5;241m.\u001B[39m_poll():\n",
      "File \u001B[0;32m/usr/lib/python3.11/multiprocessing/connection.py:256\u001B[0m, in \u001B[0;36m_ConnectionBase.poll\u001B[0;34m(self, timeout)\u001B[0m\n\u001B[1;32m    254\u001B[0m \u001B[38;5;28mself\u001B[39m\u001B[38;5;241m.\u001B[39m_check_closed()\n\u001B[1;32m    255\u001B[0m \u001B[38;5;28mself\u001B[39m\u001B[38;5;241m.\u001B[39m_check_readable()\n\u001B[0;32m--> 256\u001B[0m \u001B[38;5;28;01mreturn\u001B[39;00m \u001B[38;5;28;43mself\u001B[39;49m\u001B[38;5;241;43m.\u001B[39;49m\u001B[43m_poll\u001B[49m\u001B[43m(\u001B[49m\u001B[43mtimeout\u001B[49m\u001B[43m)\u001B[49m\n",
      "File \u001B[0;32m/usr/lib/python3.11/multiprocessing/connection.py:423\u001B[0m, in \u001B[0;36mConnection._poll\u001B[0;34m(self, timeout)\u001B[0m\n\u001B[1;32m    422\u001B[0m \u001B[38;5;28;01mdef\u001B[39;00m \u001B[38;5;21m_poll\u001B[39m(\u001B[38;5;28mself\u001B[39m, timeout):\n\u001B[0;32m--> 423\u001B[0m     r \u001B[38;5;241m=\u001B[39m \u001B[43mwait\u001B[49m\u001B[43m(\u001B[49m\u001B[43m[\u001B[49m\u001B[38;5;28;43mself\u001B[39;49m\u001B[43m]\u001B[49m\u001B[43m,\u001B[49m\u001B[43m \u001B[49m\u001B[43mtimeout\u001B[49m\u001B[43m)\u001B[49m\n\u001B[1;32m    424\u001B[0m     \u001B[38;5;28;01mreturn\u001B[39;00m \u001B[38;5;28mbool\u001B[39m(r)\n",
      "File \u001B[0;32m/usr/lib/python3.11/multiprocessing/connection.py:930\u001B[0m, in \u001B[0;36mwait\u001B[0;34m(object_list, timeout)\u001B[0m\n\u001B[1;32m    927\u001B[0m     deadline \u001B[38;5;241m=\u001B[39m time\u001B[38;5;241m.\u001B[39mmonotonic() \u001B[38;5;241m+\u001B[39m timeout\n\u001B[1;32m    929\u001B[0m \u001B[38;5;28;01mwhile\u001B[39;00m \u001B[38;5;28;01mTrue\u001B[39;00m:\n\u001B[0;32m--> 930\u001B[0m     ready \u001B[38;5;241m=\u001B[39m \u001B[43mselector\u001B[49m\u001B[38;5;241;43m.\u001B[39;49m\u001B[43mselect\u001B[49m\u001B[43m(\u001B[49m\u001B[43mtimeout\u001B[49m\u001B[43m)\u001B[49m\n\u001B[1;32m    931\u001B[0m     \u001B[38;5;28;01mif\u001B[39;00m ready:\n\u001B[1;32m    932\u001B[0m         \u001B[38;5;28;01mreturn\u001B[39;00m [key\u001B[38;5;241m.\u001B[39mfileobj \u001B[38;5;28;01mfor\u001B[39;00m (key, events) \u001B[38;5;129;01min\u001B[39;00m ready]\n",
      "File \u001B[0;32m/usr/lib/python3.11/selectors.py:415\u001B[0m, in \u001B[0;36m_PollLikeSelector.select\u001B[0;34m(self, timeout)\u001B[0m\n\u001B[1;32m    413\u001B[0m ready \u001B[38;5;241m=\u001B[39m []\n\u001B[1;32m    414\u001B[0m \u001B[38;5;28;01mtry\u001B[39;00m:\n\u001B[0;32m--> 415\u001B[0m     fd_event_list \u001B[38;5;241m=\u001B[39m \u001B[38;5;28mself\u001B[39m\u001B[38;5;241m.\u001B[39m_selector\u001B[38;5;241m.\u001B[39mpoll(timeout)\n\u001B[1;32m    416\u001B[0m \u001B[38;5;28;01mexcept\u001B[39;00m \u001B[38;5;167;01mInterruptedError\u001B[39;00m:\n\u001B[1;32m    417\u001B[0m     \u001B[38;5;28;01mreturn\u001B[39;00m ready\n",
      "\u001B[0;31mKeyboardInterrupt\u001B[0m: "
     ]
    }
   ],
   "execution_count": 23
  },
  {
   "metadata": {
    "ExecuteTime": {
     "end_time": "2025-05-27T17:59:43.944601Z",
     "start_time": "2025-05-27T17:59:43.931064Z"
    }
   },
   "cell_type": "code",
   "source": "print(acc)",
   "id": "f49115d15081455b",
   "outputs": [
    {
     "name": "stdout",
     "output_type": "stream",
     "text": [
      "tensor(15858893, device='cuda:0')\n"
     ]
    }
   ],
   "execution_count": 51
  },
  {
   "metadata": {},
   "cell_type": "code",
   "outputs": [],
   "execution_count": 40,
   "source": "torch.save(model.state_dict(), \"mdl\")",
   "id": "78301b33114a4788"
  },
  {
   "metadata": {},
   "cell_type": "code",
   "outputs": [
    {
     "name": "stderr",
     "output_type": "stream",
     "text": [
      "/tmp/ipykernel_26456/3364097189.py:1: DtypeWarning: Columns (23,24,25,26,27,29,37,38,39,40,41,43,47,49,52,54,55,56,70,71) have mixed types. Specify dtype option on import or set low_memory=False.\n",
      "  df_val = pd.read_csv(\"df_val.csv\")\n"
     ]
    }
   ],
   "execution_count": 41,
   "source": "df_val = pd.read_csv(\"df_val.csv\")",
   "id": "0590c281-4e43-4734-8c50-61023d18e214"
  },
  {
   "metadata": {},
   "cell_type": "code",
   "outputs": [],
   "execution_count": 42,
   "source": [
    "df_val = df_val[features]\n",
    "df_val[\"frame.len\"] /= 65535\n",
    "df_val[\"ip.len\"] /= 65535\n",
    "df_val[\"ip.ttl\"] /= 255\n",
    "df_val[\"tcp.srcport\"] /= 65535\n",
    "df_val[\"tcp.dstport\"] /= 65535\n",
    "df_val[\"udp.srcport\"] /= 65535\n",
    "df_val[\"udp.dstport\"] /= 65535\n",
    "df_val[\"frame.time\"] = df_val[\"frame.time\"].str.replace(\" Środkowoeuropejski czas letni\", \"\")#mój PCAP był po POlsku Pudzian byłby dumny :peepoGlad# CEST\n",
    "df_val[\"frame.time\"] = df_val[\"frame.time\"].str.replace(\" Środkowoeuropejski czas stand.\", \"\")\n",
    "df_val[\"frame.time\"] = df_val[\"frame.time\"].str.replace(\" CEST\", \"\")\n",
    "df_val[\"frame.time\"] = pd.to_datetime(df_val[\"frame.time\"])\n",
    "df_val[\"second_sin\"] = np.sin(2 * np.pi * df_val[\"frame.time\"].dt.second / 60 + 0.5)\n",
    "df_val[\"second_cos\"] = np.cos(2 * np.pi * df_val[\"frame.time\"].dt.second / 60 + 0.5)\n",
    "df_val[\"ms_sin\"] = np.sin(2 * np.pi * df_val[\"frame.time\"].dt.microsecond / 1000000 +1)\n",
    "df_val[\"ms_cos\"] = np.cos(2 * np.pi * df_val[\"frame.time\"].dt.microsecond / 1000000 + 1)\n",
    "df_val = df_val.fillna(0)  # only tcp is left\n",
    "df_val[['tcp.flags.ack', 'tcp.flags.fin', 'tcp.flags.reset']] = df_val[['tcp.flags.ack', 'tcp.flags.fin', 'tcp.flags.reset']].astype(int)\n",
    "df_val = df_val.drop(columns=[\"frame.time\"])"
   ],
   "id": "2c3955c898fac5f4"
  },
  {
   "metadata": {},
   "cell_type": "code",
   "outputs": [],
   "execution_count": 67,
   "source": "df_val.to_parquet(\"df_eval_proc.parquet\")",
   "id": "21c7c57c7215d1b5"
  },
  {
   "metadata": {
    "ExecuteTime": {
     "end_time": "2025-05-26T19:08:49.335420Z",
     "start_time": "2025-05-26T19:07:15.877513Z"
    }
   },
   "cell_type": "code",
   "source": [
    "ord = Ordinalizer(df_val)\n",
    "mappings_ip, mappings_eth = ord.ordinalize()"
   ],
   "id": "f1f4770e0c56767d",
   "outputs": [
    {
     "name": "stderr",
     "output_type": "stream",
     "text": [
      "100%|██████████| 269872/269872 [00:31<00:00, 8503.80it/s] \n",
      "100%|██████████| 269872/269872 [00:32<00:00, 8349.49it/s] \n"
     ]
    }
   ],
   "execution_count": 43
  },
  {
   "metadata": {
    "ExecuteTime": {
     "end_time": "2025-05-26T19:09:10.457234Z",
     "start_time": "2025-05-26T19:09:10.341995Z"
    }
   },
   "cell_type": "code",
   "source": [
    "import pickle\n",
    "pickle.dump(mappings_ip, open('ip_mappings_val1', 'wb'))\n",
    "pickle.dump(mappings_eth, open('eth_mappings_val1', 'wb'))"
   ],
   "id": "3eb511309aa7f010",
   "outputs": [],
   "execution_count": 44
  },
  {
   "cell_type": "code",
   "id": "6fa37a95eaad79df",
   "metadata": {
    "ExecuteTime": {
     "end_time": "2025-05-28T09:30:11.383806Z",
     "start_time": "2025-05-28T09:30:11.373743Z"
    }
   },
   "source": [
    "model.eval()\n",
    "ip, eth, pkt, labels = dataset_val[0]\n",
    "ip = torch.from_numpy(ip).cuda().unsqueeze(0)\n",
    "eth = torch.from_numpy(eth).cuda().unsqueeze(0)\n",
    "pkt = torch.from_numpy(pkt).cuda().unsqueeze(0)\n",
    "labels = torch.from_numpy(labels).cuda().unsqueeze(0)\n",
    "\n",
    "pred = F.sigmoid(model(ip, eth, pkt))\n",
    "print(pred > 0.5)\n",
    "(labels == (pred > 0.5)).sum()/128\n"
   ],
   "outputs": [
    {
     "name": "stdout",
     "output_type": "stream",
     "text": [
      "tensor([[True, True, True, True, True, True, True, True, True, True, True, True,\n",
      "         True, True, True, True, True, True, True, True, True, True, True, True,\n",
      "         True, True, True, True, True, True, True, True, True, True, True, True,\n",
      "         True, True, True, True, True, True, True, True, True, True, True, True,\n",
      "         True, True, True, True, True, True, True, True, True, True, True, True,\n",
      "         True, True, True, True, True, True, True, True, True, True, True, True,\n",
      "         True, True, True, True, True, True, True, True, True, True, True, True,\n",
      "         True, True, True, True, True, True, True, True, True, True, True, True,\n",
      "         True, True, True, True, True, True, True, True, True, True, True, True,\n",
      "         True, True, True, True, True, True, True, True, True, True, True, True,\n",
      "         True, True, True, True, True, True, True, True]], device='cuda:0')\n"
     ]
    },
    {
     "data": {
      "text/plain": [
       "tensor(0.9609, device='cuda:0')"
      ]
     },
     "execution_count": 29,
     "metadata": {},
     "output_type": "execute_result"
    }
   ],
   "execution_count": 29
  },
  {
   "metadata": {
    "ExecuteTime": {
     "end_time": "2025-05-28T09:31:09.227827Z",
     "start_time": "2025-05-28T09:30:52.838760Z"
    }
   },
   "cell_type": "code",
   "source": [
    "test_loader = DataLoader(dataset_val, batch_size=512, shuffle=True, drop_last=True, num_workers=24, pin_memory=True)\n",
    "\n",
    "model.eval()\n",
    "acc = 0\n",
    "count = 0\n",
    "cm = np.zeros((2, 2))\n",
    "for eth, ip, pkt, labels in tqdm(test_loader):\n",
    "    count += 512*128\n",
    "    pred = F.sigmoid(model(ip.cuda(), eth.cuda(), pkt.cuda()))\n",
    "    acc +=  (labels.cuda() == (pred > 0.4)).sum()\n",
    "    cm += confusion_matrix(labels.flatten().cpu(), pred.flatten().cpu().detach() > 0.4)\n",
    "print(acc/count)"
   ],
   "id": "c8c125d8daf29cf4",
   "outputs": [
    {
     "name": "stderr",
     "output_type": "stream",
     "text": [
      "100%|██████████| 527/527 [00:16<00:00, 32.17it/s]"
     ]
    },
    {
     "name": "stdout",
     "output_type": "stream",
     "text": [
      "tensor(0.6079, device='cuda:0')\n"
     ]
    },
    {
     "name": "stderr",
     "output_type": "stream",
     "text": [
      "\n"
     ]
    }
   ],
   "execution_count": 32
  },
  {
   "metadata": {
    "ExecuteTime": {
     "end_time": "2025-05-19T18:26:33.620946Z",
     "start_time": "2025-05-19T18:26:33.618072Z"
    }
   },
   "cell_type": "code",
   "source": "pred.shape",
   "id": "48d65e8cebb66371",
   "outputs": [
    {
     "data": {
      "text/plain": [
       "torch.Size([1, 128])"
      ]
     },
     "execution_count": 57,
     "metadata": {},
     "output_type": "execute_result"
    }
   ],
   "execution_count": 57
  },
  {
   "cell_type": "code",
   "id": "cbb86d86-d72a-4bbb-b539-17297a917536",
   "metadata": {
    "trusted": true,
    "ExecuteTime": {
     "end_time": "2025-05-19T18:25:20.634823Z",
     "start_time": "2025-05-19T18:25:20.632477Z"
    }
   },
   "source": [
    "pred = pred.reshape(-1, 1)\n",
    "labels =  labels.reshape(-1, 1)"
   ],
   "outputs": [],
   "execution_count": 45
  },
  {
   "cell_type": "code",
   "id": "56973ae32a55ba37",
   "metadata": {
    "ExecuteTime": {
     "end_time": "2025-05-19T18:26:12.688717Z",
     "start_time": "2025-05-19T18:26:12.685586Z"
    }
   },
   "source": [
    "loss_fn(pred, labels)"
   ],
   "outputs": [
    {
     "data": {
      "text/plain": [
       "tensor(3.3650, device='cuda:0', grad_fn=<BinaryCrossEntropyBackward0>)"
      ]
     },
     "execution_count": 52,
     "metadata": {},
     "output_type": "execute_result"
    }
   ],
   "execution_count": 52
  },
  {
   "cell_type": "code",
   "id": "ecf715b721e5413d",
   "metadata": {
    "ExecuteTime": {
     "end_time": "2025-05-28T09:31:11.159666Z",
     "start_time": "2025-05-28T09:31:11.067598Z"
    }
   },
   "source": [
    "# Plot with Seaborn\n",
    "# without time shift\n",
    "plt.figure(figsize=(10, 7))\n",
    "sns.heatmap(cm/count, annot=True, fmt='.4f', cmap='Blues')\n",
    "plt.xlabel('Predicted')\n",
    "plt.ylabel('Actual')\n",
    "plt.title('Confusion Matrix - Incident Grade Prediction')\n",
    "plt.show()"
   ],
   "outputs": [
    {
     "data": {
      "text/plain": [
       "<Figure size 1000x700 with 2 Axes>"
      ],
      "image/png": "[encoded data removed]"
     },
     "metadata": {},
     "output_type": "display_data"
    }
   ],
   "execution_count": 33
  },
  {
   "metadata": {
    "ExecuteTime": {
     "end_time": "2025-05-26T19:16:04.967113Z",
     "start_time": "2025-05-26T19:16:04.872582Z"
    }
   },
   "cell_type": "code",
   "source": [
    "# Plot with Seaborn\n",
    "# with time shift\n",
    "plt.figure(figsize=(10, 7))\n",
    "sns.heatmap(cm/count, annot=True, fmt='.4f', cmap='Blues')\n",
    "plt.xlabel('Predicted')\n",
    "plt.ylabel('Actual')\n",
    "plt.title('Confusion Matrix - Incident Grade Prediction')\n",
    "plt.show()"
   ],
   "id": "4296b326262149b7",
   "outputs": [
    {
     "name": "stderr",
     "output_type": "stream",
     "text": [
      "/tmp/ipykernel_26456/1251064625.py:4: RuntimeWarning: divide by zero encountered in divide\n",
      "  sns.heatmap(cm/count, annot=True, fmt='.4f', cmap='Blues')\n"
     ]
    },
    {
     "data": {
      "text/plain": [
       "<Figure size 1000x700 with 2 Axes>"
      ],
      "image/png": "[encoded data removed]"
     },
     "metadata": {},
     "output_type": "display_data"
    }
   ],
   "execution_count": 53
  },
  {
   "metadata": {
    "ExecuteTime": {
     "end_time": "2025-05-19T18:56:26.205221Z",
     "start_time": "2025-05-19T18:55:32.740734Z"
    }
   },
   "cell_type": "code",
   "source": "sns.barplot(df[\"alert\"])",
   "id": "94e984fbc2e095ad",
   "outputs": [
    {
     "ename": "KeyboardInterrupt",
     "evalue": "",
     "output_type": "error",
     "traceback": [
      "\u001B[0;31m---------------------------------------------------------------------------\u001B[0m",
      "\u001B[0;31mKeyboardInterrupt\u001B[0m                         Traceback (most recent call last)",
      "Cell \u001B[0;32mIn [75], line 1\u001B[0m\n\u001B[0;32m----> 1\u001B[0m \u001B[43msns\u001B[49m\u001B[38;5;241;43m.\u001B[39;49m\u001B[43mbarplot\u001B[49m\u001B[43m(\u001B[49m\u001B[43mdf\u001B[49m\u001B[43m[\u001B[49m\u001B[38;5;124;43m\"\u001B[39;49m\u001B[38;5;124;43malert\u001B[39;49m\u001B[38;5;124;43m\"\u001B[39;49m\u001B[43m]\u001B[49m\u001B[43m)\u001B[49m\n",
      "File \u001B[0;32m/usr/local/lib/python3.11/dist-packages/seaborn/categorical.py:2363\u001B[0m, in \u001B[0;36mbarplot\u001B[0;34m(data, x, y, hue, order, hue_order, estimator, errorbar, n_boot, seed, units, weights, orient, color, palette, saturation, fill, hue_norm, width, dodge, gap, log_scale, native_scale, formatter, legend, capsize, err_kws, ci, errcolor, errwidth, ax, **kwargs)\u001B[0m\n\u001B[1;32m   2360\u001B[0m \u001B[38;5;28;01mif\u001B[39;00m p\u001B[38;5;241m.\u001B[39mvar_types\u001B[38;5;241m.\u001B[39mget(p\u001B[38;5;241m.\u001B[39morient) \u001B[38;5;241m==\u001B[39m \u001B[38;5;124m\"\u001B[39m\u001B[38;5;124mcategorical\u001B[39m\u001B[38;5;124m\"\u001B[39m \u001B[38;5;129;01mor\u001B[39;00m \u001B[38;5;129;01mnot\u001B[39;00m native_scale:\n\u001B[1;32m   2361\u001B[0m     p\u001B[38;5;241m.\u001B[39mscale_categorical(p\u001B[38;5;241m.\u001B[39morient, order\u001B[38;5;241m=\u001B[39morder, formatter\u001B[38;5;241m=\u001B[39mformatter)\n\u001B[0;32m-> 2363\u001B[0m \u001B[43mp\u001B[49m\u001B[38;5;241;43m.\u001B[39;49m\u001B[43m_attach\u001B[49m\u001B[43m(\u001B[49m\u001B[43max\u001B[49m\u001B[43m,\u001B[49m\u001B[43m \u001B[49m\u001B[43mlog_scale\u001B[49m\u001B[38;5;241;43m=\u001B[39;49m\u001B[43mlog_scale\u001B[49m\u001B[43m)\u001B[49m\n\u001B[1;32m   2365\u001B[0m \u001B[38;5;66;03m# Deprecations to remove in v0.14.0.\u001B[39;00m\n\u001B[1;32m   2366\u001B[0m hue_order \u001B[38;5;241m=\u001B[39m p\u001B[38;5;241m.\u001B[39m_palette_without_hue_backcompat(palette, hue_order)\n",
      "File \u001B[0;32m/usr/local/lib/python3.11/dist-packages/seaborn/_base.py:1135\u001B[0m, in \u001B[0;36mVectorPlotter._attach\u001B[0;34m(self, obj, allowed_types, log_scale)\u001B[0m\n\u001B[1;32m   1133\u001B[0m                 order \u001B[38;5;241m=\u001B[39m \u001B[38;5;28;01mNone\u001B[39;00m\n\u001B[1;32m   1134\u001B[0m             seed_data \u001B[38;5;241m=\u001B[39m categorical_order(seed_data, order)\n\u001B[0;32m-> 1135\u001B[0m         \u001B[43mconverter\u001B[49m\u001B[38;5;241;43m.\u001B[39;49m\u001B[43mupdate_units\u001B[49m\u001B[43m(\u001B[49m\u001B[43mseed_data\u001B[49m\u001B[43m)\u001B[49m\n\u001B[1;32m   1137\u001B[0m \u001B[38;5;66;03m# -- Set numerical axis scales\u001B[39;00m\n\u001B[1;32m   1138\u001B[0m \n\u001B[1;32m   1139\u001B[0m \u001B[38;5;66;03m# First unpack the log_scale argument\u001B[39;00m\n\u001B[1;32m   1140\u001B[0m \u001B[38;5;28;01mif\u001B[39;00m log_scale \u001B[38;5;129;01mis\u001B[39;00m \u001B[38;5;28;01mNone\u001B[39;00m:\n",
      "File \u001B[0;32m/usr/lib/python3/dist-packages/matplotlib/axis.py:1608\u001B[0m, in \u001B[0;36mAxis.update_units\u001B[0;34m(self, data)\u001B[0m\n\u001B[1;32m   1606\u001B[0m neednew \u001B[38;5;241m=\u001B[39m \u001B[38;5;28mself\u001B[39m\u001B[38;5;241m.\u001B[39mconverter \u001B[38;5;241m!=\u001B[39m converter\n\u001B[1;32m   1607\u001B[0m \u001B[38;5;28mself\u001B[39m\u001B[38;5;241m.\u001B[39mconverter \u001B[38;5;241m=\u001B[39m converter\n\u001B[0;32m-> 1608\u001B[0m default \u001B[38;5;241m=\u001B[39m \u001B[38;5;28;43mself\u001B[39;49m\u001B[38;5;241;43m.\u001B[39;49m\u001B[43mconverter\u001B[49m\u001B[38;5;241;43m.\u001B[39;49m\u001B[43mdefault_units\u001B[49m\u001B[43m(\u001B[49m\u001B[43mdata\u001B[49m\u001B[43m,\u001B[49m\u001B[43m \u001B[49m\u001B[38;5;28;43mself\u001B[39;49m\u001B[43m)\u001B[49m\n\u001B[1;32m   1609\u001B[0m \u001B[38;5;28;01mif\u001B[39;00m default \u001B[38;5;129;01mis\u001B[39;00m \u001B[38;5;129;01mnot\u001B[39;00m \u001B[38;5;28;01mNone\u001B[39;00m \u001B[38;5;129;01mand\u001B[39;00m \u001B[38;5;28mself\u001B[39m\u001B[38;5;241m.\u001B[39munits \u001B[38;5;129;01mis\u001B[39;00m \u001B[38;5;28;01mNone\u001B[39;00m:\n\u001B[1;32m   1610\u001B[0m     \u001B[38;5;28mself\u001B[39m\u001B[38;5;241m.\u001B[39mset_units(default)\n",
      "File \u001B[0;32m/usr/lib/python3/dist-packages/matplotlib/category.py:116\u001B[0m, in \u001B[0;36mStrCategoryConverter.default_units\u001B[0;34m(data, axis)\u001B[0m\n\u001B[1;32m    114\u001B[0m \u001B[38;5;66;03m# the conversion call stack is default_units -> axis_info -> convert\u001B[39;00m\n\u001B[1;32m    115\u001B[0m \u001B[38;5;28;01mif\u001B[39;00m axis\u001B[38;5;241m.\u001B[39munits \u001B[38;5;129;01mis\u001B[39;00m \u001B[38;5;28;01mNone\u001B[39;00m:\n\u001B[0;32m--> 116\u001B[0m     axis\u001B[38;5;241m.\u001B[39mset_units(\u001B[43mUnitData\u001B[49m\u001B[43m(\u001B[49m\u001B[43mdata\u001B[49m\u001B[43m)\u001B[49m)\n\u001B[1;32m    117\u001B[0m \u001B[38;5;28;01melse\u001B[39;00m:\n\u001B[1;32m    118\u001B[0m     axis\u001B[38;5;241m.\u001B[39munits\u001B[38;5;241m.\u001B[39mupdate(data)\n",
      "File \u001B[0;32m/usr/lib/python3/dist-packages/matplotlib/category.py:192\u001B[0m, in \u001B[0;36mUnitData.__init__\u001B[0;34m(self, data)\u001B[0m\n\u001B[1;32m    190\u001B[0m \u001B[38;5;28mself\u001B[39m\u001B[38;5;241m.\u001B[39m_counter \u001B[38;5;241m=\u001B[39m itertools\u001B[38;5;241m.\u001B[39mcount()\n\u001B[1;32m    191\u001B[0m \u001B[38;5;28;01mif\u001B[39;00m data \u001B[38;5;129;01mis\u001B[39;00m \u001B[38;5;129;01mnot\u001B[39;00m \u001B[38;5;28;01mNone\u001B[39;00m:\n\u001B[0;32m--> 192\u001B[0m     \u001B[38;5;28;43mself\u001B[39;49m\u001B[38;5;241;43m.\u001B[39;49m\u001B[43mupdate\u001B[49m\u001B[43m(\u001B[49m\u001B[43mdata\u001B[49m\u001B[43m)\u001B[49m\n",
      "File \u001B[0;32m/usr/lib/python3/dist-packages/matplotlib/category.py:227\u001B[0m, in \u001B[0;36mUnitData.update\u001B[0;34m(self, data)\u001B[0m\n\u001B[1;32m    224\u001B[0m convertible \u001B[38;5;241m=\u001B[39m \u001B[38;5;28;01mTrue\u001B[39;00m\n\u001B[1;32m    225\u001B[0m \u001B[38;5;28;01mfor\u001B[39;00m val \u001B[38;5;129;01min\u001B[39;00m OrderedDict\u001B[38;5;241m.\u001B[39mfromkeys(data):\n\u001B[1;32m    226\u001B[0m     \u001B[38;5;66;03m# OrderedDict just iterates over unique values in data.\u001B[39;00m\n\u001B[0;32m--> 227\u001B[0m     \u001B[43m_api\u001B[49m\u001B[38;5;241;43m.\u001B[39;49m\u001B[43mcheck_isinstance\u001B[49m\u001B[43m(\u001B[49m\u001B[43m(\u001B[49m\u001B[38;5;28;43mstr\u001B[39;49m\u001B[43m,\u001B[49m\u001B[43m \u001B[49m\u001B[38;5;28;43mbytes\u001B[39;49m\u001B[43m)\u001B[49m\u001B[43m,\u001B[49m\u001B[43m \u001B[49m\u001B[43mvalue\u001B[49m\u001B[38;5;241;43m=\u001B[39;49m\u001B[43mval\u001B[49m\u001B[43m)\u001B[49m\n\u001B[1;32m    228\u001B[0m     \u001B[38;5;28;01mif\u001B[39;00m convertible:\n\u001B[1;32m    229\u001B[0m         \u001B[38;5;66;03m# this will only be called so long as convertible is True.\u001B[39;00m\n\u001B[1;32m    230\u001B[0m         convertible \u001B[38;5;241m=\u001B[39m \u001B[38;5;28mself\u001B[39m\u001B[38;5;241m.\u001B[39m_str_is_convertible(val)\n",
      "File \u001B[0;32m/usr/lib/python3/dist-packages/matplotlib/_api/__init__.py:65\u001B[0m, in \u001B[0;36mcheck_isinstance\u001B[0;34m(_types, **kwargs)\u001B[0m\n\u001B[1;32m     58\u001B[0m         \u001B[38;5;28;01mreturn\u001B[39;00m \u001B[38;5;28mself\u001B[39m\u001B[38;5;241m.\u001B[39m_fget\n\u001B[1;32m     61\u001B[0m \u001B[38;5;66;03m# In the following check_foo() functions, the first parameter starts with an\u001B[39;00m\n\u001B[1;32m     62\u001B[0m \u001B[38;5;66;03m# underscore because it is intended to be positional-only (e.g., so that\u001B[39;00m\n\u001B[1;32m     63\u001B[0m \u001B[38;5;66;03m# `_api.check_isinstance([...], types=foo)` doesn't fail.\u001B[39;00m\n\u001B[0;32m---> 65\u001B[0m \u001B[38;5;28;01mdef\u001B[39;00m \u001B[38;5;21mcheck_isinstance\u001B[39m(_types, \u001B[38;5;241m*\u001B[39m\u001B[38;5;241m*\u001B[39mkwargs):\n\u001B[1;32m     66\u001B[0m \u001B[38;5;250m    \u001B[39m\u001B[38;5;124;03m\"\"\"\u001B[39;00m\n\u001B[1;32m     67\u001B[0m \u001B[38;5;124;03m    For each *key, value* pair in *kwargs*, check that *value* is an instance\u001B[39;00m\n\u001B[1;32m     68\u001B[0m \u001B[38;5;124;03m    of one of *_types*; if not, raise an appropriate TypeError.\u001B[39;00m\n\u001B[0;32m   (...)\u001B[0m\n\u001B[1;32m     74\u001B[0m \u001B[38;5;124;03m    >>> _api.check_isinstance((SomeClass, None), arg=arg)\u001B[39;00m\n\u001B[1;32m     75\u001B[0m \u001B[38;5;124;03m    \"\"\"\u001B[39;00m\n\u001B[1;32m     76\u001B[0m     types \u001B[38;5;241m=\u001B[39m _types\n",
      "\u001B[0;31mKeyboardInterrupt\u001B[0m: "
     ]
    },
    {
     "data": {
      "text/plain": [
       "<Figure size 640x480 with 1 Axes>"
      ],
      "image/png": "[encoded data removed]"
     },
     "metadata": {},
     "output_type": "display_data"
    }
   ],
   "execution_count": 75
  },
  {
   "cell_type": "code",
   "id": "5058ccee-9b42-438a-9bf4-8dd1543e593d",
   "metadata": {
    "trusted": true,
    "ExecuteTime": {
     "end_time": "2025-05-26T19:15:53.547041Z",
     "start_time": "2025-05-26T19:15:53.507628Z"
    }
   },
   "source": [
    "#ROC Curve\n",
    "fpr, tpr, thresholds = roc_curve(labels.cpu(), pred.cpu())\n",
    "plt.figure(figsize=(8, 6))\n",
    "plt.plot(fpr, tpr, color='blue', lw=2, label='ROC curve (area = %0.4f)' % roc_auc_score(y_test, y_pred))\n",
    "plt.plot([0, 1], [0, 1], color='navy', lw=2, linestyle='--')\n",
    "plt.xlim([0.0, 1.0])\n",
    "plt.ylim([0.0, 1.05])\n",
    "plt.xlabel('False Positive Rate')\n",
    "plt.ylabel('True Positive Rate')\n",
    "# plt.title('Receiver Operating Characteristic (ROC) Curve')\n",
    "plt.legend(loc=\"lower right\")\n",
    "plt.show()"
   ],
   "outputs": [
    {
     "ename": "ValueError",
     "evalue": "multilabel-indicator format is not supported",
     "output_type": "error",
     "traceback": [
      "\u001B[0;31m---------------------------------------------------------------------------\u001B[0m",
      "\u001B[0;31mValueError\u001B[0m                                Traceback (most recent call last)",
      "Cell \u001B[0;32mIn [52], line 2\u001B[0m\n\u001B[1;32m      1\u001B[0m \u001B[38;5;66;03m#ROC Curve\u001B[39;00m\n\u001B[0;32m----> 2\u001B[0m fpr, tpr, thresholds \u001B[38;5;241m=\u001B[39m \u001B[43mroc_curve\u001B[49m\u001B[43m(\u001B[49m\u001B[43mlabels\u001B[49m\u001B[38;5;241;43m.\u001B[39;49m\u001B[43mcpu\u001B[49m\u001B[43m(\u001B[49m\u001B[43m)\u001B[49m\u001B[43m,\u001B[49m\u001B[43m \u001B[49m\u001B[43mpred\u001B[49m\u001B[38;5;241;43m.\u001B[39;49m\u001B[43mcpu\u001B[49m\u001B[43m(\u001B[49m\u001B[43m)\u001B[49m\u001B[43m)\u001B[49m\n\u001B[1;32m      3\u001B[0m plt\u001B[38;5;241m.\u001B[39mfigure(figsize\u001B[38;5;241m=\u001B[39m(\u001B[38;5;241m8\u001B[39m, \u001B[38;5;241m6\u001B[39m))\n\u001B[1;32m      4\u001B[0m plt\u001B[38;5;241m.\u001B[39mplot(fpr, tpr, color\u001B[38;5;241m=\u001B[39m\u001B[38;5;124m'\u001B[39m\u001B[38;5;124mblue\u001B[39m\u001B[38;5;124m'\u001B[39m, lw\u001B[38;5;241m=\u001B[39m\u001B[38;5;241m2\u001B[39m, label\u001B[38;5;241m=\u001B[39m\u001B[38;5;124m'\u001B[39m\u001B[38;5;124mROC curve (area = \u001B[39m\u001B[38;5;132;01m%0.4f\u001B[39;00m\u001B[38;5;124m)\u001B[39m\u001B[38;5;124m'\u001B[39m \u001B[38;5;241m%\u001B[39m roc_auc_score(y_test, y_pred))\n",
      "File \u001B[0;32m/usr/local/lib/python3.11/dist-packages/sklearn/utils/_param_validation.py:213\u001B[0m, in \u001B[0;36mvalidate_params.<locals>.decorator.<locals>.wrapper\u001B[0;34m(*args, **kwargs)\u001B[0m\n\u001B[1;32m    207\u001B[0m \u001B[38;5;28;01mtry\u001B[39;00m:\n\u001B[1;32m    208\u001B[0m     \u001B[38;5;28;01mwith\u001B[39;00m config_context(\n\u001B[1;32m    209\u001B[0m         skip_parameter_validation\u001B[38;5;241m=\u001B[39m(\n\u001B[1;32m    210\u001B[0m             prefer_skip_nested_validation \u001B[38;5;129;01mor\u001B[39;00m global_skip_validation\n\u001B[1;32m    211\u001B[0m         )\n\u001B[1;32m    212\u001B[0m     ):\n\u001B[0;32m--> 213\u001B[0m         \u001B[38;5;28;01mreturn\u001B[39;00m \u001B[43mfunc\u001B[49m\u001B[43m(\u001B[49m\u001B[38;5;241;43m*\u001B[39;49m\u001B[43margs\u001B[49m\u001B[43m,\u001B[49m\u001B[43m \u001B[49m\u001B[38;5;241;43m*\u001B[39;49m\u001B[38;5;241;43m*\u001B[39;49m\u001B[43mkwargs\u001B[49m\u001B[43m)\u001B[49m\n\u001B[1;32m    214\u001B[0m \u001B[38;5;28;01mexcept\u001B[39;00m InvalidParameterError \u001B[38;5;28;01mas\u001B[39;00m e:\n\u001B[1;32m    215\u001B[0m     \u001B[38;5;66;03m# When the function is just a wrapper around an estimator, we allow\u001B[39;00m\n\u001B[1;32m    216\u001B[0m     \u001B[38;5;66;03m# the function to delegate validation to the estimator, but we replace\u001B[39;00m\n\u001B[1;32m    217\u001B[0m     \u001B[38;5;66;03m# the name of the estimator by the name of the function in the error\u001B[39;00m\n\u001B[1;32m    218\u001B[0m     \u001B[38;5;66;03m# message to avoid confusion.\u001B[39;00m\n\u001B[1;32m    219\u001B[0m     msg \u001B[38;5;241m=\u001B[39m re\u001B[38;5;241m.\u001B[39msub(\n\u001B[1;32m    220\u001B[0m         \u001B[38;5;124mr\u001B[39m\u001B[38;5;124m\"\u001B[39m\u001B[38;5;124mparameter of \u001B[39m\u001B[38;5;124m\\\u001B[39m\u001B[38;5;124mw+ must be\u001B[39m\u001B[38;5;124m\"\u001B[39m,\n\u001B[1;32m    221\u001B[0m         \u001B[38;5;124mf\u001B[39m\u001B[38;5;124m\"\u001B[39m\u001B[38;5;124mparameter of \u001B[39m\u001B[38;5;132;01m{\u001B[39;00mfunc\u001B[38;5;241m.\u001B[39m\u001B[38;5;18m__qualname__\u001B[39m\u001B[38;5;132;01m}\u001B[39;00m\u001B[38;5;124m must be\u001B[39m\u001B[38;5;124m\"\u001B[39m,\n\u001B[1;32m    222\u001B[0m         \u001B[38;5;28mstr\u001B[39m(e),\n\u001B[1;32m    223\u001B[0m     )\n",
      "File \u001B[0;32m/usr/local/lib/python3.11/dist-packages/sklearn/metrics/_ranking.py:1145\u001B[0m, in \u001B[0;36mroc_curve\u001B[0;34m(y_true, y_score, pos_label, sample_weight, drop_intermediate)\u001B[0m\n\u001B[1;32m   1043\u001B[0m \u001B[38;5;129m@validate_params\u001B[39m(\n\u001B[1;32m   1044\u001B[0m     {\n\u001B[1;32m   1045\u001B[0m         \u001B[38;5;124m\"\u001B[39m\u001B[38;5;124my_true\u001B[39m\u001B[38;5;124m\"\u001B[39m: [\u001B[38;5;124m\"\u001B[39m\u001B[38;5;124marray-like\u001B[39m\u001B[38;5;124m\"\u001B[39m],\n\u001B[0;32m   (...)\u001B[0m\n\u001B[1;32m   1054\u001B[0m     y_true, y_score, \u001B[38;5;241m*\u001B[39m, pos_label\u001B[38;5;241m=\u001B[39m\u001B[38;5;28;01mNone\u001B[39;00m, sample_weight\u001B[38;5;241m=\u001B[39m\u001B[38;5;28;01mNone\u001B[39;00m, drop_intermediate\u001B[38;5;241m=\u001B[39m\u001B[38;5;28;01mTrue\u001B[39;00m\n\u001B[1;32m   1055\u001B[0m ):\n\u001B[1;32m   1056\u001B[0m \u001B[38;5;250m    \u001B[39m\u001B[38;5;124;03m\"\"\"Compute Receiver operating characteristic (ROC).\u001B[39;00m\n\u001B[1;32m   1057\u001B[0m \n\u001B[1;32m   1058\u001B[0m \u001B[38;5;124;03m    Note: this implementation is restricted to the binary classification task.\u001B[39;00m\n\u001B[0;32m   (...)\u001B[0m\n\u001B[1;32m   1143\u001B[0m \u001B[38;5;124;03m    array([ inf, 0.8 , 0.4 , 0.35, 0.1 ])\u001B[39;00m\n\u001B[1;32m   1144\u001B[0m \u001B[38;5;124;03m    \"\"\"\u001B[39;00m\n\u001B[0;32m-> 1145\u001B[0m     fps, tps, thresholds \u001B[38;5;241m=\u001B[39m \u001B[43m_binary_clf_curve\u001B[49m\u001B[43m(\u001B[49m\n\u001B[1;32m   1146\u001B[0m \u001B[43m        \u001B[49m\u001B[43my_true\u001B[49m\u001B[43m,\u001B[49m\u001B[43m \u001B[49m\u001B[43my_score\u001B[49m\u001B[43m,\u001B[49m\u001B[43m \u001B[49m\u001B[43mpos_label\u001B[49m\u001B[38;5;241;43m=\u001B[39;49m\u001B[43mpos_label\u001B[49m\u001B[43m,\u001B[49m\u001B[43m \u001B[49m\u001B[43msample_weight\u001B[49m\u001B[38;5;241;43m=\u001B[39;49m\u001B[43msample_weight\u001B[49m\n\u001B[1;32m   1147\u001B[0m \u001B[43m    \u001B[49m\u001B[43m)\u001B[49m\n\u001B[1;32m   1149\u001B[0m     \u001B[38;5;66;03m# Attempt to drop thresholds corresponding to points in between and\u001B[39;00m\n\u001B[1;32m   1150\u001B[0m     \u001B[38;5;66;03m# collinear with other points. These are always suboptimal and do not\u001B[39;00m\n\u001B[1;32m   1151\u001B[0m     \u001B[38;5;66;03m# appear on a plotted ROC curve (and thus do not affect the AUC).\u001B[39;00m\n\u001B[0;32m   (...)\u001B[0m\n\u001B[1;32m   1156\u001B[0m     \u001B[38;5;66;03m# but does not drop more complicated cases like fps = [1, 3, 7],\u001B[39;00m\n\u001B[1;32m   1157\u001B[0m     \u001B[38;5;66;03m# tps = [1, 2, 4]; there is no harm in keeping too many thresholds.\u001B[39;00m\n\u001B[1;32m   1158\u001B[0m     \u001B[38;5;28;01mif\u001B[39;00m drop_intermediate \u001B[38;5;129;01mand\u001B[39;00m \u001B[38;5;28mlen\u001B[39m(fps) \u001B[38;5;241m>\u001B[39m \u001B[38;5;241m2\u001B[39m:\n",
      "File \u001B[0;32m/usr/local/lib/python3.11/dist-packages/sklearn/metrics/_ranking.py:817\u001B[0m, in \u001B[0;36m_binary_clf_curve\u001B[0;34m(y_true, y_score, pos_label, sample_weight)\u001B[0m\n\u001B[1;32m    815\u001B[0m y_type \u001B[38;5;241m=\u001B[39m type_of_target(y_true, input_name\u001B[38;5;241m=\u001B[39m\u001B[38;5;124m\"\u001B[39m\u001B[38;5;124my_true\u001B[39m\u001B[38;5;124m\"\u001B[39m)\n\u001B[1;32m    816\u001B[0m \u001B[38;5;28;01mif\u001B[39;00m \u001B[38;5;129;01mnot\u001B[39;00m (y_type \u001B[38;5;241m==\u001B[39m \u001B[38;5;124m\"\u001B[39m\u001B[38;5;124mbinary\u001B[39m\u001B[38;5;124m\"\u001B[39m \u001B[38;5;129;01mor\u001B[39;00m (y_type \u001B[38;5;241m==\u001B[39m \u001B[38;5;124m\"\u001B[39m\u001B[38;5;124mmulticlass\u001B[39m\u001B[38;5;124m\"\u001B[39m \u001B[38;5;129;01mand\u001B[39;00m pos_label \u001B[38;5;129;01mis\u001B[39;00m \u001B[38;5;129;01mnot\u001B[39;00m \u001B[38;5;28;01mNone\u001B[39;00m)):\n\u001B[0;32m--> 817\u001B[0m     \u001B[38;5;28;01mraise\u001B[39;00m \u001B[38;5;167;01mValueError\u001B[39;00m(\u001B[38;5;124m\"\u001B[39m\u001B[38;5;132;01m{0}\u001B[39;00m\u001B[38;5;124m format is not supported\u001B[39m\u001B[38;5;124m\"\u001B[39m\u001B[38;5;241m.\u001B[39mformat(y_type))\n\u001B[1;32m    819\u001B[0m check_consistent_length(y_true, y_score, sample_weight)\n\u001B[1;32m    820\u001B[0m y_true \u001B[38;5;241m=\u001B[39m column_or_1d(y_true)\n",
      "\u001B[0;31mValueError\u001B[0m: multilabel-indicator format is not supported"
     ]
    }
   ],
   "execution_count": 52
  },
  {
   "metadata": {},
   "cell_type": "code",
   "outputs": [],
   "execution_count": null,
   "source": "",
   "id": "10ea9fb073346ac3"
  }
 ],
 "metadata": {
  "kaggle": {
   "accelerator": "gpu",
   "dataSources": [
    {
     "datasetId": 7445389,
     "sourceId": 11849365,
     "sourceType": "datasetVersion"
    }
   ],
   "dockerImageVersionId": 31040,
   "isGpuEnabled": true,
   "isInternetEnabled": true,
   "language": "python",
   "sourceType": "notebook"
  },
  "kernelspec": {
   "display_name": "Python 3",
   "language": "python",
   "name": "python3"
  },
  "language_info": {
   "codemirror_mode": {
    "name": "ipython",
    "version": 3
   },
   "file_extension": ".py",
   "mimetype": "text/x-python",
   "name": "python",
   "nbconvert_exporter": "python",
   "pygments_lexer": "ipython3",
   "version": "3.11.11"
  }
 },
 "nbformat": 4,
 "nbformat_minor": 5
}
