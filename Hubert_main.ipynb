{
 "cells": [
  {
   "cell_type": "code",
   "execution_count": 1,
   "id": "initial_id",
   "metadata": {
    "ExecuteTime": {
     "end_time": "2025-05-09T16:48:11.194246Z",
     "start_time": "2025-05-09T16:48:08.872031Z"
    },
    "execution": {
     "iopub.execute_input": "2025-05-18T11:05:15.858713Z",
     "iopub.status.busy": "2025-05-18T11:05:15.857998Z",
     "iopub.status.idle": "2025-05-18T11:05:18.779258Z",
     "shell.execute_reply": "2025-05-18T11:05:18.778504Z",
     "shell.execute_reply.started": "2025-05-18T11:05:15.858685Z"
    },
    "trusted": true
   },
   "outputs": [
    {
     "name": "stdout",
     "output_type": "stream",
     "text": [
      "/kaggle/input/aaaaaaaaaa/Video_Injection_X_train.csv\n",
      "/kaggle/input/aaaaaaaaaa/ARP_MitM_y_val.csv\n",
      "/kaggle/input/aaaaaaaaaa/OS_Scan_X_train.csv\n",
      "/kaggle/input/aaaaaaaaaa/ARP_MitM_X_train.csv\n",
      "/kaggle/input/aaaaaaaaaa/SSDP_Flood_X_train.csv\n",
      "/kaggle/input/aaaaaaaaaa/mirai_X_train.csv\n",
      "/kaggle/input/aaaaaaaaaa/mirai_y_val.csv\n",
      "/kaggle/input/aaaaaaaaaa/SYN_DoS_X_train.csv\n",
      "/kaggle/input/aaaaaaaaaa/Fuzzing_X_val.csv\n",
      "/kaggle/input/aaaaaaaaaa/OS_Scan_y_val.csv\n",
      "/kaggle/input/aaaaaaaaaa/Fuzzing_y_train.csv\n",
      "/kaggle/input/aaaaaaaaaa/ARP_MitM_X_val.csv\n",
      "/kaggle/input/aaaaaaaaaa/Video_Injection_y_val.csv\n",
      "/kaggle/input/aaaaaaaaaa/Active_Wiretap_y_val.csv\n",
      "/kaggle/input/aaaaaaaaaa/SSL_Renegotiation_X_val.csv\n",
      "/kaggle/input/aaaaaaaaaa/ARP_MitM_y_train.csv\n",
      "/kaggle/input/aaaaaaaaaa/SYN_DoS_X_val.csv\n",
      "/kaggle/input/aaaaaaaaaa/OS_Scan_X_val.csv\n",
      "/kaggle/input/aaaaaaaaaa/Active_Wiretap_y_train.csv\n",
      "/kaggle/input/aaaaaaaaaa/SSDP_Flood_y_val.csv\n",
      "/kaggle/input/aaaaaaaaaa/mirai_y_train.csv\n",
      "/kaggle/input/aaaaaaaaaa/SYN_DoS_y_train.csv\n",
      "/kaggle/input/aaaaaaaaaa/Fuzzing_X_train.csv\n",
      "/kaggle/input/aaaaaaaaaa/SSL_Renegotiation_y_train.csv\n",
      "/kaggle/input/aaaaaaaaaa/SSDP_Flood_X_val.csv\n",
      "/kaggle/input/aaaaaaaaaa/SSL_Renegotiation_y_val.csv\n",
      "/kaggle/input/aaaaaaaaaa/Video_Injection_y_train.csv\n",
      "/kaggle/input/aaaaaaaaaa/SSL_Renegotiation_X_train.csv\n",
      "/kaggle/input/aaaaaaaaaa/Active_Wiretap_X_val.csv\n",
      "/kaggle/input/aaaaaaaaaa/mirai_X_val.csv\n",
      "/kaggle/input/aaaaaaaaaa/Active_Wiretap_X_train.csv\n",
      "/kaggle/input/aaaaaaaaaa/SSDP_Flood_y_train.csv\n",
      "/kaggle/input/aaaaaaaaaa/SYN_DoS_y_val.csv\n",
      "/kaggle/input/aaaaaaaaaa/Fuzzing_y_val.csv\n",
      "/kaggle/input/aaaaaaaaaa/Video_Injection_X_val.csv\n",
      "/kaggle/input/aaaaaaaaaa/OS_Scan_y_train.csv\n"
     ]
    }
   ],
   "source": [
    "import matplotlib.pyplot as plt\n",
    "import pandas as pd\n",
    "import numpy as np\n",
    "import torch\n",
    "from torch import nn\n",
    "from torch.nn import functional as F\n",
    "import gc\n",
    "from sklearn.metrics import confusion_matrix, roc_curve \n",
    "import matplotlib.pyplot as plt\n",
    "import seaborn as sns\n",
    "\n",
    "pd.set_option('display.max_colwidth', None)\n",
    "pd.set_option('future.no_silent_downcasting', True)\n",
    "\n",
    "\n",
    "import os\n",
    "for dirname, _, filenames in os.walk('/kaggle/input'):\n",
    "    for filename in filenames:\n",
    "        print(os.path.join(dirname, filename))\n",
    "# df = pd.read_csv(\"output_adam.csv\")\n",
    "# df_label = pd.read_csv(\"mirai_labels.csv\")\n",
    "# df[\"alert\"] = df_label\n",
    "# df.head()"
   ]
  },
  {
   "cell_type": "code",
   "execution_count": null,
   "id": "5c87eab2",
   "metadata": {},
   "outputs": [],
   "source": [
    "df = pd.read_csv(\"df_train.csv\")"
   ]
  },
  {
   "cell_type": "code",
   "execution_count": 5,
   "id": "64bfe58b",
   "metadata": {
    "execution": {
     "iopub.execute_input": "2025-05-18T08:16:07.672856Z",
     "iopub.status.busy": "2025-05-18T08:16:07.672639Z",
     "iopub.status.idle": "2025-05-18T08:16:07.677478Z",
     "shell.execute_reply": "2025-05-18T08:16:07.676847Z",
     "shell.execute_reply.started": "2025-05-18T08:16:07.672839Z"
    },
    "trusted": true
   },
   "outputs": [
    {
     "data": {
      "text/plain": [
       "(16814071, (16814071, 75))"
      ]
     },
     "execution_count": 5,
     "metadata": {},
     "output_type": "execute_result"
    }
   ],
   "source": [
    "num_rows, df.shape"
   ]
  },
  {
   "cell_type": "code",
   "execution_count": 5,
   "id": "0cb0bacb-b9f6-490a-8fd8-aa6000ea9125",
   "metadata": {
    "execution": {
     "iopub.execute_input": "2025-05-18T11:11:51.139552Z",
     "iopub.status.busy": "2025-05-18T11:11:51.139001Z",
     "iopub.status.idle": "2025-05-18T11:11:51.145451Z",
     "shell.execute_reply": "2025-05-18T11:11:51.144847Z",
     "shell.execute_reply.started": "2025-05-18T11:11:51.139526Z"
    },
    "trusted": true
   },
   "outputs": [
    {
     "data": {
      "text/plain": [
       "Index(['index', 'frame.number', 'frame.len', 'frame.time', 'frame.time_epoch',\n",
       "       'frame.protocols', 'eth.src', 'eth.dst', 'eth.type', 'ip.src', 'ip.dst',\n",
       "       'ip.len', 'ip.ttl', 'ip.flags', 'ip.frag_offset', 'ip.proto',\n",
       "       'ip.version', 'ip.dsfield', 'ip.checksum', 'tcp.srcport', 'tcp.dstport',\n",
       "       'tcp.len', 'tcp.seq', 'tcp.ack', 'tcp.flags', 'tcp.flags.syn',\n",
       "       'tcp.flags.ack', 'tcp.flags.fin', 'tcp.flags.reset', 'tcp.window_size',\n",
       "       'tcp.checksum', 'tcp.stream', 'udp.srcport', 'udp.dstport',\n",
       "       'udp.length', 'udp.checksum', 'icmp.type', 'icmp.code', 'icmp.checksum',\n",
       "       'http.request.method', 'http.request.uri', 'http.request.version',\n",
       "       'http.request.full_uri', 'http.response.code', 'http.user_agent',\n",
       "       'http.content_length_header', 'http.content_type', 'http.cookie',\n",
       "       'http.host', 'http.referer', 'http.location', 'http.authorization',\n",
       "       'http.connection', 'dns.qry.name', 'dns.qry.type', 'dns.qry.class',\n",
       "       'dns.flags.response', 'dns.flags.recdesired', 'dns.flags.rcode',\n",
       "       'dns.resp.ttl', 'dns.resp.len', 'smtp.req.command',\n",
       "       'smtp.data.fragment', 'pop.request.command', 'pop.response',\n",
       "       'imap.request.command', 'imap.response', 'ftp.request.command',\n",
       "       'ftp.request.arg', 'ftp.response.code', 'ftp.response.arg', 'ipv6.src',\n",
       "       'ipv6.dst', 'ipv6.plen', 'alert'],\n",
       "      dtype='object')"
      ]
     },
     "execution_count": 5,
     "metadata": {},
     "output_type": "execute_result"
    }
   ],
   "source": [
    "df.columns"
   ]
  },
  {
   "cell_type": "code",
   "execution_count": 6,
   "id": "aa40edf8aa893d58",
   "metadata": {
    "ExecuteTime": {
     "end_time": "2025-05-08T14:14:45.801074Z",
     "start_time": "2025-05-08T14:14:45.569646Z"
    },
    "execution": {
     "iopub.execute_input": "2025-05-18T08:16:07.678873Z",
     "iopub.status.busy": "2025-05-18T08:16:07.678245Z",
     "iopub.status.idle": "2025-05-18T08:16:07.695729Z",
     "shell.execute_reply": "2025-05-18T08:16:07.695209Z",
     "shell.execute_reply.started": "2025-05-18T08:16:07.678854Z"
    },
    "trusted": true
   },
   "outputs": [
    {
     "data": {
      "text/plain": [
       "'Feb 20, 2017 14:22:01.035897000 Środkowoeuropejski czas stand.'"
      ]
     },
     "execution_count": 6,
     "metadata": {},
     "output_type": "execute_result"
    }
   ],
   "source": [
    "df[\"frame.time\"].iloc[1]"
   ]
  },
  {
   "cell_type": "code",
   "execution_count": 4,
   "id": "f2805f29433b2064",
   "metadata": {
    "ExecuteTime": {
     "end_time": "2025-05-09T16:48:11.497684Z",
     "start_time": "2025-05-09T16:48:11.495179Z"
    },
    "execution": {
     "iopub.execute_input": "2025-05-18T09:23:38.932858Z",
     "iopub.status.busy": "2025-05-18T09:23:38.932634Z",
     "iopub.status.idle": "2025-05-18T09:23:38.938339Z",
     "shell.execute_reply": "2025-05-18T09:23:38.937572Z",
     "shell.execute_reply.started": "2025-05-18T09:23:38.932838Z"
    },
    "trusted": true
   },
   "outputs": [],
   "source": [
    "def ordinalize_packets(packet_data, column=\"ip\"):\n",
    "    src_col = f\"{column}.src\"\n",
    "    dst_col = f\"{column}.dst\"\n",
    "    if 'frame.number' not in packet_data.columns or src_col not in packet_data.columns or dst_col not in packet_data.columns:\n",
    "        raise ValueError(\"DataFrame must contain 'frame.number' and  columns\")\n",
    "\n",
    "    out_src = packet_data.reset_index().groupby([src_col])['index'].min()\n",
    "    out_dst = packet_data.reset_index().groupby([dst_col])['index'].min() + 0.5\n",
    "    out = pd.concat([out_src, out_dst], axis=0).sort_values()\n",
    "    out = out[~out.index.duplicated(keep='first')]\n",
    "    out.iloc[:] = out.reset_index(name=\"ip\").index\n",
    "    out = out.astype(int)\n",
    "    mappings = out.to_dict()\n",
    "    return mappings\n",
    "    #packet_data.loc[:, src_col] = packet_data[src_col].replace(mappings).astype(int)\n",
    "    #packet_data.loc[:, dst_col] = packet_data[dst_col].replace(mappings).astype(int)"
   ]
  },
  {
   "cell_type": "code",
   "execution_count": 5,
   "id": "b133fe80ff57d37f",
   "metadata": {
    "ExecuteTime": {
     "end_time": "2025-05-09T16:48:14.074201Z",
     "start_time": "2025-05-09T16:48:12.577461Z"
    },
    "execution": {
     "iopub.execute_input": "2025-05-18T09:23:38.939376Z",
     "iopub.status.busy": "2025-05-18T09:23:38.939166Z",
     "iopub.status.idle": "2025-05-18T09:25:39.536727Z",
     "shell.execute_reply": "2025-05-18T09:25:39.536114Z",
     "shell.execute_reply.started": "2025-05-18T09:23:38.939359Z"
    },
    "trusted": true
   },
   "outputs": [
    {
     "name": "stderr",
     "output_type": "stream",
     "text": [
      "/usr/local/lib/python3.11/dist-packages/pandas/core/arraylike.py:399: RuntimeWarning: invalid value encountered in sin\n",
      "  result = getattr(ufunc, method)(*inputs, **kwargs)\n",
      "/usr/local/lib/python3.11/dist-packages/pandas/core/arraylike.py:399: RuntimeWarning: invalid value encountered in cos\n",
      "  result = getattr(ufunc, method)(*inputs, **kwargs)\n",
      "/usr/local/lib/python3.11/dist-packages/pandas/core/arraylike.py:399: RuntimeWarning: invalid value encountered in sin\n",
      "  result = getattr(ufunc, method)(*inputs, **kwargs)\n",
      "/usr/local/lib/python3.11/dist-packages/pandas/core/arraylike.py:399: RuntimeWarning: invalid value encountered in cos\n",
      "  result = getattr(ufunc, method)(*inputs, **kwargs)\n",
      "/usr/local/lib/python3.11/dist-packages/pandas/core/arraylike.py:399: RuntimeWarning: invalid value encountered in sin\n",
      "  result = getattr(ufunc, method)(*inputs, **kwargs)\n",
      "/usr/local/lib/python3.11/dist-packages/pandas/core/arraylike.py:399: RuntimeWarning: invalid value encountered in cos\n",
      "  result = getattr(ufunc, method)(*inputs, **kwargs)\n",
      "/usr/local/lib/python3.11/dist-packages/pandas/core/arraylike.py:399: RuntimeWarning: invalid value encountered in sin\n",
      "  result = getattr(ufunc, method)(*inputs, **kwargs)\n",
      "/usr/local/lib/python3.11/dist-packages/pandas/core/arraylike.py:399: RuntimeWarning: invalid value encountered in cos\n",
      "  result = getattr(ufunc, method)(*inputs, **kwargs)\n",
      "/usr/local/lib/python3.11/dist-packages/pandas/core/arraylike.py:399: RuntimeWarning: invalid value encountered in sin\n",
      "  result = getattr(ufunc, method)(*inputs, **kwargs)\n",
      "/usr/local/lib/python3.11/dist-packages/pandas/core/arraylike.py:399: RuntimeWarning: invalid value encountered in cos\n",
      "  result = getattr(ufunc, method)(*inputs, **kwargs)\n"
     ]
    }
   ],
   "source": [
    "features = [\"frame.number\", \"frame.len\", 'frame.time', 'eth.src', 'eth.dst', 'ip.src', 'ip.dst', 'ip.len', 'ip.ttl',\n",
    "            'tcp.srcport', 'tcp.dstport',\n",
    "            'tcp.flags.ack', 'tcp.flags.fin', 'tcp.flags.reset', \"alert\", \"udp.srcport\", \"udp.dstport\"]\n",
    "df = df[features]\n",
    "df[\"frame.len\"] /= 65535\n",
    "df[\"ip.len\"] /= 65535\n",
    "df[\"ip.ttl\"] /= 255\n",
    "df[\"tcp.srcport\"] /= 65535\n",
    "df[\"tcp.dstport\"] /= 65535\n",
    "df[\"udp.srcport\"] /= 65535\n",
    "df[\"udp.dstport\"] /= 65535\n",
    "df[\"frame.time\"] = df[\"frame.time\"].str.replace(\" Środkowoeuropejski czas letni\", \"\")#mój PCAP był po POlsku Pudzian byłby dumny :peepoGlad# CEST\n",
    "df[\"frame.time\"] = df[\"frame.time\"].str.replace(\" Środkowoeuropejski czas stand.\", \"\")\n",
    "df[\"frame.time\"] = df[\"frame.time\"].str.replace(\" CEST\", \"\")\n",
    "df[\"frame.time\"] = pd.to_datetime(df[\"frame.time\"])\n",
    "df['dow_sin'] = np.sin(2 * np.pi * df[\"frame.time\"].dt.dayofweek / 6)\n",
    "df['dow_cos'] = np.cos(2 * np.pi * df[\"frame.time\"].dt.dayofweek / 6)\n",
    "df['hour_sin'] = np.sin(2 * np.pi * df[\"frame.time\"].dt.hour / 24.0)\n",
    "df['hour_cos'] = np.cos(2 * np.pi * df[\"frame.time\"].dt.hour / 24.0)\n",
    "df[\"minute_sin\"] = np.sin(2 * np.pi * df[\"frame.time\"].dt.minute / 60)\n",
    "df[\"minute_cos\"] = np.cos(2 * np.pi * df[\"frame.time\"].dt.minute / 60)\n",
    "df[\"second_sin\"] = np.sin(2 * np.pi * df[\"frame.time\"].dt.second / 60)\n",
    "df[\"second_cos\"] = np.cos(2 * np.pi * df[\"frame.time\"].dt.second / 60)\n",
    "df[\"ms_sin\"] = np.sin(2 * np.pi * df[\"frame.time\"].dt.microsecond / 1000000)\n",
    "df[\"ms_cos\"] = np.cos(2 * np.pi * df[\"frame.time\"].dt.microsecond / 1000000)\n",
    "df = df.fillna(0)  # only tcp is left\n",
    "df = df.drop(columns=[\"frame.time\"])"
   ]
  },
  {
   "cell_type": "code",
   "execution_count": 9,
   "id": "b00bed62249b360f",
   "metadata": {
    "ExecuteTime": {
     "end_time": "2025-05-09T16:23:24.698890Z",
     "start_time": "2025-05-09T16:23:24.691752Z"
    },
    "execution": {
     "iopub.execute_input": "2025-05-18T08:18:09.878167Z",
     "iopub.status.busy": "2025-05-18T08:18:09.877901Z",
     "iopub.status.idle": "2025-05-18T08:18:09.907162Z",
     "shell.execute_reply": "2025-05-18T08:18:09.906631Z",
     "shell.execute_reply.started": "2025-05-18T08:18:09.878139Z"
    },
    "trusted": true
   },
   "outputs": [
    {
     "data": {
      "text/html": [
       "<div>\n",
       "<style scoped>\n",
       "    .dataframe tbody tr th:only-of-type {\n",
       "        vertical-align: middle;\n",
       "    }\n",
       "\n",
       "    .dataframe tbody tr th {\n",
       "        vertical-align: top;\n",
       "    }\n",
       "\n",
       "    .dataframe thead th {\n",
       "        text-align: right;\n",
       "    }\n",
       "</style>\n",
       "<table border=\"1\" class=\"dataframe\">\n",
       "  <thead>\n",
       "    <tr style=\"text-align: right;\">\n",
       "      <th></th>\n",
       "      <th>frame.number</th>\n",
       "      <th>frame.len</th>\n",
       "      <th>eth.src</th>\n",
       "      <th>eth.dst</th>\n",
       "      <th>ip.src</th>\n",
       "      <th>ip.dst</th>\n",
       "      <th>ip.len</th>\n",
       "      <th>ip.ttl</th>\n",
       "      <th>tcp.srcport</th>\n",
       "      <th>tcp.dstport</th>\n",
       "      <th>...</th>\n",
       "      <th>dow_sin</th>\n",
       "      <th>dow_cos</th>\n",
       "      <th>hour_sin</th>\n",
       "      <th>hour_cos</th>\n",
       "      <th>minute_sin</th>\n",
       "      <th>minute_cos</th>\n",
       "      <th>second_sin</th>\n",
       "      <th>second_cos</th>\n",
       "      <th>ms_sin</th>\n",
       "      <th>ms_cos</th>\n",
       "    </tr>\n",
       "  </thead>\n",
       "  <tbody>\n",
       "    <tr>\n",
       "      <th>0</th>\n",
       "      <td>412812.0</td>\n",
       "      <td>0.023102</td>\n",
       "      <td>10:4f:a8:7e:7d:b5</td>\n",
       "      <td>00:a0:de:f1:88:6e</td>\n",
       "      <td>192.168.2.12</td>\n",
       "      <td>192.168.100.5</td>\n",
       "      <td>0.022889</td>\n",
       "      <td>0.25098</td>\n",
       "      <td>0.0</td>\n",
       "      <td>0.0</td>\n",
       "      <td>...</td>\n",
       "      <td>0.0</td>\n",
       "      <td>1.0</td>\n",
       "      <td>-0.5</td>\n",
       "      <td>-0.866025</td>\n",
       "      <td>0.913545</td>\n",
       "      <td>-0.406737</td>\n",
       "      <td>0.978148</td>\n",
       "      <td>-0.207912</td>\n",
       "      <td>-0.962926</td>\n",
       "      <td>-0.269765</td>\n",
       "    </tr>\n",
       "    <tr>\n",
       "      <th>1</th>\n",
       "      <td>604190.0</td>\n",
       "      <td>0.023102</td>\n",
       "      <td>10:4f:a8:70:22:7e</td>\n",
       "      <td>00:a0:de:f1:88:6e</td>\n",
       "      <td>192.168.2.13</td>\n",
       "      <td>192.168.100.5</td>\n",
       "      <td>0.022889</td>\n",
       "      <td>0.25098</td>\n",
       "      <td>0.0</td>\n",
       "      <td>0.0</td>\n",
       "      <td>...</td>\n",
       "      <td>0.0</td>\n",
       "      <td>1.0</td>\n",
       "      <td>-0.5</td>\n",
       "      <td>-0.866025</td>\n",
       "      <td>0.743145</td>\n",
       "      <td>-0.669131</td>\n",
       "      <td>0.104528</td>\n",
       "      <td>0.994522</td>\n",
       "      <td>0.223640</td>\n",
       "      <td>0.974672</td>\n",
       "    </tr>\n",
       "    <tr>\n",
       "      <th>2</th>\n",
       "      <td>13972.0</td>\n",
       "      <td>0.023102</td>\n",
       "      <td>10:4f:a8:7e:7d:b5</td>\n",
       "      <td>00:a0:de:f1:88:6e</td>\n",
       "      <td>192.168.2.12</td>\n",
       "      <td>192.168.100.5</td>\n",
       "      <td>0.022889</td>\n",
       "      <td>0.25098</td>\n",
       "      <td>0.0</td>\n",
       "      <td>0.0</td>\n",
       "      <td>...</td>\n",
       "      <td>0.0</td>\n",
       "      <td>1.0</td>\n",
       "      <td>-0.5</td>\n",
       "      <td>-0.866025</td>\n",
       "      <td>0.978148</td>\n",
       "      <td>0.207912</td>\n",
       "      <td>-0.669131</td>\n",
       "      <td>-0.743145</td>\n",
       "      <td>-0.109666</td>\n",
       "      <td>-0.993969</td>\n",
       "    </tr>\n",
       "    <tr>\n",
       "      <th>3</th>\n",
       "      <td>1466178.0</td>\n",
       "      <td>0.023102</td>\n",
       "      <td>10:4f:a8:70:22:7e</td>\n",
       "      <td>00:a0:de:f1:88:6e</td>\n",
       "      <td>192.168.2.13</td>\n",
       "      <td>192.168.100.5</td>\n",
       "      <td>0.022889</td>\n",
       "      <td>0.25098</td>\n",
       "      <td>0.0</td>\n",
       "      <td>0.0</td>\n",
       "      <td>...</td>\n",
       "      <td>0.0</td>\n",
       "      <td>1.0</td>\n",
       "      <td>-0.5</td>\n",
       "      <td>-0.866025</td>\n",
       "      <td>-0.406737</td>\n",
       "      <td>-0.913545</td>\n",
       "      <td>0.994522</td>\n",
       "      <td>-0.104528</td>\n",
       "      <td>-0.786785</td>\n",
       "      <td>0.617227</td>\n",
       "    </tr>\n",
       "    <tr>\n",
       "      <th>4</th>\n",
       "      <td>1733382.0</td>\n",
       "      <td>0.023102</td>\n",
       "      <td>10:4f:a8:7e:7d:b5</td>\n",
       "      <td>00:a0:de:f1:88:6e</td>\n",
       "      <td>192.168.2.12</td>\n",
       "      <td>192.168.100.5</td>\n",
       "      <td>0.022889</td>\n",
       "      <td>0.25098</td>\n",
       "      <td>0.0</td>\n",
       "      <td>0.0</td>\n",
       "      <td>...</td>\n",
       "      <td>0.0</td>\n",
       "      <td>1.0</td>\n",
       "      <td>-0.5</td>\n",
       "      <td>-0.866025</td>\n",
       "      <td>-0.743145</td>\n",
       "      <td>-0.669131</td>\n",
       "      <td>0.406737</td>\n",
       "      <td>0.913545</td>\n",
       "      <td>-0.999940</td>\n",
       "      <td>-0.010945</td>\n",
       "    </tr>\n",
       "  </tbody>\n",
       "</table>\n",
       "<p>5 rows × 26 columns</p>\n",
       "</div>"
      ],
      "text/plain": [
       "   frame.number  frame.len            eth.src            eth.dst  \\\n",
       "0      412812.0   0.023102  10:4f:a8:7e:7d:b5  00:a0:de:f1:88:6e   \n",
       "1      604190.0   0.023102  10:4f:a8:70:22:7e  00:a0:de:f1:88:6e   \n",
       "2       13972.0   0.023102  10:4f:a8:7e:7d:b5  00:a0:de:f1:88:6e   \n",
       "3     1466178.0   0.023102  10:4f:a8:70:22:7e  00:a0:de:f1:88:6e   \n",
       "4     1733382.0   0.023102  10:4f:a8:7e:7d:b5  00:a0:de:f1:88:6e   \n",
       "\n",
       "         ip.src         ip.dst    ip.len   ip.ttl  tcp.srcport  tcp.dstport  \\\n",
       "0  192.168.2.12  192.168.100.5  0.022889  0.25098          0.0          0.0   \n",
       "1  192.168.2.13  192.168.100.5  0.022889  0.25098          0.0          0.0   \n",
       "2  192.168.2.12  192.168.100.5  0.022889  0.25098          0.0          0.0   \n",
       "3  192.168.2.13  192.168.100.5  0.022889  0.25098          0.0          0.0   \n",
       "4  192.168.2.12  192.168.100.5  0.022889  0.25098          0.0          0.0   \n",
       "\n",
       "   ... dow_sin dow_cos hour_sin  hour_cos  minute_sin  minute_cos  second_sin  \\\n",
       "0  ...     0.0     1.0     -0.5 -0.866025    0.913545   -0.406737    0.978148   \n",
       "1  ...     0.0     1.0     -0.5 -0.866025    0.743145   -0.669131    0.104528   \n",
       "2  ...     0.0     1.0     -0.5 -0.866025    0.978148    0.207912   -0.669131   \n",
       "3  ...     0.0     1.0     -0.5 -0.866025   -0.406737   -0.913545    0.994522   \n",
       "4  ...     0.0     1.0     -0.5 -0.866025   -0.743145   -0.669131    0.406737   \n",
       "\n",
       "   second_cos    ms_sin    ms_cos  \n",
       "0   -0.207912 -0.962926 -0.269765  \n",
       "1    0.994522  0.223640  0.974672  \n",
       "2   -0.743145 -0.109666 -0.993969  \n",
       "3   -0.104528 -0.786785  0.617227  \n",
       "4    0.913545 -0.999940 -0.010945  \n",
       "\n",
       "[5 rows x 26 columns]"
      ]
     },
     "execution_count": 9,
     "metadata": {},
     "output_type": "execute_result"
    }
   ],
   "source": [
    "df.head()"
   ]
  },
  {
   "cell_type": "code",
   "execution_count": 6,
   "id": "ee267cb5e4b383b7",
   "metadata": {
    "ExecuteTime": {
     "end_time": "2025-05-09T16:48:14.228336Z",
     "start_time": "2025-05-09T16:48:14.224620Z"
    },
    "execution": {
     "iopub.execute_input": "2025-05-18T09:25:39.538511Z",
     "iopub.status.busy": "2025-05-18T09:25:39.538276Z",
     "iopub.status.idle": "2025-05-18T09:25:39.547067Z",
     "shell.execute_reply": "2025-05-18T09:25:39.546540Z",
     "shell.execute_reply.started": "2025-05-18T09:25:39.538491Z"
    },
    "trusted": true
   },
   "outputs": [],
   "source": [
    "from torch.utils.data import Dataset\n",
    "from tqdm import trange\n",
    "from multiprocessing import Pool\n",
    "\n",
    "\n",
    "class NetworkDataset(Dataset):\n",
    "    def __init__(self, data, window=128):\n",
    "        p = Pool(processes=1)\n",
    "        self.data = data\n",
    "        self.window = window\n",
    "        self.mappings_ip = p.map(self.ordinal_ip, trange(len(self)))\n",
    "        self.mappings_eth = p.map(self.ordinal_eth, trange(len(self)))\n",
    "        p.close()\n",
    "        p.join()\n",
    "            \n",
    "    def ordinal_ip(self, i):\n",
    "        return ordinalize_packets(self.data[i:i+self.window], \"ip\")\n",
    "    def ordinal_eth(self, i):\n",
    "        return ordinalize_packets(self.data[i:i+self.window], \"eth\")\n",
    "    \n",
    "    def __getitem__(self, index):\n",
    "        packets = self.data[index:index + self.window]\n",
    "        labels = packets['alert'].to_numpy().astype(np.float32)\n",
    "        packets.loc[:, \"eth.src\"] = packets[\"eth.src\"].replace(self.mappings_eth[index]).astype(int)\n",
    "        packets.loc[:, \"eth.dst\"] = packets[\"eth.dst\"].replace(self.mappings_eth[index]).astype(int)\n",
    "        packets.loc[:, \"ip.src\"] = packets[\"ip.src\"].replace(self.mappings_ip[index]).astype(int)\n",
    "        packets.loc[:, \"ip.dst\"] = packets[\"ip.dst\"].replace(self.mappings_ip[index]).astype(int)\n",
    "        packets = packets.drop(columns=['alert', \"frame.number\"]).fillna(0)\n",
    "        return (packets[[\"eth.src\", \"eth.dst\"]].astype(int).values, packets[[\"ip.src\", \"ip.dst\"]].astype(int).values,\n",
    "                packets.drop(columns=[\"ip.src\", \"ip.dst\", \"eth.src\", \"eth.dst\"]).values.astype(\"float32\"), labels)\n",
    "\n",
    "    def __len__(self):\n",
    "        return self.data.shape[0] - self.window"
   ]
  },
  {
   "cell_type": "code",
   "execution_count": 19,
   "id": "ae4c2603d9afd30a",
   "metadata": {
    "ExecuteTime": {
     "end_time": "2025-05-09T16:42:08.820306Z",
     "start_time": "2025-05-09T16:42:05.601265Z"
    },
    "execution": {
     "iopub.execute_input": "2025-05-17T19:05:59.038306Z",
     "iopub.status.busy": "2025-05-17T19:05:59.037950Z",
     "iopub.status.idle": "2025-05-17T19:07:05.712326Z",
     "shell.execute_reply": "2025-05-17T19:07:05.707223Z",
     "shell.execute_reply.started": "2025-05-17T19:05:59.038281Z"
    },
    "trusted": true
   },
   "outputs": [
    {
     "name": "stderr",
     "output_type": "stream",
     "text": [
      " 36%|███▌      | 6086769/16813047 [01:02<00:31, 339459.54it/s] Process ForkPoolWorker-1:\n",
      "Process ForkPoolWorker-2:\n",
      "  File \"/usr/lib/python3.11/multiprocessing/pool.py\", line 48, in mapstar\n",
      "    return list(map(*args))\n",
      "           ^^^^^^^^^^^^^^^^\n",
      "  File \"/tmp/ipykernel_35/3743630211.py\", line 9, in ordinalize_packets\n",
      "    out = pd.concat([out_src, out_dst], axis=0).sort_values()\n",
      "          ^^^^^^^^^^^^^^^^^^^^^^^^^^^^^^^^^^^^^\n",
      "Traceback (most recent call last):\n",
      "  File \"/usr/lib/python3.11/multiprocessing/process.py\", line 314, in _bootstrap\n",
      "    self.run()\n",
      "Traceback (most recent call last):\n",
      "  File \"/usr/lib/python3.11/multiprocessing/process.py\", line 108, in run\n",
      "    self._target(*self._args, **self._kwargs)\n",
      "  File \"/usr/lib/python3.11/multiprocessing/process.py\", line 314, in _bootstrap\n",
      "    self.run()\n",
      "  File \"/usr/lib/python3.11/multiprocessing/pool.py\", line 125, in worker\n",
      "    result = (True, func(*args, **kwds))\n",
      "                    ^^^^^^^^^^^^^^^^^^^\n",
      "  File \"/usr/lib/python3.11/multiprocessing/process.py\", line 108, in run\n",
      "    self._target(*self._args, **self._kwargs)\n",
      "  File \"/usr/lib/python3.11/multiprocessing/pool.py\", line 48, in mapstar\n",
      "    return list(map(*args))\n",
      "           ^^^^^^^^^^^^^^^^\n",
      "  File \"/tmp/ipykernel_35/4202510431.py\", line 17, in ordinal_ip\n",
      "    return ordinalize_packets(self.data[i:i+self.window], \"ip\")\n",
      "           ^^^^^^^^^^^^^^^^^^^^^^^^^^^^^^^^^^^^^^^^^^^^^^^^^^^^\n",
      "  File \"/usr/lib/python3.11/multiprocessing/pool.py\", line 125, in worker\n",
      "    result = (True, func(*args, **kwds))\n",
      "                    ^^^^^^^^^^^^^^^^^^^\n",
      "  File \"/usr/local/lib/python3.11/dist-packages/pandas/core/reshape/concat.py\", line 395, in concat\n",
      "    return op.get_result()\n",
      "           ^^^^^^^^^^^^^^^\n",
      "  File \"/tmp/ipykernel_35/4202510431.py\", line 17, in ordinal_ip\n",
      "    return ordinalize_packets(self.data[i:i+self.window], \"ip\")\n",
      "           ^^^^^^^^^^^^^^^^^^^^^^^^^^^^^^^^^^^^^^^^^^^^^^^^^^^^\n",
      "  File \"/usr/local/lib/python3.11/dist-packages/pandas/core/reshape/concat.py\", line 637, in get_result\n",
      "    res = concat_compat(arrs, axis=0)\n",
      "          ^^^^^^^^^^^^^^^^^^^^^^^^^^^\n",
      "  File \"/usr/local/lib/python3.11/dist-packages/pandas/core/dtypes/concat.py\", line 126, in concat_compat\n",
      "    to_concat = [astype_array(arr, target_dtype, copy=False) for arr in to_concat]\n",
      "                ^^^^^^^^^^^^^^^^^^^^^^^^^^^^^^^^^^^^^^^^^^^^^^^^^^^^^^^^^^^^^^^^^^\n",
      "  File \"/tmp/ipykernel_35/3743630211.py\", line 8, in ordinalize_packets\n",
      "    out_dst = packet_data.reset_index().groupby([dst_col])['index'].min() + 0.5\n",
      "              ^^^^^^^^^^^^^^^^^^^^^^^^^\n",
      "  File \"/usr/local/lib/python3.11/dist-packages/pandas/core/frame.py\", line 6417, in reset_index\n",
      "    new_obj = self.copy(deep=None)\n",
      "              ^^^^^^^^^^^^^^^^^^^^\n",
      "  File \"/usr/local/lib/python3.11/dist-packages/pandas/core/dtypes/concat.py\", line 126, in <listcomp>\n",
      "    to_concat = [astype_array(arr, target_dtype, copy=False) for arr in to_concat]\n",
      "                 ^^^^^^^^^^^^^^^^^^^^^^^^^^^^^^^^^^^^^^^^^^^\n",
      "  File \"/usr/local/lib/python3.11/dist-packages/pandas/core/generic.py\", line 6811, in copy\n",
      "    data = self._mgr.copy(deep=deep)\n",
      "           ^^^^^^^^^^^^^^^^^^^^^^^^^\n",
      "  File \"/usr/local/lib/python3.11/dist-packages/pandas/core/dtypes/astype.py\", line 185, in astype_array\n",
      "    if isinstance(dtype, np.dtype) and issubclass(values.dtype.type, str):\n",
      "                                       ^^^^^^^^^^^^^^^^^^^^^^^^^^^^^^^^^^\n",
      "  File \"/usr/local/lib/python3.11/dist-packages/pandas/core/internals/managers.py\", line 604, in copy\n",
      "    res._consolidate_inplace()\n",
      "KeyboardInterrupt\n",
      "  File \"/usr/local/lib/python3.11/dist-packages/pandas/core/internals/managers.py\", line 1788, in _consolidate_inplace\n",
      "    self.blocks = _consolidate(self.blocks)\n",
      "                  ^^^^^^^^^^^^^^^^^^^^^^^^^\n",
      "  File \"/usr/local/lib/python3.11/dist-packages/pandas/core/internals/managers.py\", line 2265, in _consolidate\n",
      "    grouper = itertools.groupby(sorted(blocks, key=gkey), gkey)\n",
      "                                ^^^^^^^^^^^^^^^^^^^^^^^^\n",
      "  File \"/usr/local/lib/python3.11/dist-packages/pandas/core/internals/managers.py\", line 2264, in <lambda>\n",
      "    gkey = lambda x: x._consolidate_key\n",
      "                     ^^^^^^^^^^^^^^^^^^\n"
     ]
    },
    {
     "ename": "KeyboardInterrupt",
     "evalue": "",
     "output_type": "error",
     "traceback": [
      "\u001b[0;31m---------------------------------------------------------------------------\u001b[0m",
      "\u001b[0;31mKeyboardInterrupt\u001b[0m                         Traceback (most recent call last)",
      "\u001b[0;32m/tmp/ipykernel_35/358226462.py\u001b[0m in \u001b[0;36m<cell line: 0>\u001b[0;34m()\u001b[0m\n\u001b[0;32m----> 1\u001b[0;31m \u001b[0mnds\u001b[0m \u001b[0;34m=\u001b[0m \u001b[0mNetworkDataset\u001b[0m\u001b[0;34m(\u001b[0m\u001b[0mdf\u001b[0m\u001b[0;34m,\u001b[0m \u001b[0;36m1024\u001b[0m\u001b[0;34m)\u001b[0m\u001b[0;34m\u001b[0m\u001b[0;34m\u001b[0m\u001b[0m\n\u001b[0m\u001b[1;32m      2\u001b[0m \u001b[0mnds\u001b[0m\u001b[0;34m[\u001b[0m\u001b[0;36m12\u001b[0m\u001b[0;34m]\u001b[0m\u001b[0;34m[\u001b[0m\u001b[0;36m1\u001b[0m\u001b[0;34m]\u001b[0m\u001b[0;34m\u001b[0m\u001b[0;34m\u001b[0m\u001b[0m\n",
      "\u001b[0;32m/tmp/ipykernel_35/4202510431.py\u001b[0m in \u001b[0;36m__init__\u001b[0;34m(self, data, window)\u001b[0m\n\u001b[1;32m      9\u001b[0m         \u001b[0mself\u001b[0m\u001b[0;34m.\u001b[0m\u001b[0mdata\u001b[0m \u001b[0;34m=\u001b[0m \u001b[0mdata\u001b[0m\u001b[0;34m\u001b[0m\u001b[0;34m\u001b[0m\u001b[0m\n\u001b[1;32m     10\u001b[0m         \u001b[0mself\u001b[0m\u001b[0;34m.\u001b[0m\u001b[0mwindow\u001b[0m \u001b[0;34m=\u001b[0m \u001b[0mwindow\u001b[0m\u001b[0;34m\u001b[0m\u001b[0;34m\u001b[0m\u001b[0m\n\u001b[0;32m---> 11\u001b[0;31m         \u001b[0mself\u001b[0m\u001b[0;34m.\u001b[0m\u001b[0mmappings_ip\u001b[0m \u001b[0;34m=\u001b[0m \u001b[0mp\u001b[0m\u001b[0;34m.\u001b[0m\u001b[0mmap\u001b[0m\u001b[0;34m(\u001b[0m\u001b[0mself\u001b[0m\u001b[0;34m.\u001b[0m\u001b[0mordinal_ip\u001b[0m\u001b[0;34m,\u001b[0m \u001b[0mtrange\u001b[0m\u001b[0;34m(\u001b[0m\u001b[0mlen\u001b[0m\u001b[0;34m(\u001b[0m\u001b[0mself\u001b[0m\u001b[0;34m)\u001b[0m\u001b[0;34m)\u001b[0m\u001b[0;34m)\u001b[0m\u001b[0;34m\u001b[0m\u001b[0;34m\u001b[0m\u001b[0m\n\u001b[0m\u001b[1;32m     12\u001b[0m         \u001b[0mself\u001b[0m\u001b[0;34m.\u001b[0m\u001b[0mmappings_eth\u001b[0m \u001b[0;34m=\u001b[0m \u001b[0mp\u001b[0m\u001b[0;34m.\u001b[0m\u001b[0mmap\u001b[0m\u001b[0;34m(\u001b[0m\u001b[0mself\u001b[0m\u001b[0;34m.\u001b[0m\u001b[0mordinal_eth\u001b[0m\u001b[0;34m,\u001b[0m \u001b[0mtrange\u001b[0m\u001b[0;34m(\u001b[0m\u001b[0mlen\u001b[0m\u001b[0;34m(\u001b[0m\u001b[0mself\u001b[0m\u001b[0;34m)\u001b[0m\u001b[0;34m)\u001b[0m\u001b[0;34m)\u001b[0m\u001b[0;34m\u001b[0m\u001b[0;34m\u001b[0m\u001b[0m\n\u001b[1;32m     13\u001b[0m         \u001b[0mp\u001b[0m\u001b[0;34m.\u001b[0m\u001b[0mclose\u001b[0m\u001b[0;34m(\u001b[0m\u001b[0;34m)\u001b[0m\u001b[0;34m\u001b[0m\u001b[0;34m\u001b[0m\u001b[0m\n",
      "\u001b[0;32m/usr/lib/python3.11/multiprocessing/pool.py\u001b[0m in \u001b[0;36mmap\u001b[0;34m(self, func, iterable, chunksize)\u001b[0m\n\u001b[1;32m    365\u001b[0m         \u001b[0;32min\u001b[0m \u001b[0ma\u001b[0m \u001b[0mlist\u001b[0m \u001b[0mthat\u001b[0m \u001b[0;32mis\u001b[0m \u001b[0mreturned\u001b[0m\u001b[0;34m.\u001b[0m\u001b[0;34m\u001b[0m\u001b[0;34m\u001b[0m\u001b[0m\n\u001b[1;32m    366\u001b[0m         '''\n\u001b[0;32m--> 367\u001b[0;31m         \u001b[0;32mreturn\u001b[0m \u001b[0mself\u001b[0m\u001b[0;34m.\u001b[0m\u001b[0m_map_async\u001b[0m\u001b[0;34m(\u001b[0m\u001b[0mfunc\u001b[0m\u001b[0;34m,\u001b[0m \u001b[0miterable\u001b[0m\u001b[0;34m,\u001b[0m \u001b[0mmapstar\u001b[0m\u001b[0;34m,\u001b[0m \u001b[0mchunksize\u001b[0m\u001b[0;34m)\u001b[0m\u001b[0;34m.\u001b[0m\u001b[0mget\u001b[0m\u001b[0;34m(\u001b[0m\u001b[0;34m)\u001b[0m\u001b[0;34m\u001b[0m\u001b[0;34m\u001b[0m\u001b[0m\n\u001b[0m\u001b[1;32m    368\u001b[0m \u001b[0;34m\u001b[0m\u001b[0m\n\u001b[1;32m    369\u001b[0m     \u001b[0;32mdef\u001b[0m \u001b[0mstarmap\u001b[0m\u001b[0;34m(\u001b[0m\u001b[0mself\u001b[0m\u001b[0;34m,\u001b[0m \u001b[0mfunc\u001b[0m\u001b[0;34m,\u001b[0m \u001b[0miterable\u001b[0m\u001b[0;34m,\u001b[0m \u001b[0mchunksize\u001b[0m\u001b[0;34m=\u001b[0m\u001b[0;32mNone\u001b[0m\u001b[0;34m)\u001b[0m\u001b[0;34m:\u001b[0m\u001b[0;34m\u001b[0m\u001b[0;34m\u001b[0m\u001b[0m\n",
      "\u001b[0;32m/usr/lib/python3.11/multiprocessing/pool.py\u001b[0m in \u001b[0;36mget\u001b[0;34m(self, timeout)\u001b[0m\n\u001b[1;32m    766\u001b[0m \u001b[0;34m\u001b[0m\u001b[0m\n\u001b[1;32m    767\u001b[0m     \u001b[0;32mdef\u001b[0m \u001b[0mget\u001b[0m\u001b[0;34m(\u001b[0m\u001b[0mself\u001b[0m\u001b[0;34m,\u001b[0m \u001b[0mtimeout\u001b[0m\u001b[0;34m=\u001b[0m\u001b[0;32mNone\u001b[0m\u001b[0;34m)\u001b[0m\u001b[0;34m:\u001b[0m\u001b[0;34m\u001b[0m\u001b[0;34m\u001b[0m\u001b[0m\n\u001b[0;32m--> 768\u001b[0;31m         \u001b[0mself\u001b[0m\u001b[0;34m.\u001b[0m\u001b[0mwait\u001b[0m\u001b[0;34m(\u001b[0m\u001b[0mtimeout\u001b[0m\u001b[0;34m)\u001b[0m\u001b[0;34m\u001b[0m\u001b[0;34m\u001b[0m\u001b[0m\n\u001b[0m\u001b[1;32m    769\u001b[0m         \u001b[0;32mif\u001b[0m \u001b[0;32mnot\u001b[0m \u001b[0mself\u001b[0m\u001b[0;34m.\u001b[0m\u001b[0mready\u001b[0m\u001b[0;34m(\u001b[0m\u001b[0;34m)\u001b[0m\u001b[0;34m:\u001b[0m\u001b[0;34m\u001b[0m\u001b[0;34m\u001b[0m\u001b[0m\n\u001b[1;32m    770\u001b[0m             \u001b[0;32mraise\u001b[0m \u001b[0mTimeoutError\u001b[0m\u001b[0;34m\u001b[0m\u001b[0;34m\u001b[0m\u001b[0m\n",
      "\u001b[0;32m/usr/lib/python3.11/multiprocessing/pool.py\u001b[0m in \u001b[0;36mwait\u001b[0;34m(self, timeout)\u001b[0m\n\u001b[1;32m    763\u001b[0m \u001b[0;34m\u001b[0m\u001b[0m\n\u001b[1;32m    764\u001b[0m     \u001b[0;32mdef\u001b[0m \u001b[0mwait\u001b[0m\u001b[0;34m(\u001b[0m\u001b[0mself\u001b[0m\u001b[0;34m,\u001b[0m \u001b[0mtimeout\u001b[0m\u001b[0;34m=\u001b[0m\u001b[0;32mNone\u001b[0m\u001b[0;34m)\u001b[0m\u001b[0;34m:\u001b[0m\u001b[0;34m\u001b[0m\u001b[0;34m\u001b[0m\u001b[0m\n\u001b[0;32m--> 765\u001b[0;31m         \u001b[0mself\u001b[0m\u001b[0;34m.\u001b[0m\u001b[0m_event\u001b[0m\u001b[0;34m.\u001b[0m\u001b[0mwait\u001b[0m\u001b[0;34m(\u001b[0m\u001b[0mtimeout\u001b[0m\u001b[0;34m)\u001b[0m\u001b[0;34m\u001b[0m\u001b[0;34m\u001b[0m\u001b[0m\n\u001b[0m\u001b[1;32m    766\u001b[0m \u001b[0;34m\u001b[0m\u001b[0m\n\u001b[1;32m    767\u001b[0m     \u001b[0;32mdef\u001b[0m \u001b[0mget\u001b[0m\u001b[0;34m(\u001b[0m\u001b[0mself\u001b[0m\u001b[0;34m,\u001b[0m \u001b[0mtimeout\u001b[0m\u001b[0;34m=\u001b[0m\u001b[0;32mNone\u001b[0m\u001b[0;34m)\u001b[0m\u001b[0;34m:\u001b[0m\u001b[0;34m\u001b[0m\u001b[0;34m\u001b[0m\u001b[0m\n",
      "\u001b[0;32m/usr/lib/python3.11/threading.py\u001b[0m in \u001b[0;36mwait\u001b[0;34m(self, timeout)\u001b[0m\n\u001b[1;32m    627\u001b[0m             \u001b[0msignaled\u001b[0m \u001b[0;34m=\u001b[0m \u001b[0mself\u001b[0m\u001b[0;34m.\u001b[0m\u001b[0m_flag\u001b[0m\u001b[0;34m\u001b[0m\u001b[0;34m\u001b[0m\u001b[0m\n\u001b[1;32m    628\u001b[0m             \u001b[0;32mif\u001b[0m \u001b[0;32mnot\u001b[0m \u001b[0msignaled\u001b[0m\u001b[0;34m:\u001b[0m\u001b[0;34m\u001b[0m\u001b[0;34m\u001b[0m\u001b[0m\n\u001b[0;32m--> 629\u001b[0;31m                 \u001b[0msignaled\u001b[0m \u001b[0;34m=\u001b[0m \u001b[0mself\u001b[0m\u001b[0;34m.\u001b[0m\u001b[0m_cond\u001b[0m\u001b[0;34m.\u001b[0m\u001b[0mwait\u001b[0m\u001b[0;34m(\u001b[0m\u001b[0mtimeout\u001b[0m\u001b[0;34m)\u001b[0m\u001b[0;34m\u001b[0m\u001b[0;34m\u001b[0m\u001b[0m\n\u001b[0m\u001b[1;32m    630\u001b[0m             \u001b[0;32mreturn\u001b[0m \u001b[0msignaled\u001b[0m\u001b[0;34m\u001b[0m\u001b[0;34m\u001b[0m\u001b[0m\n\u001b[1;32m    631\u001b[0m \u001b[0;34m\u001b[0m\u001b[0m\n",
      "\u001b[0;32m/usr/lib/python3.11/threading.py\u001b[0m in \u001b[0;36mwait\u001b[0;34m(self, timeout)\u001b[0m\n\u001b[1;32m    325\u001b[0m         \u001b[0;32mtry\u001b[0m\u001b[0;34m:\u001b[0m    \u001b[0;31m# restore state no matter what (e.g., KeyboardInterrupt)\u001b[0m\u001b[0;34m\u001b[0m\u001b[0;34m\u001b[0m\u001b[0m\n\u001b[1;32m    326\u001b[0m             \u001b[0;32mif\u001b[0m \u001b[0mtimeout\u001b[0m \u001b[0;32mis\u001b[0m \u001b[0;32mNone\u001b[0m\u001b[0;34m:\u001b[0m\u001b[0;34m\u001b[0m\u001b[0;34m\u001b[0m\u001b[0m\n\u001b[0;32m--> 327\u001b[0;31m                 \u001b[0mwaiter\u001b[0m\u001b[0;34m.\u001b[0m\u001b[0macquire\u001b[0m\u001b[0;34m(\u001b[0m\u001b[0;34m)\u001b[0m\u001b[0;34m\u001b[0m\u001b[0;34m\u001b[0m\u001b[0m\n\u001b[0m\u001b[1;32m    328\u001b[0m                 \u001b[0mgotit\u001b[0m \u001b[0;34m=\u001b[0m \u001b[0;32mTrue\u001b[0m\u001b[0;34m\u001b[0m\u001b[0;34m\u001b[0m\u001b[0m\n\u001b[1;32m    329\u001b[0m             \u001b[0;32melse\u001b[0m\u001b[0;34m:\u001b[0m\u001b[0;34m\u001b[0m\u001b[0;34m\u001b[0m\u001b[0m\n",
      "\u001b[0;31mKeyboardInterrupt\u001b[0m: "
     ]
    },
    {
     "name": "stderr",
     "output_type": "stream",
     "text": [
      "  File \"properties.pyx\", line 36, in pandas._libs.properties.CachedProperty.__get__\n",
      "  File \"/usr/local/lib/python3.11/dist-packages/pandas/core/internals/blocks.py\", line 228, in _consolidate_key\n",
      "    return self._can_consolidate, self.dtype.name\n",
      "                                  ^^^^^^^^^^^^^^^\n",
      "  File \"/usr/local/lib/python3.11/dist-packages/numpy/core/_dtype.py\", line 346, in _name_get\n",
      "    def _name_get(dtype):\n",
      "    \n",
      "KeyboardInterrupt\n"
     ]
    }
   ],
   "source": [
    "nds = NetworkDataset(df, 1024)\n",
    "nds[12][1]"
   ]
  },
  {
   "cell_type": "code",
   "execution_count": 7,
   "id": "9e5629d4956fca3b",
   "metadata": {
    "ExecuteTime": {
     "end_time": "2025-05-09T16:48:15.830417Z",
     "start_time": "2025-05-09T16:48:15.826843Z"
    },
    "execution": {
     "iopub.execute_input": "2025-05-18T09:25:39.548089Z",
     "iopub.status.busy": "2025-05-18T09:25:39.547857Z",
     "iopub.status.idle": "2025-05-18T09:25:39.566035Z",
     "shell.execute_reply": "2025-05-18T09:25:39.565293Z",
     "shell.execute_reply.started": "2025-05-18T09:25:39.548072Z"
    },
    "trusted": true
   },
   "outputs": [],
   "source": [
    "from torch.nn.utils.parametrizations import weight_norm\n",
    "\n",
    "\n",
    "class ResBlock(nn.Module):\n",
    "    def __init__(self, channels, kernel_size, dilation):\n",
    "        super(ResBlock, self).__init__()\n",
    "        self.conv1 = weight_norm(\n",
    "            nn.Conv1d(in_channels=channels, out_channels=channels, kernel_size=kernel_size, dilation=dilation))\n",
    "        self.conv2 = weight_norm(\n",
    "            nn.Conv1d(in_channels=channels, out_channels=channels, kernel_size=kernel_size, dilation=dilation))\n",
    "        self.pad = nn.ZeroPad1d((kernel_size - 1) // 2 * dilation)\n",
    "        self.dropout = nn.Dropout(0.2)\n",
    "\n",
    "    def forward(self, x):\n",
    "        t = self.pad(x)\n",
    "        t = F.relu(self.conv1(t))\n",
    "        t = self.pad(t)\n",
    "        t = F.relu(self.conv2(t))\n",
    "        return self.dropout(t) + x"
   ]
  },
  {
   "cell_type": "code",
   "execution_count": 8,
   "id": "c5c3706be37fcfb9",
   "metadata": {
    "ExecuteTime": {
     "end_time": "2025-05-09T16:48:16.006161Z",
     "start_time": "2025-05-09T16:48:16.003532Z"
    },
    "execution": {
     "iopub.execute_input": "2025-05-18T09:25:39.567146Z",
     "iopub.status.busy": "2025-05-18T09:25:39.566884Z",
     "iopub.status.idle": "2025-05-18T09:25:39.585739Z",
     "shell.execute_reply": "2025-05-18T09:25:39.585185Z",
     "shell.execute_reply.started": "2025-05-18T09:25:39.567126Z"
    },
    "trusted": true
   },
   "outputs": [],
   "source": [
    "class TCN(nn.Module):\n",
    "    def __init__(self, channels, kernel_size, blocks):\n",
    "        super(TCN, self).__init__()\n",
    "        self.blocks = nn.Sequential(*[ResBlock(channels, kernel_size, 2**i) for i in range(blocks)])\n",
    "        \n",
    "    def forward(self, x):\n",
    "        return self.blocks(x)"
   ]
  },
  {
   "cell_type": "code",
   "execution_count": 16,
   "id": "70f5c18d31076e80",
   "metadata": {
    "ExecuteTime": {
     "end_time": "2025-05-08T21:02:11.297119Z",
     "start_time": "2025-05-08T21:02:11.288483Z"
    }
   },
   "outputs": [
    {
     "data": {
      "text/plain": [
       "tensor([[[ 0.4930,  2.8734,  0.7040,  1.4007,  0.5570,  0.8242,  0.5057,\n",
       "           0.6803,  0.7938,  0.3710, -0.5096,  0.6751, -0.0863, -0.2357,\n",
       "           0.1171,  1.3098, -0.0148,  1.3838, -0.1150, -1.2456, -0.6741,\n",
       "           0.1877, -0.4860,  1.2179,  2.0754, -0.3600, -0.2070, -0.7151,\n",
       "           0.6399, -0.0777,  0.3021, -0.3402,  0.4434,  1.5218,  0.5087,\n",
       "           0.1899, -0.6611, -0.4585,  2.4599,  0.4934,  0.4422,  0.5624,\n",
       "           2.2803, -1.5272,  0.7496, -0.0379,  1.2823,  0.8802, -0.7981,\n",
       "           0.6152],\n",
       "         [ 1.8333, -0.5736, -1.3496,  1.0371,  1.0337,  0.0684, -0.2696,\n",
       "           2.1811,  0.2497,  1.6957, -2.0771,  0.3720,  2.0790, -0.3636,\n",
       "           2.0944, -0.1222,  2.0948,  0.6292,  1.3397,  0.6612, -0.6909,\n",
       "           1.0906, -1.5022,  0.5549, -0.8636, -1.5973, -0.5547,  1.2952,\n",
       "           1.8265,  0.9957,  2.0427, -0.8961,  1.0709, -0.0629,  0.7529,\n",
       "          -2.8566,  0.5028, -0.9615, -0.4447, -1.2141,  0.3986,  0.6234,\n",
       "          -1.0600, -0.6818,  0.7538, -0.3115, -0.8354,  0.5746,  2.0533,\n",
       "           0.2150],\n",
       "         [ 1.1393, -1.3029,  0.5995, -0.6638,  2.3327,  1.1458,  0.2197,\n",
       "           1.1423,  1.0697,  1.1248,  1.7574, -1.2201,  0.4107,  0.2360,\n",
       "           0.6132, -0.3596, -0.9637, -0.4684,  0.8482, -0.6512,  1.3013,\n",
       "           0.2185,  0.1670,  0.1766,  0.9474, -1.6599,  0.2151,  1.4703,\n",
       "           2.8969,  0.2820,  0.2343, -0.5065,  0.4568,  1.3497, -0.3037,\n",
       "          -0.1967,  0.8576,  1.0521, -1.4856,  0.0921,  0.3245, -1.9019,\n",
       "          -0.0598, -0.5546,  1.3966, -0.6117,  2.2780, -0.2855,  1.5235,\n",
       "           1.0215],\n",
       "         [ 0.2086,  0.0516, -0.4262, -0.1971,  1.2270, -0.5420, -2.2050,\n",
       "          -0.3856,  0.9139,  1.6819, -0.7659, -0.7834, -0.3392,  1.7571,\n",
       "           2.5838,  0.3334, -0.4631, -0.9683,  1.6035,  0.5290,  1.1781,\n",
       "          -0.9958,  1.1325,  1.1291, -0.3608,  0.7950,  0.0684,  0.7084,\n",
       "           0.8208, -0.8462, -0.8245, -0.2567,  1.1762, -0.7246,  1.3553,\n",
       "          -0.7615, -1.0179,  1.0095,  0.5215,  0.7623,  0.1353,  0.9088,\n",
       "          -0.7105,  0.6101,  1.0405,  0.2870,  3.2587,  0.7990, -1.5108,\n",
       "           0.6133],\n",
       "         [ 1.0647,  0.6486,  0.4965, -0.2118,  1.5358,  1.6115, -0.2236,\n",
       "           0.3594, -0.3679,  0.1202, -0.4015, -0.0098, -0.7519, -0.2232,\n",
       "          -0.9034,  0.5287, -0.4261,  1.3451, -0.6968,  1.8915,  0.2107,\n",
       "           0.6073,  0.3320, -1.3413, -0.0139, -1.4733, -0.0081,  0.6339,\n",
       "           1.1881, -0.3070, -1.3526, -1.7729,  1.0762,  0.8132, -0.9273,\n",
       "          -0.4836,  0.3314,  1.5860,  0.2205,  1.6069, -1.3242,  2.6526,\n",
       "          -0.5728,  2.5671, -0.0707,  1.4865, -1.2416,  0.3745, -0.6643,\n",
       "          -0.2826]],\n",
       "\n",
       "        [[-1.1456, -0.6863, -2.3416,  1.3719,  0.2164, -1.3010,  1.0375,\n",
       "          -0.8751,  1.9334, -1.2767,  0.2271,  0.3862, -1.1660,  1.3061,\n",
       "          -0.0819,  0.4940,  2.4808, -1.2843,  1.4203,  1.0350,  0.0978,\n",
       "           0.4337, -0.4004,  0.3070,  0.1957, -2.1027,  2.6818,  1.1796,\n",
       "           1.5939, -1.6530,  0.4778, -0.6981,  1.9167, -1.2050,  0.3352,\n",
       "           1.1818, -1.5488,  1.9710,  0.3110,  0.1680,  1.3303, -0.9341,\n",
       "          -0.1798, -0.5771,  0.1618,  0.2983,  0.3462, -0.5535,  0.4663,\n",
       "           0.5104],\n",
       "         [-0.3230, -0.5964, -0.9086, -0.1587,  1.5052,  0.6900, -0.4010,\n",
       "          -0.6793,  0.8845,  0.1922,  0.5361,  1.6280,  1.0433, -1.3845,\n",
       "           0.3758,  1.0270,  0.3964,  0.9697,  1.0673,  0.3641, -0.1201,\n",
       "           2.6157, -0.7497,  0.2717,  0.5188,  0.0771, -1.8831,  1.4076,\n",
       "           1.8797, -0.0561, -0.4776,  1.7832,  0.2124, -0.5850,  0.4727,\n",
       "           0.4820, -0.6428, -0.7008,  1.6692,  0.7754,  0.8841, -0.3416,\n",
       "          -0.4173, -0.6595,  0.1310, -0.1849, -0.0697, -0.8341,  0.8504,\n",
       "           0.4172],\n",
       "         [ 1.6409,  1.7003,  0.8575,  0.4364,  0.8320,  0.2202, -0.5889,\n",
       "           0.4740, -0.4730, -1.8641,  0.9662, -0.3213,  0.7876, -1.2542,\n",
       "          -1.4365, -0.5116, -0.6959, -1.2182, -0.5278, -0.1385, -0.0766,\n",
       "          -0.2768, -1.4450, -0.3369, -0.0851,  0.2053,  0.0811, -1.0812,\n",
       "           0.7534,  0.3042,  0.9273, -1.5362,  0.7542,  0.5837, -0.4911,\n",
       "           1.2620, -0.6903,  0.8335, -0.2933,  1.5812,  0.4279, -0.7927,\n",
       "           1.8906,  0.3261, -0.5351, -0.7615,  1.3992,  1.6417,  0.2425,\n",
       "          -2.2015],\n",
       "         [-1.4750,  0.5970,  1.3045, -0.7830,  2.2044,  1.5325, -0.7796,\n",
       "          -0.5503,  1.5651,  2.0567,  0.5446, -1.9833,  0.6767,  2.1886,\n",
       "           1.6328,  0.1589,  1.3795,  2.6845, -1.9044,  0.2763,  2.1038,\n",
       "           3.8984,  1.3529,  1.2913, -2.1550,  1.5209,  0.0076,  0.8468,\n",
       "          -0.2281,  1.7002,  0.3694, -0.1456, -0.4970, -1.0274,  1.0379,\n",
       "          -0.3168, -0.4002,  0.8504, -0.2333, -0.9656,  0.7429,  0.9354,\n",
       "           2.3931,  1.0685,  1.1983, -0.2944, -0.2711,  0.3968, -0.6338,\n",
       "          -0.3728],\n",
       "         [ 0.6987,  0.9379,  0.1095,  1.5563, -0.1231,  0.0846, -1.4073,\n",
       "          -1.4765, -0.0557,  0.5489,  0.4516, -2.3035, -0.0998,  1.1554,\n",
       "          -0.3236,  0.2766,  0.5007, -0.4515, -0.8051,  0.8672, -0.9713,\n",
       "          -1.7452, -0.6342,  0.3956, -0.7401,  0.4365,  0.3818, -0.3642,\n",
       "           0.7850,  0.8064, -0.4926, -0.2492, -1.8454,  0.4676, -0.0339,\n",
       "           0.8733,  1.2641,  2.4603, -0.8383,  1.4415,  1.6670, -0.9567,\n",
       "           0.0693, -0.4395,  0.4564, -1.3258,  0.7302, -0.3006,  0.6037,\n",
       "          -0.3261]]], grad_fn=<AddBackward0>)"
      ]
     },
     "execution_count": 16,
     "metadata": {},
     "output_type": "execute_result"
    }
   ],
   "source": [
    "rb =TCN(5, 5, 2)\n",
    "rb(torch.randn(2, 5, 50))"
   ]
  },
  {
   "cell_type": "code",
   "execution_count": 9,
   "id": "96ca2ca3d3cf867c",
   "metadata": {
    "ExecuteTime": {
     "end_time": "2025-05-09T16:48:17.656896Z",
     "start_time": "2025-05-09T16:48:17.653030Z"
    },
    "execution": {
     "iopub.execute_input": "2025-05-18T09:25:39.586715Z",
     "iopub.status.busy": "2025-05-18T09:25:39.586442Z",
     "iopub.status.idle": "2025-05-18T09:25:39.601522Z",
     "shell.execute_reply": "2025-05-18T09:25:39.600826Z",
     "shell.execute_reply.started": "2025-05-18T09:25:39.586691Z"
    },
    "trusted": true
   },
   "outputs": [],
   "source": [
    "class Model(nn.Module):\n",
    "    def __init__(self):\n",
    "        super(Model, self).__init__()\n",
    "        self.eth_embed = nn.Embedding(128, 32)\n",
    "        self.ip_embed = nn.Embedding(128, 32)\n",
    "        self.total_embed = nn.Linear(148, 64)\n",
    "        self.conv = TCN(128, 5, 3)\n",
    "        self.projection = nn.Linear(64, 1)\n",
    "\n",
    "    def forward(self, eth, ip, packet):\n",
    "        B = packet.size(0)\n",
    "        L = packet.size(1)\n",
    "        eth = self.eth_embed(eth).view(B, L, -1)\n",
    "        ip = self.ip_embed(ip).view(B, L, -1)\n",
    "        pk_embed = self.total_embed(torch.cat((eth, ip, packet), dim=-1))\n",
    "        processed = nn.functional.relu(self.conv(pk_embed))\n",
    "        preds = self.projection(processed).squeeze(-1)\n",
    "        return nn.functional.sigmoid(preds)"
   ]
  },
  {
   "cell_type": "code",
   "execution_count": 16,
   "id": "437967a4-2d6c-4c56-9eee-653c798effbe",
   "metadata": {
    "execution": {
     "iopub.execute_input": "2025-05-18T10:03:06.088412Z",
     "iopub.status.busy": "2025-05-18T10:03:06.088024Z",
     "iopub.status.idle": "2025-05-18T10:03:06.471328Z",
     "shell.execute_reply": "2025-05-18T10:03:06.470438Z",
     "shell.execute_reply.started": "2025-05-18T10:03:06.088385Z"
    },
    "trusted": true
   },
   "outputs": [
    {
     "data": {
      "text/plain": [
       "1004"
      ]
     },
     "execution_count": 16,
     "metadata": {},
     "output_type": "execute_result"
    }
   ],
   "source": [
    "gc.collect()"
   ]
  },
  {
   "cell_type": "code",
   "execution_count": null,
   "id": "9ac5d61754852a5e",
   "metadata": {
    "ExecuteTime": {
     "end_time": "2025-05-09T16:51:44.721073Z",
     "start_time": "2025-05-09T16:49:46.257124Z"
    },
    "execution": {
     "execution_failed": "2025-05-18T10:03:29.020Z",
     "iopub.execute_input": "2025-05-18T10:03:06.587708Z",
     "iopub.status.busy": "2025-05-18T10:03:06.587409Z"
    },
    "trusted": true
   },
   "outputs": [
    {
     "name": "stderr",
     "output_type": "stream",
     "text": [
      "\n",
      "\n",
      "  0%|          | 0/16813943 [00:00<?, ?it/s]\u001b[A\u001b[A\n",
      "\n",
      "  0%|          | 1/16813943 [00:00<611:48:06,  7.63it/s]\u001b[A\u001b[A\n",
      "\n",
      "  1%|▏         | 217162/16813943 [00:00<00:14, 1132828.69it/s]\u001b[A\u001b[A\n",
      "\n",
      "  3%|▎         | 490888/16813943 [00:00<00:08, 1817898.92it/s]\u001b[A\u001b[A\n",
      "\n",
      "  5%|▍         | 802559/16813943 [00:00<00:06, 2309952.90it/s]\u001b[A\u001b[A\n",
      "\n",
      "  7%|▋         | 1126939/16813943 [00:00<00:05, 2637856.12it/s]\u001b[A\u001b[A\n",
      "\n",
      "  9%|▊         | 1465563/16813943 [00:00<00:05, 2887839.21it/s]\u001b[A\u001b[A\n",
      "\n",
      " 11%|█         | 1807198/16813943 [00:00<00:04, 3058545.40it/s]\u001b[A\u001b[A\n",
      "\n",
      " 13%|█▎        | 2161534/16813943 [00:00<00:04, 3211594.41it/s]\u001b[A\u001b[A\n",
      "\n",
      " 15%|█▌        | 2522379/16813943 [00:00<00:04, 3334924.00it/s]\u001b[A\u001b[A\n",
      "\n",
      " 17%|█▋        | 2880250/16813943 [00:01<00:04, 3409840.23it/s]\u001b[A\u001b[A\n",
      "\n",
      " 19%|█▉        | 3250006/16813943 [00:01<00:03, 3497614.60it/s]\u001b[A\u001b[A\n",
      "\n",
      " 21%|██▏       | 3603641/16813943 [00:01<00:03, 3509328.79it/s]\u001b[A\u001b[A\n",
      "\n",
      " 24%|██▎       | 3973671/16813943 [00:01<00:03, 3567063.71it/s]\u001b[A\u001b[A"
     ]
    }
   ],
   "source": [
    "dataset = NetworkDataset(df, 128) # preparation of dataset"
   ]
  },
  {
   "cell_type": "code",
   "execution_count": 15,
   "id": "7c32475b89181457",
   "metadata": {
    "ExecuteTime": {
     "end_time": "2025-05-09T17:12:26.098319Z",
     "start_time": "2025-05-09T17:05:29.602249Z"
    },
    "execution": {
     "iopub.execute_input": "2025-05-18T10:02:57.473468Z",
     "iopub.status.busy": "2025-05-18T10:02:57.472990Z",
     "iopub.status.idle": "2025-05-18T10:02:57.526943Z",
     "shell.execute_reply": "2025-05-18T10:02:57.525672Z",
     "shell.execute_reply.started": "2025-05-18T10:02:57.473434Z"
    },
    "trusted": true
   },
   "outputs": [
    {
     "ename": "AttributeError",
     "evalue": "partially initialized module 'torch._dynamo' has no attribute 'external_utils' (most likely due to a circular import)",
     "output_type": "error",
     "traceback": [
      "\u001b[0;31m---------------------------------------------------------------------------\u001b[0m",
      "\u001b[0;31mAttributeError\u001b[0m                            Traceback (most recent call last)",
      "\u001b[0;32m/tmp/ipykernel_211/362397588.py\u001b[0m in \u001b[0;36m<cell line: 0>\u001b[0;34m()\u001b[0m\n\u001b[1;32m      2\u001b[0m \u001b[0;32mfrom\u001b[0m \u001b[0mtorch\u001b[0m\u001b[0;34m.\u001b[0m\u001b[0moptim\u001b[0m \u001b[0;32mimport\u001b[0m \u001b[0mAdam\u001b[0m\u001b[0;34m\u001b[0m\u001b[0;34m\u001b[0m\u001b[0m\n\u001b[1;32m      3\u001b[0m \u001b[0;32mfrom\u001b[0m \u001b[0mtqdm\u001b[0m \u001b[0;32mimport\u001b[0m \u001b[0mtqdm\u001b[0m\u001b[0;34m\u001b[0m\u001b[0;34m\u001b[0m\u001b[0m\n\u001b[0;32m----> 4\u001b[0;31m \u001b[0;32mfrom\u001b[0m \u001b[0maccelerate\u001b[0m \u001b[0;32mimport\u001b[0m \u001b[0mAccelerator\u001b[0m\u001b[0;34m\u001b[0m\u001b[0;34m\u001b[0m\u001b[0m\n\u001b[0m\u001b[1;32m      5\u001b[0m \u001b[0;34m\u001b[0m\u001b[0m\n\u001b[1;32m      6\u001b[0m \u001b[0maccelerator\u001b[0m \u001b[0;34m=\u001b[0m \u001b[0mAccelerator\u001b[0m\u001b[0;34m(\u001b[0m\u001b[0mmixed_precision\u001b[0m\u001b[0;34m=\u001b[0m\u001b[0;34m\"bf16\"\u001b[0m\u001b[0;34m)\u001b[0m\u001b[0;34m\u001b[0m\u001b[0;34m\u001b[0m\u001b[0m\n",
      "\u001b[0;32m/usr/local/lib/python3.11/dist-packages/accelerate/__init__.py\u001b[0m in \u001b[0;36m<module>\u001b[0;34m\u001b[0m\n\u001b[1;32m     14\u001b[0m \u001b[0m__version__\u001b[0m \u001b[0;34m=\u001b[0m \u001b[0;34m\"1.5.2\"\u001b[0m\u001b[0;34m\u001b[0m\u001b[0;34m\u001b[0m\u001b[0m\n\u001b[1;32m     15\u001b[0m \u001b[0;34m\u001b[0m\u001b[0m\n\u001b[0;32m---> 16\u001b[0;31m \u001b[0;32mfrom\u001b[0m \u001b[0;34m.\u001b[0m\u001b[0maccelerator\u001b[0m \u001b[0;32mimport\u001b[0m \u001b[0mAccelerator\u001b[0m\u001b[0;34m\u001b[0m\u001b[0;34m\u001b[0m\u001b[0m\n\u001b[0m\u001b[1;32m     17\u001b[0m from .big_modeling import (\n\u001b[1;32m     18\u001b[0m     \u001b[0mcpu_offload\u001b[0m\u001b[0;34m,\u001b[0m\u001b[0;34m\u001b[0m\u001b[0;34m\u001b[0m\u001b[0m\n",
      "\u001b[0;32m/usr/local/lib/python3.11/dist-packages/accelerate/accelerator.py\u001b[0m in \u001b[0;36m<module>\u001b[0;34m\u001b[0m\n\u001b[1;32m     36\u001b[0m \u001b[0;32mfrom\u001b[0m \u001b[0maccelerate\u001b[0m\u001b[0;34m.\u001b[0m\u001b[0mutils\u001b[0m\u001b[0;34m.\u001b[0m\u001b[0mimports\u001b[0m \u001b[0;32mimport\u001b[0m \u001b[0mis_torchao_available\u001b[0m\u001b[0;34m\u001b[0m\u001b[0;34m\u001b[0m\u001b[0m\n\u001b[1;32m     37\u001b[0m \u001b[0;34m\u001b[0m\u001b[0m\n\u001b[0;32m---> 38\u001b[0;31m \u001b[0;32mfrom\u001b[0m \u001b[0;34m.\u001b[0m\u001b[0mcheckpointing\u001b[0m \u001b[0;32mimport\u001b[0m \u001b[0mload_accelerator_state\u001b[0m\u001b[0;34m,\u001b[0m \u001b[0mload_custom_state\u001b[0m\u001b[0;34m,\u001b[0m \u001b[0msave_accelerator_state\u001b[0m\u001b[0;34m,\u001b[0m \u001b[0msave_custom_state\u001b[0m\u001b[0;34m\u001b[0m\u001b[0;34m\u001b[0m\u001b[0m\n\u001b[0m\u001b[1;32m     39\u001b[0m \u001b[0;32mfrom\u001b[0m \u001b[0;34m.\u001b[0m\u001b[0mdata_loader\u001b[0m \u001b[0;32mimport\u001b[0m \u001b[0mDataLoaderDispatcher\u001b[0m\u001b[0;34m,\u001b[0m \u001b[0mprepare_data_loader\u001b[0m\u001b[0;34m,\u001b[0m \u001b[0mskip_first_batches\u001b[0m\u001b[0;34m\u001b[0m\u001b[0;34m\u001b[0m\u001b[0m\n\u001b[1;32m     40\u001b[0m \u001b[0;32mfrom\u001b[0m \u001b[0;34m.\u001b[0m\u001b[0mlogging\u001b[0m \u001b[0;32mimport\u001b[0m \u001b[0mget_logger\u001b[0m\u001b[0;34m\u001b[0m\u001b[0;34m\u001b[0m\u001b[0m\n",
      "\u001b[0;32m/usr/local/lib/python3.11/dist-packages/accelerate/checkpointing.py\u001b[0m in \u001b[0;36m<module>\u001b[0;34m\u001b[0m\n\u001b[1;32m     22\u001b[0m \u001b[0;32mfrom\u001b[0m \u001b[0mtorch\u001b[0m\u001b[0;34m.\u001b[0m\u001b[0mcuda\u001b[0m\u001b[0;34m.\u001b[0m\u001b[0mamp\u001b[0m \u001b[0;32mimport\u001b[0m \u001b[0mGradScaler\u001b[0m\u001b[0;34m\u001b[0m\u001b[0;34m\u001b[0m\u001b[0m\n\u001b[1;32m     23\u001b[0m \u001b[0;34m\u001b[0m\u001b[0m\n\u001b[0;32m---> 24\u001b[0;31m from .utils import (\n\u001b[0m\u001b[1;32m     25\u001b[0m     \u001b[0mMODEL_NAME\u001b[0m\u001b[0;34m,\u001b[0m\u001b[0;34m\u001b[0m\u001b[0;34m\u001b[0m\u001b[0m\n\u001b[1;32m     26\u001b[0m     \u001b[0mOPTIMIZER_NAME\u001b[0m\u001b[0;34m,\u001b[0m\u001b[0;34m\u001b[0m\u001b[0;34m\u001b[0m\u001b[0m\n",
      "\u001b[0;32m/usr/local/lib/python3.11/dist-packages/accelerate/utils/__init__.py\u001b[0m in \u001b[0;36m<module>\u001b[0;34m\u001b[0m\n\u001b[1;32m     12\u001b[0m \u001b[0;31m# See the License for the specific language governing permissions and\u001b[0m\u001b[0;34m\u001b[0m\u001b[0;34m\u001b[0m\u001b[0m\n\u001b[1;32m     13\u001b[0m \u001b[0;31m# limitations under the License.\u001b[0m\u001b[0;34m\u001b[0m\u001b[0;34m\u001b[0m\u001b[0m\n\u001b[0;32m---> 14\u001b[0;31m \u001b[0;32mfrom\u001b[0m \u001b[0;34m.\u001b[0m\u001b[0mao\u001b[0m \u001b[0;32mimport\u001b[0m \u001b[0mconvert_model_to_fp8_ao\u001b[0m\u001b[0;34m,\u001b[0m \u001b[0mfilter_first_and_last_linear_layers\u001b[0m\u001b[0;34m,\u001b[0m \u001b[0mhas_ao_layers\u001b[0m\u001b[0;34m\u001b[0m\u001b[0;34m\u001b[0m\u001b[0m\n\u001b[0m\u001b[1;32m     15\u001b[0m from .constants import (\n\u001b[1;32m     16\u001b[0m     \u001b[0mMITA_PROFILING_AVAILABLE_PYTORCH_VERSION\u001b[0m\u001b[0;34m,\u001b[0m\u001b[0;34m\u001b[0m\u001b[0;34m\u001b[0m\u001b[0m\n",
      "\u001b[0;32m/usr/local/lib/python3.11/dist-packages/accelerate/utils/ao.py\u001b[0m in \u001b[0;36m<module>\u001b[0;34m\u001b[0m\n\u001b[1;32m     26\u001b[0m \u001b[0;34m\u001b[0m\u001b[0m\n\u001b[1;32m     27\u001b[0m \u001b[0;32mif\u001b[0m \u001b[0mis_torchao_available\u001b[0m\u001b[0;34m(\u001b[0m\u001b[0;34m)\u001b[0m\u001b[0;34m:\u001b[0m\u001b[0;34m\u001b[0m\u001b[0;34m\u001b[0m\u001b[0m\n\u001b[0;32m---> 28\u001b[0;31m     \u001b[0;32mfrom\u001b[0m \u001b[0mtorchao\u001b[0m\u001b[0;34m.\u001b[0m\u001b[0mfloat8\u001b[0m\u001b[0;34m.\u001b[0m\u001b[0mfloat8_linear\u001b[0m \u001b[0;32mimport\u001b[0m \u001b[0mFloat8LinearConfig\u001b[0m\u001b[0;34m\u001b[0m\u001b[0;34m\u001b[0m\u001b[0m\n\u001b[0m\u001b[1;32m     29\u001b[0m \u001b[0;34m\u001b[0m\u001b[0m\n\u001b[1;32m     30\u001b[0m \u001b[0;34m\u001b[0m\u001b[0m\n",
      "\u001b[0;32m/usr/local/lib/python3.11/dist-packages/torchao/__init__.py\u001b[0m in \u001b[0;36m<module>\u001b[0;34m\u001b[0m\n\u001b[1;32m     39\u001b[0m     \u001b[0mlogging\u001b[0m\u001b[0;34m.\u001b[0m\u001b[0mdebug\u001b[0m\u001b[0;34m(\u001b[0m\u001b[0;34mf\"Skipping import of cpp extensions: {e}\"\u001b[0m\u001b[0;34m)\u001b[0m\u001b[0;34m\u001b[0m\u001b[0;34m\u001b[0m\u001b[0m\n\u001b[1;32m     40\u001b[0m \u001b[0;34m\u001b[0m\u001b[0m\n\u001b[0;32m---> 41\u001b[0;31m from torchao.quantization import (\n\u001b[0m\u001b[1;32m     42\u001b[0m     \u001b[0mautoquant\u001b[0m\u001b[0;34m,\u001b[0m\u001b[0;34m\u001b[0m\u001b[0;34m\u001b[0m\u001b[0m\n\u001b[1;32m     43\u001b[0m     \u001b[0mquantize_\u001b[0m\u001b[0;34m,\u001b[0m\u001b[0;34m\u001b[0m\u001b[0;34m\u001b[0m\u001b[0m\n",
      "\u001b[0;32m/usr/local/lib/python3.11/dist-packages/torchao/quantization/__init__.py\u001b[0m in \u001b[0;36m<module>\u001b[0;34m\u001b[0m\n\u001b[0;32m----> 1\u001b[0;31m from torchao.kernel import (\n\u001b[0m\u001b[1;32m      2\u001b[0m     \u001b[0mint_scaled_matmul\u001b[0m\u001b[0;34m,\u001b[0m\u001b[0;34m\u001b[0m\u001b[0;34m\u001b[0m\u001b[0m\n\u001b[1;32m      3\u001b[0m     \u001b[0msafe_int_mm\u001b[0m\u001b[0;34m,\u001b[0m\u001b[0;34m\u001b[0m\u001b[0;34m\u001b[0m\u001b[0m\n\u001b[1;32m      4\u001b[0m )\n\u001b[1;32m      5\u001b[0m \u001b[0;34m\u001b[0m\u001b[0m\n",
      "\u001b[0;32m/usr/local/lib/python3.11/dist-packages/torchao/kernel/__init__.py\u001b[0m in \u001b[0;36m<module>\u001b[0;34m\u001b[0m\n\u001b[1;32m      1\u001b[0m \u001b[0;32mfrom\u001b[0m \u001b[0mtorchao\u001b[0m\u001b[0;34m.\u001b[0m\u001b[0mkernel\u001b[0m\u001b[0;34m.\u001b[0m\u001b[0mbsr_triton_ops\u001b[0m \u001b[0;32mimport\u001b[0m \u001b[0mbsr_dense_addmm\u001b[0m\u001b[0;34m\u001b[0m\u001b[0;34m\u001b[0m\u001b[0m\n\u001b[0;32m----> 2\u001b[0;31m \u001b[0;32mfrom\u001b[0m \u001b[0mtorchao\u001b[0m\u001b[0;34m.\u001b[0m\u001b[0mkernel\u001b[0m\u001b[0;34m.\u001b[0m\u001b[0mintmm\u001b[0m \u001b[0;32mimport\u001b[0m \u001b[0mint_scaled_matmul\u001b[0m\u001b[0;34m,\u001b[0m \u001b[0msafe_int_mm\u001b[0m\u001b[0;34m\u001b[0m\u001b[0;34m\u001b[0m\u001b[0m\n\u001b[0m\u001b[1;32m      3\u001b[0m \u001b[0;34m\u001b[0m\u001b[0m\n\u001b[1;32m      4\u001b[0m __all__ = [\n\u001b[1;32m      5\u001b[0m     \u001b[0;34m\"bsr_dense_addmm\"\u001b[0m\u001b[0;34m,\u001b[0m\u001b[0;34m\u001b[0m\u001b[0;34m\u001b[0m\u001b[0m\n",
      "\u001b[0;32m/usr/local/lib/python3.11/dist-packages/torchao/kernel/intmm.py\u001b[0m in \u001b[0;36m<module>\u001b[0;34m\u001b[0m\n\u001b[1;32m     31\u001b[0m \u001b[0;31m# torch._int_mm doesn't exist before 2.2\u001b[0m\u001b[0;34m\u001b[0m\u001b[0;34m\u001b[0m\u001b[0m\n\u001b[1;32m     32\u001b[0m \u001b[0;32mif\u001b[0m \u001b[0mTORCH_VERSION_AT_LEAST_2_2\u001b[0m\u001b[0;34m:\u001b[0m\u001b[0;34m\u001b[0m\u001b[0;34m\u001b[0m\u001b[0m\n\u001b[0;32m---> 33\u001b[0;31m     \u001b[0;32mfrom\u001b[0m \u001b[0mtorch\u001b[0m\u001b[0;34m.\u001b[0m\u001b[0m_dynamo\u001b[0m \u001b[0;32mimport\u001b[0m \u001b[0mis_compiling\u001b[0m \u001b[0;32mas\u001b[0m \u001b[0mdynamo_is_compiling\u001b[0m\u001b[0;34m\u001b[0m\u001b[0;34m\u001b[0m\u001b[0m\n\u001b[0m\u001b[1;32m     34\u001b[0m     \u001b[0;32mfrom\u001b[0m \u001b[0mtorch\u001b[0m\u001b[0;34m.\u001b[0m\u001b[0m_higher_order_ops\u001b[0m\u001b[0;34m.\u001b[0m\u001b[0mout_dtype\u001b[0m \u001b[0;32mimport\u001b[0m \u001b[0mout_dtype\u001b[0m\u001b[0;34m\u001b[0m\u001b[0;34m\u001b[0m\u001b[0m\n\u001b[1;32m     35\u001b[0m \u001b[0;34m\u001b[0m\u001b[0m\n",
      "\u001b[0;32m/usr/local/lib/python3.11/dist-packages/torch/_dynamo/__init__.py\u001b[0m in \u001b[0;36m<module>\u001b[0;34m\u001b[0m\n\u001b[1;32m      1\u001b[0m \u001b[0;32mimport\u001b[0m \u001b[0mtorch\u001b[0m\u001b[0;34m\u001b[0m\u001b[0;34m\u001b[0m\u001b[0m\n\u001b[1;32m      2\u001b[0m \u001b[0;34m\u001b[0m\u001b[0m\n\u001b[0;32m----> 3\u001b[0;31m \u001b[0;32mfrom\u001b[0m \u001b[0;34m.\u001b[0m \u001b[0;32mimport\u001b[0m \u001b[0mconvert_frame\u001b[0m\u001b[0;34m,\u001b[0m \u001b[0meval_frame\u001b[0m\u001b[0;34m,\u001b[0m \u001b[0mresume_execution\u001b[0m\u001b[0;34m\u001b[0m\u001b[0;34m\u001b[0m\u001b[0m\n\u001b[0m\u001b[1;32m      4\u001b[0m \u001b[0;32mfrom\u001b[0m \u001b[0;34m.\u001b[0m\u001b[0mbackends\u001b[0m\u001b[0;34m.\u001b[0m\u001b[0mregistry\u001b[0m \u001b[0;32mimport\u001b[0m \u001b[0mlist_backends\u001b[0m\u001b[0;34m,\u001b[0m \u001b[0mlookup_backend\u001b[0m\u001b[0;34m,\u001b[0m \u001b[0mregister_backend\u001b[0m\u001b[0;34m\u001b[0m\u001b[0;34m\u001b[0m\u001b[0m\n\u001b[1;32m      5\u001b[0m \u001b[0;32mfrom\u001b[0m \u001b[0;34m.\u001b[0m\u001b[0mcallback\u001b[0m \u001b[0;32mimport\u001b[0m \u001b[0mcallback_handler\u001b[0m\u001b[0;34m,\u001b[0m \u001b[0mon_compile_end\u001b[0m\u001b[0;34m,\u001b[0m \u001b[0mon_compile_start\u001b[0m\u001b[0;34m\u001b[0m\u001b[0;34m\u001b[0m\u001b[0m\n",
      "\u001b[0;32m/usr/local/lib/python3.11/dist-packages/torch/_dynamo/convert_frame.py\u001b[0m in \u001b[0;36m<module>\u001b[0;34m\u001b[0m\n\u001b[1;32m     31\u001b[0m \u001b[0;32mfrom\u001b[0m \u001b[0mtorch\u001b[0m\u001b[0;34m.\u001b[0m\u001b[0m_C\u001b[0m\u001b[0;34m.\u001b[0m\u001b[0m_dynamo\u001b[0m\u001b[0;34m.\u001b[0m\u001b[0mguards\u001b[0m \u001b[0;32mimport\u001b[0m \u001b[0mGlobalStateGuard\u001b[0m\u001b[0;34m\u001b[0m\u001b[0;34m\u001b[0m\u001b[0m\n\u001b[1;32m     32\u001b[0m \u001b[0;32mfrom\u001b[0m \u001b[0mtorch\u001b[0m\u001b[0;34m.\u001b[0m\u001b[0m_dynamo\u001b[0m\u001b[0;34m.\u001b[0m\u001b[0mdistributed\u001b[0m \u001b[0;32mimport\u001b[0m \u001b[0mget_compile_pg\u001b[0m\u001b[0;34m\u001b[0m\u001b[0;34m\u001b[0m\u001b[0m\n\u001b[0;32m---> 33\u001b[0;31m \u001b[0;32mfrom\u001b[0m \u001b[0mtorch\u001b[0m\u001b[0;34m.\u001b[0m\u001b[0m_dynamo\u001b[0m\u001b[0;34m.\u001b[0m\u001b[0msymbolic_convert\u001b[0m \u001b[0;32mimport\u001b[0m \u001b[0mTensorifyState\u001b[0m\u001b[0;34m\u001b[0m\u001b[0;34m\u001b[0m\u001b[0m\n\u001b[0m\u001b[1;32m     34\u001b[0m \u001b[0;32mfrom\u001b[0m \u001b[0mtorch\u001b[0m\u001b[0;34m.\u001b[0m\u001b[0m_guards\u001b[0m \u001b[0;32mimport\u001b[0m \u001b[0mcompile_context\u001b[0m\u001b[0;34m,\u001b[0m \u001b[0mCompileContext\u001b[0m\u001b[0;34m,\u001b[0m \u001b[0mCompileId\u001b[0m\u001b[0;34m,\u001b[0m \u001b[0mtracing\u001b[0m\u001b[0;34m\u001b[0m\u001b[0;34m\u001b[0m\u001b[0m\n\u001b[1;32m     35\u001b[0m \u001b[0;32mfrom\u001b[0m \u001b[0mtorch\u001b[0m\u001b[0;34m.\u001b[0m\u001b[0m_logging\u001b[0m \u001b[0;32mimport\u001b[0m \u001b[0mstructured\u001b[0m\u001b[0;34m\u001b[0m\u001b[0;34m\u001b[0m\u001b[0m\n",
      "\u001b[0;32m/usr/local/lib/python3.11/dist-packages/torch/_dynamo/symbolic_convert.py\u001b[0m in \u001b[0;36m<module>\u001b[0;34m\u001b[0m\n\u001b[1;32m     28\u001b[0m \u001b[0;32mfrom\u001b[0m \u001b[0mtorch\u001b[0m\u001b[0;34m.\u001b[0m\u001b[0m_guards\u001b[0m \u001b[0;32mimport\u001b[0m \u001b[0mtracing\u001b[0m\u001b[0;34m,\u001b[0m \u001b[0mTracingContext\u001b[0m\u001b[0;34m\u001b[0m\u001b[0;34m\u001b[0m\u001b[0m\n\u001b[1;32m     29\u001b[0m \u001b[0;34m\u001b[0m\u001b[0m\n\u001b[0;32m---> 30\u001b[0;31m \u001b[0;32mfrom\u001b[0m \u001b[0;34m.\u001b[0m \u001b[0;32mimport\u001b[0m \u001b[0mconfig\u001b[0m\u001b[0;34m,\u001b[0m \u001b[0mexc\u001b[0m\u001b[0;34m,\u001b[0m \u001b[0mlogging\u001b[0m \u001b[0;32mas\u001b[0m \u001b[0mtorchdynamo_logging\u001b[0m\u001b[0;34m,\u001b[0m \u001b[0mtrace_rules\u001b[0m\u001b[0;34m,\u001b[0m \u001b[0mvariables\u001b[0m\u001b[0;34m\u001b[0m\u001b[0;34m\u001b[0m\u001b[0m\n\u001b[0m\u001b[1;32m     31\u001b[0m from .bytecode_analysis import (\n\u001b[1;32m     32\u001b[0m     \u001b[0mget_indexof\u001b[0m\u001b[0;34m,\u001b[0m\u001b[0;34m\u001b[0m\u001b[0;34m\u001b[0m\u001b[0m\n",
      "\u001b[0;32m/usr/local/lib/python3.11/dist-packages/torch/_dynamo/trace_rules.py\u001b[0m in \u001b[0;36m<module>\u001b[0;34m\u001b[0m\n\u001b[1;32m     44\u001b[0m \u001b[0;32mfrom\u001b[0m \u001b[0;34m.\u001b[0m\u001b[0mresume_execution\u001b[0m \u001b[0;32mimport\u001b[0m \u001b[0mTORCH_DYNAMO_RESUME_IN_PREFIX\u001b[0m\u001b[0;34m\u001b[0m\u001b[0;34m\u001b[0m\u001b[0m\n\u001b[1;32m     45\u001b[0m \u001b[0;32mfrom\u001b[0m \u001b[0;34m.\u001b[0m\u001b[0mutils\u001b[0m \u001b[0;32mimport\u001b[0m \u001b[0mgetfile\u001b[0m\u001b[0;34m,\u001b[0m \u001b[0mhashable\u001b[0m\u001b[0;34m,\u001b[0m \u001b[0mNP_SUPPORTED_MODULES\u001b[0m\u001b[0;34m,\u001b[0m \u001b[0munwrap_if_wrapper\u001b[0m\u001b[0;34m\u001b[0m\u001b[0;34m\u001b[0m\u001b[0m\n\u001b[0;32m---> 46\u001b[0;31m from .variables import (\n\u001b[0m\u001b[1;32m     47\u001b[0m     \u001b[0mBuiltinVariable\u001b[0m\u001b[0;34m,\u001b[0m\u001b[0;34m\u001b[0m\u001b[0;34m\u001b[0m\u001b[0m\n\u001b[1;32m     48\u001b[0m     \u001b[0mFunctionalCallVariable\u001b[0m\u001b[0;34m,\u001b[0m\u001b[0;34m\u001b[0m\u001b[0;34m\u001b[0m\u001b[0m\n",
      "\u001b[0;32m/usr/local/lib/python3.11/dist-packages/torch/_dynamo/variables/__init__.py\u001b[0m in \u001b[0;36m<module>\u001b[0;34m\u001b[0m\n\u001b[1;32m    107\u001b[0m     \u001b[0mUntypedStorageVariable\u001b[0m\u001b[0;34m,\u001b[0m\u001b[0;34m\u001b[0m\u001b[0;34m\u001b[0m\u001b[0m\n\u001b[1;32m    108\u001b[0m )\n\u001b[0;32m--> 109\u001b[0;31m \u001b[0;32mfrom\u001b[0m \u001b[0;34m.\u001b[0m\u001b[0mtorch\u001b[0m \u001b[0;32mimport\u001b[0m \u001b[0mTorchCtxManagerClassVariable\u001b[0m\u001b[0;34m,\u001b[0m \u001b[0mTorchInGraphFunctionVariable\u001b[0m\u001b[0;34m\u001b[0m\u001b[0;34m\u001b[0m\u001b[0m\n\u001b[0m\u001b[1;32m    110\u001b[0m from .user_defined import (\n\u001b[1;32m    111\u001b[0m     \u001b[0mMutableMappingVariable\u001b[0m\u001b[0;34m,\u001b[0m\u001b[0;34m\u001b[0m\u001b[0;34m\u001b[0m\u001b[0m\n",
      "\u001b[0;32m/usr/local/lib/python3.11/dist-packages/torch/_dynamo/variables/torch.py\u001b[0m in \u001b[0;36m<module>\u001b[0;34m\u001b[0m\n\u001b[1;32m    144\u001b[0m     \u001b[0mtorch\u001b[0m\u001b[0;34m.\u001b[0m\u001b[0mfx\u001b[0m\u001b[0;34m.\u001b[0m\u001b[0m_symbolic_trace\u001b[0m\u001b[0;34m.\u001b[0m\u001b[0mis_fx_tracing\u001b[0m\u001b[0;34m:\u001b[0m \u001b[0;32mFalse\u001b[0m\u001b[0;34m,\u001b[0m\u001b[0;34m\u001b[0m\u001b[0;34m\u001b[0m\u001b[0m\n\u001b[1;32m    145\u001b[0m     \u001b[0mtorch\u001b[0m\u001b[0;34m.\u001b[0m\u001b[0monnx\u001b[0m\u001b[0;34m.\u001b[0m\u001b[0mis_in_onnx_export\u001b[0m\u001b[0;34m:\u001b[0m \u001b[0;32mFalse\u001b[0m\u001b[0;34m,\u001b[0m\u001b[0;34m\u001b[0m\u001b[0;34m\u001b[0m\u001b[0m\n\u001b[0;32m--> 146\u001b[0;31m     \u001b[0mtorch\u001b[0m\u001b[0;34m.\u001b[0m\u001b[0m_dynamo\u001b[0m\u001b[0;34m.\u001b[0m\u001b[0mexternal_utils\u001b[0m\u001b[0;34m.\u001b[0m\u001b[0mis_compiling\u001b[0m\u001b[0;34m:\u001b[0m \u001b[0;32mTrue\u001b[0m\u001b[0;34m,\u001b[0m\u001b[0;34m\u001b[0m\u001b[0;34m\u001b[0m\u001b[0m\n\u001b[0m\u001b[1;32m    147\u001b[0m     \u001b[0mtorch\u001b[0m\u001b[0;34m.\u001b[0m\u001b[0m_utils\u001b[0m\u001b[0;34m.\u001b[0m\u001b[0mis_compiling\u001b[0m\u001b[0;34m:\u001b[0m \u001b[0;32mTrue\u001b[0m\u001b[0;34m,\u001b[0m\u001b[0;34m\u001b[0m\u001b[0;34m\u001b[0m\u001b[0m\n\u001b[1;32m    148\u001b[0m     \u001b[0mtorch\u001b[0m\u001b[0;34m.\u001b[0m\u001b[0mcompiler\u001b[0m\u001b[0;34m.\u001b[0m\u001b[0mis_compiling\u001b[0m\u001b[0;34m:\u001b[0m \u001b[0;32mTrue\u001b[0m\u001b[0;34m,\u001b[0m\u001b[0;34m\u001b[0m\u001b[0;34m\u001b[0m\u001b[0m\n",
      "\u001b[0;31mAttributeError\u001b[0m: partially initialized module 'torch._dynamo' has no attribute 'external_utils' (most likely due to a circular import)"
     ]
    }
   ],
   "source": [
    "from torch.utils.data import DataLoader\n",
    "from torch.optim import Adam\n",
    "from tqdm import tqdm\n",
    "from accelerate import Accelerator\n",
    "\n",
    "accelerator = Accelerator(mixed_precision=\"bf16\")\n",
    "model = Model()\n",
    "dataloader = DataLoader(dataset, batch_size=64, shuffle=True, drop_last=True, num_workers=1, pin_memory=True,\n",
    "                        persistent_workers=True)\n",
    "optimizer = Adam(model.parameters(), lr=1e-4)\n",
    "w = torch.tensor([5.28], dtype=torch.float32, device=\"cuda\")\n",
    "loss_fn = nn.BCELoss(weight=w)\n",
    "\n",
    "model, dataloader, optimizer = accelerator.prepare(model, dataloader, optimizer)\n",
    "\n",
    "for epoch in range(20):\n",
    "    count = 0\n",
    "    total = 0\n",
    "\n",
    "    for eth, ip, pkt, labels in tqdm(dataloader):\n",
    "        optimizer.zero_grad()\n",
    "        pkt = model(eth, ip, pkt)\n",
    "        loss = loss_fn(pkt, labels)\n",
    "        count += 1\n",
    "        total += loss.item()\n",
    "        loss.backward()\n",
    "        optimizer.step()\n",
    "\n",
    "    print(\"Epoch {} Loss {}\".format(epoch, total / count))"
   ]
  },
  {
   "cell_type": "code",
   "execution_count": null,
   "id": "0590c281-4e43-4734-8c50-61023d18e214",
   "metadata": {
    "trusted": true
   },
   "outputs": [],
   "source": [
    "df_val = pd.read_csv(\"df_val.csv\")"
   ]
  },
  {
   "cell_type": "code",
   "execution_count": null,
   "id": "b754855b-87a2-4b70-9f35-8e4332fcf901",
   "metadata": {
    "trusted": true
   },
   "outputs": [],
   "source": [
    "dataset_val = NetworkDataset(df_val, 128)"
   ]
  },
  {
   "cell_type": "code",
   "execution_count": 39,
   "id": "6fa37a95eaad79df",
   "metadata": {
    "ExecuteTime": {
     "end_time": "2025-05-09T17:12:43.962042Z",
     "start_time": "2025-05-09T17:12:43.948204Z"
    }
   },
   "outputs": [
    {
     "name": "stdout",
     "output_type": "stream",
     "text": [
      "tensor([[False, False, False, False, False, False, False, False, False, False,\n",
      "         False, False, False, False, False, False, False, False, False, False,\n",
      "         False, False, False, False, False, False, False, False, False, False,\n",
      "         False, False, False, False, False, False, False, False, False, False,\n",
      "         False, False, False, False, False, False, False, False, False, False,\n",
      "         False, False, False, False, False, False, False, False, False, False,\n",
      "         False, False, False, False, False, False, False, False, False, False,\n",
      "         False, False, False, False, False, False, False, False, False, False,\n",
      "         False, False, False, False, False, False, False, False, False, False,\n",
      "         False, False, False, False, False, False, False, False, False, False,\n",
      "         False, False, False, False, False, False, False, False, False, False,\n",
      "          True,  True, False, False, False,  True, False, False, False, False,\n",
      "          True,  True,  True,  True, False, False, False, False]],\n",
      "       device='cuda:0')\n"
     ]
    },
    {
     "data": {
      "text/plain": [
       "tensor([[0., 0., 0., 0., 0., 0., 0., 0., 0., 0., 0., 0., 0., 0., 0., 0., 0., 0.,\n",
       "         0., 0., 0., 0., 0., 0., 0., 0., 0., 0., 0., 0., 0., 0., 0., 0., 0., 0.,\n",
       "         0., 0., 0., 0., 0., 0., 0., 0., 0., 0., 0., 0., 0., 0., 0., 0., 0., 0.,\n",
       "         0., 0., 0., 0., 0., 0., 0., 0., 0., 0., 0., 0., 0., 0., 0., 0., 0., 0.,\n",
       "         0., 0., 0., 0., 0., 0., 0., 0., 0., 0., 0., 0., 0., 0., 0., 0., 0., 0.,\n",
       "         0., 0., 0., 0., 0., 0., 0., 0., 0., 0., 0., 0., 0., 0., 0., 0., 0., 0.,\n",
       "         0., 0., 0., 0., 0., 0., 0., 0., 0., 0., 0., 0., 1., 1., 1., 1., 1., 1.,\n",
       "         1., 1.]], device='cuda:0')"
      ]
     },
     "execution_count": 39,
     "metadata": {},
     "output_type": "execute_result"
    }
   ],
   "source": [
    "ip, eth, pkt, labels = dataset_val\n",
    "ip = torch.from_numpy(ip).cuda().unsqueeze(0)\n",
    "eth = torch.from_numpy(eth).cuda().unsqueeze(0)\n",
    "pkt = torch.from_numpy(pkt).cuda().unsqueeze(0)\n",
    "labels = torch.from_numpy(labels).cuda().unsqueeze(0)\n",
    "\n",
    "pred = model(ip, eth, pkt)\n",
    "print(pred)\n",
    "print(pred > 0.5)\n",
    "labels"
   ]
  },
  {
   "cell_type": "code",
   "execution_count": null,
   "id": "cbb86d86-d72a-4bbb-b539-17297a917536",
   "metadata": {
    "trusted": true
   },
   "outputs": [],
   "source": [
    "pred = pred.reshape(-1, 1)\n",
    "labels =  labels.reshape(-1, 1)"
   ]
  },
  {
   "cell_type": "code",
   "execution_count": 68,
   "id": "56973ae32a55ba37",
   "metadata": {
    "ExecuteTime": {
     "end_time": "2025-05-07T20:38:31.365991Z",
     "start_time": "2025-05-07T20:38:31.362352Z"
    }
   },
   "outputs": [
    {
     "data": {
      "text/plain": [
       "tensor(0.7049, device='cuda:0', grad_fn=<BinaryCrossEntropyBackward0>)"
      ]
     },
     "execution_count": 68,
     "metadata": {},
     "output_type": "execute_result"
    }
   ],
   "source": [
    "loss_fn(pred, labels)"
   ]
  },
  {
   "cell_type": "code",
   "execution_count": null,
   "id": "ecf715b721e5413d",
   "metadata": {},
   "outputs": [],
   "source": [
    "#confusion matrix\n",
    "cm = confusion_matrix(labels, pred)\n",
    "num = labels.shape[0]\n",
    "norm = cm/num\n",
    "# Plot with Seaborn\n",
    "plt.figure(figsize=(10, 7))\n",
    "sns.heatmap(cm, annot=True, fmt='.4f', cmap='Blues')\n",
    "plt.xlabel('Predicted')\n",
    "plt.ylabel('Actual')\n",
    "plt.title('Confusion Matrix - Incident Grade Prediction')\n",
    "plt.show()"
   ]
  },
  {
   "cell_type": "code",
   "execution_count": null,
   "id": "5058ccee-9b42-438a-9bf4-8dd1543e593d",
   "metadata": {
    "trusted": true
   },
   "outputs": [],
   "source": [
    "#ROC Curve\n",
    "fpr, tpr, thresholds = roc_curve(labels, pred)\n",
    "plt.figure(figsize=(8, 6))\n",
    "plt.plot(fpr, tpr, color='blue', lw=2, label='ROC curve (area = %0.4f)' % roc_auc_score(y_test, y_pred))\n",
    "plt.plot([0, 1], [0, 1], color='navy', lw=2, linestyle='--')\n",
    "plt.xlim([0.0, 1.0])\n",
    "plt.ylim([0.0, 1.05])\n",
    "plt.xlabel('False Positive Rate')\n",
    "plt.ylabel('True Positive Rate')\n",
    "# plt.title('Receiver Operating Characteristic (ROC) Curve')\n",
    "plt.legend(loc=\"lower right\")\n",
    "plt.show()"
   ]
  }
 ],
 "metadata": {
  "kaggle": {
   "accelerator": "gpu",
   "dataSources": [
    {
     "datasetId": 7445389,
     "sourceId": 11849365,
     "sourceType": "datasetVersion"
    }
   ],
   "dockerImageVersionId": 31040,
   "isGpuEnabled": true,
   "isInternetEnabled": true,
   "language": "python",
   "sourceType": "notebook"
  },
  "kernelspec": {
   "display_name": "Python 3",
   "language": "python",
   "name": "python3"
  },
  "language_info": {
   "codemirror_mode": {
    "name": "ipython",
    "version": 3
   },
   "file_extension": ".py",
   "mimetype": "text/x-python",
   "name": "python",
   "nbconvert_exporter": "python",
   "pygments_lexer": "ipython3",
   "version": "3.11.11"
  }
 },
 "nbformat": 4,
 "nbformat_minor": 5
}
