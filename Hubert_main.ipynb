{
 "cells": [
  {
   "cell_type": "code",
   "id": "initial_id",
   "metadata": {
    "execution": {
     "iopub.execute_input": "2025-05-18T11:05:15.858713Z",
     "iopub.status.busy": "2025-05-18T11:05:15.857998Z",
     "iopub.status.idle": "2025-05-18T11:05:18.779258Z",
     "shell.execute_reply": "2025-05-18T11:05:18.778504Z",
     "shell.execute_reply.started": "2025-05-18T11:05:15.858685Z"
    },
    "trusted": true,
    "ExecuteTime": {
     "end_time": "2025-05-19T14:54:39.122087Z",
     "start_time": "2025-05-19T14:54:38.096941Z"
    }
   },
   "source": [
    "import matplotlib.pyplot as plt\n",
    "import pandas as pd\n",
    "#import modin.pandas as pd\n",
    "import numpy as np\n",
    "import torch\n",
    "from torch import nn\n",
    "from torch.nn import functional as F\n",
    "import gc\n",
    "from sklearn.metrics import confusion_matrix, roc_curve \n",
    "import matplotlib.pyplot as plt\n",
    "import seaborn as sns\n",
    "\n",
    "pd.set_option('display.max_colwidth', None)\n",
    "pd.set_option('future.no_silent_downcasting', True)\n",
    "\n",
    "\n",
    "import os\n",
    "for dirname, _, filenames in os.walk('/kaggle/input'):\n",
    "    for filename in filenames:\n",
    "        print(os.path.join(dirname, filename))\n",
    "# df = pd.read_csv(\"output_adam.csv\")\n",
    "# df_label = pd.read_csv(\"mirai_labels.csv\")\n",
    "# df[\"alert\"] = df_label\n",
    "# df.head()"
   ],
   "outputs": [],
   "execution_count": 1
  },
  {
   "cell_type": "code",
   "id": "5c87eab2",
   "metadata": {
    "ExecuteTime": {
     "end_time": "2025-05-19T14:55:06.306832Z",
     "start_time": "2025-05-19T14:54:39.122756Z"
    }
   },
   "source": [
    "df = pd.read_csv(\"df_train.csv\")"
   ],
   "outputs": [
    {
     "name": "stderr",
     "output_type": "stream",
     "text": [
      "2025-05-19 16:54:39,239\tINFO util.py:154 -- Outdated packages:\n",
      "  ipywidgets==7.8.3 found, needs ipywidgets>=8\n",
      "Run `pip install -U ipywidgets`, then restart the notebook server for rich notebook output.\n",
      "2025-05-19 16:54:41,069\tINFO worker.py:1819 -- Started a local Ray instance.\n",
      "2025-05-19 16:54:41,691\tINFO util.py:154 -- Outdated packages:\n",
      "  ipywidgets==7.8.3 found, needs ipywidgets>=8\n",
      "Run `pip install -U ipywidgets`, then restart the notebook server for rich notebook output.\n",
      "UserWarning: `read_*` implementation has mismatches with pandas:\n",
      "Data types of partitions are different! Please refer to the troubleshooting section of the Modin documentation to fix this issue.\n"
     ]
    }
   ],
   "execution_count": 2
  },
  {
   "cell_type": "code",
   "id": "0cb0bacb-b9f6-490a-8fd8-aa6000ea9125",
   "metadata": {
    "execution": {
     "iopub.execute_input": "2025-05-18T11:11:51.139552Z",
     "iopub.status.busy": "2025-05-18T11:11:51.139001Z",
     "iopub.status.idle": "2025-05-18T11:11:51.145451Z",
     "shell.execute_reply": "2025-05-18T11:11:51.144847Z",
     "shell.execute_reply.started": "2025-05-18T11:11:51.139526Z"
    },
    "trusted": true,
    "ExecuteTime": {
     "end_time": "2025-05-18T18:26:07.316095Z",
     "start_time": "2025-05-18T18:26:07.312218Z"
    }
   },
   "source": [
    "df.columns"
   ],
   "outputs": [
    {
     "data": {
      "text/plain": [
       "Index(['frame.number', 'frame.len', 'frame.time', 'frame.time_epoch',\n",
       "       'frame.protocols', 'eth.src', 'eth.dst', 'eth.type', 'ip.src', 'ip.dst',\n",
       "       'ip.len', 'ip.ttl', 'ip.flags', 'ip.frag_offset', 'ip.proto',\n",
       "       'ip.version', 'ip.dsfield', 'ip.checksum', 'tcp.srcport', 'tcp.dstport',\n",
       "       'tcp.len', 'tcp.seq', 'tcp.ack', 'tcp.flags', 'tcp.flags.syn',\n",
       "       'tcp.flags.ack', 'tcp.flags.fin', 'tcp.flags.reset', 'tcp.window_size',\n",
       "       'tcp.checksum', 'tcp.stream', 'udp.srcport', 'udp.dstport',\n",
       "       'udp.length', 'udp.checksum', 'icmp.type', 'icmp.code', 'icmp.checksum',\n",
       "       'http.request.method', 'http.request.uri', 'http.request.version',\n",
       "       'http.request.full_uri', 'http.response.code', 'http.user_agent',\n",
       "       'http.content_length_header', 'http.content_type', 'http.cookie',\n",
       "       'http.host', 'http.referer', 'http.location', 'http.authorization',\n",
       "       'http.connection', 'dns.qry.name', 'dns.qry.type', 'dns.qry.class',\n",
       "       'dns.flags.response', 'dns.flags.recdesired', 'dns.flags.rcode',\n",
       "       'dns.resp.ttl', 'dns.resp.len', 'smtp.req.command',\n",
       "       'smtp.data.fragment', 'pop.request.command', 'pop.response',\n",
       "       'imap.request.command', 'imap.response', 'ftp.request.command',\n",
       "       'ftp.request.arg', 'ftp.response.code', 'ftp.response.arg', 'ipv6.src',\n",
       "       'ipv6.dst', 'ipv6.plen', 'alert'],\n",
       "      dtype='object')"
      ]
     },
     "execution_count": 3,
     "metadata": {},
     "output_type": "execute_result"
    }
   ],
   "execution_count": 3
  },
  {
   "cell_type": "code",
   "id": "aa40edf8aa893d58",
   "metadata": {
    "execution": {
     "iopub.execute_input": "2025-05-18T08:16:07.678873Z",
     "iopub.status.busy": "2025-05-18T08:16:07.678245Z",
     "iopub.status.idle": "2025-05-18T08:16:07.695729Z",
     "shell.execute_reply": "2025-05-18T08:16:07.695209Z",
     "shell.execute_reply.started": "2025-05-18T08:16:07.678854Z"
    },
    "trusted": true,
    "ExecuteTime": {
     "end_time": "2025-05-19T14:55:18.434195Z",
     "start_time": "2025-05-19T14:55:18.065019Z"
    }
   },
   "source": [
    "df[\"frame.time\"].iloc[1]"
   ],
   "outputs": [
    {
     "data": {
      "text/plain": [
       "'Aug  9, 2017 10:57:35.416698000 Środkowoeuropejski czas letni'"
      ]
     },
     "execution_count": 3,
     "metadata": {},
     "output_type": "execute_result"
    }
   ],
   "execution_count": 3
  },
  {
   "cell_type": "code",
   "id": "f2805f29433b2064",
   "metadata": {
    "execution": {
     "iopub.execute_input": "2025-05-18T09:23:38.932858Z",
     "iopub.status.busy": "2025-05-18T09:23:38.932634Z",
     "iopub.status.idle": "2025-05-18T09:23:38.938339Z",
     "shell.execute_reply": "2025-05-18T09:23:38.937572Z",
     "shell.execute_reply.started": "2025-05-18T09:23:38.932838Z"
    },
    "trusted": true,
    "ExecuteTime": {
     "end_time": "2025-05-19T14:55:20.333704Z",
     "start_time": "2025-05-19T14:55:20.330262Z"
    }
   },
   "source": [
    "def ordinalize_packets(packet_data, column=\"ip\"):\n",
    "    src_col = f\"{column}.src\"\n",
    "    dst_col = f\"{column}.dst\"\n",
    "    if 'frame.number' not in packet_data.columns or src_col not in packet_data.columns or dst_col not in packet_data.columns:\n",
    "        raise ValueError(\"DataFrame must contain 'frame.number' and  columns\")\n",
    "\n",
    "    out_src = packet_data.reset_index().groupby([src_col])['index'].min()\n",
    "    out_dst = packet_data.reset_index().groupby([dst_col])['index'].min() + 0.5\n",
    "    out = pd.concat([out_src, out_dst], axis=0).sort_values()\n",
    "    out = out[~out.index.duplicated(keep='first')]\n",
    "    out.iloc[:] = out.reset_index(name=\"ip\").index\n",
    "    out = out.astype(int)\n",
    "    mappings = out.to_dict()\n",
    "    return mappings\n",
    "    #packet_data.loc[:, src_col] = packet_data[src_col].replace(mappings).astype(int)\n",
    "    #packet_data.loc[:, dst_col] = packet_data[dst_col].replace(mappings).astype(int)"
   ],
   "outputs": [],
   "execution_count": 4
  },
  {
   "cell_type": "code",
   "id": "b133fe80ff57d37f",
   "metadata": {
    "execution": {
     "iopub.execute_input": "2025-05-18T09:23:38.939376Z",
     "iopub.status.busy": "2025-05-18T09:23:38.939166Z",
     "iopub.status.idle": "2025-05-18T09:25:39.536727Z",
     "shell.execute_reply": "2025-05-18T09:25:39.536114Z",
     "shell.execute_reply.started": "2025-05-18T09:23:38.939359Z"
    },
    "trusted": true,
    "ExecuteTime": {
     "end_time": "2025-05-19T14:55:45.410481Z",
     "start_time": "2025-05-19T14:55:21.113675Z"
    }
   },
   "source": [
    "features = [\"frame.number\", \"frame.len\", 'frame.time', 'eth.src', 'eth.dst', 'ip.src', 'ip.dst', 'ip.len', 'ip.ttl',\n",
    "            'tcp.srcport', 'tcp.dstport',\n",
    "            'tcp.flags.ack', 'tcp.flags.fin', 'tcp.flags.reset', \"alert\", \"udp.srcport\", \"udp.dstport\"]\n",
    "df = df[features]\n",
    "df[\"frame.len\"] /= 65535\n",
    "df[\"ip.len\"] /= 65535\n",
    "df[\"ip.ttl\"] /= 255\n",
    "df[\"tcp.srcport\"] /= 65535\n",
    "df[\"tcp.dstport\"] /= 65535\n",
    "df[\"udp.srcport\"] /= 65535\n",
    "df[\"udp.dstport\"] /= 65535\n",
    "df[\"frame.time\"] = df[\"frame.time\"].str.replace(\" Środkowoeuropejski czas letni\", \"\")#mój PCAP był po POlsku Pudzian byłby dumny :peepoGlad# CEST\n",
    "df[\"frame.time\"] = df[\"frame.time\"].str.replace(\" Środkowoeuropejski czas stand.\", \"\")\n",
    "df[\"frame.time\"] = df[\"frame.time\"].str.replace(\" CEST\", \"\")\n",
    "df[\"frame.time\"] = pd.to_datetime(df[\"frame.time\"])\n",
    "df['dow_sin'] = np.sin(2 * np.pi * df[\"frame.time\"].dt.dayofweek / 6)\n",
    "df['dow_cos'] = np.cos(2 * np.pi * df[\"frame.time\"].dt.dayofweek / 6)\n",
    "df['hour_sin'] = np.sin(2 * np.pi * df[\"frame.time\"].dt.hour / 24.0)\n",
    "df['hour_cos'] = np.cos(2 * np.pi * df[\"frame.time\"].dt.hour / 24.0)\n",
    "df[\"minute_sin\"] = np.sin(2 * np.pi * df[\"frame.time\"].dt.minute / 60)\n",
    "df[\"minute_cos\"] = np.cos(2 * np.pi * df[\"frame.time\"].dt.minute / 60)\n",
    "df[\"second_sin\"] = np.sin(2 * np.pi * df[\"frame.time\"].dt.second / 60)\n",
    "df[\"second_cos\"] = np.cos(2 * np.pi * df[\"frame.time\"].dt.second / 60)\n",
    "df[\"ms_sin\"] = np.sin(2 * np.pi * df[\"frame.time\"].dt.microsecond / 1000000)\n",
    "df[\"ms_cos\"] = np.cos(2 * np.pi * df[\"frame.time\"].dt.microsecond / 1000000)\n",
    "df = df.fillna(0)  # only tcp is left\n",
    "df = df.drop(columns=[\"frame.time\"])"
   ],
   "outputs": [
    {
     "name": "stderr",
     "output_type": "stream",
     "text": [
      "UserWarning: __array_ufunc__ is not currently supported by PandasOnRay, defaulting to pandas implementation.\n",
      "Please refer to https://modin.readthedocs.io/en/stable/supported_apis/defaulting_to_pandas.html for explanation.\n",
      "\u001B[36m(_remote_exec_multi_chain pid=15529)\u001B[0m time data \"Feb 25, 2017 10:06:21.412248000\" doesn't match format \"%B  %d, %Y %H:%M:%S.%f\", at position 69996. You might want to try:\n",
      "\u001B[36m(_remote_exec_multi_chain pid=15529)\u001B[0m     - passing `format` if your strings have a consistent format;\n",
      "\u001B[36m(_remote_exec_multi_chain pid=15529)\u001B[0m     - passing `format='ISO8601'` if your strings are all ISO8601 but not necessarily in exactly the same format;\n",
      "\u001B[36m(_remote_exec_multi_chain pid=15529)\u001B[0m     - passing `format='mixed'`, and the format will be inferred for each element individually. You might want to use `dayfirst` alongside this.. fn=<function Map.register.<locals>.caller.<locals>.<lambda> at 0x7f99c74eed40>, obj=                               frame.time\n",
      "\u001B[36m(_remote_exec_multi_chain pid=15529)\u001B[0m 12549135  May  4, 2017 22:17:00.461601000\n",
      "\u001B[36m(_remote_exec_multi_chain pid=15529)\u001B[0m 12549136  May  4, 2017 22:09:53.993326000\n",
      "\u001B[36m(_remote_exec_multi_chain pid=15529)\u001B[0m 12549137  May  4, 2017 21:49:28.621356000\n",
      "\u001B[36m(_remote_exec_multi_chain pid=15529)\u001B[0m 12549138  May  4, 2017 22:22:07.634825000\n",
      "\u001B[36m(_remote_exec_multi_chain pid=15529)\u001B[0m 12549139  May  4, 2017 22:22:03.144895000\n",
      "\u001B[36m(_remote_exec_multi_chain pid=15529)\u001B[0m ...                                   ...\n",
      "\u001B[36m(_remote_exec_multi_chain pid=15529)\u001B[0m 13081381  Feb 25, 2017 09:33:30.289480000\n",
      "\u001B[36m(_remote_exec_multi_chain pid=15529)\u001B[0m 13081382  Feb 25, 2017 10:19:45.081673000\n",
      "\u001B[36m(_remote_exec_multi_chain pid=15529)\u001B[0m 13081383  Feb 25, 2017 10:12:12.516601000\n",
      "\u001B[36m(_remote_exec_multi_chain pid=15529)\u001B[0m 13081384  Feb 25, 2017 10:12:20.494905000\n",
      "\u001B[36m(_remote_exec_multi_chain pid=15529)\u001B[0m 13081385  Feb 25, 2017 09:44:15.531085000\n",
      "\u001B[36m(_remote_exec_multi_chain pid=15529)\u001B[0m \n",
      "\u001B[36m(_remote_exec_multi_chain pid=15529)\u001B[0m [532251 rows x 1 columns], args=[], kwargs={}\n",
      "\u001B[36m(_remote_exec_multi_chain pid=15529)\u001B[0m time data \"Feb 25, 2017 10:06:21.412248000\" doesn't match format \"%B  %d, %Y %H:%M:%S.%f\", at position 69996. You might want to try:\n",
      "\u001B[36m(_remote_exec_multi_chain pid=15529)\u001B[0m     - passing `format` if your strings have a consistent format;\n",
      "\u001B[36m(_remote_exec_multi_chain pid=15529)\u001B[0m     - passing `format='ISO8601'` if your strings are all ISO8601 but not necessarily in exactly the same format;\n",
      "\u001B[36m(_remote_exec_multi_chain pid=15529)\u001B[0m     - passing `format='mixed'`, and the format will be inferred for each element individually. You might want to use `dayfirst` alongside this.. args=(                               frame.time\n",
      "\u001B[36m(_remote_exec_multi_chain pid=15529)\u001B[0m 12549135  May  4, 2017 22:17:00.461601000\n",
      "\u001B[36m(_remote_exec_multi_chain pid=15529)\u001B[0m 12549136  May  4, 2017 22:09:53.993326000\n",
      "\u001B[36m(_remote_exec_multi_chain pid=15529)\u001B[0m 12549137  May  4, 2017 21:49:28.621356000\n",
      "\u001B[36m(_remote_exec_multi_chain pid=15529)\u001B[0m 12549138  May  4, 2017 22:22:07.634825000\n",
      "\u001B[36m(_remote_exec_multi_chain pid=15529)\u001B[0m 12549139  May  4, 2017 22:22:03.144895000\n",
      "\u001B[36m(_remote_exec_multi_chain pid=15529)\u001B[0m ...                                   ...\n",
      "\u001B[36m(_remote_exec_multi_chain pid=15529)\u001B[0m 13081381  Feb 25, 2017 09:33:30.289480000\n",
      "\u001B[36m(_remote_exec_multi_chain pid=15529)\u001B[0m 13081382  Feb 25, 2017 10:19:45.081673000\n",
      "\u001B[36m(_remote_exec_multi_chain pid=15529)\u001B[0m 13081383  Feb 25, 2017 10:12:12.516601000\n",
      "\u001B[36m(_remote_exec_multi_chain pid=15529)\u001B[0m 13081384  Feb 25, 2017 10:12:20.494905000\n",
      "\u001B[36m(_remote_exec_multi_chain pid=15529)\u001B[0m 13081385  Feb 25, 2017 09:44:15.531085000\n",
      "\u001B[36m(_remote_exec_multi_chain pid=15529)\u001B[0m \n",
      "\u001B[36m(_remote_exec_multi_chain pid=15529)\u001B[0m [532251 rows x 1 columns], <function PandasDataframePartition._iloc at 0x7f99c74edd00>, 2, slice(None, None, None), array([0]), 0, 0, 1, <function Map.register.<locals>.caller.<locals>.<lambda> at 0x7f99c74eed40>, 0, 0, 0, 1), chain=[0, 1]\n"
     ]
    },
    {
     "ename": "RayTaskError(ValueError)",
     "evalue": "\u001B[36mray::_remote_exec_single_chain()\u001B[39m (pid=15529, ip=192.168.0.13)\n  At least one of the input arguments for this task could not be computed:\nray.exceptions.RayTaskError: \u001B[36mray::_remote_exec_multi_chain()\u001B[39m (pid=15529, ip=192.168.0.13)\n  At least one of the input arguments for this task could not be computed:\nray.exceptions.RayTaskError: \u001B[36mray::_remote_exec_multi_chain()\u001B[39m (pid=15529, ip=192.168.0.13)\n  File \"/usr/local/lib/python3.11/dist-packages/modin/core/execution/ray/common/deferred_execution.py\", line 594, in exec_func\n    return fn(obj, *args, **kwargs)\n           ^^^^^^^^^^^^^^^^^^^^^^^^\n  File \"/usr/local/lib/python3.11/dist-packages/modin/core/dataframe/algebra/map.py\", line 65, in <lambda>\n    lambda x: function(x, *args, **kwargs), *call_args, **call_kwds\n              ^^^^^^^^^^^^^^^^^^^^^^^^^^^^\n  File \"/usr/local/lib/python3.11/dist-packages/modin/core/storage_formats/pandas/query_compiler.py\", line 1084, in <lambda>\n    lambda df, *args, **kwargs: pandas.to_datetime(\n                                ^^^^^^^^^^^^^^^^^^^\n  File \"/usr/local/lib/python3.11/dist-packages/pandas/core/tools/datetimes.py\", line 1067, in to_datetime\n    values = convert_listlike(arg._values, format)\n             ^^^^^^^^^^^^^^^^^^^^^^^^^^^^^^^^^^^^^\n  File \"/usr/local/lib/python3.11/dist-packages/pandas/core/tools/datetimes.py\", line 433, in _convert_listlike_datetimes\n    return _array_strptime_with_fallback(arg, name, utc, format, exact, errors)\n           ^^^^^^^^^^^^^^^^^^^^^^^^^^^^^^^^^^^^^^^^^^^^^^^^^^^^^^^^^^^^^^^^^^^^\n  File \"/usr/local/lib/python3.11/dist-packages/pandas/core/tools/datetimes.py\", line 467, in _array_strptime_with_fallback\n    result, tz_out = array_strptime(arg, fmt, exact=exact, errors=errors, utc=utc)\n                     ^^^^^^^^^^^^^^^^^^^^^^^^^^^^^^^^^^^^^^^^^^^^^^^^^^^^^^^^^^^^^\n  File \"strptime.pyx\", line 501, in pandas._libs.tslibs.strptime.array_strptime\n  File \"strptime.pyx\", line 451, in pandas._libs.tslibs.strptime.array_strptime\n  File \"strptime.pyx\", line 583, in pandas._libs.tslibs.strptime._parse_with_format\nValueError: time data \"Feb 25, 2017 10:06:21.412248000\" doesn't match format \"%B  %d, %Y %H:%M:%S.%f\", at position 69996. You might want to try:\n    - passing `format` if your strings have a consistent format;\n    - passing `format='ISO8601'` if your strings are all ISO8601 but not necessarily in exactly the same format;\n    - passing `format='mixed'`, and the format will be inferred for each element individually. You might want to use `dayfirst` alongside this.\n\nDuring handling of the above exception, another exception occurred:\n\n\u001B[36mray::_remote_exec_multi_chain()\u001B[39m (pid=15529, ip=192.168.0.13)\n  File \"/usr/local/lib/python3.11/dist-packages/modin/core/execution/ray/common/deferred_execution.py\", line 645, in construct\n    raise err\n  File \"/usr/local/lib/python3.11/dist-packages/modin/core/execution/ray/common/deferred_execution.py\", line 635, in construct\n    obj = next(gen)\n          ^^^^^^^^^\n  File \"/usr/local/lib/python3.11/dist-packages/modin/core/execution/ray/common/deferred_execution.py\", line 713, in construct_chain\n    obj = cls.exec_func(fn, obj, args, kwargs)\n          ^^^^^^^^^^^^^^^^^^^^^^^^^^^^^^^^^^^^\n  File \"/usr/local/lib/python3.11/dist-packages/modin/core/execution/ray/common/deferred_execution.py\", line 607, in exec_func\n    raise err\n  File \"/usr/local/lib/python3.11/dist-packages/modin/core/execution/ray/common/deferred_execution.py\", line 600, in exec_func\n    return fn(obj.copy(), *args, **kwargs)\n           ^^^^^^^^^^^^^^^^^^^^^^^^^^^^^^^\n  File \"/usr/local/lib/python3.11/dist-packages/modin/core/dataframe/algebra/map.py\", line 65, in <lambda>\n    lambda x: function(x, *args, **kwargs), *call_args, **call_kwds\n              ^^^^^^^^^^^^^^^^^^^^^^^^^^^^\n  File \"/usr/local/lib/python3.11/dist-packages/modin/core/storage_formats/pandas/query_compiler.py\", line 1084, in <lambda>\n    lambda df, *args, **kwargs: pandas.to_datetime(\n                                ^^^^^^^^^^^^^^^^^^^\n  File \"/usr/local/lib/python3.11/dist-packages/pandas/core/tools/datetimes.py\", line 1067, in to_datetime\n    values = convert_listlike(arg._values, format)\n             ^^^^^^^^^^^^^^^^^^^^^^^^^^^^^^^^^^^^^\n  File \"/usr/local/lib/python3.11/dist-packages/pandas/core/tools/datetimes.py\", line 433, in _convert_listlike_datetimes\n    return _array_strptime_with_fallback(arg, name, utc, format, exact, errors)\n           ^^^^^^^^^^^^^^^^^^^^^^^^^^^^^^^^^^^^^^^^^^^^^^^^^^^^^^^^^^^^^^^^^^^^\n  File \"/usr/local/lib/python3.11/dist-packages/pandas/core/tools/datetimes.py\", line 467, in _array_strptime_with_fallback\n    result, tz_out = array_strptime(arg, fmt, exact=exact, errors=errors, utc=utc)\n                     ^^^^^^^^^^^^^^^^^^^^^^^^^^^^^^^^^^^^^^^^^^^^^^^^^^^^^^^^^^^^^\n  File \"strptime.pyx\", line 501, in pandas._libs.tslibs.strptime.array_strptime\n  File \"strptime.pyx\", line 451, in pandas._libs.tslibs.strptime.array_strptime\n  File \"strptime.pyx\", line 583, in pandas._libs.tslibs.strptime._parse_with_format\nValueError: time data \"Feb 25, 2017 10:06:21.412248000\" doesn't match format \"%B  %d, %Y %H:%M:%S.%f\", at position 69996. You might want to try:\n    - passing `format` if your strings have a consistent format;\n    - passing `format='ISO8601'` if your strings are all ISO8601 but not necessarily in exactly the same format;\n    - passing `format='mixed'`, and the format will be inferred for each element individually. You might want to use `dayfirst` alongside this.",
     "output_type": "error",
     "traceback": [
      "\u001B[0;31m---------------------------------------------------------------------------\u001B[0m",
      "\u001B[0;31mRayTaskError(ValueError)\u001B[0m                  Traceback (most recent call last)",
      "Cell \u001B[0;32mIn [5], line 16\u001B[0m\n\u001B[1;32m     14\u001B[0m df[\u001B[38;5;124m\"\u001B[39m\u001B[38;5;124mframe.time\u001B[39m\u001B[38;5;124m\"\u001B[39m] \u001B[38;5;241m=\u001B[39m df[\u001B[38;5;124m\"\u001B[39m\u001B[38;5;124mframe.time\u001B[39m\u001B[38;5;124m\"\u001B[39m]\u001B[38;5;241m.\u001B[39mstr\u001B[38;5;241m.\u001B[39mreplace(\u001B[38;5;124m\"\u001B[39m\u001B[38;5;124m CEST\u001B[39m\u001B[38;5;124m\"\u001B[39m, \u001B[38;5;124m\"\u001B[39m\u001B[38;5;124m\"\u001B[39m)\n\u001B[1;32m     15\u001B[0m df[\u001B[38;5;124m\"\u001B[39m\u001B[38;5;124mframe.time\u001B[39m\u001B[38;5;124m\"\u001B[39m] \u001B[38;5;241m=\u001B[39m pd\u001B[38;5;241m.\u001B[39mto_datetime(df[\u001B[38;5;124m\"\u001B[39m\u001B[38;5;124mframe.time\u001B[39m\u001B[38;5;124m\"\u001B[39m])\n\u001B[0;32m---> 16\u001B[0m df[\u001B[38;5;124m'\u001B[39m\u001B[38;5;124mdow_sin\u001B[39m\u001B[38;5;124m'\u001B[39m] \u001B[38;5;241m=\u001B[39m \u001B[43mnp\u001B[49m\u001B[38;5;241;43m.\u001B[39;49m\u001B[43msin\u001B[49m\u001B[43m(\u001B[49m\u001B[38;5;241;43m2\u001B[39;49m\u001B[43m \u001B[49m\u001B[38;5;241;43m*\u001B[39;49m\u001B[43m \u001B[49m\u001B[43mnp\u001B[49m\u001B[38;5;241;43m.\u001B[39;49m\u001B[43mpi\u001B[49m\u001B[43m \u001B[49m\u001B[38;5;241;43m*\u001B[39;49m\u001B[43m \u001B[49m\u001B[43mdf\u001B[49m\u001B[43m[\u001B[49m\u001B[38;5;124;43m\"\u001B[39;49m\u001B[38;5;124;43mframe.time\u001B[39;49m\u001B[38;5;124;43m\"\u001B[39;49m\u001B[43m]\u001B[49m\u001B[38;5;241;43m.\u001B[39;49m\u001B[43mdt\u001B[49m\u001B[38;5;241;43m.\u001B[39;49m\u001B[43mdayofweek\u001B[49m\u001B[43m \u001B[49m\u001B[38;5;241;43m/\u001B[39;49m\u001B[43m \u001B[49m\u001B[38;5;241;43m6\u001B[39;49m\u001B[43m)\u001B[49m\n\u001B[1;32m     17\u001B[0m df[\u001B[38;5;124m'\u001B[39m\u001B[38;5;124mdow_cos\u001B[39m\u001B[38;5;124m'\u001B[39m] \u001B[38;5;241m=\u001B[39m np\u001B[38;5;241m.\u001B[39mcos(\u001B[38;5;241m2\u001B[39m \u001B[38;5;241m*\u001B[39m np\u001B[38;5;241m.\u001B[39mpi \u001B[38;5;241m*\u001B[39m df[\u001B[38;5;124m\"\u001B[39m\u001B[38;5;124mframe.time\u001B[39m\u001B[38;5;124m\"\u001B[39m]\u001B[38;5;241m.\u001B[39mdt\u001B[38;5;241m.\u001B[39mdayofweek \u001B[38;5;241m/\u001B[39m \u001B[38;5;241m6\u001B[39m)\n\u001B[1;32m     18\u001B[0m df[\u001B[38;5;124m'\u001B[39m\u001B[38;5;124mhour_sin\u001B[39m\u001B[38;5;124m'\u001B[39m] \u001B[38;5;241m=\u001B[39m np\u001B[38;5;241m.\u001B[39msin(\u001B[38;5;241m2\u001B[39m \u001B[38;5;241m*\u001B[39m np\u001B[38;5;241m.\u001B[39mpi \u001B[38;5;241m*\u001B[39m df[\u001B[38;5;124m\"\u001B[39m\u001B[38;5;124mframe.time\u001B[39m\u001B[38;5;124m\"\u001B[39m]\u001B[38;5;241m.\u001B[39mdt\u001B[38;5;241m.\u001B[39mhour \u001B[38;5;241m/\u001B[39m \u001B[38;5;241m24.0\u001B[39m)\n",
      "File \u001B[0;32m/usr/local/lib/python3.11/dist-packages/modin/logging/logger_decorator.py:144\u001B[0m, in \u001B[0;36menable_logging.<locals>.decorator.<locals>.run_and_log\u001B[0;34m(*args, **kwargs)\u001B[0m\n\u001B[1;32m    129\u001B[0m \u001B[38;5;250m\u001B[39m\u001B[38;5;124;03m\"\"\"\u001B[39;00m\n\u001B[1;32m    130\u001B[0m \u001B[38;5;124;03mCompute function with logging if Modin logging is enabled.\u001B[39;00m\n\u001B[1;32m    131\u001B[0m \n\u001B[0;32m   (...)\u001B[0m\n\u001B[1;32m    141\u001B[0m \u001B[38;5;124;03mAny\u001B[39;00m\n\u001B[1;32m    142\u001B[0m \u001B[38;5;124;03m\"\"\"\u001B[39;00m\n\u001B[1;32m    143\u001B[0m \u001B[38;5;28;01mif\u001B[39;00m LogMode\u001B[38;5;241m.\u001B[39mget() \u001B[38;5;241m==\u001B[39m \u001B[38;5;124m\"\u001B[39m\u001B[38;5;124mdisable\u001B[39m\u001B[38;5;124m\"\u001B[39m:\n\u001B[0;32m--> 144\u001B[0m     \u001B[38;5;28;01mreturn\u001B[39;00m \u001B[43mobj\u001B[49m\u001B[43m(\u001B[49m\u001B[38;5;241;43m*\u001B[39;49m\u001B[43margs\u001B[49m\u001B[43m,\u001B[49m\u001B[43m \u001B[49m\u001B[38;5;241;43m*\u001B[39;49m\u001B[38;5;241;43m*\u001B[39;49m\u001B[43mkwargs\u001B[49m\u001B[43m)\u001B[49m\n\u001B[1;32m    146\u001B[0m logger \u001B[38;5;241m=\u001B[39m get_logger()\n\u001B[1;32m    147\u001B[0m logger\u001B[38;5;241m.\u001B[39mlog(log_level, start_line)\n",
      "File \u001B[0;32m/usr/local/lib/python3.11/dist-packages/modin/pandas/base.py:4356\u001B[0m, in \u001B[0;36mBasePandasDataset.__array_ufunc__\u001B[0;34m(self, ufunc, method, *inputs, **kwargs)\u001B[0m\n\u001B[1;32m   4349\u001B[0m \u001B[38;5;66;03m# we can't use the regular default_to_pandas() method because self is one of the\u001B[39;00m\n\u001B[1;32m   4350\u001B[0m \u001B[38;5;66;03m# `inputs` to __array_ufunc__, and pandas has some checks on the identity of the\u001B[39;00m\n\u001B[1;32m   4351\u001B[0m \u001B[38;5;66;03m# inputs [1]. The usual default to pandas will call _to_pandas() on the inputs\u001B[39;00m\n\u001B[1;32m   4352\u001B[0m \u001B[38;5;66;03m# as well as on self, but that gives inputs[0] a different identity from self.\u001B[39;00m\n\u001B[1;32m   4353\u001B[0m \u001B[38;5;66;03m#\u001B[39;00m\n\u001B[1;32m   4354\u001B[0m \u001B[38;5;66;03m# [1] https://github.com/pandas-dev/pandas/blob/2c4c072ade78b96a9eb05097a5fcf4347a3768f3/pandas/_libs/ops_dispatch.pyx#L99-L109\u001B[39;00m\n\u001B[1;32m   4355\u001B[0m ErrorMessage\u001B[38;5;241m.\u001B[39mdefault_to_pandas(message\u001B[38;5;241m=\u001B[39m\u001B[38;5;124m\"\u001B[39m\u001B[38;5;124m__array_ufunc__\u001B[39m\u001B[38;5;124m\"\u001B[39m)\n\u001B[0;32m-> 4356\u001B[0m pandas_self \u001B[38;5;241m=\u001B[39m \u001B[38;5;28;43mself\u001B[39;49m\u001B[38;5;241;43m.\u001B[39;49m\u001B[43m_to_pandas\u001B[49m\u001B[43m(\u001B[49m\u001B[43m)\u001B[49m\n\u001B[1;32m   4357\u001B[0m pandas_result \u001B[38;5;241m=\u001B[39m pandas_self\u001B[38;5;241m.\u001B[39m__array_ufunc__(\n\u001B[1;32m   4358\u001B[0m     ufunc,\n\u001B[1;32m   4359\u001B[0m     method,\n\u001B[0;32m   (...)\u001B[0m\n\u001B[1;32m   4364\u001B[0m     \u001B[38;5;241m*\u001B[39m\u001B[38;5;241m*\u001B[39mtry_cast_to_pandas(kwargs),\n\u001B[1;32m   4365\u001B[0m )\n\u001B[1;32m   4366\u001B[0m \u001B[38;5;28;01mif\u001B[39;00m \u001B[38;5;28misinstance\u001B[39m(pandas_result, pandas\u001B[38;5;241m.\u001B[39mDataFrame):\n",
      "File \u001B[0;32m/usr/local/lib/python3.11/dist-packages/modin/logging/logger_decorator.py:144\u001B[0m, in \u001B[0;36menable_logging.<locals>.decorator.<locals>.run_and_log\u001B[0;34m(*args, **kwargs)\u001B[0m\n\u001B[1;32m    129\u001B[0m \u001B[38;5;250m\u001B[39m\u001B[38;5;124;03m\"\"\"\u001B[39;00m\n\u001B[1;32m    130\u001B[0m \u001B[38;5;124;03mCompute function with logging if Modin logging is enabled.\u001B[39;00m\n\u001B[1;32m    131\u001B[0m \n\u001B[0;32m   (...)\u001B[0m\n\u001B[1;32m    141\u001B[0m \u001B[38;5;124;03mAny\u001B[39;00m\n\u001B[1;32m    142\u001B[0m \u001B[38;5;124;03m\"\"\"\u001B[39;00m\n\u001B[1;32m    143\u001B[0m \u001B[38;5;28;01mif\u001B[39;00m LogMode\u001B[38;5;241m.\u001B[39mget() \u001B[38;5;241m==\u001B[39m \u001B[38;5;124m\"\u001B[39m\u001B[38;5;124mdisable\u001B[39m\u001B[38;5;124m\"\u001B[39m:\n\u001B[0;32m--> 144\u001B[0m     \u001B[38;5;28;01mreturn\u001B[39;00m \u001B[43mobj\u001B[49m\u001B[43m(\u001B[49m\u001B[38;5;241;43m*\u001B[39;49m\u001B[43margs\u001B[49m\u001B[43m,\u001B[49m\u001B[43m \u001B[49m\u001B[38;5;241;43m*\u001B[39;49m\u001B[38;5;241;43m*\u001B[39;49m\u001B[43mkwargs\u001B[49m\u001B[43m)\u001B[49m\n\u001B[1;32m    146\u001B[0m logger \u001B[38;5;241m=\u001B[39m get_logger()\n\u001B[1;32m    147\u001B[0m logger\u001B[38;5;241m.\u001B[39mlog(log_level, start_line)\n",
      "File \u001B[0;32m/usr/local/lib/python3.11/dist-packages/modin/pandas/series.py:2348\u001B[0m, in \u001B[0;36mSeries._to_pandas\u001B[0;34m(self)\u001B[0m\n\u001B[1;32m   2338\u001B[0m \u001B[38;5;28;01mdef\u001B[39;00m \u001B[38;5;21m_to_pandas\u001B[39m(\u001B[38;5;28mself\u001B[39m) \u001B[38;5;241m-\u001B[39m\u001B[38;5;241m>\u001B[39m pandas\u001B[38;5;241m.\u001B[39mSeries:\n\u001B[1;32m   2339\u001B[0m \u001B[38;5;250m    \u001B[39m\u001B[38;5;124;03m\"\"\"\u001B[39;00m\n\u001B[1;32m   2340\u001B[0m \u001B[38;5;124;03m    Convert Modin Series to pandas Series.\u001B[39;00m\n\u001B[1;32m   2341\u001B[0m \n\u001B[0;32m   (...)\u001B[0m\n\u001B[1;32m   2346\u001B[0m \u001B[38;5;124;03m    pandas.Series\u001B[39;00m\n\u001B[1;32m   2347\u001B[0m \u001B[38;5;124;03m    \"\"\"\u001B[39;00m\n\u001B[0;32m-> 2348\u001B[0m     df \u001B[38;5;241m=\u001B[39m \u001B[38;5;28;43mself\u001B[39;49m\u001B[38;5;241;43m.\u001B[39;49m\u001B[43m_query_compiler\u001B[49m\u001B[38;5;241;43m.\u001B[39;49m\u001B[43mto_pandas\u001B[49m\u001B[43m(\u001B[49m\u001B[43m)\u001B[49m\n\u001B[1;32m   2349\u001B[0m     series \u001B[38;5;241m=\u001B[39m df[df\u001B[38;5;241m.\u001B[39mcolumns[\u001B[38;5;241m0\u001B[39m]]\n\u001B[1;32m   2350\u001B[0m     \u001B[38;5;28;01mif\u001B[39;00m \u001B[38;5;28mself\u001B[39m\u001B[38;5;241m.\u001B[39m_query_compiler\u001B[38;5;241m.\u001B[39mcolumns[\u001B[38;5;241m0\u001B[39m] \u001B[38;5;241m==\u001B[39m MODIN_UNNAMED_SERIES_LABEL:\n",
      "File \u001B[0;32m/usr/local/lib/python3.11/dist-packages/modin/logging/logger_decorator.py:144\u001B[0m, in \u001B[0;36menable_logging.<locals>.decorator.<locals>.run_and_log\u001B[0;34m(*args, **kwargs)\u001B[0m\n\u001B[1;32m    129\u001B[0m \u001B[38;5;250m\u001B[39m\u001B[38;5;124;03m\"\"\"\u001B[39;00m\n\u001B[1;32m    130\u001B[0m \u001B[38;5;124;03mCompute function with logging if Modin logging is enabled.\u001B[39;00m\n\u001B[1;32m    131\u001B[0m \n\u001B[0;32m   (...)\u001B[0m\n\u001B[1;32m    141\u001B[0m \u001B[38;5;124;03mAny\u001B[39;00m\n\u001B[1;32m    142\u001B[0m \u001B[38;5;124;03m\"\"\"\u001B[39;00m\n\u001B[1;32m    143\u001B[0m \u001B[38;5;28;01mif\u001B[39;00m LogMode\u001B[38;5;241m.\u001B[39mget() \u001B[38;5;241m==\u001B[39m \u001B[38;5;124m\"\u001B[39m\u001B[38;5;124mdisable\u001B[39m\u001B[38;5;124m\"\u001B[39m:\n\u001B[0;32m--> 144\u001B[0m     \u001B[38;5;28;01mreturn\u001B[39;00m \u001B[43mobj\u001B[49m\u001B[43m(\u001B[49m\u001B[38;5;241;43m*\u001B[39;49m\u001B[43margs\u001B[49m\u001B[43m,\u001B[49m\u001B[43m \u001B[49m\u001B[38;5;241;43m*\u001B[39;49m\u001B[38;5;241;43m*\u001B[39;49m\u001B[43mkwargs\u001B[49m\u001B[43m)\u001B[49m\n\u001B[1;32m    146\u001B[0m logger \u001B[38;5;241m=\u001B[39m get_logger()\n\u001B[1;32m    147\u001B[0m logger\u001B[38;5;241m.\u001B[39mlog(log_level, start_line)\n",
      "File \u001B[0;32m/usr/local/lib/python3.11/dist-packages/modin/core/storage_formats/pandas/query_compiler_caster.py:157\u001B[0m, in \u001B[0;36mapply_argument_cast.<locals>.cast_args\u001B[0;34m(*args, **kwargs)\u001B[0m\n\u001B[1;32m    155\u001B[0m     kwargs \u001B[38;5;241m=\u001B[39m cast_nested_args_to_current_qc_type(kwargs, current_qc)\n\u001B[1;32m    156\u001B[0m     args \u001B[38;5;241m=\u001B[39m cast_nested_args_to_current_qc_type(args, current_qc)\n\u001B[0;32m--> 157\u001B[0m \u001B[38;5;28;01mreturn\u001B[39;00m \u001B[43mobj\u001B[49m\u001B[43m(\u001B[49m\u001B[38;5;241;43m*\u001B[39;49m\u001B[43margs\u001B[49m\u001B[43m,\u001B[49m\u001B[43m \u001B[49m\u001B[38;5;241;43m*\u001B[39;49m\u001B[38;5;241;43m*\u001B[39;49m\u001B[43mkwargs\u001B[49m\u001B[43m)\u001B[49m\n",
      "File \u001B[0;32m/usr/local/lib/python3.11/dist-packages/modin/core/storage_formats/pandas/query_compiler.py:352\u001B[0m, in \u001B[0;36mPandasQueryCompiler.to_pandas\u001B[0;34m(self)\u001B[0m\n\u001B[1;32m    351\u001B[0m \u001B[38;5;28;01mdef\u001B[39;00m \u001B[38;5;21mto_pandas\u001B[39m(\u001B[38;5;28mself\u001B[39m):\n\u001B[0;32m--> 352\u001B[0m     \u001B[38;5;28;01mreturn\u001B[39;00m \u001B[38;5;28;43mself\u001B[39;49m\u001B[38;5;241;43m.\u001B[39;49m\u001B[43m_modin_frame\u001B[49m\u001B[38;5;241;43m.\u001B[39;49m\u001B[43mto_pandas\u001B[49m\u001B[43m(\u001B[49m\u001B[43m)\u001B[49m\n",
      "File \u001B[0;32m/usr/local/lib/python3.11/dist-packages/modin/logging/logger_decorator.py:144\u001B[0m, in \u001B[0;36menable_logging.<locals>.decorator.<locals>.run_and_log\u001B[0;34m(*args, **kwargs)\u001B[0m\n\u001B[1;32m    129\u001B[0m \u001B[38;5;250m\u001B[39m\u001B[38;5;124;03m\"\"\"\u001B[39;00m\n\u001B[1;32m    130\u001B[0m \u001B[38;5;124;03mCompute function with logging if Modin logging is enabled.\u001B[39;00m\n\u001B[1;32m    131\u001B[0m \n\u001B[0;32m   (...)\u001B[0m\n\u001B[1;32m    141\u001B[0m \u001B[38;5;124;03mAny\u001B[39;00m\n\u001B[1;32m    142\u001B[0m \u001B[38;5;124;03m\"\"\"\u001B[39;00m\n\u001B[1;32m    143\u001B[0m \u001B[38;5;28;01mif\u001B[39;00m LogMode\u001B[38;5;241m.\u001B[39mget() \u001B[38;5;241m==\u001B[39m \u001B[38;5;124m\"\u001B[39m\u001B[38;5;124mdisable\u001B[39m\u001B[38;5;124m\"\u001B[39m:\n\u001B[0;32m--> 144\u001B[0m     \u001B[38;5;28;01mreturn\u001B[39;00m \u001B[43mobj\u001B[49m\u001B[43m(\u001B[49m\u001B[38;5;241;43m*\u001B[39;49m\u001B[43margs\u001B[49m\u001B[43m,\u001B[49m\u001B[43m \u001B[49m\u001B[38;5;241;43m*\u001B[39;49m\u001B[38;5;241;43m*\u001B[39;49m\u001B[43mkwargs\u001B[49m\u001B[43m)\u001B[49m\n\u001B[1;32m    146\u001B[0m logger \u001B[38;5;241m=\u001B[39m get_logger()\n\u001B[1;32m    147\u001B[0m logger\u001B[38;5;241m.\u001B[39mlog(log_level, start_line)\n",
      "File \u001B[0;32m/usr/local/lib/python3.11/dist-packages/modin/core/dataframe/pandas/dataframe/utils.py:753\u001B[0m, in \u001B[0;36mlazy_metadata_decorator.<locals>.decorator.<locals>.run_f_on_minimally_updated_metadata\u001B[0;34m(self, *args, **kwargs)\u001B[0m\n\u001B[1;32m    751\u001B[0m     \u001B[38;5;28;01melif\u001B[39;00m apply_axis \u001B[38;5;241m==\u001B[39m \u001B[38;5;124m\"\u001B[39m\u001B[38;5;124mrows\u001B[39m\u001B[38;5;124m\"\u001B[39m:\n\u001B[1;32m    752\u001B[0m         obj\u001B[38;5;241m.\u001B[39m_propagate_index_objs(axis\u001B[38;5;241m=\u001B[39m\u001B[38;5;241m0\u001B[39m)\n\u001B[0;32m--> 753\u001B[0m result \u001B[38;5;241m=\u001B[39m \u001B[43mf\u001B[49m\u001B[43m(\u001B[49m\u001B[38;5;28;43mself\u001B[39;49m\u001B[43m,\u001B[49m\u001B[43m \u001B[49m\u001B[38;5;241;43m*\u001B[39;49m\u001B[43margs\u001B[49m\u001B[43m,\u001B[49m\u001B[43m \u001B[49m\u001B[38;5;241;43m*\u001B[39;49m\u001B[38;5;241;43m*\u001B[39;49m\u001B[43mkwargs\u001B[49m\u001B[43m)\u001B[49m\n\u001B[1;32m    754\u001B[0m \u001B[38;5;28;01mif\u001B[39;00m apply_axis \u001B[38;5;129;01mis\u001B[39;00m \u001B[38;5;28;01mNone\u001B[39;00m \u001B[38;5;129;01mand\u001B[39;00m \u001B[38;5;129;01mnot\u001B[39;00m transpose:\n\u001B[1;32m    755\u001B[0m     result\u001B[38;5;241m.\u001B[39m_deferred_index \u001B[38;5;241m=\u001B[39m \u001B[38;5;28mself\u001B[39m\u001B[38;5;241m.\u001B[39m_deferred_index\n",
      "File \u001B[0;32m/usr/local/lib/python3.11/dist-packages/modin/core/dataframe/pandas/dataframe/dataframe.py:4673\u001B[0m, in \u001B[0;36mPandasDataframe.to_pandas\u001B[0;34m(self)\u001B[0m\n\u001B[1;32m   4664\u001B[0m \u001B[38;5;129m@lazy_metadata_decorator\u001B[39m(apply_axis\u001B[38;5;241m=\u001B[39m\u001B[38;5;124m\"\u001B[39m\u001B[38;5;124mboth\u001B[39m\u001B[38;5;124m\"\u001B[39m)\n\u001B[1;32m   4665\u001B[0m \u001B[38;5;28;01mdef\u001B[39;00m \u001B[38;5;21mto_pandas\u001B[39m(\u001B[38;5;28mself\u001B[39m):\n\u001B[1;32m   4666\u001B[0m \u001B[38;5;250m    \u001B[39m\u001B[38;5;124;03m\"\"\"\u001B[39;00m\n\u001B[1;32m   4667\u001B[0m \u001B[38;5;124;03m    Convert this Modin DataFrame to a pandas DataFrame.\u001B[39;00m\n\u001B[1;32m   4668\u001B[0m \n\u001B[0;32m   (...)\u001B[0m\n\u001B[1;32m   4671\u001B[0m \u001B[38;5;124;03m    pandas.DataFrame\u001B[39;00m\n\u001B[1;32m   4672\u001B[0m \u001B[38;5;124;03m    \"\"\"\u001B[39;00m\n\u001B[0;32m-> 4673\u001B[0m     df \u001B[38;5;241m=\u001B[39m \u001B[38;5;28;43mself\u001B[39;49m\u001B[38;5;241;43m.\u001B[39;49m\u001B[43m_partition_mgr_cls\u001B[49m\u001B[38;5;241;43m.\u001B[39;49m\u001B[43mto_pandas\u001B[49m\u001B[43m(\u001B[49m\u001B[38;5;28;43mself\u001B[39;49m\u001B[38;5;241;43m.\u001B[39;49m\u001B[43m_partitions\u001B[49m\u001B[43m)\u001B[49m\n\u001B[1;32m   4674\u001B[0m     \u001B[38;5;28;01mif\u001B[39;00m df\u001B[38;5;241m.\u001B[39mempty:\n\u001B[1;32m   4675\u001B[0m         df \u001B[38;5;241m=\u001B[39m pandas\u001B[38;5;241m.\u001B[39mDataFrame(columns\u001B[38;5;241m=\u001B[39m\u001B[38;5;28mself\u001B[39m\u001B[38;5;241m.\u001B[39mcolumns, index\u001B[38;5;241m=\u001B[39m\u001B[38;5;28mself\u001B[39m\u001B[38;5;241m.\u001B[39mindex)\n",
      "File \u001B[0;32m/usr/local/lib/python3.11/dist-packages/modin/logging/logger_decorator.py:144\u001B[0m, in \u001B[0;36menable_logging.<locals>.decorator.<locals>.run_and_log\u001B[0;34m(*args, **kwargs)\u001B[0m\n\u001B[1;32m    129\u001B[0m \u001B[38;5;250m\u001B[39m\u001B[38;5;124;03m\"\"\"\u001B[39;00m\n\u001B[1;32m    130\u001B[0m \u001B[38;5;124;03mCompute function with logging if Modin logging is enabled.\u001B[39;00m\n\u001B[1;32m    131\u001B[0m \n\u001B[0;32m   (...)\u001B[0m\n\u001B[1;32m    141\u001B[0m \u001B[38;5;124;03mAny\u001B[39;00m\n\u001B[1;32m    142\u001B[0m \u001B[38;5;124;03m\"\"\"\u001B[39;00m\n\u001B[1;32m    143\u001B[0m \u001B[38;5;28;01mif\u001B[39;00m LogMode\u001B[38;5;241m.\u001B[39mget() \u001B[38;5;241m==\u001B[39m \u001B[38;5;124m\"\u001B[39m\u001B[38;5;124mdisable\u001B[39m\u001B[38;5;124m\"\u001B[39m:\n\u001B[0;32m--> 144\u001B[0m     \u001B[38;5;28;01mreturn\u001B[39;00m \u001B[43mobj\u001B[49m\u001B[43m(\u001B[49m\u001B[38;5;241;43m*\u001B[39;49m\u001B[43margs\u001B[49m\u001B[43m,\u001B[49m\u001B[43m \u001B[49m\u001B[38;5;241;43m*\u001B[39;49m\u001B[38;5;241;43m*\u001B[39;49m\u001B[43mkwargs\u001B[49m\u001B[43m)\u001B[49m\n\u001B[1;32m    146\u001B[0m logger \u001B[38;5;241m=\u001B[39m get_logger()\n\u001B[1;32m    147\u001B[0m logger\u001B[38;5;241m.\u001B[39mlog(log_level, start_line)\n",
      "File \u001B[0;32m/usr/local/lib/python3.11/dist-packages/modin/core/dataframe/pandas/partitioning/partition_manager.py:1000\u001B[0m, in \u001B[0;36mPandasDataframePartitionManager.to_pandas\u001B[0;34m(cls, partitions)\u001B[0m\n\u001B[1;32m    984\u001B[0m \u001B[38;5;129m@classmethod\u001B[39m\n\u001B[1;32m    985\u001B[0m \u001B[38;5;28;01mdef\u001B[39;00m \u001B[38;5;21mto_pandas\u001B[39m(\u001B[38;5;28mcls\u001B[39m, partitions):\n\u001B[1;32m    986\u001B[0m \u001B[38;5;250m    \u001B[39m\u001B[38;5;124;03m\"\"\"\u001B[39;00m\n\u001B[1;32m    987\u001B[0m \u001B[38;5;124;03m    Convert NumPy array of PandasDataframePartition to pandas DataFrame.\u001B[39;00m\n\u001B[1;32m    988\u001B[0m \n\u001B[0;32m   (...)\u001B[0m\n\u001B[1;32m    997\u001B[0m \u001B[38;5;124;03m        A pandas DataFrame\u001B[39;00m\n\u001B[1;32m    998\u001B[0m \u001B[38;5;124;03m    \"\"\"\u001B[39;00m\n\u001B[1;32m    999\u001B[0m     \u001B[38;5;28;01mreturn\u001B[39;00m create_pandas_df_from_partitions(\n\u001B[0;32m-> 1000\u001B[0m         \u001B[38;5;28;43mcls\u001B[39;49m\u001B[38;5;241;43m.\u001B[39;49m\u001B[43mget_objects_from_partitions\u001B[49m\u001B[43m(\u001B[49m\u001B[43mpartitions\u001B[49m\u001B[38;5;241;43m.\u001B[39;49m\u001B[43mflatten\u001B[49m\u001B[43m(\u001B[49m\u001B[43m)\u001B[49m\u001B[43m)\u001B[49m, partitions\u001B[38;5;241m.\u001B[39mshape\n\u001B[1;32m   1001\u001B[0m     )\n",
      "File \u001B[0;32m/usr/local/lib/python3.11/dist-packages/modin/logging/logger_decorator.py:144\u001B[0m, in \u001B[0;36menable_logging.<locals>.decorator.<locals>.run_and_log\u001B[0;34m(*args, **kwargs)\u001B[0m\n\u001B[1;32m    129\u001B[0m \u001B[38;5;250m\u001B[39m\u001B[38;5;124;03m\"\"\"\u001B[39;00m\n\u001B[1;32m    130\u001B[0m \u001B[38;5;124;03mCompute function with logging if Modin logging is enabled.\u001B[39;00m\n\u001B[1;32m    131\u001B[0m \n\u001B[0;32m   (...)\u001B[0m\n\u001B[1;32m    141\u001B[0m \u001B[38;5;124;03mAny\u001B[39;00m\n\u001B[1;32m    142\u001B[0m \u001B[38;5;124;03m\"\"\"\u001B[39;00m\n\u001B[1;32m    143\u001B[0m \u001B[38;5;28;01mif\u001B[39;00m LogMode\u001B[38;5;241m.\u001B[39mget() \u001B[38;5;241m==\u001B[39m \u001B[38;5;124m\"\u001B[39m\u001B[38;5;124mdisable\u001B[39m\u001B[38;5;124m\"\u001B[39m:\n\u001B[0;32m--> 144\u001B[0m     \u001B[38;5;28;01mreturn\u001B[39;00m \u001B[43mobj\u001B[49m\u001B[43m(\u001B[49m\u001B[38;5;241;43m*\u001B[39;49m\u001B[43margs\u001B[49m\u001B[43m,\u001B[49m\u001B[43m \u001B[49m\u001B[38;5;241;43m*\u001B[39;49m\u001B[38;5;241;43m*\u001B[39;49m\u001B[43mkwargs\u001B[49m\u001B[43m)\u001B[49m\n\u001B[1;32m    146\u001B[0m logger \u001B[38;5;241m=\u001B[39m get_logger()\n\u001B[1;32m    147\u001B[0m logger\u001B[38;5;241m.\u001B[39mlog(log_level, start_line)\n",
      "File \u001B[0;32m/usr/local/lib/python3.11/dist-packages/modin/core/dataframe/pandas/partitioning/partition_manager.py:1190\u001B[0m, in \u001B[0;36mPandasDataframePartitionManager.get_objects_from_partitions\u001B[0;34m(cls, partitions)\u001B[0m\n\u001B[1;32m   1186\u001B[0m             partitions[idx] \u001B[38;5;241m=\u001B[39m part\u001B[38;5;241m.\u001B[39mforce_materialization()\n\u001B[1;32m   1187\u001B[0m     \u001B[38;5;28;01massert\u001B[39;00m \u001B[38;5;28mall\u001B[39m(\n\u001B[1;32m   1188\u001B[0m         [\u001B[38;5;28mlen\u001B[39m(partition\u001B[38;5;241m.\u001B[39mlist_of_blocks) \u001B[38;5;241m==\u001B[39m \u001B[38;5;241m1\u001B[39m \u001B[38;5;28;01mfor\u001B[39;00m partition \u001B[38;5;129;01min\u001B[39;00m partitions]\n\u001B[1;32m   1189\u001B[0m     ), \u001B[38;5;124m\"\u001B[39m\u001B[38;5;124mImplementation assumes that each partition contains a single block.\u001B[39m\u001B[38;5;124m\"\u001B[39m\n\u001B[0;32m-> 1190\u001B[0m     \u001B[38;5;28;01mreturn\u001B[39;00m \u001B[38;5;28;43mcls\u001B[39;49m\u001B[38;5;241;43m.\u001B[39;49m\u001B[43m_execution_wrapper\u001B[49m\u001B[38;5;241;43m.\u001B[39;49m\u001B[43mmaterialize\u001B[49m\u001B[43m(\u001B[49m\n\u001B[1;32m   1191\u001B[0m \u001B[43m        \u001B[49m\u001B[43m[\u001B[49m\u001B[43mpartition\u001B[49m\u001B[38;5;241;43m.\u001B[39;49m\u001B[43mlist_of_blocks\u001B[49m\u001B[43m[\u001B[49m\u001B[38;5;241;43m0\u001B[39;49m\u001B[43m]\u001B[49m\u001B[43m \u001B[49m\u001B[38;5;28;43;01mfor\u001B[39;49;00m\u001B[43m \u001B[49m\u001B[43mpartition\u001B[49m\u001B[43m \u001B[49m\u001B[38;5;129;43;01min\u001B[39;49;00m\u001B[43m \u001B[49m\u001B[43mpartitions\u001B[49m\u001B[43m]\u001B[49m\n\u001B[1;32m   1192\u001B[0m \u001B[43m    \u001B[49m\u001B[43m)\u001B[49m\n\u001B[1;32m   1193\u001B[0m \u001B[38;5;28;01mreturn\u001B[39;00m [partition\u001B[38;5;241m.\u001B[39mget() \u001B[38;5;28;01mfor\u001B[39;00m partition \u001B[38;5;129;01min\u001B[39;00m partitions]\n",
      "File \u001B[0;32m/usr/local/lib/python3.11/dist-packages/modin/core/execution/ray/common/engine_wrapper.py:139\u001B[0m, in \u001B[0;36mRayWrapper.materialize\u001B[0;34m(cls, obj_id)\u001B[0m\n\u001B[1;32m    136\u001B[0m     \u001B[38;5;28;01mreturn\u001B[39;00m ray\u001B[38;5;241m.\u001B[39mget(obj_id) \u001B[38;5;28;01mif\u001B[39;00m \u001B[38;5;28misinstance\u001B[39m(obj_id, ray\u001B[38;5;241m.\u001B[39mObjectRef) \u001B[38;5;28;01melse\u001B[39;00m obj_id\n\u001B[1;32m    138\u001B[0m \u001B[38;5;28;01mif\u001B[39;00m \u001B[38;5;28mall\u001B[39m(\u001B[38;5;28misinstance\u001B[39m(obj, ray\u001B[38;5;241m.\u001B[39mObjectRef) \u001B[38;5;28;01mfor\u001B[39;00m obj \u001B[38;5;129;01min\u001B[39;00m obj_id):\n\u001B[0;32m--> 139\u001B[0m     \u001B[38;5;28;01mreturn\u001B[39;00m \u001B[43mray\u001B[49m\u001B[38;5;241;43m.\u001B[39;49m\u001B[43mget\u001B[49m\u001B[43m(\u001B[49m\u001B[43mobj_id\u001B[49m\u001B[43m)\u001B[49m\n\u001B[1;32m    141\u001B[0m ids \u001B[38;5;241m=\u001B[39m {}\n\u001B[1;32m    142\u001B[0m result \u001B[38;5;241m=\u001B[39m []\n",
      "File \u001B[0;32m/usr/local/lib/python3.11/dist-packages/ray/_private/auto_init_hook.py:21\u001B[0m, in \u001B[0;36mwrap_auto_init.<locals>.auto_init_wrapper\u001B[0;34m(*args, **kwargs)\u001B[0m\n\u001B[1;32m     18\u001B[0m \u001B[38;5;129m@wraps\u001B[39m(fn)\n\u001B[1;32m     19\u001B[0m \u001B[38;5;28;01mdef\u001B[39;00m \u001B[38;5;21mauto_init_wrapper\u001B[39m(\u001B[38;5;241m*\u001B[39margs, \u001B[38;5;241m*\u001B[39m\u001B[38;5;241m*\u001B[39mkwargs):\n\u001B[1;32m     20\u001B[0m     auto_init_ray()\n\u001B[0;32m---> 21\u001B[0m     \u001B[38;5;28;01mreturn\u001B[39;00m \u001B[43mfn\u001B[49m\u001B[43m(\u001B[49m\u001B[38;5;241;43m*\u001B[39;49m\u001B[43margs\u001B[49m\u001B[43m,\u001B[49m\u001B[43m \u001B[49m\u001B[38;5;241;43m*\u001B[39;49m\u001B[38;5;241;43m*\u001B[39;49m\u001B[43mkwargs\u001B[49m\u001B[43m)\u001B[49m\n",
      "File \u001B[0;32m/usr/local/lib/python3.11/dist-packages/ray/_private/client_mode_hook.py:103\u001B[0m, in \u001B[0;36mclient_mode_hook.<locals>.wrapper\u001B[0;34m(*args, **kwargs)\u001B[0m\n\u001B[1;32m    101\u001B[0m     \u001B[38;5;28;01mif\u001B[39;00m func\u001B[38;5;241m.\u001B[39m\u001B[38;5;18m__name__\u001B[39m \u001B[38;5;241m!=\u001B[39m \u001B[38;5;124m\"\u001B[39m\u001B[38;5;124minit\u001B[39m\u001B[38;5;124m\"\u001B[39m \u001B[38;5;129;01mor\u001B[39;00m is_client_mode_enabled_by_default:\n\u001B[1;32m    102\u001B[0m         \u001B[38;5;28;01mreturn\u001B[39;00m \u001B[38;5;28mgetattr\u001B[39m(ray, func\u001B[38;5;241m.\u001B[39m\u001B[38;5;18m__name__\u001B[39m)(\u001B[38;5;241m*\u001B[39margs, \u001B[38;5;241m*\u001B[39m\u001B[38;5;241m*\u001B[39mkwargs)\n\u001B[0;32m--> 103\u001B[0m \u001B[38;5;28;01mreturn\u001B[39;00m \u001B[43mfunc\u001B[49m\u001B[43m(\u001B[49m\u001B[38;5;241;43m*\u001B[39;49m\u001B[43margs\u001B[49m\u001B[43m,\u001B[49m\u001B[43m \u001B[49m\u001B[38;5;241;43m*\u001B[39;49m\u001B[38;5;241;43m*\u001B[39;49m\u001B[43mkwargs\u001B[49m\u001B[43m)\u001B[49m\n",
      "File \u001B[0;32m/usr/local/lib/python3.11/dist-packages/ray/_private/worker.py:2753\u001B[0m, in \u001B[0;36mget\u001B[0;34m(object_refs, timeout)\u001B[0m\n\u001B[1;32m   2747\u001B[0m     \u001B[38;5;28;01mraise\u001B[39;00m \u001B[38;5;167;01mValueError\u001B[39;00m(\n\u001B[1;32m   2748\u001B[0m         \u001B[38;5;124mf\u001B[39m\u001B[38;5;124m\"\u001B[39m\u001B[38;5;124mInvalid type of object refs, \u001B[39m\u001B[38;5;132;01m{\u001B[39;00m\u001B[38;5;28mtype\u001B[39m(object_refs)\u001B[38;5;132;01m}\u001B[39;00m\u001B[38;5;124m, is given. \u001B[39m\u001B[38;5;124m\"\u001B[39m\n\u001B[1;32m   2749\u001B[0m         \u001B[38;5;124m\"\u001B[39m\u001B[38;5;124m'\u001B[39m\u001B[38;5;124mobject_refs\u001B[39m\u001B[38;5;124m'\u001B[39m\u001B[38;5;124m must either be an ObjectRef or a list of ObjectRefs. \u001B[39m\u001B[38;5;124m\"\u001B[39m\n\u001B[1;32m   2750\u001B[0m     )\n\u001B[1;32m   2752\u001B[0m \u001B[38;5;66;03m# TODO(ujvl): Consider how to allow user to retrieve the ready objects.\u001B[39;00m\n\u001B[0;32m-> 2753\u001B[0m values, debugger_breakpoint \u001B[38;5;241m=\u001B[39m \u001B[43mworker\u001B[49m\u001B[38;5;241;43m.\u001B[39;49m\u001B[43mget_objects\u001B[49m\u001B[43m(\u001B[49m\u001B[43mobject_refs\u001B[49m\u001B[43m,\u001B[49m\u001B[43m \u001B[49m\u001B[43mtimeout\u001B[49m\u001B[38;5;241;43m=\u001B[39;49m\u001B[43mtimeout\u001B[49m\u001B[43m)\u001B[49m\n\u001B[1;32m   2754\u001B[0m \u001B[38;5;28;01mfor\u001B[39;00m i, value \u001B[38;5;129;01min\u001B[39;00m \u001B[38;5;28menumerate\u001B[39m(values):\n\u001B[1;32m   2755\u001B[0m     \u001B[38;5;28;01mif\u001B[39;00m \u001B[38;5;28misinstance\u001B[39m(value, RayError):\n",
      "File \u001B[0;32m/usr/local/lib/python3.11/dist-packages/ray/_private/worker.py:904\u001B[0m, in \u001B[0;36mWorker.get_objects\u001B[0;34m(self, object_refs, timeout, return_exceptions)\u001B[0m\n\u001B[1;32m    902\u001B[0m     global_worker\u001B[38;5;241m.\u001B[39mcore_worker\u001B[38;5;241m.\u001B[39mdump_object_store_memory_usage()\n\u001B[1;32m    903\u001B[0m \u001B[38;5;28;01mif\u001B[39;00m \u001B[38;5;28misinstance\u001B[39m(value, RayTaskError):\n\u001B[0;32m--> 904\u001B[0m     \u001B[38;5;28;01mraise\u001B[39;00m value\u001B[38;5;241m.\u001B[39mas_instanceof_cause()\n\u001B[1;32m    905\u001B[0m \u001B[38;5;28;01melse\u001B[39;00m:\n\u001B[1;32m    906\u001B[0m     \u001B[38;5;28;01mraise\u001B[39;00m value\n",
      "\u001B[0;31mRayTaskError(ValueError)\u001B[0m: \u001B[36mray::_remote_exec_single_chain()\u001B[39m (pid=15529, ip=192.168.0.13)\n  At least one of the input arguments for this task could not be computed:\nray.exceptions.RayTaskError: \u001B[36mray::_remote_exec_multi_chain()\u001B[39m (pid=15529, ip=192.168.0.13)\n  At least one of the input arguments for this task could not be computed:\nray.exceptions.RayTaskError: \u001B[36mray::_remote_exec_multi_chain()\u001B[39m (pid=15529, ip=192.168.0.13)\n  File \"/usr/local/lib/python3.11/dist-packages/modin/core/execution/ray/common/deferred_execution.py\", line 594, in exec_func\n    return fn(obj, *args, **kwargs)\n           ^^^^^^^^^^^^^^^^^^^^^^^^\n  File \"/usr/local/lib/python3.11/dist-packages/modin/core/dataframe/algebra/map.py\", line 65, in <lambda>\n    lambda x: function(x, *args, **kwargs), *call_args, **call_kwds\n              ^^^^^^^^^^^^^^^^^^^^^^^^^^^^\n  File \"/usr/local/lib/python3.11/dist-packages/modin/core/storage_formats/pandas/query_compiler.py\", line 1084, in <lambda>\n    lambda df, *args, **kwargs: pandas.to_datetime(\n                                ^^^^^^^^^^^^^^^^^^^\n  File \"/usr/local/lib/python3.11/dist-packages/pandas/core/tools/datetimes.py\", line 1067, in to_datetime\n    values = convert_listlike(arg._values, format)\n             ^^^^^^^^^^^^^^^^^^^^^^^^^^^^^^^^^^^^^\n  File \"/usr/local/lib/python3.11/dist-packages/pandas/core/tools/datetimes.py\", line 433, in _convert_listlike_datetimes\n    return _array_strptime_with_fallback(arg, name, utc, format, exact, errors)\n           ^^^^^^^^^^^^^^^^^^^^^^^^^^^^^^^^^^^^^^^^^^^^^^^^^^^^^^^^^^^^^^^^^^^^\n  File \"/usr/local/lib/python3.11/dist-packages/pandas/core/tools/datetimes.py\", line 467, in _array_strptime_with_fallback\n    result, tz_out = array_strptime(arg, fmt, exact=exact, errors=errors, utc=utc)\n                     ^^^^^^^^^^^^^^^^^^^^^^^^^^^^^^^^^^^^^^^^^^^^^^^^^^^^^^^^^^^^^\n  File \"strptime.pyx\", line 501, in pandas._libs.tslibs.strptime.array_strptime\n  File \"strptime.pyx\", line 451, in pandas._libs.tslibs.strptime.array_strptime\n  File \"strptime.pyx\", line 583, in pandas._libs.tslibs.strptime._parse_with_format\nValueError: time data \"Feb 25, 2017 10:06:21.412248000\" doesn't match format \"%B  %d, %Y %H:%M:%S.%f\", at position 69996. You might want to try:\n    - passing `format` if your strings have a consistent format;\n    - passing `format='ISO8601'` if your strings are all ISO8601 but not necessarily in exactly the same format;\n    - passing `format='mixed'`, and the format will be inferred for each element individually. You might want to use `dayfirst` alongside this.\n\nDuring handling of the above exception, another exception occurred:\n\n\u001B[36mray::_remote_exec_multi_chain()\u001B[39m (pid=15529, ip=192.168.0.13)\n  File \"/usr/local/lib/python3.11/dist-packages/modin/core/execution/ray/common/deferred_execution.py\", line 645, in construct\n    raise err\n  File \"/usr/local/lib/python3.11/dist-packages/modin/core/execution/ray/common/deferred_execution.py\", line 635, in construct\n    obj = next(gen)\n          ^^^^^^^^^\n  File \"/usr/local/lib/python3.11/dist-packages/modin/core/execution/ray/common/deferred_execution.py\", line 713, in construct_chain\n    obj = cls.exec_func(fn, obj, args, kwargs)\n          ^^^^^^^^^^^^^^^^^^^^^^^^^^^^^^^^^^^^\n  File \"/usr/local/lib/python3.11/dist-packages/modin/core/execution/ray/common/deferred_execution.py\", line 607, in exec_func\n    raise err\n  File \"/usr/local/lib/python3.11/dist-packages/modin/core/execution/ray/common/deferred_execution.py\", line 600, in exec_func\n    return fn(obj.copy(), *args, **kwargs)\n           ^^^^^^^^^^^^^^^^^^^^^^^^^^^^^^^\n  File \"/usr/local/lib/python3.11/dist-packages/modin/core/dataframe/algebra/map.py\", line 65, in <lambda>\n    lambda x: function(x, *args, **kwargs), *call_args, **call_kwds\n              ^^^^^^^^^^^^^^^^^^^^^^^^^^^^\n  File \"/usr/local/lib/python3.11/dist-packages/modin/core/storage_formats/pandas/query_compiler.py\", line 1084, in <lambda>\n    lambda df, *args, **kwargs: pandas.to_datetime(\n                                ^^^^^^^^^^^^^^^^^^^\n  File \"/usr/local/lib/python3.11/dist-packages/pandas/core/tools/datetimes.py\", line 1067, in to_datetime\n    values = convert_listlike(arg._values, format)\n             ^^^^^^^^^^^^^^^^^^^^^^^^^^^^^^^^^^^^^\n  File \"/usr/local/lib/python3.11/dist-packages/pandas/core/tools/datetimes.py\", line 433, in _convert_listlike_datetimes\n    return _array_strptime_with_fallback(arg, name, utc, format, exact, errors)\n           ^^^^^^^^^^^^^^^^^^^^^^^^^^^^^^^^^^^^^^^^^^^^^^^^^^^^^^^^^^^^^^^^^^^^\n  File \"/usr/local/lib/python3.11/dist-packages/pandas/core/tools/datetimes.py\", line 467, in _array_strptime_with_fallback\n    result, tz_out = array_strptime(arg, fmt, exact=exact, errors=errors, utc=utc)\n                     ^^^^^^^^^^^^^^^^^^^^^^^^^^^^^^^^^^^^^^^^^^^^^^^^^^^^^^^^^^^^^\n  File \"strptime.pyx\", line 501, in pandas._libs.tslibs.strptime.array_strptime\n  File \"strptime.pyx\", line 451, in pandas._libs.tslibs.strptime.array_strptime\n  File \"strptime.pyx\", line 583, in pandas._libs.tslibs.strptime._parse_with_format\nValueError: time data \"Feb 25, 2017 10:06:21.412248000\" doesn't match format \"%B  %d, %Y %H:%M:%S.%f\", at position 69996. You might want to try:\n    - passing `format` if your strings have a consistent format;\n    - passing `format='ISO8601'` if your strings are all ISO8601 but not necessarily in exactly the same format;\n    - passing `format='mixed'`, and the format will be inferred for each element individually. You might want to use `dayfirst` alongside this."
     ]
    }
   ],
   "execution_count": 5
  },
  {
   "cell_type": "code",
   "id": "b00bed62249b360f",
   "metadata": {
    "execution": {
     "iopub.execute_input": "2025-05-18T08:18:09.878167Z",
     "iopub.status.busy": "2025-05-18T08:18:09.877901Z",
     "iopub.status.idle": "2025-05-18T08:18:09.907162Z",
     "shell.execute_reply": "2025-05-18T08:18:09.906631Z",
     "shell.execute_reply.started": "2025-05-18T08:18:09.878139Z"
    },
    "trusted": true,
    "ExecuteTime": {
     "end_time": "2025-05-18T18:27:00.894185Z",
     "start_time": "2025-05-18T18:27:00.885157Z"
    }
   },
   "source": [
    "df.head()"
   ],
   "outputs": [
    {
     "data": {
      "text/plain": [
       "   frame.number  frame.len            eth.src            eth.dst  \\\n",
       "0       1236045   0.023102  ac:9b:0a:fc:2a:73  00:a0:de:f1:88:6e   \n",
       "1         84707   0.003189  10:4f:a8:70:22:7e  00:a0:de:f1:88:6e   \n",
       "2        679170   0.005554  10:4f:a8:70:22:7e  00:a0:de:f1:88:6e   \n",
       "3       2245698   0.023102  10:4f:a8:70:22:7e  00:a0:de:f1:88:6e   \n",
       "4       2017908   0.000916  10:4f:a8:70:22:7e  00:a0:de:f1:88:6e   \n",
       "\n",
       "         ip.src         ip.dst    ip.len   ip.ttl  tcp.srcport  tcp.dstport  \\\n",
       "0  192.168.2.15  192.168.100.5  0.022889  0.25098          0.0          0.0   \n",
       "1  192.168.2.13  192.168.100.5  0.002976  0.25098          0.0          0.0   \n",
       "2  192.168.2.13  192.168.100.5  0.005341  0.25098          0.0          0.0   \n",
       "3  192.168.2.13  192.168.100.5  0.022889  0.25098          0.0          0.0   \n",
       "4  192.168.2.13  192.168.100.5  0.000687  0.25098          0.0          0.0   \n",
       "\n",
       "   ...   dow_sin dow_cos  hour_sin  hour_cos  minute_sin    minute_cos  \\\n",
       "0  ...  0.866025    -0.5  0.258819 -0.965926    0.669131  7.431448e-01   \n",
       "1  ...  0.866025    -0.5  0.500000 -0.866025   -0.309017  9.510565e-01   \n",
       "2  ...  0.866025    -0.5  0.258819 -0.965926    0.207912  9.781476e-01   \n",
       "3  ...  0.866025    -0.5  0.258819 -0.965926    0.951057 -3.090170e-01   \n",
       "4  ...  0.866025    -0.5  0.258819 -0.965926    1.000000  2.832769e-16   \n",
       "\n",
       "     second_sin    second_cos    ms_sin    ms_cos  \n",
       "0  1.000000e+00  2.832769e-16 -0.377139 -0.926157  \n",
       "1 -5.000000e-01 -8.660254e-01  0.499829 -0.866124  \n",
       "2  7.431448e-01 -6.691306e-01 -0.122496  0.992469  \n",
       "3  5.665539e-16 -1.000000e+00  0.266260  0.963901  \n",
       "4 -9.945219e-01  1.045285e-01  0.817640  0.575730  \n",
       "\n",
       "[5 rows x 26 columns]"
      ],
      "text/html": [
       "<div>\n",
       "<style scoped>\n",
       "    .dataframe tbody tr th:only-of-type {\n",
       "        vertical-align: middle;\n",
       "    }\n",
       "\n",
       "    .dataframe tbody tr th {\n",
       "        vertical-align: top;\n",
       "    }\n",
       "\n",
       "    .dataframe thead th {\n",
       "        text-align: right;\n",
       "    }\n",
       "</style>\n",
       "<table border=\"1\" class=\"dataframe\">\n",
       "  <thead>\n",
       "    <tr style=\"text-align: right;\">\n",
       "      <th></th>\n",
       "      <th>frame.number</th>\n",
       "      <th>frame.len</th>\n",
       "      <th>eth.src</th>\n",
       "      <th>eth.dst</th>\n",
       "      <th>ip.src</th>\n",
       "      <th>ip.dst</th>\n",
       "      <th>ip.len</th>\n",
       "      <th>ip.ttl</th>\n",
       "      <th>tcp.srcport</th>\n",
       "      <th>tcp.dstport</th>\n",
       "      <th>...</th>\n",
       "      <th>dow_sin</th>\n",
       "      <th>dow_cos</th>\n",
       "      <th>hour_sin</th>\n",
       "      <th>hour_cos</th>\n",
       "      <th>minute_sin</th>\n",
       "      <th>minute_cos</th>\n",
       "      <th>second_sin</th>\n",
       "      <th>second_cos</th>\n",
       "      <th>ms_sin</th>\n",
       "      <th>ms_cos</th>\n",
       "    </tr>\n",
       "  </thead>\n",
       "  <tbody>\n",
       "    <tr>\n",
       "      <th>0</th>\n",
       "      <td>1236045</td>\n",
       "      <td>0.023102</td>\n",
       "      <td>ac:9b:0a:fc:2a:73</td>\n",
       "      <td>00:a0:de:f1:88:6e</td>\n",
       "      <td>192.168.2.15</td>\n",
       "      <td>192.168.100.5</td>\n",
       "      <td>0.022889</td>\n",
       "      <td>0.25098</td>\n",
       "      <td>0.0</td>\n",
       "      <td>0.0</td>\n",
       "      <td>...</td>\n",
       "      <td>0.866025</td>\n",
       "      <td>-0.5</td>\n",
       "      <td>0.258819</td>\n",
       "      <td>-0.965926</td>\n",
       "      <td>0.669131</td>\n",
       "      <td>7.431448e-01</td>\n",
       "      <td>1.000000e+00</td>\n",
       "      <td>2.832769e-16</td>\n",
       "      <td>-0.377139</td>\n",
       "      <td>-0.926157</td>\n",
       "    </tr>\n",
       "    <tr>\n",
       "      <th>1</th>\n",
       "      <td>84707</td>\n",
       "      <td>0.003189</td>\n",
       "      <td>10:4f:a8:70:22:7e</td>\n",
       "      <td>00:a0:de:f1:88:6e</td>\n",
       "      <td>192.168.2.13</td>\n",
       "      <td>192.168.100.5</td>\n",
       "      <td>0.002976</td>\n",
       "      <td>0.25098</td>\n",
       "      <td>0.0</td>\n",
       "      <td>0.0</td>\n",
       "      <td>...</td>\n",
       "      <td>0.866025</td>\n",
       "      <td>-0.5</td>\n",
       "      <td>0.500000</td>\n",
       "      <td>-0.866025</td>\n",
       "      <td>-0.309017</td>\n",
       "      <td>9.510565e-01</td>\n",
       "      <td>-5.000000e-01</td>\n",
       "      <td>-8.660254e-01</td>\n",
       "      <td>0.499829</td>\n",
       "      <td>-0.866124</td>\n",
       "    </tr>\n",
       "    <tr>\n",
       "      <th>2</th>\n",
       "      <td>679170</td>\n",
       "      <td>0.005554</td>\n",
       "      <td>10:4f:a8:70:22:7e</td>\n",
       "      <td>00:a0:de:f1:88:6e</td>\n",
       "      <td>192.168.2.13</td>\n",
       "      <td>192.168.100.5</td>\n",
       "      <td>0.005341</td>\n",
       "      <td>0.25098</td>\n",
       "      <td>0.0</td>\n",
       "      <td>0.0</td>\n",
       "      <td>...</td>\n",
       "      <td>0.866025</td>\n",
       "      <td>-0.5</td>\n",
       "      <td>0.258819</td>\n",
       "      <td>-0.965926</td>\n",
       "      <td>0.207912</td>\n",
       "      <td>9.781476e-01</td>\n",
       "      <td>7.431448e-01</td>\n",
       "      <td>-6.691306e-01</td>\n",
       "      <td>-0.122496</td>\n",
       "      <td>0.992469</td>\n",
       "    </tr>\n",
       "    <tr>\n",
       "      <th>3</th>\n",
       "      <td>2245698</td>\n",
       "      <td>0.023102</td>\n",
       "      <td>10:4f:a8:70:22:7e</td>\n",
       "      <td>00:a0:de:f1:88:6e</td>\n",
       "      <td>192.168.2.13</td>\n",
       "      <td>192.168.100.5</td>\n",
       "      <td>0.022889</td>\n",
       "      <td>0.25098</td>\n",
       "      <td>0.0</td>\n",
       "      <td>0.0</td>\n",
       "      <td>...</td>\n",
       "      <td>0.866025</td>\n",
       "      <td>-0.5</td>\n",
       "      <td>0.258819</td>\n",
       "      <td>-0.965926</td>\n",
       "      <td>0.951057</td>\n",
       "      <td>-3.090170e-01</td>\n",
       "      <td>5.665539e-16</td>\n",
       "      <td>-1.000000e+00</td>\n",
       "      <td>0.266260</td>\n",
       "      <td>0.963901</td>\n",
       "    </tr>\n",
       "    <tr>\n",
       "      <th>4</th>\n",
       "      <td>2017908</td>\n",
       "      <td>0.000916</td>\n",
       "      <td>10:4f:a8:70:22:7e</td>\n",
       "      <td>00:a0:de:f1:88:6e</td>\n",
       "      <td>192.168.2.13</td>\n",
       "      <td>192.168.100.5</td>\n",
       "      <td>0.000687</td>\n",
       "      <td>0.25098</td>\n",
       "      <td>0.0</td>\n",
       "      <td>0.0</td>\n",
       "      <td>...</td>\n",
       "      <td>0.866025</td>\n",
       "      <td>-0.5</td>\n",
       "      <td>0.258819</td>\n",
       "      <td>-0.965926</td>\n",
       "      <td>1.000000</td>\n",
       "      <td>2.832769e-16</td>\n",
       "      <td>-9.945219e-01</td>\n",
       "      <td>1.045285e-01</td>\n",
       "      <td>0.817640</td>\n",
       "      <td>0.575730</td>\n",
       "    </tr>\n",
       "  </tbody>\n",
       "</table>\n",
       "<p>5 rows × 26 columns</p>\n",
       "</div>"
      ]
     },
     "execution_count": 8,
     "metadata": {},
     "output_type": "execute_result"
    }
   ],
   "execution_count": 8
  },
  {
   "cell_type": "code",
   "id": "ee267cb5e4b383b7",
   "metadata": {
    "execution": {
     "iopub.execute_input": "2025-05-18T09:25:39.538511Z",
     "iopub.status.busy": "2025-05-18T09:25:39.538276Z",
     "iopub.status.idle": "2025-05-18T09:25:39.547067Z",
     "shell.execute_reply": "2025-05-18T09:25:39.546540Z",
     "shell.execute_reply.started": "2025-05-18T09:25:39.538491Z"
    },
    "trusted": true,
    "ExecuteTime": {
     "end_time": "2025-05-19T14:48:47.458715Z",
     "start_time": "2025-05-19T14:48:47.434716Z"
    }
   },
   "source": [
    "from torch.utils.data import Dataset\n",
    "from tqdm import trange\n",
    "from multiprocessing import Pool\n",
    "import pickle\n",
    "\n",
    "class NetworkDataset(Dataset):\n",
    "    def __init__(self, data, window=128, mapping_ip=None, mapping_eth=None):\n",
    "        p = Pool(processes=8, maxtasksperchild=10)\n",
    "        self.data = data\n",
    "        self.window = window\n",
    "        if mapping_ip is None:\n",
    "            self.mappings_ip = p.map(self.ordinal_ip, trange(len(self)))\n",
    "        else:\n",
    "            self.mappings_ip = pickle.load(open(mapping_ip, \"rb\"))\n",
    "        if mapping_eth is None:\n",
    "            self.mappings_eth = p.map(self.ordinal_eth, trange(len(self)))\n",
    "        else:\n",
    "            self.mappings_eth = pickle.load(open(mapping_eth, \"rb\"))\n",
    "        p.close()\n",
    "        p.join()\n",
    "            \n",
    "    def ordinal_ip(self, i):\n",
    "        return ordinalize_packets(self.data[i:i+self.window], \"ip\")\n",
    "    def ordinal_eth(self, i):\n",
    "        return ordinalize_packets(self.data[i:i+self.window], \"eth\")\n",
    "    \n",
    "    def __getitem__(self, index):\n",
    "        packets = self.data[index:index + self.window]\n",
    "        labels = packets['alert'].to_numpy().astype(np.float32)\n",
    "        packets.loc[:, \"eth.src\"] = packets[\"eth.src\"].map(self.mappings_eth[index]).fillna(0).astype(int)\n",
    "        packets.loc[:, \"eth.dst\"] = packets[\"eth.dst\"].map(self.mappings_eth[index]).fillna(0).astype(int)\n",
    "        packets.loc[:, \"ip.src\"] = packets[\"ip.src\"].map(self.mappings_ip[index]).fillna(0).astype(int)\n",
    "        packets.loc[:, \"ip.dst\"] = packets[\"ip.dst\"].map(self.mappings_ip[index]).fillna(0).astype(int)\n",
    "        packets = packets.drop(columns=['alert', \"frame.number\"]).fillna(0)\n",
    "        return (packets[[\"eth.src\", \"eth.dst\"]].astype(int).values, packets[[\"ip.src\", \"ip.dst\"]].astype(int).values,\n",
    "                packets.drop(columns=[\"ip.src\", \"ip.dst\", \"eth.src\", \"eth.dst\"]).values.astype(\"float32\"), labels)\n",
    "\n",
    "    def __len__(self):\n",
    "        return self.data.shape[0] - self.window"
   ],
   "outputs": [
    {
     "ename": "TypeError",
     "evalue": "The decorated object is not a function (got type <class 'type'>).",
     "output_type": "error",
     "traceback": [
      "\u001B[0;31m---------------------------------------------------------------------------\u001B[0m",
      "\u001B[0;31mTypeError\u001B[0m                                 Traceback (most recent call last)",
      "Cell \u001B[0;32mIn [38], line 7\u001B[0m\n\u001B[1;32m      4\u001B[0m \u001B[38;5;28;01mimport\u001B[39;00m \u001B[38;5;21;01mpickle\u001B[39;00m\n\u001B[1;32m      5\u001B[0m \u001B[38;5;28;01mimport\u001B[39;00m \u001B[38;5;21;01mnumba\u001B[39;00m\n\u001B[0;32m----> 7\u001B[0m \u001B[38;5;129;43m@numba\u001B[39;49m\u001B[38;5;241;43m.\u001B[39;49m\u001B[43mjit\u001B[49m\n\u001B[1;32m      8\u001B[0m \u001B[38;5;28;43;01mclass\u001B[39;49;00m\u001B[43m \u001B[49m\u001B[38;5;21;43;01mNetworkDataset\u001B[39;49;00m\u001B[43m(\u001B[49m\u001B[43mDataset\u001B[49m\u001B[43m)\u001B[49m\u001B[43m:\u001B[49m\n\u001B[1;32m      9\u001B[0m \u001B[43m    \u001B[49m\u001B[38;5;28;43;01mdef\u001B[39;49;00m\u001B[43m \u001B[49m\u001B[38;5;21;43m__init__\u001B[39;49m\u001B[43m(\u001B[49m\u001B[38;5;28;43mself\u001B[39;49m\u001B[43m,\u001B[49m\u001B[43m \u001B[49m\u001B[43mdata\u001B[49m\u001B[43m,\u001B[49m\u001B[43m \u001B[49m\u001B[43mwindow\u001B[49m\u001B[38;5;241;43m=\u001B[39;49m\u001B[38;5;241;43m128\u001B[39;49m\u001B[43m,\u001B[49m\u001B[43m \u001B[49m\u001B[43mmapping_ip\u001B[49m\u001B[38;5;241;43m=\u001B[39;49m\u001B[38;5;28;43;01mNone\u001B[39;49;00m\u001B[43m,\u001B[49m\u001B[43m \u001B[49m\u001B[43mmapping_eth\u001B[49m\u001B[38;5;241;43m=\u001B[39;49m\u001B[38;5;28;43;01mNone\u001B[39;49;00m\u001B[43m)\u001B[49m\u001B[43m:\u001B[49m\n\u001B[1;32m     10\u001B[0m \u001B[43m        \u001B[49m\u001B[43mp\u001B[49m\u001B[43m \u001B[49m\u001B[38;5;241;43m=\u001B[39;49m\u001B[43m \u001B[49m\u001B[43mPool\u001B[49m\u001B[43m(\u001B[49m\u001B[43mprocesses\u001B[49m\u001B[38;5;241;43m=\u001B[39;49m\u001B[38;5;241;43m8\u001B[39;49m\u001B[43m,\u001B[49m\u001B[43m \u001B[49m\u001B[43mmaxtasksperchild\u001B[49m\u001B[38;5;241;43m=\u001B[39;49m\u001B[38;5;241;43m10\u001B[39;49m\u001B[43m)\u001B[49m\n",
      "File \u001B[0;32m/usr/local/lib/python3.11/dist-packages/numba/core/decorators.py:192\u001B[0m, in \u001B[0;36mjit\u001B[0;34m(signature_or_function, locals, cache, pipeline_class, boundscheck, **options)\u001B[0m\n\u001B[1;32m    189\u001B[0m wrapper \u001B[38;5;241m=\u001B[39m _jit(sigs, \u001B[38;5;28mlocals\u001B[39m\u001B[38;5;241m=\u001B[39m\u001B[38;5;28mlocals\u001B[39m, target\u001B[38;5;241m=\u001B[39mtarget, cache\u001B[38;5;241m=\u001B[39mcache,\n\u001B[1;32m    190\u001B[0m                targetoptions\u001B[38;5;241m=\u001B[39moptions, \u001B[38;5;241m*\u001B[39m\u001B[38;5;241m*\u001B[39mdispatcher_args)\n\u001B[1;32m    191\u001B[0m \u001B[38;5;28;01mif\u001B[39;00m pyfunc \u001B[38;5;129;01mis\u001B[39;00m \u001B[38;5;129;01mnot\u001B[39;00m \u001B[38;5;28;01mNone\u001B[39;00m:\n\u001B[0;32m--> 192\u001B[0m     \u001B[38;5;28;01mreturn\u001B[39;00m \u001B[43mwrapper\u001B[49m\u001B[43m(\u001B[49m\u001B[43mpyfunc\u001B[49m\u001B[43m)\u001B[49m\n\u001B[1;32m    193\u001B[0m \u001B[38;5;28;01melse\u001B[39;00m:\n\u001B[1;32m    194\u001B[0m     \u001B[38;5;28;01mreturn\u001B[39;00m wrapper\n",
      "File \u001B[0;32m/usr/local/lib/python3.11/dist-packages/numba/core/decorators.py:211\u001B[0m, in \u001B[0;36m_jit.<locals>.wrapper\u001B[0;34m(func)\u001B[0m\n\u001B[1;32m    204\u001B[0m     \u001B[38;5;28;01mraise\u001B[39;00m \u001B[38;5;167;01mTypeError\u001B[39;00m(\n\u001B[1;32m    205\u001B[0m         \u001B[38;5;124m\"\u001B[39m\u001B[38;5;124mA jit decorator was called on an already jitted function \u001B[39m\u001B[38;5;124m\"\u001B[39m\n\u001B[1;32m    206\u001B[0m         \u001B[38;5;124mf\u001B[39m\u001B[38;5;124m\"\u001B[39m\u001B[38;5;132;01m{\u001B[39;00mfunc\u001B[38;5;132;01m}\u001B[39;00m\u001B[38;5;124m.  If trying to access the original python \u001B[39m\u001B[38;5;124m\"\u001B[39m\n\u001B[1;32m    207\u001B[0m         \u001B[38;5;124mf\u001B[39m\u001B[38;5;124m\"\u001B[39m\u001B[38;5;124mfunction, use the \u001B[39m\u001B[38;5;132;01m{\u001B[39;00mfunc\u001B[38;5;132;01m}\u001B[39;00m\u001B[38;5;124m.py_func attribute.\u001B[39m\u001B[38;5;124m\"\u001B[39m\n\u001B[1;32m    208\u001B[0m     )\n\u001B[1;32m    210\u001B[0m \u001B[38;5;28;01mif\u001B[39;00m \u001B[38;5;129;01mnot\u001B[39;00m inspect\u001B[38;5;241m.\u001B[39misfunction(func):\n\u001B[0;32m--> 211\u001B[0m     \u001B[38;5;28;01mraise\u001B[39;00m \u001B[38;5;167;01mTypeError\u001B[39;00m(\n\u001B[1;32m    212\u001B[0m         \u001B[38;5;124m\"\u001B[39m\u001B[38;5;124mThe decorated object is not a function (got type \u001B[39m\u001B[38;5;124m\"\u001B[39m\n\u001B[1;32m    213\u001B[0m         \u001B[38;5;124mf\u001B[39m\u001B[38;5;124m\"\u001B[39m\u001B[38;5;132;01m{\u001B[39;00m\u001B[38;5;28mtype\u001B[39m(func)\u001B[38;5;132;01m}\u001B[39;00m\u001B[38;5;124m).\u001B[39m\u001B[38;5;124m\"\u001B[39m\n\u001B[1;32m    214\u001B[0m     )\n\u001B[1;32m    216\u001B[0m \u001B[38;5;28;01mif\u001B[39;00m config\u001B[38;5;241m.\u001B[39mENABLE_CUDASIM \u001B[38;5;129;01mand\u001B[39;00m target \u001B[38;5;241m==\u001B[39m \u001B[38;5;124m'\u001B[39m\u001B[38;5;124mcuda\u001B[39m\u001B[38;5;124m'\u001B[39m:\n\u001B[1;32m    217\u001B[0m     \u001B[38;5;28;01mfrom\u001B[39;00m \u001B[38;5;21;01mnumba\u001B[39;00m \u001B[38;5;28;01mimport\u001B[39;00m cuda\n",
      "\u001B[0;31mTypeError\u001B[0m: The decorated object is not a function (got type <class 'type'>)."
     ]
    }
   ],
   "execution_count": 38
  },
  {
   "cell_type": "code",
   "id": "9e5629d4956fca3b",
   "metadata": {
    "execution": {
     "iopub.execute_input": "2025-05-18T09:25:39.548089Z",
     "iopub.status.busy": "2025-05-18T09:25:39.547857Z",
     "iopub.status.idle": "2025-05-18T09:25:39.566035Z",
     "shell.execute_reply": "2025-05-18T09:25:39.565293Z",
     "shell.execute_reply.started": "2025-05-18T09:25:39.548072Z"
    },
    "trusted": true,
    "ExecuteTime": {
     "end_time": "2025-05-19T14:31:27.845489Z",
     "start_time": "2025-05-19T14:31:27.843188Z"
    }
   },
   "source": [
    "from torch.nn.utils.parametrizations import weight_norm\n",
    "\n",
    "\n",
    "class ResBlock(nn.Module):\n",
    "    def __init__(self, channels, kernel_size, dilation):\n",
    "        super(ResBlock, self).__init__()\n",
    "        self.conv1 = weight_norm(\n",
    "            nn.Conv1d(in_channels=channels, out_channels=channels, kernel_size=kernel_size, dilation=dilation))\n",
    "        self.conv2 = weight_norm(\n",
    "            nn.Conv1d(in_channels=channels, out_channels=channels, kernel_size=kernel_size, dilation=dilation))\n",
    "        self.pad = nn.ZeroPad1d((kernel_size - 1) // 2 * dilation)\n",
    "        self.dropout = nn.Dropout(0.2)\n",
    "\n",
    "    def forward(self, x):\n",
    "        t = self.pad(x)\n",
    "        t = F.relu(self.conv1(t))\n",
    "        t = self.pad(t)\n",
    "        t = F.relu(self.conv2(t))\n",
    "        return self.dropout(t) + x"
   ],
   "outputs": [],
   "execution_count": 21
  },
  {
   "cell_type": "code",
   "id": "c5c3706be37fcfb9",
   "metadata": {
    "execution": {
     "iopub.execute_input": "2025-05-18T09:25:39.567146Z",
     "iopub.status.busy": "2025-05-18T09:25:39.566884Z",
     "iopub.status.idle": "2025-05-18T09:25:39.585739Z",
     "shell.execute_reply": "2025-05-18T09:25:39.585185Z",
     "shell.execute_reply.started": "2025-05-18T09:25:39.567126Z"
    },
    "trusted": true,
    "ExecuteTime": {
     "end_time": "2025-05-19T14:31:27.847939Z",
     "start_time": "2025-05-19T14:31:27.846130Z"
    }
   },
   "source": [
    "class TCN(nn.Module):\n",
    "    def __init__(self, channels, kernel_size, blocks):\n",
    "        super(TCN, self).__init__()\n",
    "        self.blocks = nn.Sequential(*[ResBlock(channels, kernel_size, 2**i) for i in range(blocks)])\n",
    "        \n",
    "    def forward(self, x):\n",
    "        return self.blocks(x)"
   ],
   "outputs": [],
   "execution_count": 22
  },
  {
   "cell_type": "code",
   "execution_count": 16,
   "id": "70f5c18d31076e80",
   "metadata": {
    "ExecuteTime": {
     "end_time": "2025-05-08T21:02:11.297119Z",
     "start_time": "2025-05-08T21:02:11.288483Z"
    }
   },
   "outputs": [
    {
     "data": {
      "text/plain": [
       "tensor([[[ 0.4930,  2.8734,  0.7040,  1.4007,  0.5570,  0.8242,  0.5057,\n",
       "           0.6803,  0.7938,  0.3710, -0.5096,  0.6751, -0.0863, -0.2357,\n",
       "           0.1171,  1.3098, -0.0148,  1.3838, -0.1150, -1.2456, -0.6741,\n",
       "           0.1877, -0.4860,  1.2179,  2.0754, -0.3600, -0.2070, -0.7151,\n",
       "           0.6399, -0.0777,  0.3021, -0.3402,  0.4434,  1.5218,  0.5087,\n",
       "           0.1899, -0.6611, -0.4585,  2.4599,  0.4934,  0.4422,  0.5624,\n",
       "           2.2803, -1.5272,  0.7496, -0.0379,  1.2823,  0.8802, -0.7981,\n",
       "           0.6152],\n",
       "         [ 1.8333, -0.5736, -1.3496,  1.0371,  1.0337,  0.0684, -0.2696,\n",
       "           2.1811,  0.2497,  1.6957, -2.0771,  0.3720,  2.0790, -0.3636,\n",
       "           2.0944, -0.1222,  2.0948,  0.6292,  1.3397,  0.6612, -0.6909,\n",
       "           1.0906, -1.5022,  0.5549, -0.8636, -1.5973, -0.5547,  1.2952,\n",
       "           1.8265,  0.9957,  2.0427, -0.8961,  1.0709, -0.0629,  0.7529,\n",
       "          -2.8566,  0.5028, -0.9615, -0.4447, -1.2141,  0.3986,  0.6234,\n",
       "          -1.0600, -0.6818,  0.7538, -0.3115, -0.8354,  0.5746,  2.0533,\n",
       "           0.2150],\n",
       "         [ 1.1393, -1.3029,  0.5995, -0.6638,  2.3327,  1.1458,  0.2197,\n",
       "           1.1423,  1.0697,  1.1248,  1.7574, -1.2201,  0.4107,  0.2360,\n",
       "           0.6132, -0.3596, -0.9637, -0.4684,  0.8482, -0.6512,  1.3013,\n",
       "           0.2185,  0.1670,  0.1766,  0.9474, -1.6599,  0.2151,  1.4703,\n",
       "           2.8969,  0.2820,  0.2343, -0.5065,  0.4568,  1.3497, -0.3037,\n",
       "          -0.1967,  0.8576,  1.0521, -1.4856,  0.0921,  0.3245, -1.9019,\n",
       "          -0.0598, -0.5546,  1.3966, -0.6117,  2.2780, -0.2855,  1.5235,\n",
       "           1.0215],\n",
       "         [ 0.2086,  0.0516, -0.4262, -0.1971,  1.2270, -0.5420, -2.2050,\n",
       "          -0.3856,  0.9139,  1.6819, -0.7659, -0.7834, -0.3392,  1.7571,\n",
       "           2.5838,  0.3334, -0.4631, -0.9683,  1.6035,  0.5290,  1.1781,\n",
       "          -0.9958,  1.1325,  1.1291, -0.3608,  0.7950,  0.0684,  0.7084,\n",
       "           0.8208, -0.8462, -0.8245, -0.2567,  1.1762, -0.7246,  1.3553,\n",
       "          -0.7615, -1.0179,  1.0095,  0.5215,  0.7623,  0.1353,  0.9088,\n",
       "          -0.7105,  0.6101,  1.0405,  0.2870,  3.2587,  0.7990, -1.5108,\n",
       "           0.6133],\n",
       "         [ 1.0647,  0.6486,  0.4965, -0.2118,  1.5358,  1.6115, -0.2236,\n",
       "           0.3594, -0.3679,  0.1202, -0.4015, -0.0098, -0.7519, -0.2232,\n",
       "          -0.9034,  0.5287, -0.4261,  1.3451, -0.6968,  1.8915,  0.2107,\n",
       "           0.6073,  0.3320, -1.3413, -0.0139, -1.4733, -0.0081,  0.6339,\n",
       "           1.1881, -0.3070, -1.3526, -1.7729,  1.0762,  0.8132, -0.9273,\n",
       "          -0.4836,  0.3314,  1.5860,  0.2205,  1.6069, -1.3242,  2.6526,\n",
       "          -0.5728,  2.5671, -0.0707,  1.4865, -1.2416,  0.3745, -0.6643,\n",
       "          -0.2826]],\n",
       "\n",
       "        [[-1.1456, -0.6863, -2.3416,  1.3719,  0.2164, -1.3010,  1.0375,\n",
       "          -0.8751,  1.9334, -1.2767,  0.2271,  0.3862, -1.1660,  1.3061,\n",
       "          -0.0819,  0.4940,  2.4808, -1.2843,  1.4203,  1.0350,  0.0978,\n",
       "           0.4337, -0.4004,  0.3070,  0.1957, -2.1027,  2.6818,  1.1796,\n",
       "           1.5939, -1.6530,  0.4778, -0.6981,  1.9167, -1.2050,  0.3352,\n",
       "           1.1818, -1.5488,  1.9710,  0.3110,  0.1680,  1.3303, -0.9341,\n",
       "          -0.1798, -0.5771,  0.1618,  0.2983,  0.3462, -0.5535,  0.4663,\n",
       "           0.5104],\n",
       "         [-0.3230, -0.5964, -0.9086, -0.1587,  1.5052,  0.6900, -0.4010,\n",
       "          -0.6793,  0.8845,  0.1922,  0.5361,  1.6280,  1.0433, -1.3845,\n",
       "           0.3758,  1.0270,  0.3964,  0.9697,  1.0673,  0.3641, -0.1201,\n",
       "           2.6157, -0.7497,  0.2717,  0.5188,  0.0771, -1.8831,  1.4076,\n",
       "           1.8797, -0.0561, -0.4776,  1.7832,  0.2124, -0.5850,  0.4727,\n",
       "           0.4820, -0.6428, -0.7008,  1.6692,  0.7754,  0.8841, -0.3416,\n",
       "          -0.4173, -0.6595,  0.1310, -0.1849, -0.0697, -0.8341,  0.8504,\n",
       "           0.4172],\n",
       "         [ 1.6409,  1.7003,  0.8575,  0.4364,  0.8320,  0.2202, -0.5889,\n",
       "           0.4740, -0.4730, -1.8641,  0.9662, -0.3213,  0.7876, -1.2542,\n",
       "          -1.4365, -0.5116, -0.6959, -1.2182, -0.5278, -0.1385, -0.0766,\n",
       "          -0.2768, -1.4450, -0.3369, -0.0851,  0.2053,  0.0811, -1.0812,\n",
       "           0.7534,  0.3042,  0.9273, -1.5362,  0.7542,  0.5837, -0.4911,\n",
       "           1.2620, -0.6903,  0.8335, -0.2933,  1.5812,  0.4279, -0.7927,\n",
       "           1.8906,  0.3261, -0.5351, -0.7615,  1.3992,  1.6417,  0.2425,\n",
       "          -2.2015],\n",
       "         [-1.4750,  0.5970,  1.3045, -0.7830,  2.2044,  1.5325, -0.7796,\n",
       "          -0.5503,  1.5651,  2.0567,  0.5446, -1.9833,  0.6767,  2.1886,\n",
       "           1.6328,  0.1589,  1.3795,  2.6845, -1.9044,  0.2763,  2.1038,\n",
       "           3.8984,  1.3529,  1.2913, -2.1550,  1.5209,  0.0076,  0.8468,\n",
       "          -0.2281,  1.7002,  0.3694, -0.1456, -0.4970, -1.0274,  1.0379,\n",
       "          -0.3168, -0.4002,  0.8504, -0.2333, -0.9656,  0.7429,  0.9354,\n",
       "           2.3931,  1.0685,  1.1983, -0.2944, -0.2711,  0.3968, -0.6338,\n",
       "          -0.3728],\n",
       "         [ 0.6987,  0.9379,  0.1095,  1.5563, -0.1231,  0.0846, -1.4073,\n",
       "          -1.4765, -0.0557,  0.5489,  0.4516, -2.3035, -0.0998,  1.1554,\n",
       "          -0.3236,  0.2766,  0.5007, -0.4515, -0.8051,  0.8672, -0.9713,\n",
       "          -1.7452, -0.6342,  0.3956, -0.7401,  0.4365,  0.3818, -0.3642,\n",
       "           0.7850,  0.8064, -0.4926, -0.2492, -1.8454,  0.4676, -0.0339,\n",
       "           0.8733,  1.2641,  2.4603, -0.8383,  1.4415,  1.6670, -0.9567,\n",
       "           0.0693, -0.4395,  0.4564, -1.3258,  0.7302, -0.3006,  0.6037,\n",
       "          -0.3261]]], grad_fn=<AddBackward0>)"
      ]
     },
     "execution_count": 16,
     "metadata": {},
     "output_type": "execute_result"
    }
   ],
   "source": [
    "rb =TCN(5, 5, 2)\n",
    "rb(torch.randn(2, 5, 50))"
   ]
  },
  {
   "cell_type": "code",
   "id": "96ca2ca3d3cf867c",
   "metadata": {
    "execution": {
     "iopub.execute_input": "2025-05-18T09:25:39.586715Z",
     "iopub.status.busy": "2025-05-18T09:25:39.586442Z",
     "iopub.status.idle": "2025-05-18T09:25:39.601522Z",
     "shell.execute_reply": "2025-05-18T09:25:39.600826Z",
     "shell.execute_reply.started": "2025-05-18T09:25:39.586691Z"
    },
    "trusted": true,
    "ExecuteTime": {
     "end_time": "2025-05-19T14:41:13.208580Z",
     "start_time": "2025-05-19T14:41:13.204563Z"
    }
   },
   "source": [
    "class Model(nn.Module):\n",
    "    def __init__(self):\n",
    "        super(Model, self).__init__()\n",
    "        self.eth_embed = nn.Embedding(128, 32)\n",
    "        self.ip_embed = nn.Embedding(128, 32)\n",
    "        self.total_embed = nn.Linear(148, 64)\n",
    "        self.conv = TCN(128, 5, 3)\n",
    "        self.projection = nn.Linear(64, 1)\n",
    "\n",
    "    def forward(self, eth, ip, packet):\n",
    "        B = packet.size(0)\n",
    "        L = packet.size(1)\n",
    "        eth = self.eth_embed(eth).view(B, L, -1)\n",
    "        ip = self.ip_embed(ip).view(B, L, -1)\n",
    "        pk_embed = self.total_embed(torch.cat((eth, ip, packet), dim=-1))\n",
    "        processed = nn.functional.relu(self.conv(pk_embed))\n",
    "        preds = self.projection(processed).squeeze(-1)\n",
    "        return nn.functional.sigmoid(preds)"
   ],
   "outputs": [],
   "execution_count": 30
  },
  {
   "cell_type": "code",
   "execution_count": 16,
   "id": "437967a4-2d6c-4c56-9eee-653c798effbe",
   "metadata": {
    "execution": {
     "iopub.execute_input": "2025-05-18T10:03:06.088412Z",
     "iopub.status.busy": "2025-05-18T10:03:06.088024Z",
     "iopub.status.idle": "2025-05-18T10:03:06.471328Z",
     "shell.execute_reply": "2025-05-18T10:03:06.470438Z",
     "shell.execute_reply.started": "2025-05-18T10:03:06.088385Z"
    },
    "trusted": true
   },
   "outputs": [
    {
     "data": {
      "text/plain": [
       "1004"
      ]
     },
     "execution_count": 16,
     "metadata": {},
     "output_type": "execute_result"
    }
   ],
   "source": [
    "gc.collect()"
   ]
  },
  {
   "cell_type": "code",
   "id": "9ac5d61754852a5e",
   "metadata": {
    "execution": {
     "execution_failed": "2025-05-18T10:03:29.020Z",
     "iopub.execute_input": "2025-05-18T10:03:06.587708Z",
     "iopub.status.busy": "2025-05-18T10:03:06.587409Z"
    },
    "trusted": true,
    "ExecuteTime": {
     "end_time": "2025-05-19T14:47:52.000206Z",
     "start_time": "2025-05-19T14:47:42.081749Z"
    }
   },
   "source": "dataset = NetworkDataset(df, 128, 'ip_mappings_train', 'eth_mappings_train') # preparation of dataset",
   "outputs": [],
   "execution_count": 36
  },
  {
   "metadata": {
    "ExecuteTime": {
     "end_time": "2025-05-18T20:06:06.738799Z",
     "start_time": "2025-05-18T20:05:56.478929Z"
    }
   },
   "cell_type": "code",
   "source": [
    "import pickle\n",
    "pickle.dump(dataset.mappings_ip, open('ip_mappings_train', 'wb'))\n",
    "pickle.dump(dataset.mappings_eth, open('eth_mappings_train', 'wb'))"
   ],
   "id": "cc72fd623a01420f",
   "outputs": [],
   "execution_count": 15
  },
  {
   "cell_type": "code",
   "id": "7c32475b89181457",
   "metadata": {
    "execution": {
     "iopub.execute_input": "2025-05-18T10:02:57.473468Z",
     "iopub.status.busy": "2025-05-18T10:02:57.472990Z",
     "iopub.status.idle": "2025-05-18T10:02:57.526943Z",
     "shell.execute_reply": "2025-05-18T10:02:57.525672Z",
     "shell.execute_reply.started": "2025-05-18T10:02:57.473434Z"
    },
    "trusted": true,
    "ExecuteTime": {
     "end_time": "2025-05-19T14:48:06.181464Z",
     "start_time": "2025-05-19T14:47:52.001590Z"
    }
   },
   "source": [
    "from torch.utils.data import DataLoader\n",
    "from torch.optim import Adam\n",
    "from tqdm import tqdm\n",
    "from accelerate import Accelerator\n",
    "\n",
    "accelerator = Accelerator(mixed_precision=\"bf16\")\n",
    "model = Model()\n",
    "dataloader = DataLoader(dataset, batch_size=64, shuffle=True, drop_last=True, num_workers=32, pin_memory=True,\n",
    "                        persistent_workers=True)\n",
    "optimizer = Adam(model.parameters(), lr=1e-4)\n",
    "w = torch.tensor([5.28], dtype=torch.float32, device=\"cuda\")\n",
    "loss_fn = nn.BCELoss(weight=w)\n",
    "\n",
    "model, dataloader, optimizer = accelerator.prepare(model, dataloader, optimizer)\n",
    "\n",
    "for epoch in range(20):\n",
    "    count = 0\n",
    "    total = 0\n",
    "\n",
    "    for eth, ip, pkt, labels in tqdm(dataloader):\n",
    "        optimizer.zero_grad()\n",
    "        pkt = model(eth, ip, pkt)\n",
    "        loss = loss_fn(pkt, labels)\n",
    "        count += 1\n",
    "        total += loss.item()\n",
    "        loss.backward()\n",
    "        optimizer.step()\n",
    "\n",
    "    print(\"Epoch {} Loss {}\".format(epoch, total / count))"
   ],
   "outputs": [
    {
     "name": "stderr",
     "output_type": "stream",
     "text": [
      "  0%|          | 0/262717 [00:14<?, ?it/s]\n"
     ]
    },
    {
     "ename": "TypingError",
     "evalue": "Caught TypingError in DataLoader worker process 0.\nOriginal Traceback (most recent call last):\n  File \"/usr/local/lib/python3.11/dist-packages/torch/utils/data/_utils/worker.py\", line 349, in _worker_loop\n    data = fetcher.fetch(index)  # type: ignore[possibly-undefined]\n           ^^^^^^^^^^^^^^^^^^^^\n  File \"/usr/local/lib/python3.11/dist-packages/torch/utils/data/_utils/fetch.py\", line 52, in fetch\n    data = [self.dataset[idx] for idx in possibly_batched_index]\n           ^^^^^^^^^^^^^^^^^^^^^^^^^^^^^^^^^^^^^^^^^^^^^^^^^^^^^\n  File \"/usr/local/lib/python3.11/dist-packages/torch/utils/data/_utils/fetch.py\", line 52, in <listcomp>\n    data = [self.dataset[idx] for idx in possibly_batched_index]\n            ~~~~~~~~~~~~^^^^^\n  File \"/usr/local/lib/python3.11/dist-packages/numba/core/dispatcher.py\", line 423, in _compile_for_args\n    error_rewrite(e, 'typing')\n  File \"/usr/local/lib/python3.11/dist-packages/numba/core/dispatcher.py\", line 364, in error_rewrite\n    raise e.with_traceback(None)\nnumba.core.errors.TypingError: Failed in nopython mode pipeline (step: nopython frontend)\nnon-precise type pyobject\nDuring: typing of argument at /tmp/ipykernel_3754/1843701634.py (29)\n\nFile \"../../../tmp/ipykernel_3754/1843701634.py\", line 29:\n<source missing, REPL/exec in use?> \n\nThis error may have been caused by the following argument(s):\n- argument 0: Cannot determine Numba type of <class '__main__.NetworkDataset'>\n\n",
     "output_type": "error",
     "traceback": [
      "\u001B[0;31m---------------------------------------------------------------------------\u001B[0m",
      "\u001B[0;31mTypingError\u001B[0m                               Traceback (most recent call last)",
      "Cell \u001B[0;32mIn [37], line 20\u001B[0m\n\u001B[1;32m     17\u001B[0m count \u001B[38;5;241m=\u001B[39m \u001B[38;5;241m0\u001B[39m\n\u001B[1;32m     18\u001B[0m total \u001B[38;5;241m=\u001B[39m \u001B[38;5;241m0\u001B[39m\n\u001B[0;32m---> 20\u001B[0m \u001B[38;5;28;01mfor\u001B[39;00m eth, ip, pkt, labels \u001B[38;5;129;01min\u001B[39;00m tqdm(dataloader):\n\u001B[1;32m     21\u001B[0m     optimizer\u001B[38;5;241m.\u001B[39mzero_grad()\n\u001B[1;32m     22\u001B[0m     pkt \u001B[38;5;241m=\u001B[39m model(eth, ip, pkt)\n",
      "File \u001B[0;32m/usr/local/lib/python3.11/dist-packages/tqdm/std.py:1181\u001B[0m, in \u001B[0;36mtqdm.__iter__\u001B[0;34m(self)\u001B[0m\n\u001B[1;32m   1178\u001B[0m time \u001B[38;5;241m=\u001B[39m \u001B[38;5;28mself\u001B[39m\u001B[38;5;241m.\u001B[39m_time\n\u001B[1;32m   1180\u001B[0m \u001B[38;5;28;01mtry\u001B[39;00m:\n\u001B[0;32m-> 1181\u001B[0m     \u001B[38;5;28;01mfor\u001B[39;00m obj \u001B[38;5;129;01min\u001B[39;00m iterable:\n\u001B[1;32m   1182\u001B[0m         \u001B[38;5;28;01myield\u001B[39;00m obj\n\u001B[1;32m   1183\u001B[0m         \u001B[38;5;66;03m# Update and possibly print the progressbar.\u001B[39;00m\n\u001B[1;32m   1184\u001B[0m         \u001B[38;5;66;03m# Note: does not call self.update(1) for speed optimisation.\u001B[39;00m\n",
      "File \u001B[0;32m/usr/local/lib/python3.11/dist-packages/accelerate/data_loader.py:552\u001B[0m, in \u001B[0;36mDataLoaderShard.__iter__\u001B[0;34m(self)\u001B[0m\n\u001B[1;32m    550\u001B[0m \u001B[38;5;66;03m# We iterate one batch ahead to check when we are at the end\u001B[39;00m\n\u001B[1;32m    551\u001B[0m \u001B[38;5;28;01mtry\u001B[39;00m:\n\u001B[0;32m--> 552\u001B[0m     current_batch \u001B[38;5;241m=\u001B[39m \u001B[38;5;28mnext\u001B[39m(dataloader_iter)\n\u001B[1;32m    553\u001B[0m \u001B[38;5;28;01mexcept\u001B[39;00m \u001B[38;5;167;01mStopIteration\u001B[39;00m:\n\u001B[1;32m    554\u001B[0m     \u001B[38;5;28;01myield\u001B[39;00m\n",
      "File \u001B[0;32m/usr/local/lib/python3.11/dist-packages/torch/utils/data/dataloader.py:708\u001B[0m, in \u001B[0;36m_BaseDataLoaderIter.__next__\u001B[0;34m(self)\u001B[0m\n\u001B[1;32m    705\u001B[0m \u001B[38;5;28;01mif\u001B[39;00m \u001B[38;5;28mself\u001B[39m\u001B[38;5;241m.\u001B[39m_sampler_iter \u001B[38;5;129;01mis\u001B[39;00m \u001B[38;5;28;01mNone\u001B[39;00m:\n\u001B[1;32m    706\u001B[0m     \u001B[38;5;66;03m# TODO(https://github.com/pytorch/pytorch/issues/76750)\u001B[39;00m\n\u001B[1;32m    707\u001B[0m     \u001B[38;5;28mself\u001B[39m\u001B[38;5;241m.\u001B[39m_reset()  \u001B[38;5;66;03m# type: ignore[call-arg]\u001B[39;00m\n\u001B[0;32m--> 708\u001B[0m data \u001B[38;5;241m=\u001B[39m \u001B[38;5;28;43mself\u001B[39;49m\u001B[38;5;241;43m.\u001B[39;49m\u001B[43m_next_data\u001B[49m\u001B[43m(\u001B[49m\u001B[43m)\u001B[49m\n\u001B[1;32m    709\u001B[0m \u001B[38;5;28mself\u001B[39m\u001B[38;5;241m.\u001B[39m_num_yielded \u001B[38;5;241m+\u001B[39m\u001B[38;5;241m=\u001B[39m \u001B[38;5;241m1\u001B[39m\n\u001B[1;32m    710\u001B[0m \u001B[38;5;28;01mif\u001B[39;00m (\n\u001B[1;32m    711\u001B[0m     \u001B[38;5;28mself\u001B[39m\u001B[38;5;241m.\u001B[39m_dataset_kind \u001B[38;5;241m==\u001B[39m _DatasetKind\u001B[38;5;241m.\u001B[39mIterable\n\u001B[1;32m    712\u001B[0m     \u001B[38;5;129;01mand\u001B[39;00m \u001B[38;5;28mself\u001B[39m\u001B[38;5;241m.\u001B[39m_IterableDataset_len_called \u001B[38;5;129;01mis\u001B[39;00m \u001B[38;5;129;01mnot\u001B[39;00m \u001B[38;5;28;01mNone\u001B[39;00m\n\u001B[1;32m    713\u001B[0m     \u001B[38;5;129;01mand\u001B[39;00m \u001B[38;5;28mself\u001B[39m\u001B[38;5;241m.\u001B[39m_num_yielded \u001B[38;5;241m>\u001B[39m \u001B[38;5;28mself\u001B[39m\u001B[38;5;241m.\u001B[39m_IterableDataset_len_called\n\u001B[1;32m    714\u001B[0m ):\n",
      "File \u001B[0;32m/usr/local/lib/python3.11/dist-packages/torch/utils/data/dataloader.py:1480\u001B[0m, in \u001B[0;36m_MultiProcessingDataLoaderIter._next_data\u001B[0;34m(self)\u001B[0m\n\u001B[1;32m   1478\u001B[0m \u001B[38;5;28;01mdel\u001B[39;00m \u001B[38;5;28mself\u001B[39m\u001B[38;5;241m.\u001B[39m_task_info[idx]\n\u001B[1;32m   1479\u001B[0m \u001B[38;5;28mself\u001B[39m\u001B[38;5;241m.\u001B[39m_rcvd_idx \u001B[38;5;241m+\u001B[39m\u001B[38;5;241m=\u001B[39m \u001B[38;5;241m1\u001B[39m\n\u001B[0;32m-> 1480\u001B[0m \u001B[38;5;28;01mreturn\u001B[39;00m \u001B[38;5;28;43mself\u001B[39;49m\u001B[38;5;241;43m.\u001B[39;49m\u001B[43m_process_data\u001B[49m\u001B[43m(\u001B[49m\u001B[43mdata\u001B[49m\u001B[43m)\u001B[49m\n",
      "File \u001B[0;32m/usr/local/lib/python3.11/dist-packages/torch/utils/data/dataloader.py:1505\u001B[0m, in \u001B[0;36m_MultiProcessingDataLoaderIter._process_data\u001B[0;34m(self, data)\u001B[0m\n\u001B[1;32m   1503\u001B[0m \u001B[38;5;28mself\u001B[39m\u001B[38;5;241m.\u001B[39m_try_put_index()\n\u001B[1;32m   1504\u001B[0m \u001B[38;5;28;01mif\u001B[39;00m \u001B[38;5;28misinstance\u001B[39m(data, ExceptionWrapper):\n\u001B[0;32m-> 1505\u001B[0m     \u001B[43mdata\u001B[49m\u001B[38;5;241;43m.\u001B[39;49m\u001B[43mreraise\u001B[49m\u001B[43m(\u001B[49m\u001B[43m)\u001B[49m\n\u001B[1;32m   1506\u001B[0m \u001B[38;5;28;01mreturn\u001B[39;00m data\n",
      "File \u001B[0;32m/usr/local/lib/python3.11/dist-packages/torch/_utils.py:733\u001B[0m, in \u001B[0;36mExceptionWrapper.reraise\u001B[0;34m(self)\u001B[0m\n\u001B[1;32m    729\u001B[0m \u001B[38;5;28;01mexcept\u001B[39;00m \u001B[38;5;167;01mTypeError\u001B[39;00m:\n\u001B[1;32m    730\u001B[0m     \u001B[38;5;66;03m# If the exception takes multiple arguments, don't try to\u001B[39;00m\n\u001B[1;32m    731\u001B[0m     \u001B[38;5;66;03m# instantiate since we don't know how to\u001B[39;00m\n\u001B[1;32m    732\u001B[0m     \u001B[38;5;28;01mraise\u001B[39;00m \u001B[38;5;167;01mRuntimeError\u001B[39;00m(msg) \u001B[38;5;28;01mfrom\u001B[39;00m \u001B[38;5;28mNone\u001B[39m\n\u001B[0;32m--> 733\u001B[0m \u001B[38;5;28;01mraise\u001B[39;00m exception\n",
      "\u001B[0;31mTypingError\u001B[0m: Caught TypingError in DataLoader worker process 0.\nOriginal Traceback (most recent call last):\n  File \"/usr/local/lib/python3.11/dist-packages/torch/utils/data/_utils/worker.py\", line 349, in _worker_loop\n    data = fetcher.fetch(index)  # type: ignore[possibly-undefined]\n           ^^^^^^^^^^^^^^^^^^^^\n  File \"/usr/local/lib/python3.11/dist-packages/torch/utils/data/_utils/fetch.py\", line 52, in fetch\n    data = [self.dataset[idx] for idx in possibly_batched_index]\n           ^^^^^^^^^^^^^^^^^^^^^^^^^^^^^^^^^^^^^^^^^^^^^^^^^^^^^\n  File \"/usr/local/lib/python3.11/dist-packages/torch/utils/data/_utils/fetch.py\", line 52, in <listcomp>\n    data = [self.dataset[idx] for idx in possibly_batched_index]\n            ~~~~~~~~~~~~^^^^^\n  File \"/usr/local/lib/python3.11/dist-packages/numba/core/dispatcher.py\", line 423, in _compile_for_args\n    error_rewrite(e, 'typing')\n  File \"/usr/local/lib/python3.11/dist-packages/numba/core/dispatcher.py\", line 364, in error_rewrite\n    raise e.with_traceback(None)\nnumba.core.errors.TypingError: Failed in nopython mode pipeline (step: nopython frontend)\nnon-precise type pyobject\nDuring: typing of argument at /tmp/ipykernel_3754/1843701634.py (29)\n\nFile \"../../../tmp/ipykernel_3754/1843701634.py\", line 29:\n<source missing, REPL/exec in use?> \n\nThis error may have been caused by the following argument(s):\n- argument 0: Cannot determine Numba type of <class '__main__.NetworkDataset'>\n\n"
     ]
    }
   ],
   "execution_count": 37
  },
  {
   "cell_type": "code",
   "id": "0590c281-4e43-4734-8c50-61023d18e214",
   "metadata": {
    "trusted": true,
    "ExecuteTime": {
     "end_time": "2025-05-19T13:44:58.266557Z",
     "start_time": "2025-05-19T13:44:45.558430Z"
    }
   },
   "source": [
    "df_val = pd.read_csv(\"df_val.csv\")"
   ],
   "outputs": [
    {
     "name": "stderr",
     "output_type": "stream",
     "text": [
      "/tmp/ipykernel_3754/3364097189.py:1: DtypeWarning: Columns (23,24,25,26,27,29,37,38,39,40,41,43,45,47,49,50,51,52,54,55,56,70,71) have mixed types. Specify dtype option on import or set low_memory=False.\n",
      "  df_val = pd.read_csv(\"df_val.csv\")\n"
     ]
    }
   ],
   "execution_count": 2
  },
  {
   "cell_type": "code",
   "id": "b754855b-87a2-4b70-9f35-8e4332fcf901",
   "metadata": {
    "trusted": true,
    "ExecuteTime": {
     "end_time": "2025-05-19T14:07:51.477395Z",
     "start_time": "2025-05-19T13:51:34.586637Z"
    }
   },
   "source": [
    "dataset_val = NetworkDataset(df_val, 128)"
   ],
   "outputs": [
    {
     "name": "stderr",
     "output_type": "stream",
     "text": [
      "100%|██████████| 4203397/4203397 [06:13<00:00, 11258.61it/s]\n",
      "100%|██████████| 4203397/4203397 [06:22<00:00, 10975.21it/s]\n"
     ]
    }
   ],
   "execution_count": 7
  },
  {
   "metadata": {
    "ExecuteTime": {
     "end_time": "2025-05-19T14:22:31.396734Z",
     "start_time": "2025-05-19T14:22:29.074753Z"
    }
   },
   "cell_type": "code",
   "source": [
    "import pickle\n",
    "pickle.dump(dataset_val.mappings_ip, open('ip_mappings_val', 'wb'))\n",
    "pickle.dump(dataset_val.mappings_eth, open('eth_mappings_val', 'wb'))"
   ],
   "id": "3eb511309aa7f010",
   "outputs": [],
   "execution_count": 9
  },
  {
   "cell_type": "code",
   "id": "6fa37a95eaad79df",
   "metadata": {
    "ExecuteTime": {
     "end_time": "2025-05-18T20:05:37.594352Z",
     "start_time": "2025-05-18T20:05:37.536968Z"
    }
   },
   "source": [
    "ip, eth, pkt, labels = dataset_val[0]\n",
    "ip = torch.from_numpy(ip).cuda().unsqueeze(0)\n",
    "eth = torch.from_numpy(eth).cuda().unsqueeze(0)\n",
    "pkt = torch.from_numpy(pkt).cuda().unsqueeze(0)\n",
    "labels = torch.from_numpy(labels).cuda().unsqueeze(0)\n",
    "\n",
    "pred = model(ip, eth, pkt)\n",
    "print(pred)\n",
    "print(pred > 0.5)\n",
    "labels"
   ],
   "outputs": [
    {
     "ename": "NameError",
     "evalue": "name 'dataset_val' is not defined",
     "output_type": "error",
     "traceback": [
      "\u001B[0;31m---------------------------------------------------------------------------\u001B[0m",
      "\u001B[0;31mNameError\u001B[0m                                 Traceback (most recent call last)",
      "Cell \u001B[0;32mIn [14], line 1\u001B[0m\n\u001B[0;32m----> 1\u001B[0m ip, eth, pkt, labels \u001B[38;5;241m=\u001B[39m \u001B[43mdataset_val\u001B[49m\n\u001B[1;32m      2\u001B[0m ip \u001B[38;5;241m=\u001B[39m torch\u001B[38;5;241m.\u001B[39mfrom_numpy(ip)\u001B[38;5;241m.\u001B[39mcuda()\u001B[38;5;241m.\u001B[39munsqueeze(\u001B[38;5;241m0\u001B[39m)\n\u001B[1;32m      3\u001B[0m eth \u001B[38;5;241m=\u001B[39m torch\u001B[38;5;241m.\u001B[39mfrom_numpy(eth)\u001B[38;5;241m.\u001B[39mcuda()\u001B[38;5;241m.\u001B[39munsqueeze(\u001B[38;5;241m0\u001B[39m)\n",
      "\u001B[0;31mNameError\u001B[0m: name 'dataset_val' is not defined"
     ]
    }
   ],
   "execution_count": 14
  },
  {
   "cell_type": "code",
   "execution_count": null,
   "id": "cbb86d86-d72a-4bbb-b539-17297a917536",
   "metadata": {
    "trusted": true
   },
   "outputs": [],
   "source": [
    "pred = pred.reshape(-1, 1)\n",
    "labels =  labels.reshape(-1, 1)"
   ]
  },
  {
   "cell_type": "code",
   "execution_count": 68,
   "id": "56973ae32a55ba37",
   "metadata": {
    "ExecuteTime": {
     "end_time": "2025-05-07T20:38:31.365991Z",
     "start_time": "2025-05-07T20:38:31.362352Z"
    }
   },
   "outputs": [
    {
     "data": {
      "text/plain": [
       "tensor(0.7049, device='cuda:0', grad_fn=<BinaryCrossEntropyBackward0>)"
      ]
     },
     "execution_count": 68,
     "metadata": {},
     "output_type": "execute_result"
    }
   ],
   "source": [
    "loss_fn(pred, labels)"
   ]
  },
  {
   "cell_type": "code",
   "execution_count": null,
   "id": "ecf715b721e5413d",
   "metadata": {},
   "outputs": [],
   "source": [
    "#confusion matrix\n",
    "cm = confusion_matrix(labels, pred)\n",
    "num = labels.shape[0]\n",
    "norm = cm/num\n",
    "# Plot with Seaborn\n",
    "plt.figure(figsize=(10, 7))\n",
    "sns.heatmap(cm, annot=True, fmt='.4f', cmap='Blues')\n",
    "plt.xlabel('Predicted')\n",
    "plt.ylabel('Actual')\n",
    "plt.title('Confusion Matrix - Incident Grade Prediction')\n",
    "plt.show()"
   ]
  },
  {
   "cell_type": "code",
   "execution_count": null,
   "id": "5058ccee-9b42-438a-9bf4-8dd1543e593d",
   "metadata": {
    "trusted": true
   },
   "outputs": [],
   "source": [
    "#ROC Curve\n",
    "fpr, tpr, thresholds = roc_curve(labels, pred)\n",
    "plt.figure(figsize=(8, 6))\n",
    "plt.plot(fpr, tpr, color='blue', lw=2, label='ROC curve (area = %0.4f)' % roc_auc_score(y_test, y_pred))\n",
    "plt.plot([0, 1], [0, 1], color='navy', lw=2, linestyle='--')\n",
    "plt.xlim([0.0, 1.0])\n",
    "plt.ylim([0.0, 1.05])\n",
    "plt.xlabel('False Positive Rate')\n",
    "plt.ylabel('True Positive Rate')\n",
    "# plt.title('Receiver Operating Characteristic (ROC) Curve')\n",
    "plt.legend(loc=\"lower right\")\n",
    "plt.show()"
   ]
  }
 ],
 "metadata": {
  "kaggle": {
   "accelerator": "gpu",
   "dataSources": [
    {
     "datasetId": 7445389,
     "sourceId": 11849365,
     "sourceType": "datasetVersion"
    }
   ],
   "dockerImageVersionId": 31040,
   "isGpuEnabled": true,
   "isInternetEnabled": true,
   "language": "python",
   "sourceType": "notebook"
  },
  "kernelspec": {
   "display_name": "Python 3",
   "language": "python",
   "name": "python3"
  },
  "language_info": {
   "codemirror_mode": {
    "name": "ipython",
    "version": 3
   },
   "file_extension": ".py",
   "mimetype": "text/x-python",
   "name": "python",
   "nbconvert_exporter": "python",
   "pygments_lexer": "ipython3",
   "version": "3.11.11"
  }
 },
 "nbformat": 4,
 "nbformat_minor": 5
}
