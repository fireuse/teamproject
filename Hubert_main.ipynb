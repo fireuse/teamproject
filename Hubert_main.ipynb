{
 "cells": [
  {
   "cell_type": "code",
   "id": "initial_id",
   "metadata": {
    "execution": {
     "iopub.execute_input": "2025-05-18T11:05:15.858713Z",
     "iopub.status.busy": "2025-05-18T11:05:15.857998Z",
     "iopub.status.idle": "2025-05-18T11:05:18.779258Z",
     "shell.execute_reply": "2025-05-18T11:05:18.778504Z",
     "shell.execute_reply.started": "2025-05-18T11:05:15.858685Z"
    },
    "trusted": true,
    "ExecuteTime": {
     "end_time": "2025-05-21T07:37:16.348618Z",
     "start_time": "2025-05-21T07:37:15.168827Z"
    }
   },
   "source": [
    "import matplotlib.pyplot as plt\n",
    "import pandas as pd\n",
    "#import modin.pandas as pd\n",
    "import numpy as np\n",
    "import torch\n",
    "from torch import nn\n",
    "from torch.nn import functional as F\n",
    "import gc\n",
    "from sklearn.metrics import confusion_matrix, roc_curve \n",
    "import matplotlib.pyplot as plt\n",
    "import seaborn as sns\n",
    "\n",
    "pd.set_option('display.max_colwidth', None)\n",
    "pd.set_option('future.no_silent_downcasting', True)\n",
    "\n",
    "\n",
    "import os\n",
    "for dirname, _, filenames in os.walk('/kaggle/input'):\n",
    "    for filename in filenames:\n",
    "        print(os.path.join(dirname, filename))\n",
    "# df = pd.read_csv(\"output_adam.csv\")\n",
    "# df_label = pd.read_csv(\"mirai_labels.csv\")\n",
    "# df[\"alert\"] = df_label\n",
    "# df.head()"
   ],
   "outputs": [],
   "execution_count": 1
  },
  {
   "cell_type": "code",
   "id": "5c87eab2",
   "metadata": {
    "ExecuteTime": {
     "end_time": "2025-05-21T07:38:22.661822Z",
     "start_time": "2025-05-21T07:37:16.349499Z"
    }
   },
   "source": [
    "df = pd.read_csv(\"df_train.csv\")"
   ],
   "outputs": [
    {
     "name": "stderr",
     "output_type": "stream",
     "text": [
      "/tmp/ipykernel_6625/2622340693.py:1: DtypeWarning: Columns (24,25,26,27,28,30,38,39,40,41,42,44,46,48,50,51,52,53,55,56,57,71,72) have mixed types. Specify dtype option on import or set low_memory=False.\n",
      "  df = pd.read_csv(\"df_train.csv\")\n"
     ]
    }
   ],
   "execution_count": 2
  },
  {
   "cell_type": "code",
   "id": "0cb0bacb-b9f6-490a-8fd8-aa6000ea9125",
   "metadata": {
    "execution": {
     "iopub.execute_input": "2025-05-18T11:11:51.139552Z",
     "iopub.status.busy": "2025-05-18T11:11:51.139001Z",
     "iopub.status.idle": "2025-05-18T11:11:51.145451Z",
     "shell.execute_reply": "2025-05-18T11:11:51.144847Z",
     "shell.execute_reply.started": "2025-05-18T11:11:51.139526Z"
    },
    "trusted": true,
    "ExecuteTime": {
     "end_time": "2025-05-19T16:34:50.877786Z",
     "start_time": "2025-05-19T16:34:50.873735Z"
    }
   },
   "source": [
    "df.columns"
   ],
   "outputs": [
    {
     "data": {
      "text/plain": [
       "Index(['frame.number', 'frame.len', 'frame.time', 'frame.time_epoch',\n",
       "       'frame.protocols', 'eth.src', 'eth.dst', 'eth.type', 'ip.src', 'ip.dst',\n",
       "       'ip.len', 'ip.ttl', 'ip.flags', 'ip.frag_offset', 'ip.proto',\n",
       "       'ip.version', 'ip.dsfield', 'ip.checksum', 'tcp.srcport', 'tcp.dstport',\n",
       "       'tcp.len', 'tcp.seq', 'tcp.ack', 'tcp.flags', 'tcp.flags.syn',\n",
       "       'tcp.flags.ack', 'tcp.flags.fin', 'tcp.flags.reset', 'tcp.window_size',\n",
       "       'tcp.checksum', 'tcp.stream', 'udp.srcport', 'udp.dstport',\n",
       "       'udp.length', 'udp.checksum', 'icmp.type', 'icmp.code', 'icmp.checksum',\n",
       "       'http.request.method', 'http.request.uri', 'http.request.version',\n",
       "       'http.request.full_uri', 'http.response.code', 'http.user_agent',\n",
       "       'http.content_length_header', 'http.content_type', 'http.cookie',\n",
       "       'http.host', 'http.referer', 'http.location', 'http.authorization',\n",
       "       'http.connection', 'dns.qry.name', 'dns.qry.type', 'dns.qry.class',\n",
       "       'dns.flags.response', 'dns.flags.recdesired', 'dns.flags.rcode',\n",
       "       'dns.resp.ttl', 'dns.resp.len', 'smtp.req.command',\n",
       "       'smtp.data.fragment', 'pop.request.command', 'pop.response',\n",
       "       'imap.request.command', 'imap.response', 'ftp.request.command',\n",
       "       'ftp.request.arg', 'ftp.response.code', 'ftp.response.arg', 'ipv6.src',\n",
       "       'ipv6.dst', 'ipv6.plen', 'alert'],\n",
       "      dtype='object')"
      ]
     },
     "execution_count": 3,
     "metadata": {},
     "output_type": "execute_result"
    }
   ],
   "execution_count": 3
  },
  {
   "cell_type": "code",
   "id": "aa40edf8aa893d58",
   "metadata": {
    "execution": {
     "iopub.execute_input": "2025-05-18T08:16:07.678873Z",
     "iopub.status.busy": "2025-05-18T08:16:07.678245Z",
     "iopub.status.idle": "2025-05-18T08:16:07.695729Z",
     "shell.execute_reply": "2025-05-18T08:16:07.695209Z",
     "shell.execute_reply.started": "2025-05-18T08:16:07.678854Z"
    },
    "trusted": true,
    "ExecuteTime": {
     "end_time": "2025-05-19T14:55:18.434195Z",
     "start_time": "2025-05-19T14:55:18.065019Z"
    }
   },
   "source": [
    "df[\"frame.time\"].iloc[1]"
   ],
   "outputs": [
    {
     "data": {
      "text/plain": [
       "'Aug  9, 2017 10:57:35.416698000 Środkowoeuropejski czas letni'"
      ]
     },
     "execution_count": 3,
     "metadata": {},
     "output_type": "execute_result"
    }
   ],
   "execution_count": 3
  },
  {
   "cell_type": "code",
   "id": "f2805f29433b2064",
   "metadata": {
    "execution": {
     "iopub.execute_input": "2025-05-18T09:23:38.932858Z",
     "iopub.status.busy": "2025-05-18T09:23:38.932634Z",
     "iopub.status.idle": "2025-05-18T09:23:38.938339Z",
     "shell.execute_reply": "2025-05-18T09:23:38.937572Z",
     "shell.execute_reply.started": "2025-05-18T09:23:38.932838Z"
    },
    "trusted": true,
    "ExecuteTime": {
     "end_time": "2025-05-21T07:38:22.665154Z",
     "start_time": "2025-05-21T07:38:22.662625Z"
    }
   },
   "source": [
    "def ordinalize_packets(packet_data, column=\"ip\"):\n",
    "    src_col = f\"{column}.src\"\n",
    "    dst_col = f\"{column}.dst\"\n",
    "    if 'frame.number' not in packet_data.columns or src_col not in packet_data.columns or dst_col not in packet_data.columns:\n",
    "        raise ValueError(\"DataFrame must contain 'frame.number' and  columns\")\n",
    "\n",
    "    out_src = packet_data.reset_index().groupby([src_col])['index'].min()\n",
    "    out_dst = packet_data.reset_index().groupby([dst_col])['index'].min() + 0.5\n",
    "    out = pd.concat([out_src, out_dst], axis=0).sort_values()\n",
    "    out = out[~out.index.duplicated(keep='first')]\n",
    "    out.iloc[:] = out.reset_index(name=\"ip\").index\n",
    "    out = out.astype(int)\n",
    "    mappings = out.to_dict()\n",
    "    return mappings\n",
    "    #packet_data.loc[:, src_col] = packet_data[src_col].replace(mappings).astype(int)\n",
    "    #packet_data.loc[:, dst_col] = packet_data[dst_col].replace(mappings).astype(int)"
   ],
   "outputs": [],
   "execution_count": 3
  },
  {
   "cell_type": "code",
   "id": "b133fe80ff57d37f",
   "metadata": {
    "execution": {
     "iopub.execute_input": "2025-05-18T09:23:38.939376Z",
     "iopub.status.busy": "2025-05-18T09:23:38.939166Z",
     "iopub.status.idle": "2025-05-18T09:25:39.536727Z",
     "shell.execute_reply": "2025-05-18T09:25:39.536114Z",
     "shell.execute_reply.started": "2025-05-18T09:23:38.939359Z"
    },
    "trusted": true,
    "ExecuteTime": {
     "end_time": "2025-05-21T07:39:06.784438Z",
     "start_time": "2025-05-21T07:38:22.665680Z"
    }
   },
   "source": [
    "features = [\"frame.number\", \"frame.len\", 'frame.time', 'eth.src', 'eth.dst', 'ip.src', 'ip.dst', 'ip.len', 'ip.ttl',\n",
    "            'tcp.srcport', 'tcp.dstport',\n",
    "            'tcp.flags.ack', 'tcp.flags.fin', 'tcp.flags.reset', \"alert\", \"udp.srcport\", \"udp.dstport\"]\n",
    "df = df[features]\n",
    "df[\"frame.len\"] /= 65535\n",
    "df[\"ip.len\"] /= 65535\n",
    "df[\"ip.ttl\"] /= 255\n",
    "df[\"tcp.srcport\"] /= 65535\n",
    "df[\"tcp.dstport\"] /= 65535\n",
    "df[\"udp.srcport\"] /= 65535\n",
    "df[\"udp.dstport\"] /= 65535\n",
    "df[\"frame.time\"] = df[\"frame.time\"].str.replace(\" Środkowoeuropejski czas letni\", \"\")#mój PCAP był po POlsku Pudzian byłby dumny :peepoGlad# CEST\n",
    "df[\"frame.time\"] = df[\"frame.time\"].str.replace(\" Środkowoeuropejski czas stand.\", \"\")\n",
    "df[\"frame.time\"] = df[\"frame.time\"].str.replace(\" CEST\", \"\")\n",
    "df[\"frame.time\"] = pd.to_datetime(df[\"frame.time\"])\n",
    "df[\"second_sin\"] = np.sin(2 * np.pi * df[\"frame.time\"].dt.second / 60)\n",
    "df[\"second_cos\"] = np.cos(2 * np.pi * df[\"frame.time\"].dt.second / 60)\n",
    "df[\"ms_sin\"] = np.sin(2 * np.pi * df[\"frame.time\"].dt.microsecond / 1000000)\n",
    "df[\"ms_cos\"] = np.cos(2 * np.pi * df[\"frame.time\"].dt.microsecond / 1000000)\n",
    "df = df.fillna(0)  # only tcp is left\n",
    "df = df.drop(columns=[\"frame.time\"])"
   ],
   "outputs": [],
   "execution_count": 4
  },
  {
   "cell_type": "code",
   "id": "b00bed62249b360f",
   "metadata": {
    "execution": {
     "iopub.execute_input": "2025-05-18T08:18:09.878167Z",
     "iopub.status.busy": "2025-05-18T08:18:09.877901Z",
     "iopub.status.idle": "2025-05-18T08:18:09.907162Z",
     "shell.execute_reply": "2025-05-18T08:18:09.906631Z",
     "shell.execute_reply.started": "2025-05-18T08:18:09.878139Z"
    },
    "trusted": true,
    "ExecuteTime": {
     "end_time": "2025-05-19T19:05:56.606056Z",
     "start_time": "2025-05-19T19:05:56.595980Z"
    }
   },
   "source": "df.head(128)",
   "outputs": [
    {
     "data": {
      "text/plain": [
       "     frame.number  frame.len            eth.src            eth.dst  \\\n",
       "0         1236045   0.023102  ac:9b:0a:fc:2a:73  00:a0:de:f1:88:6e   \n",
       "1           84707   0.003189  10:4f:a8:70:22:7e  00:a0:de:f1:88:6e   \n",
       "2          679170   0.005554  10:4f:a8:70:22:7e  00:a0:de:f1:88:6e   \n",
       "3         2245698   0.023102  10:4f:a8:70:22:7e  00:a0:de:f1:88:6e   \n",
       "4         2017908   0.000916  10:4f:a8:70:22:7e  00:a0:de:f1:88:6e   \n",
       "..            ...        ...                ...                ...   \n",
       "123       2029919   0.023102  10:4f:a8:70:22:7e  00:a0:de:f1:88:6e   \n",
       "124        530371   0.007355  10:4f:a8:70:22:7e  00:a0:de:f1:88:6e   \n",
       "125       1071640   0.019745  ac:9b:0a:fc:2a:73  00:a0:de:f1:88:6e   \n",
       "126       2014633   0.023102  ac:9b:0a:fc:2a:73  00:a0:de:f1:88:6e   \n",
       "127       1438007   0.000916  00:a0:de:f1:88:6e  ac:9b:0a:fc:2a:73   \n",
       "\n",
       "            ip.src         ip.dst    ip.len    ip.ttl  tcp.srcport  \\\n",
       "0     192.168.2.15  192.168.100.5  0.022889  0.250980     0.000000   \n",
       "1     192.168.2.13  192.168.100.5  0.002976  0.250980     0.000000   \n",
       "2     192.168.2.13  192.168.100.5  0.005341  0.250980     0.000000   \n",
       "3     192.168.2.13  192.168.100.5  0.022889  0.250980     0.000000   \n",
       "4     192.168.2.13  192.168.100.5  0.000687  0.250980     0.000000   \n",
       "..             ...            ...       ...       ...          ...   \n",
       "123   192.168.2.13  192.168.100.5  0.022889  0.250980     0.000000   \n",
       "124   192.168.2.13  192.168.100.5  0.007141  0.250980     0.000000   \n",
       "125   192.168.2.15  192.168.100.5  0.019532  0.250980     0.006760   \n",
       "126   192.168.2.15  192.168.100.5  0.022889  0.250980     0.000000   \n",
       "127  192.168.100.5   192.168.2.15  0.000610  0.490196     0.936995   \n",
       "\n",
       "     tcp.dstport  ...   dow_sin dow_cos  hour_sin  hour_cos  minute_sin  \\\n",
       "0        0.00000  ...  0.866025    -0.5  0.258819 -0.965926    0.669131   \n",
       "1        0.00000  ...  0.866025    -0.5  0.500000 -0.866025   -0.309017   \n",
       "2        0.00000  ...  0.866025    -0.5  0.258819 -0.965926    0.207912   \n",
       "3        0.00000  ...  0.866025    -0.5  0.258819 -0.965926    0.951057   \n",
       "4        0.00000  ...  0.866025    -0.5  0.258819 -0.965926    1.000000   \n",
       "..           ...  ...       ...     ...       ...       ...         ...   \n",
       "123      0.00000  ...  0.866025    -0.5  0.258819 -0.965926    1.000000   \n",
       "124      0.00000  ...  0.866025    -0.5  0.258819 -0.965926    0.104528   \n",
       "125      0.93135  ...  0.866025    -0.5  0.258819 -0.965926    0.500000   \n",
       "126      0.00000  ...  0.866025    -0.5  0.258819 -0.965926    1.000000   \n",
       "127      0.00676  ...  0.866025    -0.5  0.258819 -0.965926    0.809017   \n",
       "\n",
       "       minute_cos    second_sin    second_cos    ms_sin    ms_cos  \n",
       "0    7.431448e-01  1.000000e+00  2.832769e-16 -0.377139 -0.926157  \n",
       "1    9.510565e-01 -5.000000e-01 -8.660254e-01  0.499829 -0.866124  \n",
       "2    9.781476e-01  7.431448e-01 -6.691306e-01 -0.122496  0.992469  \n",
       "3   -3.090170e-01  5.665539e-16 -1.000000e+00  0.266260  0.963901  \n",
       "4    2.832769e-16 -9.945219e-01  1.045285e-01  0.817640  0.575730  \n",
       "..            ...           ...           ...       ...       ...  \n",
       "123  2.832769e-16 -5.877853e-01  8.090170e-01  0.995328  0.096548  \n",
       "124  9.945219e-01  9.135455e-01  4.067366e-01  0.252996  0.967467  \n",
       "125  8.660254e-01 -9.781476e-01  2.079117e-01 -0.996603 -0.082361  \n",
       "126  2.832769e-16 -9.781476e-01 -2.079117e-01 -0.195349  0.980734  \n",
       "127  5.877853e-01  8.660254e-01 -5.000000e-01  0.538418 -0.842678  \n",
       "\n",
       "[128 rows x 26 columns]"
      ],
      "text/html": [
       "<div>\n",
       "<style scoped>\n",
       "    .dataframe tbody tr th:only-of-type {\n",
       "        vertical-align: middle;\n",
       "    }\n",
       "\n",
       "    .dataframe tbody tr th {\n",
       "        vertical-align: top;\n",
       "    }\n",
       "\n",
       "    .dataframe thead th {\n",
       "        text-align: right;\n",
       "    }\n",
       "</style>\n",
       "<table border=\"1\" class=\"dataframe\">\n",
       "  <thead>\n",
       "    <tr style=\"text-align: right;\">\n",
       "      <th></th>\n",
       "      <th>frame.number</th>\n",
       "      <th>frame.len</th>\n",
       "      <th>eth.src</th>\n",
       "      <th>eth.dst</th>\n",
       "      <th>ip.src</th>\n",
       "      <th>ip.dst</th>\n",
       "      <th>ip.len</th>\n",
       "      <th>ip.ttl</th>\n",
       "      <th>tcp.srcport</th>\n",
       "      <th>tcp.dstport</th>\n",
       "      <th>...</th>\n",
       "      <th>dow_sin</th>\n",
       "      <th>dow_cos</th>\n",
       "      <th>hour_sin</th>\n",
       "      <th>hour_cos</th>\n",
       "      <th>minute_sin</th>\n",
       "      <th>minute_cos</th>\n",
       "      <th>second_sin</th>\n",
       "      <th>second_cos</th>\n",
       "      <th>ms_sin</th>\n",
       "      <th>ms_cos</th>\n",
       "    </tr>\n",
       "  </thead>\n",
       "  <tbody>\n",
       "    <tr>\n",
       "      <th>0</th>\n",
       "      <td>1236045</td>\n",
       "      <td>0.023102</td>\n",
       "      <td>ac:9b:0a:fc:2a:73</td>\n",
       "      <td>00:a0:de:f1:88:6e</td>\n",
       "      <td>192.168.2.15</td>\n",
       "      <td>192.168.100.5</td>\n",
       "      <td>0.022889</td>\n",
       "      <td>0.250980</td>\n",
       "      <td>0.000000</td>\n",
       "      <td>0.00000</td>\n",
       "      <td>...</td>\n",
       "      <td>0.866025</td>\n",
       "      <td>-0.5</td>\n",
       "      <td>0.258819</td>\n",
       "      <td>-0.965926</td>\n",
       "      <td>0.669131</td>\n",
       "      <td>7.431448e-01</td>\n",
       "      <td>1.000000e+00</td>\n",
       "      <td>2.832769e-16</td>\n",
       "      <td>-0.377139</td>\n",
       "      <td>-0.926157</td>\n",
       "    </tr>\n",
       "    <tr>\n",
       "      <th>1</th>\n",
       "      <td>84707</td>\n",
       "      <td>0.003189</td>\n",
       "      <td>10:4f:a8:70:22:7e</td>\n",
       "      <td>00:a0:de:f1:88:6e</td>\n",
       "      <td>192.168.2.13</td>\n",
       "      <td>192.168.100.5</td>\n",
       "      <td>0.002976</td>\n",
       "      <td>0.250980</td>\n",
       "      <td>0.000000</td>\n",
       "      <td>0.00000</td>\n",
       "      <td>...</td>\n",
       "      <td>0.866025</td>\n",
       "      <td>-0.5</td>\n",
       "      <td>0.500000</td>\n",
       "      <td>-0.866025</td>\n",
       "      <td>-0.309017</td>\n",
       "      <td>9.510565e-01</td>\n",
       "      <td>-5.000000e-01</td>\n",
       "      <td>-8.660254e-01</td>\n",
       "      <td>0.499829</td>\n",
       "      <td>-0.866124</td>\n",
       "    </tr>\n",
       "    <tr>\n",
       "      <th>2</th>\n",
       "      <td>679170</td>\n",
       "      <td>0.005554</td>\n",
       "      <td>10:4f:a8:70:22:7e</td>\n",
       "      <td>00:a0:de:f1:88:6e</td>\n",
       "      <td>192.168.2.13</td>\n",
       "      <td>192.168.100.5</td>\n",
       "      <td>0.005341</td>\n",
       "      <td>0.250980</td>\n",
       "      <td>0.000000</td>\n",
       "      <td>0.00000</td>\n",
       "      <td>...</td>\n",
       "      <td>0.866025</td>\n",
       "      <td>-0.5</td>\n",
       "      <td>0.258819</td>\n",
       "      <td>-0.965926</td>\n",
       "      <td>0.207912</td>\n",
       "      <td>9.781476e-01</td>\n",
       "      <td>7.431448e-01</td>\n",
       "      <td>-6.691306e-01</td>\n",
       "      <td>-0.122496</td>\n",
       "      <td>0.992469</td>\n",
       "    </tr>\n",
       "    <tr>\n",
       "      <th>3</th>\n",
       "      <td>2245698</td>\n",
       "      <td>0.023102</td>\n",
       "      <td>10:4f:a8:70:22:7e</td>\n",
       "      <td>00:a0:de:f1:88:6e</td>\n",
       "      <td>192.168.2.13</td>\n",
       "      <td>192.168.100.5</td>\n",
       "      <td>0.022889</td>\n",
       "      <td>0.250980</td>\n",
       "      <td>0.000000</td>\n",
       "      <td>0.00000</td>\n",
       "      <td>...</td>\n",
       "      <td>0.866025</td>\n",
       "      <td>-0.5</td>\n",
       "      <td>0.258819</td>\n",
       "      <td>-0.965926</td>\n",
       "      <td>0.951057</td>\n",
       "      <td>-3.090170e-01</td>\n",
       "      <td>5.665539e-16</td>\n",
       "      <td>-1.000000e+00</td>\n",
       "      <td>0.266260</td>\n",
       "      <td>0.963901</td>\n",
       "    </tr>\n",
       "    <tr>\n",
       "      <th>4</th>\n",
       "      <td>2017908</td>\n",
       "      <td>0.000916</td>\n",
       "      <td>10:4f:a8:70:22:7e</td>\n",
       "      <td>00:a0:de:f1:88:6e</td>\n",
       "      <td>192.168.2.13</td>\n",
       "      <td>192.168.100.5</td>\n",
       "      <td>0.000687</td>\n",
       "      <td>0.250980</td>\n",
       "      <td>0.000000</td>\n",
       "      <td>0.00000</td>\n",
       "      <td>...</td>\n",
       "      <td>0.866025</td>\n",
       "      <td>-0.5</td>\n",
       "      <td>0.258819</td>\n",
       "      <td>-0.965926</td>\n",
       "      <td>1.000000</td>\n",
       "      <td>2.832769e-16</td>\n",
       "      <td>-9.945219e-01</td>\n",
       "      <td>1.045285e-01</td>\n",
       "      <td>0.817640</td>\n",
       "      <td>0.575730</td>\n",
       "    </tr>\n",
       "    <tr>\n",
       "      <th>...</th>\n",
       "      <td>...</td>\n",
       "      <td>...</td>\n",
       "      <td>...</td>\n",
       "      <td>...</td>\n",
       "      <td>...</td>\n",
       "      <td>...</td>\n",
       "      <td>...</td>\n",
       "      <td>...</td>\n",
       "      <td>...</td>\n",
       "      <td>...</td>\n",
       "      <td>...</td>\n",
       "      <td>...</td>\n",
       "      <td>...</td>\n",
       "      <td>...</td>\n",
       "      <td>...</td>\n",
       "      <td>...</td>\n",
       "      <td>...</td>\n",
       "      <td>...</td>\n",
       "      <td>...</td>\n",
       "      <td>...</td>\n",
       "      <td>...</td>\n",
       "    </tr>\n",
       "    <tr>\n",
       "      <th>123</th>\n",
       "      <td>2029919</td>\n",
       "      <td>0.023102</td>\n",
       "      <td>10:4f:a8:70:22:7e</td>\n",
       "      <td>00:a0:de:f1:88:6e</td>\n",
       "      <td>192.168.2.13</td>\n",
       "      <td>192.168.100.5</td>\n",
       "      <td>0.022889</td>\n",
       "      <td>0.250980</td>\n",
       "      <td>0.000000</td>\n",
       "      <td>0.00000</td>\n",
       "      <td>...</td>\n",
       "      <td>0.866025</td>\n",
       "      <td>-0.5</td>\n",
       "      <td>0.258819</td>\n",
       "      <td>-0.965926</td>\n",
       "      <td>1.000000</td>\n",
       "      <td>2.832769e-16</td>\n",
       "      <td>-5.877853e-01</td>\n",
       "      <td>8.090170e-01</td>\n",
       "      <td>0.995328</td>\n",
       "      <td>0.096548</td>\n",
       "    </tr>\n",
       "    <tr>\n",
       "      <th>124</th>\n",
       "      <td>530371</td>\n",
       "      <td>0.007355</td>\n",
       "      <td>10:4f:a8:70:22:7e</td>\n",
       "      <td>00:a0:de:f1:88:6e</td>\n",
       "      <td>192.168.2.13</td>\n",
       "      <td>192.168.100.5</td>\n",
       "      <td>0.007141</td>\n",
       "      <td>0.250980</td>\n",
       "      <td>0.000000</td>\n",
       "      <td>0.00000</td>\n",
       "      <td>...</td>\n",
       "      <td>0.866025</td>\n",
       "      <td>-0.5</td>\n",
       "      <td>0.258819</td>\n",
       "      <td>-0.965926</td>\n",
       "      <td>0.104528</td>\n",
       "      <td>9.945219e-01</td>\n",
       "      <td>9.135455e-01</td>\n",
       "      <td>4.067366e-01</td>\n",
       "      <td>0.252996</td>\n",
       "      <td>0.967467</td>\n",
       "    </tr>\n",
       "    <tr>\n",
       "      <th>125</th>\n",
       "      <td>1071640</td>\n",
       "      <td>0.019745</td>\n",
       "      <td>ac:9b:0a:fc:2a:73</td>\n",
       "      <td>00:a0:de:f1:88:6e</td>\n",
       "      <td>192.168.2.15</td>\n",
       "      <td>192.168.100.5</td>\n",
       "      <td>0.019532</td>\n",
       "      <td>0.250980</td>\n",
       "      <td>0.006760</td>\n",
       "      <td>0.93135</td>\n",
       "      <td>...</td>\n",
       "      <td>0.866025</td>\n",
       "      <td>-0.5</td>\n",
       "      <td>0.258819</td>\n",
       "      <td>-0.965926</td>\n",
       "      <td>0.500000</td>\n",
       "      <td>8.660254e-01</td>\n",
       "      <td>-9.781476e-01</td>\n",
       "      <td>2.079117e-01</td>\n",
       "      <td>-0.996603</td>\n",
       "      <td>-0.082361</td>\n",
       "    </tr>\n",
       "    <tr>\n",
       "      <th>126</th>\n",
       "      <td>2014633</td>\n",
       "      <td>0.023102</td>\n",
       "      <td>ac:9b:0a:fc:2a:73</td>\n",
       "      <td>00:a0:de:f1:88:6e</td>\n",
       "      <td>192.168.2.15</td>\n",
       "      <td>192.168.100.5</td>\n",
       "      <td>0.022889</td>\n",
       "      <td>0.250980</td>\n",
       "      <td>0.000000</td>\n",
       "      <td>0.00000</td>\n",
       "      <td>...</td>\n",
       "      <td>0.866025</td>\n",
       "      <td>-0.5</td>\n",
       "      <td>0.258819</td>\n",
       "      <td>-0.965926</td>\n",
       "      <td>1.000000</td>\n",
       "      <td>2.832769e-16</td>\n",
       "      <td>-9.781476e-01</td>\n",
       "      <td>-2.079117e-01</td>\n",
       "      <td>-0.195349</td>\n",
       "      <td>0.980734</td>\n",
       "    </tr>\n",
       "    <tr>\n",
       "      <th>127</th>\n",
       "      <td>1438007</td>\n",
       "      <td>0.000916</td>\n",
       "      <td>00:a0:de:f1:88:6e</td>\n",
       "      <td>ac:9b:0a:fc:2a:73</td>\n",
       "      <td>192.168.100.5</td>\n",
       "      <td>192.168.2.15</td>\n",
       "      <td>0.000610</td>\n",
       "      <td>0.490196</td>\n",
       "      <td>0.936995</td>\n",
       "      <td>0.00676</td>\n",
       "      <td>...</td>\n",
       "      <td>0.866025</td>\n",
       "      <td>-0.5</td>\n",
       "      <td>0.258819</td>\n",
       "      <td>-0.965926</td>\n",
       "      <td>0.809017</td>\n",
       "      <td>5.877853e-01</td>\n",
       "      <td>8.660254e-01</td>\n",
       "      <td>-5.000000e-01</td>\n",
       "      <td>0.538418</td>\n",
       "      <td>-0.842678</td>\n",
       "    </tr>\n",
       "  </tbody>\n",
       "</table>\n",
       "<p>128 rows × 26 columns</p>\n",
       "</div>"
      ]
     },
     "execution_count": 76,
     "metadata": {},
     "output_type": "execute_result"
    }
   ],
   "execution_count": 76
  },
  {
   "cell_type": "code",
   "id": "ee267cb5e4b383b7",
   "metadata": {
    "execution": {
     "iopub.execute_input": "2025-05-18T09:25:39.538511Z",
     "iopub.status.busy": "2025-05-18T09:25:39.538276Z",
     "iopub.status.idle": "2025-05-18T09:25:39.547067Z",
     "shell.execute_reply": "2025-05-18T09:25:39.546540Z",
     "shell.execute_reply.started": "2025-05-18T09:25:39.538491Z"
    },
    "trusted": true,
    "ExecuteTime": {
     "end_time": "2025-05-21T07:39:07.557894Z",
     "start_time": "2025-05-21T07:39:06.785601Z"
    }
   },
   "source": [
    "from torch.utils.data import Dataset\n",
    "from tqdm import trange\n",
    "from multiprocessing import Pool\n",
    "import pickle\n",
    "\n",
    "class NetworkDataset(Dataset):\n",
    "    def __init__(self, data, window=128, mapping_ip=None, mapping_eth=None):\n",
    "        p = Pool(processes=6, maxtasksperchild=10)\n",
    "        self.data = data\n",
    "        self.window = window\n",
    "        if mapping_ip is None:\n",
    "            self.mappings_ip = p.map(self.ordinal_ip, trange(len(self)))\n",
    "        else:\n",
    "            self.mappings_ip = pickle.load(open(mapping_ip, \"rb\"))\n",
    "        if mapping_eth is None:\n",
    "            self.mappings_eth = p.map(self.ordinal_eth, trange(len(self)))\n",
    "        else:\n",
    "            self.mappings_eth = pickle.load(open(mapping_eth, \"rb\"))\n",
    "        p.close()\n",
    "        p.join()\n",
    "        exclude_cols = {'alert', 'frame.number', 'ip.src', 'ip.dst', 'eth.src', 'eth.dst'}\n",
    "        self.feature_cols = [col for col in self.data.columns if col not in exclude_cols]\n",
    "            \n",
    "    def ordinal_ip(self, i):\n",
    "        return ordinalize_packets(self.data[i:i+self.window], \"ip\")\n",
    "    def ordinal_eth(self, i):\n",
    "        return ordinalize_packets(self.data[i:i+self.window], \"eth\")\n",
    "    \n",
    "    def __getitem__(self, index):\n",
    "        \"\"\"packets = self.data[index:index + self.window]\n",
    "        labels = packets['alert'].to_numpy().astype(np.float32)\n",
    "        eth_src = packets[\"eth.src\"].map(self.mappings_eth[index]).fillna(0).astype(int)\n",
    "        eth_dst = packets[\"eth.dst\"].map(self.mappings_eth[index]).fillna(0).astype(int)\n",
    "        ip_src = packets[\"ip.src\"].map(self.mappings_ip[index]).fillna(0).astype(int)\n",
    "        ip_dst = packets[\"ip.dst\"].map(self.mappings_ip[index]).fillna(0).astype(int)\n",
    "        packets = packets.drop(columns=['alert', \"frame.number\"]).fillna(0)\n",
    "        return (pd.concat([eth_src, eth_dst]).values, pd.concat([ip_src, ip_dst]).values,\n",
    "                packets.drop(columns=[\"ip.src\", \"ip.dst\", \"eth.src\", \"eth.dst\"]).values.astype(\"float32\"), labels)\"\"\"\n",
    "        packets = self.data[index:index + self.window]\n",
    "        labels = packets['alert'].values.astype(np.float32)\n",
    "        \n",
    "        eth_src = np.vectorize(self.mappings_eth[index].get)(packets[\"eth.src\"].values)\n",
    "        eth_dst = np.vectorize(self.mappings_eth[index].get)(packets[\"eth.dst\"].values)\n",
    "        ip_src = np.vectorize(self.mappings_ip[index].get)(packets[\"ip.src\"].values)\n",
    "        ip_dst = np.vectorize(self.mappings_ip[index].get)(packets[\"ip.dst\"].values)\n",
    "    \n",
    "        feature_values = packets[self.feature_cols].astype(np.float32)\n",
    "        feature_values = np.nan_to_num(feature_values)\n",
    "    \n",
    "        return np.nan_to_num(np.concatenate([eth_src, eth_dst]), nan=0).astype(int), np.nan_to_num(np.concatenate([ip_src, ip_dst]), nan=0).astype(int), feature_values, labels\n",
    "                         \n",
    "\n",
    "    def __len__(self):\n",
    "        return self.data.shape[0] - self.window"
   ],
   "outputs": [],
   "execution_count": 5
  },
  {
   "cell_type": "code",
   "id": "9e5629d4956fca3b",
   "metadata": {
    "execution": {
     "iopub.execute_input": "2025-05-18T09:25:39.548089Z",
     "iopub.status.busy": "2025-05-18T09:25:39.547857Z",
     "iopub.status.idle": "2025-05-18T09:25:39.566035Z",
     "shell.execute_reply": "2025-05-18T09:25:39.565293Z",
     "shell.execute_reply.started": "2025-05-18T09:25:39.548072Z"
    },
    "trusted": true,
    "ExecuteTime": {
     "end_time": "2025-05-21T07:39:07.560888Z",
     "start_time": "2025-05-21T07:39:07.558514Z"
    }
   },
   "source": [
    "from torch.nn.utils.parametrizations import weight_norm\n",
    "\n",
    "\n",
    "class ResBlock(nn.Module):\n",
    "    def __init__(self, channels, kernel_size, dilation):\n",
    "        super(ResBlock, self).__init__()\n",
    "        self.conv1 = weight_norm(\n",
    "            nn.Conv1d(in_channels=channels, out_channels=channels, kernel_size=kernel_size, dilation=dilation))\n",
    "        self.conv2 = weight_norm(\n",
    "            nn.Conv1d(in_channels=channels, out_channels=channels, kernel_size=kernel_size, dilation=dilation))\n",
    "        self.pad = nn.ZeroPad1d((kernel_size - 1) // 2 * dilation)\n",
    "        self.dropout = nn.Dropout(0.2)\n",
    "\n",
    "    def forward(self, x):\n",
    "        t = self.pad(x)\n",
    "        t = F.relu(self.conv1(t))\n",
    "        t = self.pad(t)\n",
    "        t = F.relu(self.conv2(t))\n",
    "        return self.dropout(t) + x"
   ],
   "outputs": [],
   "execution_count": 6
  },
  {
   "cell_type": "code",
   "id": "c5c3706be37fcfb9",
   "metadata": {
    "execution": {
     "iopub.execute_input": "2025-05-18T09:25:39.567146Z",
     "iopub.status.busy": "2025-05-18T09:25:39.566884Z",
     "iopub.status.idle": "2025-05-18T09:25:39.585739Z",
     "shell.execute_reply": "2025-05-18T09:25:39.585185Z",
     "shell.execute_reply.started": "2025-05-18T09:25:39.567126Z"
    },
    "trusted": true,
    "ExecuteTime": {
     "end_time": "2025-05-21T07:39:07.563570Z",
     "start_time": "2025-05-21T07:39:07.561390Z"
    }
   },
   "source": [
    "class TCN(nn.Module):\n",
    "    def __init__(self, channels, kernel_size, blocks):\n",
    "        super(TCN, self).__init__()\n",
    "        self.blocks = nn.Sequential(*[ResBlock(channels, kernel_size, 2**i) for i in range(blocks)])\n",
    "        \n",
    "    def forward(self, x):\n",
    "        return self.blocks(x)"
   ],
   "outputs": [],
   "execution_count": 7
  },
  {
   "cell_type": "code",
   "id": "96ca2ca3d3cf867c",
   "metadata": {
    "execution": {
     "iopub.execute_input": "2025-05-18T09:25:39.586715Z",
     "iopub.status.busy": "2025-05-18T09:25:39.586442Z",
     "iopub.status.idle": "2025-05-18T09:25:39.601522Z",
     "shell.execute_reply": "2025-05-18T09:25:39.600826Z",
     "shell.execute_reply.started": "2025-05-18T09:25:39.586691Z"
    },
    "trusted": true,
    "ExecuteTime": {
     "end_time": "2025-05-21T07:39:07.566886Z",
     "start_time": "2025-05-21T07:39:07.564202Z"
    }
   },
   "source": [
    "class Model(nn.Module):\n",
    "    def __init__(self):\n",
    "        super(Model, self).__init__()\n",
    "        self.eth_embed = nn.Embedding(128, 32)\n",
    "        self.ip_embed = nn.Embedding(128, 32)\n",
    "        self.total_embed = nn.Linear(142, 64)\n",
    "        self.conv = TCN(128, 5, 3)\n",
    "        self.projection = nn.Linear(64, 1)\n",
    "\n",
    "    def forward(self, eth, ip, packet):\n",
    "        B = packet.size(0)\n",
    "        L = packet.size(1)\n",
    "        eth = self.eth_embed(eth).view(B, L, -1)\n",
    "        ip = self.ip_embed(ip).view(B, L, -1)\n",
    "        pk_embed = self.total_embed(torch.cat((eth, ip, packet), dim=-1))\n",
    "        processed = nn.functional.relu(self.conv(pk_embed))\n",
    "        preds = self.projection(processed).squeeze(-1)\n",
    "        return nn.functional.sigmoid(preds)"
   ],
   "outputs": [],
   "execution_count": 8
  },
  {
   "cell_type": "code",
   "id": "437967a4-2d6c-4c56-9eee-653c798effbe",
   "metadata": {
    "execution": {
     "iopub.execute_input": "2025-05-18T10:03:06.088412Z",
     "iopub.status.busy": "2025-05-18T10:03:06.088024Z",
     "iopub.status.idle": "2025-05-18T10:03:06.471328Z",
     "shell.execute_reply": "2025-05-18T10:03:06.470438Z",
     "shell.execute_reply.started": "2025-05-18T10:03:06.088385Z"
    },
    "trusted": true,
    "ExecuteTime": {
     "end_time": "2025-05-20T19:43:26.535566Z",
     "start_time": "2025-05-20T19:43:26.100901Z"
    }
   },
   "source": [
    "gc.collect()"
   ],
   "outputs": [
    {
     "data": {
      "text/plain": [
       "949"
      ]
     },
     "execution_count": 11,
     "metadata": {},
     "output_type": "execute_result"
    }
   ],
   "execution_count": 11
  },
  {
   "cell_type": "code",
   "id": "9ac5d61754852a5e",
   "metadata": {
    "execution": {
     "execution_failed": "2025-05-18T10:03:29.020Z",
     "iopub.execute_input": "2025-05-18T10:03:06.587708Z",
     "iopub.status.busy": "2025-05-18T10:03:06.587409Z"
    },
    "trusted": true,
    "ExecuteTime": {
     "end_time": "2025-05-21T07:39:16.482492Z",
     "start_time": "2025-05-21T07:39:07.567467Z"
    }
   },
   "source": "dataset = NetworkDataset(df, 128, 'ip_mappings_train', 'eth_mappings_train') # preparation of dataset",
   "outputs": [],
   "execution_count": 9
  },
  {
   "metadata": {
    "ExecuteTime": {
     "end_time": "2025-05-20T20:03:36.997527Z",
     "start_time": "2025-05-20T20:03:36.991433Z"
    }
   },
   "cell_type": "code",
   "source": "type(dataset[0][3])",
   "id": "4efd8121541067f5",
   "outputs": [
    {
     "data": {
      "text/plain": [
       "numpy.ndarray"
      ]
     },
     "execution_count": 38,
     "metadata": {},
     "output_type": "execute_result"
    }
   ],
   "execution_count": 38
  },
  {
   "metadata": {
    "ExecuteTime": {
     "end_time": "2025-05-20T19:43:07.818105Z",
     "start_time": "2025-05-20T19:42:56.618809Z"
    }
   },
   "cell_type": "code",
   "source": [
    "import pickle\n",
    "pickle.dump(dataset.mappings_ip, open('ip_mappings_train', 'wb'))\n",
    "pickle.dump(dataset.mappings_eth, open('eth_mappings_train', 'wb'))"
   ],
   "id": "cc72fd623a01420f",
   "outputs": [],
   "execution_count": 10
  },
  {
   "cell_type": "code",
   "id": "7c32475b89181457",
   "metadata": {
    "execution": {
     "iopub.execute_input": "2025-05-18T10:02:57.473468Z",
     "iopub.status.busy": "2025-05-18T10:02:57.472990Z",
     "iopub.status.idle": "2025-05-18T10:02:57.526943Z",
     "shell.execute_reply": "2025-05-18T10:02:57.525672Z",
     "shell.execute_reply.started": "2025-05-18T10:02:57.473434Z"
    },
    "trusted": true,
    "ExecuteTime": {
     "end_time": "2025-05-21T09:14:30.831849Z",
     "start_time": "2025-05-21T07:39:16.483472Z"
    }
   },
   "source": [
    "from torch.utils.data import DataLoader\n",
    "from torch.optim import Adam\n",
    "from tqdm import tqdm\n",
    "from accelerate import Accelerator\n",
    "\n",
    "accelerator = Accelerator(mixed_precision=\"bf16\")\n",
    "model = Model()\n",
    "dataloader = DataLoader(dataset, batch_size=64, shuffle=True, drop_last=True, num_workers=32, pin_memory=True,\n",
    "                        persistent_workers=True)\n",
    "optimizer = Adam(model.parameters(), lr=1e-4)\n",
    "w = torch.tensor([5.28], dtype=torch.float32, device=\"cuda\")\n",
    "loss_fn = nn.BCELoss(weight=w)\n",
    "\n",
    "model, dataloader, optimizer = accelerator.prepare(model, dataloader, optimizer)\n",
    "\n",
    "for epoch in range(20):\n",
    "    count = 0\n",
    "    total = 0\n",
    "\n",
    "    for eth, ip, pkt, labels in tqdm(dataloader):\n",
    "        optimizer.zero_grad()\n",
    "        pkt = model(eth, ip, pkt)\n",
    "        loss = loss_fn(pkt, labels)\n",
    "        count += 1\n",
    "        total += loss.item()\n",
    "        loss.backward()\n",
    "        optimizer.step()\n",
    "\n",
    "    print(\"Epoch {} Loss {}\".format(epoch, total / count))"
   ],
   "outputs": [
    {
     "name": "stderr",
     "output_type": "stream",
     "text": [
      "100%|██████████| 326991/326991 [23:09<00:00, 235.40it/s] \n"
     ]
    },
    {
     "name": "stdout",
     "output_type": "stream",
     "text": [
      "Epoch 0 Loss 1.0755763029549341\n"
     ]
    },
    {
     "name": "stderr",
     "output_type": "stream",
     "text": [
      "100%|██████████| 326991/326991 [23:29<00:00, 231.93it/s] \n"
     ]
    },
    {
     "name": "stdout",
     "output_type": "stream",
     "text": [
      "Epoch 1 Loss 0.9198464242547238\n"
     ]
    },
    {
     "name": "stderr",
     "output_type": "stream",
     "text": [
      "100%|██████████| 326991/326991 [24:09<00:00, 225.56it/s] \n"
     ]
    },
    {
     "name": "stdout",
     "output_type": "stream",
     "text": [
      "Epoch 2 Loss 0.8647870392586687\n"
     ]
    },
    {
     "name": "stderr",
     "output_type": "stream",
     "text": [
      "100%|██████████| 326991/326991 [24:18<00:00, 224.18it/s] \n"
     ]
    },
    {
     "name": "stdout",
     "output_type": "stream",
     "text": [
      "Epoch 3 Loss 0.8158828023785217\n"
     ]
    },
    {
     "name": "stderr",
     "output_type": "stream",
     "text": [
      "  0%|          | 574/326991 [00:04<38:46, 140.29it/s] \n"
     ]
    },
    {
     "ename": "KeyboardInterrupt",
     "evalue": "",
     "output_type": "error",
     "traceback": [
      "\u001B[0;31m---------------------------------------------------------------------------\u001B[0m",
      "\u001B[0;31mKeyboardInterrupt\u001B[0m                         Traceback (most recent call last)",
      "Cell \u001B[0;32mIn [10], line 25\u001B[0m\n\u001B[1;32m     23\u001B[0m loss \u001B[38;5;241m=\u001B[39m loss_fn(pkt, labels)\n\u001B[1;32m     24\u001B[0m count \u001B[38;5;241m+\u001B[39m\u001B[38;5;241m=\u001B[39m \u001B[38;5;241m1\u001B[39m\n\u001B[0;32m---> 25\u001B[0m total \u001B[38;5;241m+\u001B[39m\u001B[38;5;241m=\u001B[39m \u001B[43mloss\u001B[49m\u001B[38;5;241;43m.\u001B[39;49m\u001B[43mitem\u001B[49m\u001B[43m(\u001B[49m\u001B[43m)\u001B[49m\n\u001B[1;32m     26\u001B[0m loss\u001B[38;5;241m.\u001B[39mbackward()\n\u001B[1;32m     27\u001B[0m optimizer\u001B[38;5;241m.\u001B[39mstep()\n",
      "\u001B[0;31mKeyboardInterrupt\u001B[0m: "
     ]
    }
   ],
   "execution_count": 10
  },
  {
   "metadata": {
    "ExecuteTime": {
     "end_time": "2025-05-21T09:14:51.277683Z",
     "start_time": "2025-05-21T09:14:51.253648Z"
    }
   },
   "cell_type": "code",
   "source": "torch.save(model.state_dict(), \"mdl\")",
   "id": "78301b33114a4788",
   "outputs": [],
   "execution_count": 12
  },
  {
   "cell_type": "code",
   "id": "0590c281-4e43-4734-8c50-61023d18e214",
   "metadata": {
    "trusted": true,
    "ExecuteTime": {
     "end_time": "2025-05-21T09:17:40.857655Z",
     "start_time": "2025-05-21T09:17:40.564530Z"
    }
   },
   "source": [
    "df_val = pd.read_csv(\"df_val.csv\")"
   ],
   "outputs": [
    {
     "name": "stderr",
     "output_type": "stream",
     "text": [
      "/tmp/ipykernel_6625/3364097189.py:1: DtypeWarning: Columns (23,24,25,26,27,29,37,38,39,40,41,43,47,49,52,54,55,56,70,71) have mixed types. Specify dtype option on import or set low_memory=False.\n",
      "  df_val = pd.read_csv(\"df_val.csv\")\n"
     ]
    }
   ],
   "execution_count": 36
  },
  {
   "metadata": {
    "ExecuteTime": {
     "end_time": "2025-05-21T09:17:41.080082Z",
     "start_time": "2025-05-21T09:17:40.858367Z"
    }
   },
   "cell_type": "code",
   "source": [
    "df_val = df_val[features]\n",
    "df_val[\"frame.len\"] /= 65535\n",
    "df_val[\"ip.len\"] /= 65535\n",
    "df_val[\"ip.ttl\"] /= 255\n",
    "df_val[\"tcp.srcport\"] /= 65535\n",
    "df_val[\"tcp.dstport\"] /= 65535\n",
    "df_val[\"udp.srcport\"] /= 65535\n",
    "df_val[\"udp.dstport\"] /= 65535\n",
    "df_val[\"frame.time\"] = df_val[\"frame.time\"].str.replace(\" Środkowoeuropejski czas letni\", \"\")#mój PCAP był po POlsku Pudzian byłby dumny :peepoGlad# CEST\n",
    "df_val[\"frame.time\"] = df_val[\"frame.time\"].str.replace(\" Środkowoeuropejski czas stand.\", \"\")\n",
    "df_val[\"frame.time\"] = df_val[\"frame.time\"].str.replace(\" CEST\", \"\")\n",
    "df_val[\"frame.time\"] = pd.to_datetime(df_val[\"frame.time\"])\n",
    "df_val[\"second_sin\"] = np.sin(2 * np.pi * df_val[\"frame.time\"].dt.second / 60 + 0.5)\n",
    "df_val[\"second_cos\"] = np.cos(2 * np.pi * df_val[\"frame.time\"].dt.second / 60 + 0.5)\n",
    "df_val[\"ms_sin\"] = np.sin(2 * np.pi * df_val[\"frame.time\"].dt.microsecond / 1000000 +1)\n",
    "df_val[\"ms_cos\"] = np.cos(2 * np.pi * df_val[\"frame.time\"].dt.microsecond / 1000000 + 1)\n",
    "df_val = df_val.fillna(0)  # only tcp is left\n",
    "df_val = df_val.drop(columns=[\"frame.time\"])"
   ],
   "id": "2c3955c898fac5f4",
   "outputs": [],
   "execution_count": 37
  },
  {
   "cell_type": "code",
   "id": "b754855b-87a2-4b70-9f35-8e4332fcf901",
   "metadata": {
    "trusted": true,
    "ExecuteTime": {
     "end_time": "2025-05-21T09:17:44.251902Z",
     "start_time": "2025-05-21T09:17:42.717166Z"
    }
   },
   "source": "dataset_val = NetworkDataset(df_val, 128, 'ip_mappings_val', 'eth_mappings_val') #",
   "outputs": [],
   "execution_count": 38
  },
  {
   "metadata": {
    "ExecuteTime": {
     "end_time": "2025-05-20T21:15:50.932742Z",
     "start_time": "2025-05-20T21:15:50.885416Z"
    }
   },
   "cell_type": "code",
   "source": [
    "import pickle\n",
    "pickle.dump(dataset_val.mappings_ip, open('ip_mappings_val', 'wb'))\n",
    "pickle.dump(dataset_val.mappings_eth, open('eth_mappings_val', 'wb'))"
   ],
   "id": "3eb511309aa7f010",
   "outputs": [],
   "execution_count": 23
  },
  {
   "cell_type": "code",
   "id": "6fa37a95eaad79df",
   "metadata": {
    "ExecuteTime": {
     "end_time": "2025-05-21T09:15:01.129371Z",
     "start_time": "2025-05-21T09:15:01.043568Z"
    }
   },
   "source": [
    "ip, eth, pkt, labels = dataset_val[90]\n",
    "ip = torch.from_numpy(ip).cuda().unsqueeze(0)\n",
    "eth = torch.from_numpy(eth).cuda().unsqueeze(0)\n",
    "pkt = torch.from_numpy(pkt).cuda().unsqueeze(0)\n",
    "labels = torch.from_numpy(labels).cuda().unsqueeze(0)\n",
    "\n",
    "pred = model(ip, eth, pkt)\n",
    "print(pred > 0.5)\n",
    "(labels == (pred > 0.5)).sum()/128\n"
   ],
   "outputs": [
    {
     "name": "stdout",
     "output_type": "stream",
     "text": [
      "tensor([[ True,  True,  True,  True,  True,  True,  True,  True,  True,  True,\n",
      "          True,  True,  True,  True, False, False,  True,  True, False,  True,\n",
      "          True,  True,  True,  True,  True,  True, False,  True,  True,  True,\n",
      "          True,  True,  True,  True,  True,  True,  True,  True,  True,  True,\n",
      "          True,  True,  True,  True,  True,  True,  True,  True,  True,  True,\n",
      "          True,  True,  True,  True,  True,  True,  True,  True,  True,  True,\n",
      "          True,  True,  True,  True,  True,  True,  True,  True,  True,  True,\n",
      "          True,  True,  True,  True,  True,  True,  True,  True,  True,  True,\n",
      "          True,  True,  True,  True,  True,  True,  True,  True,  True,  True,\n",
      "          True,  True,  True,  True,  True,  True,  True,  True,  True,  True,\n",
      "          True,  True,  True,  True,  True,  True,  True,  True,  True,  True,\n",
      "          True,  True,  True,  True,  True,  True, False,  True,  True,  True,\n",
      "          True,  True,  True,  True,  True,  True,  True,  True]],\n",
      "       device='cuda:0')\n"
     ]
    },
    {
     "data": {
      "text/plain": [
       "tensor(0.9688, device='cuda:0')"
      ]
     },
     "execution_count": 17,
     "metadata": {},
     "output_type": "execute_result"
    }
   ],
   "execution_count": 17
  },
  {
   "metadata": {
    "ExecuteTime": {
     "end_time": "2025-05-21T09:17:55.364003Z",
     "start_time": "2025-05-21T09:17:45.152241Z"
    }
   },
   "cell_type": "code",
   "source": [
    "test_loader = DataLoader(dataset_val, batch_size=512, shuffle=True, drop_last=True, num_workers=24, pin_memory=True)\n",
    "\n",
    "model.eval()\n",
    "acc = 0\n",
    "count = 0\n",
    "cm = np.zeros((2, 2))\n",
    "for eth, ip, pkt, labels in tqdm(test_loader):\n",
    "    count += 512*128\n",
    "    pred = model(ip.cuda(), eth.cuda(), pkt.cuda())\n",
    "    acc +=  (labels.cuda() == (pred > 0.5)).sum()\n",
    "    cm += confusion_matrix(labels.flatten().cpu(), pred.flatten().cpu().detach() > 0.5)\n",
    "print(acc/count)"
   ],
   "id": "c8c125d8daf29cf4",
   "outputs": [
    {
     "name": "stderr",
     "output_type": "stream",
     "text": [
      "100%|██████████| 175/175 [00:10<00:00, 17.18it/s]"
     ]
    },
    {
     "name": "stdout",
     "output_type": "stream",
     "text": [
      "tensor(0.6855, device='cuda:0')\n"
     ]
    },
    {
     "name": "stderr",
     "output_type": "stream",
     "text": [
      "\n"
     ]
    }
   ],
   "execution_count": 39
  },
  {
   "metadata": {
    "ExecuteTime": {
     "end_time": "2025-05-19T18:26:33.620946Z",
     "start_time": "2025-05-19T18:26:33.618072Z"
    }
   },
   "cell_type": "code",
   "source": "pred.shape",
   "id": "48d65e8cebb66371",
   "outputs": [
    {
     "data": {
      "text/plain": [
       "torch.Size([1, 128])"
      ]
     },
     "execution_count": 57,
     "metadata": {},
     "output_type": "execute_result"
    }
   ],
   "execution_count": 57
  },
  {
   "cell_type": "code",
   "id": "cbb86d86-d72a-4bbb-b539-17297a917536",
   "metadata": {
    "trusted": true,
    "ExecuteTime": {
     "end_time": "2025-05-19T18:25:20.634823Z",
     "start_time": "2025-05-19T18:25:20.632477Z"
    }
   },
   "source": [
    "pred = pred.reshape(-1, 1)\n",
    "labels =  labels.reshape(-1, 1)"
   ],
   "outputs": [],
   "execution_count": 45
  },
  {
   "cell_type": "code",
   "id": "56973ae32a55ba37",
   "metadata": {
    "ExecuteTime": {
     "end_time": "2025-05-19T18:26:12.688717Z",
     "start_time": "2025-05-19T18:26:12.685586Z"
    }
   },
   "source": [
    "loss_fn(pred, labels)"
   ],
   "outputs": [
    {
     "data": {
      "text/plain": [
       "tensor(3.3650, device='cuda:0', grad_fn=<BinaryCrossEntropyBackward0>)"
      ]
     },
     "execution_count": 52,
     "metadata": {},
     "output_type": "execute_result"
    }
   ],
   "execution_count": 52
  },
  {
   "cell_type": "code",
   "id": "ecf715b721e5413d",
   "metadata": {
    "ExecuteTime": {
     "end_time": "2025-05-21T09:17:19.928080Z",
     "start_time": "2025-05-21T09:17:19.807648Z"
    }
   },
   "source": [
    "# Plot with Seaborn\n",
    "# without time shift\n",
    "plt.figure(figsize=(10, 7))\n",
    "sns.heatmap(cm/count, annot=True, fmt='.4f', cmap='Blues')\n",
    "plt.xlabel('Predicted')\n",
    "plt.ylabel('Actual')\n",
    "plt.title('Confusion Matrix - Incident Grade Prediction')\n",
    "plt.show()"
   ],
   "outputs": [
    {
     "data": {
      "text/plain": [
       "<Figure size 1000x700 with 2 Axes>"
      ],
      "image/png": "[encoded data removed]"
     },
     "metadata": {},
     "output_type": "display_data"
    }
   ],
   "execution_count": 34
  },
  {
   "metadata": {
    "ExecuteTime": {
     "end_time": "2025-05-21T09:17:55.443709Z",
     "start_time": "2025-05-21T09:17:55.364756Z"
    }
   },
   "cell_type": "code",
   "source": [
    "# Plot with Seaborn\n",
    "# with time shift\n",
    "plt.figure(figsize=(10, 7))\n",
    "sns.heatmap(cm/count, annot=True, fmt='.4f', cmap='Blues')\n",
    "plt.xlabel('Predicted')\n",
    "plt.ylabel('Actual')\n",
    "plt.title('Confusion Matrix - Incident Grade Prediction')\n",
    "plt.show()"
   ],
   "id": "4296b326262149b7",
   "outputs": [
    {
     "data": {
      "text/plain": [
       "<Figure size 1000x700 with 2 Axes>"
      ],
      "image/png": "[encoded data removed]"
     },
     "metadata": {},
     "output_type": "display_data"
    }
   ],
   "execution_count": 40
  },
  {
   "metadata": {
    "ExecuteTime": {
     "end_time": "2025-05-19T18:56:26.205221Z",
     "start_time": "2025-05-19T18:55:32.740734Z"
    }
   },
   "cell_type": "code",
   "source": "sns.barplot(df[\"alert\"])",
   "id": "94e984fbc2e095ad",
   "outputs": [
    {
     "ename": "KeyboardInterrupt",
     "evalue": "",
     "output_type": "error",
     "traceback": [
      "\u001B[0;31m---------------------------------------------------------------------------\u001B[0m",
      "\u001B[0;31mKeyboardInterrupt\u001B[0m                         Traceback (most recent call last)",
      "Cell \u001B[0;32mIn [75], line 1\u001B[0m\n\u001B[0;32m----> 1\u001B[0m \u001B[43msns\u001B[49m\u001B[38;5;241;43m.\u001B[39;49m\u001B[43mbarplot\u001B[49m\u001B[43m(\u001B[49m\u001B[43mdf\u001B[49m\u001B[43m[\u001B[49m\u001B[38;5;124;43m\"\u001B[39;49m\u001B[38;5;124;43malert\u001B[39;49m\u001B[38;5;124;43m\"\u001B[39;49m\u001B[43m]\u001B[49m\u001B[43m)\u001B[49m\n",
      "File \u001B[0;32m/usr/local/lib/python3.11/dist-packages/seaborn/categorical.py:2363\u001B[0m, in \u001B[0;36mbarplot\u001B[0;34m(data, x, y, hue, order, hue_order, estimator, errorbar, n_boot, seed, units, weights, orient, color, palette, saturation, fill, hue_norm, width, dodge, gap, log_scale, native_scale, formatter, legend, capsize, err_kws, ci, errcolor, errwidth, ax, **kwargs)\u001B[0m\n\u001B[1;32m   2360\u001B[0m \u001B[38;5;28;01mif\u001B[39;00m p\u001B[38;5;241m.\u001B[39mvar_types\u001B[38;5;241m.\u001B[39mget(p\u001B[38;5;241m.\u001B[39morient) \u001B[38;5;241m==\u001B[39m \u001B[38;5;124m\"\u001B[39m\u001B[38;5;124mcategorical\u001B[39m\u001B[38;5;124m\"\u001B[39m \u001B[38;5;129;01mor\u001B[39;00m \u001B[38;5;129;01mnot\u001B[39;00m native_scale:\n\u001B[1;32m   2361\u001B[0m     p\u001B[38;5;241m.\u001B[39mscale_categorical(p\u001B[38;5;241m.\u001B[39morient, order\u001B[38;5;241m=\u001B[39morder, formatter\u001B[38;5;241m=\u001B[39mformatter)\n\u001B[0;32m-> 2363\u001B[0m \u001B[43mp\u001B[49m\u001B[38;5;241;43m.\u001B[39;49m\u001B[43m_attach\u001B[49m\u001B[43m(\u001B[49m\u001B[43max\u001B[49m\u001B[43m,\u001B[49m\u001B[43m \u001B[49m\u001B[43mlog_scale\u001B[49m\u001B[38;5;241;43m=\u001B[39;49m\u001B[43mlog_scale\u001B[49m\u001B[43m)\u001B[49m\n\u001B[1;32m   2365\u001B[0m \u001B[38;5;66;03m# Deprecations to remove in v0.14.0.\u001B[39;00m\n\u001B[1;32m   2366\u001B[0m hue_order \u001B[38;5;241m=\u001B[39m p\u001B[38;5;241m.\u001B[39m_palette_without_hue_backcompat(palette, hue_order)\n",
      "File \u001B[0;32m/usr/local/lib/python3.11/dist-packages/seaborn/_base.py:1135\u001B[0m, in \u001B[0;36mVectorPlotter._attach\u001B[0;34m(self, obj, allowed_types, log_scale)\u001B[0m\n\u001B[1;32m   1133\u001B[0m                 order \u001B[38;5;241m=\u001B[39m \u001B[38;5;28;01mNone\u001B[39;00m\n\u001B[1;32m   1134\u001B[0m             seed_data \u001B[38;5;241m=\u001B[39m categorical_order(seed_data, order)\n\u001B[0;32m-> 1135\u001B[0m         \u001B[43mconverter\u001B[49m\u001B[38;5;241;43m.\u001B[39;49m\u001B[43mupdate_units\u001B[49m\u001B[43m(\u001B[49m\u001B[43mseed_data\u001B[49m\u001B[43m)\u001B[49m\n\u001B[1;32m   1137\u001B[0m \u001B[38;5;66;03m# -- Set numerical axis scales\u001B[39;00m\n\u001B[1;32m   1138\u001B[0m \n\u001B[1;32m   1139\u001B[0m \u001B[38;5;66;03m# First unpack the log_scale argument\u001B[39;00m\n\u001B[1;32m   1140\u001B[0m \u001B[38;5;28;01mif\u001B[39;00m log_scale \u001B[38;5;129;01mis\u001B[39;00m \u001B[38;5;28;01mNone\u001B[39;00m:\n",
      "File \u001B[0;32m/usr/lib/python3/dist-packages/matplotlib/axis.py:1608\u001B[0m, in \u001B[0;36mAxis.update_units\u001B[0;34m(self, data)\u001B[0m\n\u001B[1;32m   1606\u001B[0m neednew \u001B[38;5;241m=\u001B[39m \u001B[38;5;28mself\u001B[39m\u001B[38;5;241m.\u001B[39mconverter \u001B[38;5;241m!=\u001B[39m converter\n\u001B[1;32m   1607\u001B[0m \u001B[38;5;28mself\u001B[39m\u001B[38;5;241m.\u001B[39mconverter \u001B[38;5;241m=\u001B[39m converter\n\u001B[0;32m-> 1608\u001B[0m default \u001B[38;5;241m=\u001B[39m \u001B[38;5;28;43mself\u001B[39;49m\u001B[38;5;241;43m.\u001B[39;49m\u001B[43mconverter\u001B[49m\u001B[38;5;241;43m.\u001B[39;49m\u001B[43mdefault_units\u001B[49m\u001B[43m(\u001B[49m\u001B[43mdata\u001B[49m\u001B[43m,\u001B[49m\u001B[43m \u001B[49m\u001B[38;5;28;43mself\u001B[39;49m\u001B[43m)\u001B[49m\n\u001B[1;32m   1609\u001B[0m \u001B[38;5;28;01mif\u001B[39;00m default \u001B[38;5;129;01mis\u001B[39;00m \u001B[38;5;129;01mnot\u001B[39;00m \u001B[38;5;28;01mNone\u001B[39;00m \u001B[38;5;129;01mand\u001B[39;00m \u001B[38;5;28mself\u001B[39m\u001B[38;5;241m.\u001B[39munits \u001B[38;5;129;01mis\u001B[39;00m \u001B[38;5;28;01mNone\u001B[39;00m:\n\u001B[1;32m   1610\u001B[0m     \u001B[38;5;28mself\u001B[39m\u001B[38;5;241m.\u001B[39mset_units(default)\n",
      "File \u001B[0;32m/usr/lib/python3/dist-packages/matplotlib/category.py:116\u001B[0m, in \u001B[0;36mStrCategoryConverter.default_units\u001B[0;34m(data, axis)\u001B[0m\n\u001B[1;32m    114\u001B[0m \u001B[38;5;66;03m# the conversion call stack is default_units -> axis_info -> convert\u001B[39;00m\n\u001B[1;32m    115\u001B[0m \u001B[38;5;28;01mif\u001B[39;00m axis\u001B[38;5;241m.\u001B[39munits \u001B[38;5;129;01mis\u001B[39;00m \u001B[38;5;28;01mNone\u001B[39;00m:\n\u001B[0;32m--> 116\u001B[0m     axis\u001B[38;5;241m.\u001B[39mset_units(\u001B[43mUnitData\u001B[49m\u001B[43m(\u001B[49m\u001B[43mdata\u001B[49m\u001B[43m)\u001B[49m)\n\u001B[1;32m    117\u001B[0m \u001B[38;5;28;01melse\u001B[39;00m:\n\u001B[1;32m    118\u001B[0m     axis\u001B[38;5;241m.\u001B[39munits\u001B[38;5;241m.\u001B[39mupdate(data)\n",
      "File \u001B[0;32m/usr/lib/python3/dist-packages/matplotlib/category.py:192\u001B[0m, in \u001B[0;36mUnitData.__init__\u001B[0;34m(self, data)\u001B[0m\n\u001B[1;32m    190\u001B[0m \u001B[38;5;28mself\u001B[39m\u001B[38;5;241m.\u001B[39m_counter \u001B[38;5;241m=\u001B[39m itertools\u001B[38;5;241m.\u001B[39mcount()\n\u001B[1;32m    191\u001B[0m \u001B[38;5;28;01mif\u001B[39;00m data \u001B[38;5;129;01mis\u001B[39;00m \u001B[38;5;129;01mnot\u001B[39;00m \u001B[38;5;28;01mNone\u001B[39;00m:\n\u001B[0;32m--> 192\u001B[0m     \u001B[38;5;28;43mself\u001B[39;49m\u001B[38;5;241;43m.\u001B[39;49m\u001B[43mupdate\u001B[49m\u001B[43m(\u001B[49m\u001B[43mdata\u001B[49m\u001B[43m)\u001B[49m\n",
      "File \u001B[0;32m/usr/lib/python3/dist-packages/matplotlib/category.py:227\u001B[0m, in \u001B[0;36mUnitData.update\u001B[0;34m(self, data)\u001B[0m\n\u001B[1;32m    224\u001B[0m convertible \u001B[38;5;241m=\u001B[39m \u001B[38;5;28;01mTrue\u001B[39;00m\n\u001B[1;32m    225\u001B[0m \u001B[38;5;28;01mfor\u001B[39;00m val \u001B[38;5;129;01min\u001B[39;00m OrderedDict\u001B[38;5;241m.\u001B[39mfromkeys(data):\n\u001B[1;32m    226\u001B[0m     \u001B[38;5;66;03m# OrderedDict just iterates over unique values in data.\u001B[39;00m\n\u001B[0;32m--> 227\u001B[0m     \u001B[43m_api\u001B[49m\u001B[38;5;241;43m.\u001B[39;49m\u001B[43mcheck_isinstance\u001B[49m\u001B[43m(\u001B[49m\u001B[43m(\u001B[49m\u001B[38;5;28;43mstr\u001B[39;49m\u001B[43m,\u001B[49m\u001B[43m \u001B[49m\u001B[38;5;28;43mbytes\u001B[39;49m\u001B[43m)\u001B[49m\u001B[43m,\u001B[49m\u001B[43m \u001B[49m\u001B[43mvalue\u001B[49m\u001B[38;5;241;43m=\u001B[39;49m\u001B[43mval\u001B[49m\u001B[43m)\u001B[49m\n\u001B[1;32m    228\u001B[0m     \u001B[38;5;28;01mif\u001B[39;00m convertible:\n\u001B[1;32m    229\u001B[0m         \u001B[38;5;66;03m# this will only be called so long as convertible is True.\u001B[39;00m\n\u001B[1;32m    230\u001B[0m         convertible \u001B[38;5;241m=\u001B[39m \u001B[38;5;28mself\u001B[39m\u001B[38;5;241m.\u001B[39m_str_is_convertible(val)\n",
      "File \u001B[0;32m/usr/lib/python3/dist-packages/matplotlib/_api/__init__.py:65\u001B[0m, in \u001B[0;36mcheck_isinstance\u001B[0;34m(_types, **kwargs)\u001B[0m\n\u001B[1;32m     58\u001B[0m         \u001B[38;5;28;01mreturn\u001B[39;00m \u001B[38;5;28mself\u001B[39m\u001B[38;5;241m.\u001B[39m_fget\n\u001B[1;32m     61\u001B[0m \u001B[38;5;66;03m# In the following check_foo() functions, the first parameter starts with an\u001B[39;00m\n\u001B[1;32m     62\u001B[0m \u001B[38;5;66;03m# underscore because it is intended to be positional-only (e.g., so that\u001B[39;00m\n\u001B[1;32m     63\u001B[0m \u001B[38;5;66;03m# `_api.check_isinstance([...], types=foo)` doesn't fail.\u001B[39;00m\n\u001B[0;32m---> 65\u001B[0m \u001B[38;5;28;01mdef\u001B[39;00m \u001B[38;5;21mcheck_isinstance\u001B[39m(_types, \u001B[38;5;241m*\u001B[39m\u001B[38;5;241m*\u001B[39mkwargs):\n\u001B[1;32m     66\u001B[0m \u001B[38;5;250m    \u001B[39m\u001B[38;5;124;03m\"\"\"\u001B[39;00m\n\u001B[1;32m     67\u001B[0m \u001B[38;5;124;03m    For each *key, value* pair in *kwargs*, check that *value* is an instance\u001B[39;00m\n\u001B[1;32m     68\u001B[0m \u001B[38;5;124;03m    of one of *_types*; if not, raise an appropriate TypeError.\u001B[39;00m\n\u001B[0;32m   (...)\u001B[0m\n\u001B[1;32m     74\u001B[0m \u001B[38;5;124;03m    >>> _api.check_isinstance((SomeClass, None), arg=arg)\u001B[39;00m\n\u001B[1;32m     75\u001B[0m \u001B[38;5;124;03m    \"\"\"\u001B[39;00m\n\u001B[1;32m     76\u001B[0m     types \u001B[38;5;241m=\u001B[39m _types\n",
      "\u001B[0;31mKeyboardInterrupt\u001B[0m: "
     ]
    },
    {
     "data": {
      "text/plain": [
       "<Figure size 640x480 with 1 Axes>"
      ],
      "image/png": "[encoded data removed]"
     },
     "metadata": {},
     "output_type": "display_data"
    }
   ],
   "execution_count": 75
  },
  {
   "cell_type": "code",
   "execution_count": null,
   "id": "5058ccee-9b42-438a-9bf4-8dd1543e593d",
   "metadata": {
    "trusted": true
   },
   "outputs": [],
   "source": [
    "#ROC Curve\n",
    "fpr, tpr, thresholds = roc_curve(labels, pred)\n",
    "plt.figure(figsize=(8, 6))\n",
    "plt.plot(fpr, tpr, color='blue', lw=2, label='ROC curve (area = %0.4f)' % roc_auc_score(y_test, y_pred))\n",
    "plt.plot([0, 1], [0, 1], color='navy', lw=2, linestyle='--')\n",
    "plt.xlim([0.0, 1.0])\n",
    "plt.ylim([0.0, 1.05])\n",
    "plt.xlabel('False Positive Rate')\n",
    "plt.ylabel('True Positive Rate')\n",
    "# plt.title('Receiver Operating Characteristic (ROC) Curve')\n",
    "plt.legend(loc=\"lower right\")\n",
    "plt.show()"
   ]
  }
 ],
 "metadata": {
  "kaggle": {
   "accelerator": "gpu",
   "dataSources": [
    {
     "datasetId": 7445389,
     "sourceId": 11849365,
     "sourceType": "datasetVersion"
    }
   ],
   "dockerImageVersionId": 31040,
   "isGpuEnabled": true,
   "isInternetEnabled": true,
   "language": "python",
   "sourceType": "notebook"
  },
  "kernelspec": {
   "display_name": "Python 3",
   "language": "python",
   "name": "python3"
  },
  "language_info": {
   "codemirror_mode": {
    "name": "ipython",
    "version": 3
   },
   "file_extension": ".py",
   "mimetype": "text/x-python",
   "name": "python",
   "nbconvert_exporter": "python",
   "pygments_lexer": "ipython3",
   "version": "3.11.11"
  }
 },
 "nbformat": 4,
 "nbformat_minor": 5
}
